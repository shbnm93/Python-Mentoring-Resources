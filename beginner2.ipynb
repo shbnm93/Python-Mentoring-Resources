{
 "cells": [
  {
   "cell_type": "code",
   "execution_count": 2,
   "id": "bb7b3ffb",
   "metadata": {},
   "outputs": [],
   "source": [
    "a = [1,3,'a','b',[1,2,3]]"
   ]
  },
  {
   "cell_type": "code",
   "execution_count": 4,
   "id": "90f68e4f",
   "metadata": {},
   "outputs": [
    {
     "data": {
      "text/plain": [
       "[1, 3, 'a', 'b', [1, 2, 3]]"
      ]
     },
     "execution_count": 4,
     "metadata": {},
     "output_type": "execute_result"
    }
   ],
   "source": [
    "a"
   ]
  },
  {
   "cell_type": "code",
   "execution_count": 6,
   "id": "953e0b24",
   "metadata": {},
   "outputs": [],
   "source": [
    "a = list()"
   ]
  },
  {
   "cell_type": "code",
   "execution_count": 8,
   "id": "48e67792",
   "metadata": {},
   "outputs": [
    {
     "data": {
      "text/plain": [
       "[]"
      ]
     },
     "execution_count": 8,
     "metadata": {},
     "output_type": "execute_result"
    }
   ],
   "source": [
    "a"
   ]
  },
  {
   "cell_type": "code",
   "execution_count": 10,
   "id": "3c461896",
   "metadata": {},
   "outputs": [
    {
     "data": {
      "text/plain": [
       "list"
      ]
     },
     "execution_count": 10,
     "metadata": {},
     "output_type": "execute_result"
    }
   ],
   "source": [
    "type(a)"
   ]
  },
  {
   "cell_type": "code",
   "execution_count": 12,
   "id": "d4112eae",
   "metadata": {},
   "outputs": [],
   "source": [
    "a = []"
   ]
  },
  {
   "cell_type": "code",
   "execution_count": 14,
   "id": "ca214564",
   "metadata": {},
   "outputs": [],
   "source": [
    "my_list = [\"a\", \"b\", \"c\"]"
   ]
  },
  {
   "cell_type": "code",
   "execution_count": 16,
   "id": "e291174c",
   "metadata": {},
   "outputs": [
    {
     "data": {
      "text/plain": [
       "'a'"
      ]
     },
     "execution_count": 16,
     "metadata": {},
     "output_type": "execute_result"
    }
   ],
   "source": [
    "my_list[0]"
   ]
  },
  {
   "cell_type": "code",
   "execution_count": 18,
   "id": "cbc4f4ef",
   "metadata": {},
   "outputs": [
    {
     "data": {
      "text/plain": [
       "'a'"
      ]
     },
     "execution_count": 18,
     "metadata": {},
     "output_type": "execute_result"
    }
   ],
   "source": [
    "my_list[-3]"
   ]
  },
  {
   "cell_type": "code",
   "execution_count": 20,
   "id": "34e7889b",
   "metadata": {},
   "outputs": [],
   "source": [
    "my_list[1] = \"d\""
   ]
  },
  {
   "cell_type": "code",
   "execution_count": 22,
   "id": "0a090459",
   "metadata": {},
   "outputs": [
    {
     "data": {
      "text/plain": [
       "['a', 'd', 'c']"
      ]
     },
     "execution_count": 22,
     "metadata": {},
     "output_type": "execute_result"
    }
   ],
   "source": [
    "my_list"
   ]
  },
  {
   "cell_type": "code",
   "execution_count": 24,
   "id": "951050af",
   "metadata": {},
   "outputs": [],
   "source": [
    "my_list[-3] = \"GoIT\""
   ]
  },
  {
   "cell_type": "code",
   "execution_count": 26,
   "id": "24ea9415",
   "metadata": {},
   "outputs": [],
   "source": [
    "my_list.append([1,2,3])"
   ]
  },
  {
   "cell_type": "code",
   "execution_count": 28,
   "id": "548cf1e9",
   "metadata": {},
   "outputs": [],
   "source": [
    "my_list.clear()"
   ]
  },
  {
   "cell_type": "code",
   "execution_count": 30,
   "id": "5e78f48d",
   "metadata": {},
   "outputs": [
    {
     "data": {
      "text/plain": [
       "[]"
      ]
     },
     "execution_count": 30,
     "metadata": {},
     "output_type": "execute_result"
    }
   ],
   "source": [
    "my_list"
   ]
  },
  {
   "cell_type": "code",
   "execution_count": 32,
   "id": "610eed5d",
   "metadata": {},
   "outputs": [
    {
     "ename": "IndexError",
     "evalue": "pop from empty list",
     "output_type": "error",
     "traceback": [
      "\u001b[1;31m---------------------------------------------------------------------------\u001b[0m",
      "\u001b[1;31mIndexError\u001b[0m                                Traceback (most recent call last)",
      "Cell \u001b[1;32mIn[32], line 1\u001b[0m\n\u001b[1;32m----> 1\u001b[0m a \u001b[38;5;241m=\u001b[39m my_list\u001b[38;5;241m.\u001b[39mpop(\u001b[38;5;241m2\u001b[39m)\n",
      "\u001b[1;31mIndexError\u001b[0m: pop from empty list"
     ]
    }
   ],
   "source": [
    "a = my_list.pop(2)"
   ]
  },
  {
   "cell_type": "code",
   "execution_count": null,
   "id": "d629f6c1",
   "metadata": {},
   "outputs": [],
   "source": [
    "a"
   ]
  },
  {
   "cell_type": "code",
   "execution_count": 35,
   "id": "0520d86b",
   "metadata": {},
   "outputs": [],
   "source": [
    "my_list2 = [\"Ahmet\", \"Ezgi\", \"Selim\"]"
   ]
  },
  {
   "cell_type": "code",
   "execution_count": 37,
   "id": "0de6f184",
   "metadata": {},
   "outputs": [
    {
     "data": {
      "text/plain": [
       "['Ahmet', 'Ezgi', 'Selim']"
      ]
     },
     "execution_count": 37,
     "metadata": {},
     "output_type": "execute_result"
    }
   ],
   "source": [
    "my_list2"
   ]
  },
  {
   "cell_type": "code",
   "execution_count": 39,
   "id": "992e41b0",
   "metadata": {},
   "outputs": [],
   "source": [
    "my_list.extend(my_list2)"
   ]
  },
  {
   "cell_type": "code",
   "execution_count": 41,
   "id": "1cd92d00",
   "metadata": {},
   "outputs": [],
   "source": [
    "my_list2.insert(0, \"Zeynep\")"
   ]
  },
  {
   "cell_type": "code",
   "execution_count": 43,
   "id": "135c0897",
   "metadata": {},
   "outputs": [
    {
     "data": {
      "text/plain": [
       "3"
      ]
     },
     "execution_count": 43,
     "metadata": {},
     "output_type": "execute_result"
    }
   ],
   "source": [
    "my_list2.index(\"Selim\")"
   ]
  },
  {
   "cell_type": "code",
   "execution_count": 45,
   "id": "033d0e94",
   "metadata": {},
   "outputs": [
    {
     "data": {
      "text/plain": [
       "1"
      ]
     },
     "execution_count": 45,
     "metadata": {},
     "output_type": "execute_result"
    }
   ],
   "source": [
    "my_list2.count(\"Ezgi\")"
   ]
  },
  {
   "cell_type": "code",
   "execution_count": 47,
   "id": "9b8360c0",
   "metadata": {},
   "outputs": [],
   "source": [
    "my_list = [\"a\", \"b\", \"c\"]"
   ]
  },
  {
   "cell_type": "code",
   "execution_count": 49,
   "id": "04b913f4",
   "metadata": {},
   "outputs": [],
   "source": [
    "my_list.reverse()"
   ]
  },
  {
   "cell_type": "code",
   "execution_count": 51,
   "id": "99c486f1",
   "metadata": {},
   "outputs": [
    {
     "data": {
      "text/plain": [
       "['c', 'b', 'a']"
      ]
     },
     "execution_count": 51,
     "metadata": {},
     "output_type": "execute_result"
    }
   ],
   "source": [
    "my_list"
   ]
  },
  {
   "cell_type": "code",
   "execution_count": 53,
   "id": "5ccac83b",
   "metadata": {},
   "outputs": [
    {
     "data": {
      "text/plain": [
       "3"
      ]
     },
     "execution_count": 53,
     "metadata": {},
     "output_type": "execute_result"
    }
   ],
   "source": [
    "len(my_list)"
   ]
  },
  {
   "cell_type": "code",
   "execution_count": 55,
   "id": "c182f84c",
   "metadata": {},
   "outputs": [],
   "source": [
    "string = \"Salary\""
   ]
  },
  {
   "cell_type": "code",
   "execution_count": 57,
   "id": "3dc8a735",
   "metadata": {},
   "outputs": [
    {
     "data": {
      "text/plain": [
       "6"
      ]
     },
     "execution_count": 57,
     "metadata": {},
     "output_type": "execute_result"
    }
   ],
   "source": [
    "len(string)"
   ]
  },
  {
   "cell_type": "code",
   "execution_count": 59,
   "id": "70734281",
   "metadata": {},
   "outputs": [],
   "source": [
    "empty_tuple = tuple()"
   ]
  },
  {
   "cell_type": "code",
   "execution_count": 61,
   "id": "c2cd3f2b",
   "metadata": {},
   "outputs": [
    {
     "data": {
      "text/plain": [
       "()"
      ]
     },
     "execution_count": 61,
     "metadata": {},
     "output_type": "execute_result"
    }
   ],
   "source": [
    "empty_tuple"
   ]
  },
  {
   "cell_type": "code",
   "execution_count": 63,
   "id": "2c901a16",
   "metadata": {},
   "outputs": [
    {
     "ename": "NameError",
     "evalue": "name 'my_tuple' is not defined",
     "output_type": "error",
     "traceback": [
      "\u001b[1;31m---------------------------------------------------------------------------\u001b[0m",
      "\u001b[1;31mNameError\u001b[0m                                 Traceback (most recent call last)",
      "Cell \u001b[1;32mIn[63], line 1\u001b[0m\n\u001b[1;32m----> 1\u001b[0m \u001b[38;5;28mtype\u001b[39m(my_tuple)\n",
      "\u001b[1;31mNameError\u001b[0m: name 'my_tuple' is not defined"
     ]
    }
   ],
   "source": [
    "type(my_tuple)"
   ]
  },
  {
   "cell_type": "code",
   "execution_count": 65,
   "id": "004e527a",
   "metadata": {},
   "outputs": [],
   "source": [
    "my_tuple = (\"a\", \"b\", \"c\")"
   ]
  },
  {
   "cell_type": "code",
   "execution_count": 67,
   "id": "3849da36",
   "metadata": {},
   "outputs": [
    {
     "name": "stdout",
     "output_type": "stream",
     "text": [
      "a\n",
      "b\n",
      "c\n"
     ]
    }
   ],
   "source": [
    "print(my_tuple[0])\n",
    "print(my_tuple[1])\n",
    "print(my_tuple[-1])"
   ]
  },
  {
   "cell_type": "markdown",
   "id": "acb95a65",
   "metadata": {},
   "source": [
    "for in: <döngü gövdesi>"
   ]
  },
  {
   "cell_type": "code",
   "execution_count": 70,
   "id": "cd199575",
   "metadata": {},
   "outputs": [
    {
     "name": "stdout",
     "output_type": "stream",
     "text": [
      "A\n",
      "n\n",
      "k\n",
      "a\n",
      "r\n",
      "a\n"
     ]
    }
   ],
   "source": [
    "city = 'Ankara'\n",
    "for char in city:\n",
    "    print(char)"
   ]
  },
  {
   "cell_type": "code",
   "execution_count": 72,
   "id": "21ae9d05",
   "metadata": {},
   "outputs": [],
   "source": [
    "my_list = [\"Ahmet\", \"Ezgi\", \"Selim\", \"Ayşe\", \"İbrahim\"]\n",
    "\n",
    "for listeninelemanı in my_list:\n",
    "    a = listeninelemanı\n",
    "   "
   ]
  },
  {
   "cell_type": "code",
   "execution_count": 74,
   "id": "5a110f5f",
   "metadata": {},
   "outputs": [],
   "source": [
    "int_list = [1, 2, 3]"
   ]
  },
  {
   "cell_type": "code",
   "execution_count": 76,
   "id": "7e495a93",
   "metadata": {},
   "outputs": [
    {
     "name": "stdout",
     "output_type": "stream",
     "text": [
      "2\n",
      "4\n",
      "6\n"
     ]
    }
   ],
   "source": [
    "for i in int_list:\n",
    "    print(i * 2)"
   ]
  },
  {
   "cell_type": "markdown",
   "id": "17379c32",
   "metadata": {},
   "source": [
    "while <koşul>:\n",
    "  <döngü gövdesi>"
   ]
  },
  {
   "cell_type": "code",
   "execution_count": 79,
   "id": "7b7e3739",
   "metadata": {},
   "outputs": [
    {
     "name": "stdout",
     "output_type": "stream",
     "text": [
      "1\n",
      "2\n",
      "3\n",
      "4\n",
      "5\n"
     ]
    }
   ],
   "source": [
    "k = 0\n",
    "while k < 5:\n",
    "    k = k + 1\n",
    "    print(k)"
   ]
  },
  {
   "cell_type": "code",
   "execution_count": 81,
   "id": "7672bafd",
   "metadata": {},
   "outputs": [
    {
     "name": "stdout",
     "output_type": "stream",
     "text": [
      "['Ahmet', 'Ezgi', 'Selim', 'Ayşe', 'İbrahim']\n"
     ]
    }
   ],
   "source": [
    "my_list = [\"Ahmet\", \"Ezgi\", \"Selim\", \"Ayşe\", \"İbrahim\"]\n",
    "list2 = []\n",
    "\n",
    "for i in my_list:\n",
    "    list2.append(i)\n",
    "print(list2)\n"
   ]
  },
  {
   "cell_type": "code",
   "execution_count": 83,
   "id": "78d5c744",
   "metadata": {},
   "outputs": [
    {
     "data": {
      "text/plain": [
       "['Ahmet', 'Ezgi', 'Selim', 'Ayşe', 'İbrahim']"
      ]
     },
     "execution_count": 83,
     "metadata": {},
     "output_type": "execute_result"
    }
   ],
   "source": [
    "list2"
   ]
  },
  {
   "cell_type": "code",
   "execution_count": 85,
   "id": "69d286d1",
   "metadata": {},
   "outputs": [
    {
     "name": "stdin",
     "output_type": "stream",
     "text": [
      "Bugün izin günü mü? Evet/Hayır  Evet\n"
     ]
    }
   ],
   "source": [
    "is_weekend = input(\"Bugün izin günü mü? Evet/Hayır \")\n",
    "\n",
    "if is_weekend != \"Hayır\" and is_weekend != \"Evet\":\n",
    "    print(\"Evet ya da Hayır giriniz.\")\n",
    "    input(\"Bugün izin günü mü? Evet/Hayır \")"
   ]
  },
  {
   "cell_type": "code",
   "execution_count": 87,
   "id": "76d63a9e",
   "metadata": {},
   "outputs": [
    {
     "name": "stdin",
     "output_type": "stream",
     "text": [
      "Bugün izin günü mü? Evet/Hayır  Evet\n"
     ]
    }
   ],
   "source": [
    "is_weekend = input(\"Bugün izin günü mü? Evet/Hayır \")\n",
    "\n",
    "while is_weekend != \"Hayır\" and is_weekend != \"Evet\":\n",
    "    print(\"Evet ya da Hayır giriniz.\")\n",
    "    is_weekend = input(\"Bugün izin günü mü? Evet/Hayır \")"
   ]
  },
  {
   "cell_type": "code",
   "execution_count": 89,
   "id": "49111510",
   "metadata": {},
   "outputs": [
    {
     "name": "stdin",
     "output_type": "stream",
     "text": [
      "Bugün izin günü mü? Evet/Hayır  Evet\n"
     ]
    }
   ],
   "source": [
    "counter = 0 # Tekrar denemeleri saymak için bir sayaç değişkeni\n",
    "threshold = 3 # Tekrar denemeler için belirli sayıda sınır belirliyoruz\n",
    "is_weekend = input(\"Bugün izin günü mü? Evet/Hayır \")\n",
    "\n",
    "while is_weekend != \"Hayır \" and is_weekend != \"Evet\": \n",
    "    counter += 1 # Sayaç değerini 1 arttır\n",
    "    print(counter)\n",
    "    if counter <= threshold:\n",
    "        print(\"Lütfen Evet ya da Hayır giriniz.\")\n",
    "        is_weekend = input(\"Bugün izin günü mü? Evet/Hayır \")\n",
    "    else:\n",
    "        print(\"Maksimum deneme sayısını kullandınız.\")\n",
    "        break # Döngüden çıkış"
   ]
  },
  {
   "cell_type": "code",
   "execution_count": 91,
   "id": "45be0f69",
   "metadata": {},
   "outputs": [],
   "source": [
    "empty_dict = dict()"
   ]
  },
  {
   "cell_type": "code",
   "execution_count": 93,
   "id": "4c25bb8f",
   "metadata": {},
   "outputs": [
    {
     "data": {
      "text/plain": [
       "dict"
      ]
     },
     "execution_count": 93,
     "metadata": {},
     "output_type": "execute_result"
    }
   ],
   "source": [
    "type(empty_dict)"
   ]
  },
  {
   "cell_type": "code",
   "execution_count": 95,
   "id": "1e980639",
   "metadata": {},
   "outputs": [],
   "source": [
    "my_dict = {\"key\": \"value\", \n",
    "              \"key_2\": \"value_2\",\n",
    "               1: \"one\"} "
   ]
  },
  {
   "cell_type": "code",
   "execution_count": 97,
   "id": "fbff6139",
   "metadata": {},
   "outputs": [
    {
     "data": {
      "text/plain": [
       "{'key': 'value', 'key_2': 'value_2', 1: 'one'}"
      ]
     },
     "execution_count": 97,
     "metadata": {},
     "output_type": "execute_result"
    }
   ],
   "source": [
    "my_dict"
   ]
  },
  {
   "cell_type": "code",
   "execution_count": 99,
   "id": "19bc0e75",
   "metadata": {},
   "outputs": [
    {
     "data": {
      "text/plain": [
       "'value_2'"
      ]
     },
     "execution_count": 99,
     "metadata": {},
     "output_type": "execute_result"
    }
   ],
   "source": [
    "my_dict[\"key_2\"]"
   ]
  },
  {
   "cell_type": "code",
   "execution_count": 101,
   "id": "0b9fd4ba",
   "metadata": {},
   "outputs": [
    {
     "data": {
      "text/plain": [
       "'one'"
      ]
     },
     "execution_count": 101,
     "metadata": {},
     "output_type": "execute_result"
    }
   ],
   "source": [
    "my_dict[1]"
   ]
  },
  {
   "cell_type": "code",
   "execution_count": 103,
   "id": "d6bd664a",
   "metadata": {},
   "outputs": [
    {
     "ename": "KeyError",
     "evalue": "2",
     "output_type": "error",
     "traceback": [
      "\u001b[1;31m---------------------------------------------------------------------------\u001b[0m",
      "\u001b[1;31mKeyError\u001b[0m                                  Traceback (most recent call last)",
      "Cell \u001b[1;32mIn[103], line 1\u001b[0m\n\u001b[1;32m----> 1\u001b[0m my_dict[\u001b[38;5;241m2\u001b[39m]\n",
      "\u001b[1;31mKeyError\u001b[0m: 2"
     ]
    }
   ],
   "source": [
    "my_dict[2]"
   ]
  },
  {
   "cell_type": "code",
   "execution_count": 105,
   "id": "c20c821f",
   "metadata": {},
   "outputs": [
    {
     "data": {
      "text/plain": [
       "'Yok'"
      ]
     },
     "execution_count": 105,
     "metadata": {},
     "output_type": "execute_result"
    }
   ],
   "source": [
    "my_dict.get(\"GOIT\", \"Yok\")"
   ]
  },
  {
   "cell_type": "code",
   "execution_count": 107,
   "id": "cbd64f1d",
   "metadata": {},
   "outputs": [],
   "source": [
    "my_dict[\"key\"] = \"Data Analyst\""
   ]
  },
  {
   "cell_type": "code",
   "execution_count": 109,
   "id": "b977ab7c",
   "metadata": {},
   "outputs": [
    {
     "data": {
      "text/plain": [
       "{'key': 'Data Analyst', 'key_2': 'value_2', 1: 'one'}"
      ]
     },
     "execution_count": 109,
     "metadata": {},
     "output_type": "execute_result"
    }
   ],
   "source": [
    "my_dict"
   ]
  },
  {
   "cell_type": "code",
   "execution_count": 111,
   "id": "e06663ab",
   "metadata": {},
   "outputs": [],
   "source": [
    "my_dict.clear()"
   ]
  },
  {
   "cell_type": "code",
   "execution_count": 113,
   "id": "92994799",
   "metadata": {},
   "outputs": [],
   "source": [
    "numbers_dict = {1: \"one\",\n",
    "               2: \"two\",\n",
    "               3: \"three\"}"
   ]
  },
  {
   "cell_type": "code",
   "execution_count": 115,
   "id": "e1762de8",
   "metadata": {},
   "outputs": [
    {
     "name": "stdout",
     "output_type": "stream",
     "text": [
      "1\n",
      "2\n",
      "3\n"
     ]
    }
   ],
   "source": [
    "for i in numbers_dict:\n",
    "    print(i)"
   ]
  },
  {
   "cell_type": "code",
   "execution_count": 117,
   "id": "4115d51f",
   "metadata": {},
   "outputs": [
    {
     "name": "stdout",
     "output_type": "stream",
     "text": [
      "1\n",
      "2\n",
      "3\n"
     ]
    }
   ],
   "source": [
    "for i in numbers_dict.keys():\n",
    "    print(i)"
   ]
  },
  {
   "cell_type": "code",
   "execution_count": 119,
   "id": "4f7013d2",
   "metadata": {},
   "outputs": [],
   "source": [
    "a =numbers_dict.keys()"
   ]
  },
  {
   "cell_type": "code",
   "execution_count": 121,
   "id": "4b7dcf8e",
   "metadata": {},
   "outputs": [
    {
     "name": "stdout",
     "output_type": "stream",
     "text": [
      "one\n",
      "two\n",
      "three\n"
     ]
    }
   ],
   "source": [
    "for i in numbers_dict.values():\n",
    "    print(i)"
   ]
  },
  {
   "cell_type": "code",
   "execution_count": 123,
   "id": "012e1267",
   "metadata": {},
   "outputs": [
    {
     "data": {
      "text/plain": [
       "dict_items([(1, 'one'), (2, 'two'), (3, 'three')])"
      ]
     },
     "execution_count": 123,
     "metadata": {},
     "output_type": "execute_result"
    }
   ],
   "source": [
    "numbers_dict.items()"
   ]
  },
  {
   "cell_type": "code",
   "execution_count": 125,
   "id": "8be9438d",
   "metadata": {},
   "outputs": [
    {
     "name": "stdout",
     "output_type": "stream",
     "text": [
      "1 one\n",
      "2 two\n",
      "3 three\n"
     ]
    }
   ],
   "source": [
    "for key, value in numbers_dict.items():\n",
    "    print(key, value)"
   ]
  },
  {
   "cell_type": "code",
   "execution_count": 127,
   "id": "ed3216b7",
   "metadata": {},
   "outputs": [],
   "source": [
    "a = set()"
   ]
  },
  {
   "cell_type": "code",
   "execution_count": 129,
   "id": "f0b80178",
   "metadata": {},
   "outputs": [
    {
     "data": {
      "text/plain": [
       "set()"
      ]
     },
     "execution_count": 129,
     "metadata": {},
     "output_type": "execute_result"
    }
   ],
   "source": [
    "a"
   ]
  },
  {
   "cell_type": "code",
   "execution_count": 131,
   "id": "61530198",
   "metadata": {},
   "outputs": [],
   "source": [
    "a = set(\"cities\")"
   ]
  },
  {
   "cell_type": "code",
   "execution_count": 133,
   "id": "44354d99",
   "metadata": {},
   "outputs": [
    {
     "data": {
      "text/plain": [
       "{'c', 'e', 'i', 's', 't'}"
      ]
     },
     "execution_count": 133,
     "metadata": {},
     "output_type": "execute_result"
    }
   ],
   "source": [
    "a"
   ]
  },
  {
   "cell_type": "code",
   "execution_count": 135,
   "id": "6b21d820",
   "metadata": {},
   "outputs": [],
   "source": [
    "b = {\"a\",\"b\",\"c\",\"d\",\"f\",\"g\",\"h\"}"
   ]
  },
  {
   "cell_type": "code",
   "execution_count": 137,
   "id": "12c7c5da",
   "metadata": {},
   "outputs": [
    {
     "data": {
      "text/plain": [
       "{'a', 'b', 'c', 'd', 'f', 'g', 'h'}"
      ]
     },
     "execution_count": 137,
     "metadata": {},
     "output_type": "execute_result"
    }
   ],
   "source": [
    "b"
   ]
  },
  {
   "cell_type": "code",
   "execution_count": 139,
   "id": "1429ae9f",
   "metadata": {},
   "outputs": [],
   "source": [
    "b.add(\"ğ\")"
   ]
  },
  {
   "cell_type": "code",
   "execution_count": 141,
   "id": "e502f2a1",
   "metadata": {},
   "outputs": [],
   "source": [
    "b.remove(\"ğ\")"
   ]
  },
  {
   "cell_type": "code",
   "execution_count": 143,
   "id": "a285126e",
   "metadata": {},
   "outputs": [],
   "source": [
    "b.remove(\"b\")"
   ]
  },
  {
   "cell_type": "code",
   "execution_count": 145,
   "id": "09970745",
   "metadata": {},
   "outputs": [],
   "source": [
    "b.discard(\"b\")"
   ]
  },
  {
   "cell_type": "code",
   "execution_count": 147,
   "id": "b9b7169d",
   "metadata": {},
   "outputs": [],
   "source": [
    "a = set('hello')\n",
    "b = set('world')"
   ]
  },
  {
   "cell_type": "code",
   "execution_count": 149,
   "id": "80071d24",
   "metadata": {},
   "outputs": [
    {
     "name": "stdout",
     "output_type": "stream",
     "text": [
      "{'h', 'l', 'e', 'o'}\n",
      "{'o', 'w', 'l', 'r', 'd'}\n"
     ]
    }
   ],
   "source": [
    "print(a)\n",
    "print(b)"
   ]
  },
  {
   "cell_type": "code",
   "execution_count": 151,
   "id": "56c2b809",
   "metadata": {},
   "outputs": [
    {
     "data": {
      "text/plain": [
       "{'l', 'o'}"
      ]
     },
     "execution_count": 151,
     "metadata": {},
     "output_type": "execute_result"
    }
   ],
   "source": [
    "a & b"
   ]
  },
  {
   "cell_type": "code",
   "execution_count": 153,
   "id": "40f21588",
   "metadata": {},
   "outputs": [
    {
     "data": {
      "text/plain": [
       "{'d', 'e', 'h', 'r', 'w'}"
      ]
     },
     "execution_count": 153,
     "metadata": {},
     "output_type": "execute_result"
    }
   ],
   "source": [
    "a ^ b"
   ]
  },
  {
   "cell_type": "code",
   "execution_count": 155,
   "id": "0cb15cec",
   "metadata": {},
   "outputs": [
    {
     "data": {
      "text/plain": [
       "{'d', 'e', 'h', 'l', 'o', 'r', 'w'}"
      ]
     },
     "execution_count": 155,
     "metadata": {},
     "output_type": "execute_result"
    }
   ],
   "source": [
    "a | b"
   ]
  },
  {
   "cell_type": "code",
   "execution_count": 157,
   "id": "f6d62d33",
   "metadata": {},
   "outputs": [
    {
     "data": {
      "text/plain": [
       "True"
      ]
     },
     "execution_count": 157,
     "metadata": {},
     "output_type": "execute_result"
    }
   ],
   "source": [
    "password = 'qwerty123'\n",
    "\n",
    "\"qwerty\" in password "
   ]
  },
  {
   "cell_type": "code",
   "execution_count": 159,
   "id": "6ce3407f",
   "metadata": {},
   "outputs": [],
   "source": [
    "password = \"pass123\"\n",
    "if \"qwerty\" in password or \"t\" in password:\n",
    "    print(\"This password is too weak!\")"
   ]
  },
  {
   "cell_type": "code",
   "execution_count": 161,
   "id": "ec38641a",
   "metadata": {},
   "outputs": [],
   "source": [
    "new_set = {1, 2, 3}"
   ]
  },
  {
   "cell_type": "code",
   "execution_count": 163,
   "id": "2ade85ba",
   "metadata": {},
   "outputs": [
    {
     "data": {
      "text/plain": [
       "True"
      ]
     },
     "execution_count": 163,
     "metadata": {},
     "output_type": "execute_result"
    }
   ],
   "source": [
    "1 in new_set"
   ]
  },
  {
   "cell_type": "code",
   "execution_count": 165,
   "id": "6c14672d",
   "metadata": {},
   "outputs": [
    {
     "data": {
      "text/plain": [
       "False"
      ]
     },
     "execution_count": 165,
     "metadata": {},
     "output_type": "execute_result"
    }
   ],
   "source": [
    "4 in new_set"
   ]
  },
  {
   "cell_type": "code",
   "execution_count": 167,
   "id": "9a0f6ebb",
   "metadata": {},
   "outputs": [
    {
     "name": "stdout",
     "output_type": "stream",
     "text": [
      "User is 22 years old.\n"
     ]
    }
   ],
   "source": [
    "user = {\n",
    "    \"name\": \"Bill\",\n",
    "    \"surname\": \"Bosh\",\n",
    "    \"age\": 22}\n",
    "\n",
    "if \"age\" in user:\n",
    "    print(f\"User is {user['age']} years old.\")"
   ]
  },
  {
   "cell_type": "code",
   "execution_count": 169,
   "id": "37fef23f",
   "metadata": {},
   "outputs": [
    {
     "name": "stdout",
     "output_type": "stream",
     "text": [
      "This password is too short!\n"
     ]
    }
   ],
   "source": [
    "password = \"p123456\"\n",
    "\n",
    "if len(password) < 8:\n",
    "    print(\"This password is too short!\")"
   ]
  },
  {
   "cell_type": "code",
   "execution_count": 171,
   "id": "51559467",
   "metadata": {},
   "outputs": [],
   "source": [
    "s = \"Hello\""
   ]
  },
  {
   "cell_type": "code",
   "execution_count": 173,
   "id": "4db237c7",
   "metadata": {},
   "outputs": [
    {
     "data": {
      "text/plain": [
       "'HELLO'"
      ]
     },
     "execution_count": 173,
     "metadata": {},
     "output_type": "execute_result"
    }
   ],
   "source": [
    "s.upper()"
   ]
  },
  {
   "cell_type": "code",
   "execution_count": 175,
   "id": "346e8df0",
   "metadata": {},
   "outputs": [
    {
     "data": {
      "text/plain": [
       "'hello'"
      ]
     },
     "execution_count": 175,
     "metadata": {},
     "output_type": "execute_result"
    }
   ],
   "source": [
    "s.lower()"
   ]
  },
  {
   "cell_type": "code",
   "execution_count": 177,
   "id": "445f08a0",
   "metadata": {},
   "outputs": [
    {
     "data": {
      "text/plain": [
       "False"
      ]
     },
     "execution_count": 177,
     "metadata": {},
     "output_type": "execute_result"
    }
   ],
   "source": [
    "s.startswith(\"he\")"
   ]
  },
  {
   "cell_type": "code",
   "execution_count": 179,
   "id": "015fe99e",
   "metadata": {},
   "outputs": [
    {
     "data": {
      "text/plain": [
       "True"
      ]
     },
     "execution_count": 179,
     "metadata": {},
     "output_type": "execute_result"
    }
   ],
   "source": [
    "s.endswith(\"lo\")"
   ]
  },
  {
   "cell_type": "code",
   "execution_count": 181,
   "id": "c8d86aa1",
   "metadata": {},
   "outputs": [],
   "source": [
    "long_string = '''This is a \n",
    "long string\n",
    "can be\n",
    "very \n",
    "long\n",
    "'''"
   ]
  },
  {
   "cell_type": "code",
   "execution_count": 183,
   "id": "491c63f0",
   "metadata": {},
   "outputs": [
    {
     "data": {
      "text/plain": [
       "'This is a \\nlong string\\ncan be\\nvery \\nlong\\n'"
      ]
     },
     "execution_count": 183,
     "metadata": {},
     "output_type": "execute_result"
    }
   ],
   "source": [
    "long_string"
   ]
  },
  {
   "cell_type": "code",
   "execution_count": 185,
   "id": "f19d835a",
   "metadata": {},
   "outputs": [],
   "source": [
    "password = \"p123456\""
   ]
  },
  {
   "cell_type": "code",
   "execution_count": 187,
   "id": "30fd87f8",
   "metadata": {},
   "outputs": [
    {
     "data": {
      "text/plain": [
       "0"
      ]
     },
     "execution_count": 187,
     "metadata": {},
     "output_type": "execute_result"
    }
   ],
   "source": [
    "password.find(\"p\")"
   ]
  },
  {
   "cell_type": "code",
   "execution_count": 189,
   "id": "9496de5d",
   "metadata": {},
   "outputs": [],
   "source": [
    "s = \"I am learning strings in Python. Some new methods got now.\"\n",
    "sentences = s.split(\". \")"
   ]
  },
  {
   "cell_type": "code",
   "execution_count": 191,
   "id": "21965e1e",
   "metadata": {},
   "outputs": [
    {
     "data": {
      "text/plain": [
       "['I am learning strings in Python', 'Some new methods got now.']"
      ]
     },
     "execution_count": 191,
     "metadata": {},
     "output_type": "execute_result"
    }
   ],
   "source": [
    "s.split(\". \")"
   ]
  },
  {
   "cell_type": "code",
   "execution_count": 193,
   "id": "07d4b58b",
   "metadata": {},
   "outputs": [
    {
     "data": {
      "text/plain": [
       "['I am learning strings in Python', 'Some new methods got now.']"
      ]
     },
     "execution_count": 193,
     "metadata": {},
     "output_type": "execute_result"
    }
   ],
   "source": [
    "sentences"
   ]
  },
  {
   "cell_type": "code",
   "execution_count": 195,
   "id": "801c34be",
   "metadata": {},
   "outputs": [
    {
     "name": "stdout",
     "output_type": "stream",
     "text": [
      "I am learning strings in Python\n",
      "Some new methods got now.\n"
     ]
    }
   ],
   "source": [
    "print(sentences[0])\n",
    "print(sentences[1])"
   ]
  },
  {
   "cell_type": "code",
   "execution_count": 197,
   "id": "1578c64e",
   "metadata": {},
   "outputs": [
    {
     "data": {
      "text/plain": [
       "'I am learning strings in Python. Some new methods got now.'"
      ]
     },
     "execution_count": 197,
     "metadata": {},
     "output_type": "execute_result"
    }
   ],
   "source": [
    "text = \". \".join(sentences)\n",
    "text"
   ]
  },
  {
   "cell_type": "code",
   "execution_count": 199,
   "id": "12dc12af",
   "metadata": {},
   "outputs": [
    {
     "data": {
      "text/plain": [
       "str"
      ]
     },
     "execution_count": 199,
     "metadata": {},
     "output_type": "execute_result"
    }
   ],
   "source": [
    "type(text)"
   ]
  },
  {
   "cell_type": "code",
   "execution_count": 201,
   "id": "6c2f5f27",
   "metadata": {},
   "outputs": [
    {
     "data": {
      "text/plain": [
       "'asdfsd.    '"
      ]
     },
     "execution_count": 201,
     "metadata": {},
     "output_type": "execute_result"
    }
   ],
   "source": [
    "clean = \"      asdfsd.    \".lstrip()\n",
    "clean"
   ]
  },
  {
   "cell_type": "code",
   "execution_count": 203,
   "id": "1fb7a04b",
   "metadata": {},
   "outputs": [],
   "source": [
    "s = \"I am learning strings in Python. Some new methods got now.\"\n",
    "\n",
    "a = s.replace(\"Python\",\"Java\")"
   ]
  },
  {
   "cell_type": "code",
   "execution_count": 205,
   "id": "42c16a32",
   "metadata": {},
   "outputs": [
    {
     "data": {
      "text/plain": [
       "'I am learning strings in Java. Some new methods got now.'"
      ]
     },
     "execution_count": 205,
     "metadata": {},
     "output_type": "execute_result"
    }
   ],
   "source": [
    "a"
   ]
  },
  {
   "cell_type": "code",
   "execution_count": 207,
   "id": "d852e711",
   "metadata": {},
   "outputs": [
    {
     "name": "stdout",
     "output_type": "stream",
     "text": [
      "Hello, John. You are 25 years old.\n"
     ]
    }
   ],
   "source": [
    "age = 25\n",
    "name = 'John'\n",
    "print('Hello, {}. You are {} years old.'.format(name, age))"
   ]
  },
  {
   "cell_type": "code",
   "execution_count": 209,
   "id": "184b5b43",
   "metadata": {},
   "outputs": [
    {
     "name": "stdout",
     "output_type": "stream",
     "text": [
      "Hello, Jane. You are 30 years old.\n"
     ]
    }
   ],
   "source": [
    "print('Hello, {name}. You are {age} years old.'.format(name='Jane', age=30))"
   ]
  }
 ],
 "metadata": {
  "kernelspec": {
   "display_name": "Python 3 (ipykernel)",
   "language": "python",
   "name": "python3"
  },
  "language_info": {
   "codemirror_mode": {
    "name": "ipython",
    "version": 3
   },
   "file_extension": ".py",
   "mimetype": "text/x-python",
   "name": "python",
   "nbconvert_exporter": "python",
   "pygments_lexer": "ipython3",
   "version": "3.11.5"
  }
 },
 "nbformat": 4,
 "nbformat_minor": 5
}
