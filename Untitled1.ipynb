{
 "cells": [
  {
   "cell_type": "code",
   "execution_count": 1,
   "id": "2e3baddc-4c16-4eb9-a246-b7153113bbef",
   "metadata": {},
   "outputs": [],
   "source": [
    "import pandas as pd\n",
    "import numpy as np"
   ]
  },
  {
   "cell_type": "code",
   "execution_count": 3,
   "id": "64bdd991-b00f-4a5c-854f-dcb45b8ccfb7",
   "metadata": {},
   "outputs": [],
   "source": [
    "df = pd.read_csv(r\"C:\\Users\\Ali\\Documents\\python\\stack-overflow-developer-survey-2025\\survey_results_public.csv\")"
   ]
  },
  {
   "cell_type": "code",
   "execution_count": 5,
   "id": "d6f101dc-0703-4beb-808f-deb33e4271fd",
   "metadata": {},
   "outputs": [
    {
     "data": {
      "text/html": [
       "<div>\n",
       "<style scoped>\n",
       "    .dataframe tbody tr th:only-of-type {\n",
       "        vertical-align: middle;\n",
       "    }\n",
       "\n",
       "    .dataframe tbody tr th {\n",
       "        vertical-align: top;\n",
       "    }\n",
       "\n",
       "    .dataframe thead th {\n",
       "        text-align: right;\n",
       "    }\n",
       "</style>\n",
       "<table border=\"1\" class=\"dataframe\">\n",
       "  <thead>\n",
       "    <tr style=\"text-align: right;\">\n",
       "      <th></th>\n",
       "      <th>ResponseId</th>\n",
       "      <th>MainBranch</th>\n",
       "      <th>Age</th>\n",
       "      <th>EdLevel</th>\n",
       "      <th>Employment</th>\n",
       "      <th>EmploymentAddl</th>\n",
       "      <th>WorkExp</th>\n",
       "      <th>LearnCodeChoose</th>\n",
       "      <th>LearnCode</th>\n",
       "      <th>LearnCodeAI</th>\n",
       "      <th>...</th>\n",
       "      <th>AIAgentOrchestration</th>\n",
       "      <th>AIAgentOrchWrite</th>\n",
       "      <th>AIAgentObserveSecure</th>\n",
       "      <th>AIAgentObsWrite</th>\n",
       "      <th>AIAgentExternal</th>\n",
       "      <th>AIAgentExtWrite</th>\n",
       "      <th>AIHuman</th>\n",
       "      <th>AIOpen</th>\n",
       "      <th>ConvertedCompYearly</th>\n",
       "      <th>JobSat</th>\n",
       "    </tr>\n",
       "  </thead>\n",
       "  <tbody>\n",
       "    <tr>\n",
       "      <th>0</th>\n",
       "      <td>1</td>\n",
       "      <td>I am a developer by profession</td>\n",
       "      <td>25-34 years old</td>\n",
       "      <td>Master’s degree (M.A., M.S., M.Eng., MBA, etc.)</td>\n",
       "      <td>Employed</td>\n",
       "      <td>Caring for dependents (children, elderly, etc.)</td>\n",
       "      <td>8.0</td>\n",
       "      <td>Yes, I am not new to coding but am learning ne...</td>\n",
       "      <td>Online Courses or Certification (includes all ...</td>\n",
       "      <td>Yes, I learned how to use AI-enabled tools for...</td>\n",
       "      <td>...</td>\n",
       "      <td>Vertex AI</td>\n",
       "      <td>NaN</td>\n",
       "      <td>NaN</td>\n",
       "      <td>NaN</td>\n",
       "      <td>ChatGPT</td>\n",
       "      <td>NaN</td>\n",
       "      <td>When I don’t trust AI’s answers</td>\n",
       "      <td>Troubleshooting, profiling, debugging</td>\n",
       "      <td>61256.0</td>\n",
       "      <td>10.0</td>\n",
       "    </tr>\n",
       "    <tr>\n",
       "      <th>1</th>\n",
       "      <td>2</td>\n",
       "      <td>I am a developer by profession</td>\n",
       "      <td>25-34 years old</td>\n",
       "      <td>Associate degree (A.A., A.S., etc.)</td>\n",
       "      <td>Employed</td>\n",
       "      <td>NaN</td>\n",
       "      <td>2.0</td>\n",
       "      <td>Yes, I am not new to coding but am learning ne...</td>\n",
       "      <td>Online Courses or Certification (includes all ...</td>\n",
       "      <td>Yes, I learned how to use AI-enabled tools for...</td>\n",
       "      <td>...</td>\n",
       "      <td>NaN</td>\n",
       "      <td>NaN</td>\n",
       "      <td>NaN</td>\n",
       "      <td>NaN</td>\n",
       "      <td>NaN</td>\n",
       "      <td>NaN</td>\n",
       "      <td>When I don’t trust AI’s answers;When I want to...</td>\n",
       "      <td>All skills. AI is a flop.</td>\n",
       "      <td>104413.0</td>\n",
       "      <td>9.0</td>\n",
       "    </tr>\n",
       "    <tr>\n",
       "      <th>2</th>\n",
       "      <td>3</td>\n",
       "      <td>I am a developer by profession</td>\n",
       "      <td>35-44 years old</td>\n",
       "      <td>Bachelor’s degree (B.A., B.S., B.Eng., etc.)</td>\n",
       "      <td>Independent contractor, freelancer, or self-em...</td>\n",
       "      <td>None of the above</td>\n",
       "      <td>10.0</td>\n",
       "      <td>Yes, I am not new to coding but am learning ne...</td>\n",
       "      <td>Online Courses or Certification (includes all ...</td>\n",
       "      <td>Yes, I learned how to use AI-enabled tools for...</td>\n",
       "      <td>...</td>\n",
       "      <td>NaN</td>\n",
       "      <td>NaN</td>\n",
       "      <td>NaN</td>\n",
       "      <td>NaN</td>\n",
       "      <td>ChatGPT;Claude Code;GitHub Copilot;Google Gemini</td>\n",
       "      <td>NaN</td>\n",
       "      <td>When I don’t trust AI’s answers;When I want to...</td>\n",
       "      <td>Understand how things actually work, problem s...</td>\n",
       "      <td>53061.0</td>\n",
       "      <td>8.0</td>\n",
       "    </tr>\n",
       "    <tr>\n",
       "      <th>3</th>\n",
       "      <td>4</td>\n",
       "      <td>I am a developer by profession</td>\n",
       "      <td>35-44 years old</td>\n",
       "      <td>Bachelor’s degree (B.A., B.S., B.Eng., etc.)</td>\n",
       "      <td>Employed</td>\n",
       "      <td>None of the above</td>\n",
       "      <td>4.0</td>\n",
       "      <td>Yes, I am not new to coding but am learning ne...</td>\n",
       "      <td>Other online resources (e.g. standard search, ...</td>\n",
       "      <td>Yes, I learned how to use AI-enabled tools for...</td>\n",
       "      <td>...</td>\n",
       "      <td>NaN</td>\n",
       "      <td>NaN</td>\n",
       "      <td>NaN</td>\n",
       "      <td>NaN</td>\n",
       "      <td>ChatGPT;Claude Code</td>\n",
       "      <td>NaN</td>\n",
       "      <td>When I don’t trust AI’s answers;When I want to...</td>\n",
       "      <td>NaN</td>\n",
       "      <td>36197.0</td>\n",
       "      <td>6.0</td>\n",
       "    </tr>\n",
       "    <tr>\n",
       "      <th>4</th>\n",
       "      <td>5</td>\n",
       "      <td>I am a developer by profession</td>\n",
       "      <td>35-44 years old</td>\n",
       "      <td>Master’s degree (M.A., M.S., M.Eng., MBA, etc.)</td>\n",
       "      <td>Independent contractor, freelancer, or self-em...</td>\n",
       "      <td>Caring for dependents (children, elderly, etc.)</td>\n",
       "      <td>21.0</td>\n",
       "      <td>No, I am not new to coding and did not learn n...</td>\n",
       "      <td>NaN</td>\n",
       "      <td>Yes, I learned how to use AI-enabled tools for...</td>\n",
       "      <td>...</td>\n",
       "      <td>NaN</td>\n",
       "      <td>NaN</td>\n",
       "      <td>NaN</td>\n",
       "      <td>NaN</td>\n",
       "      <td>NaN</td>\n",
       "      <td>NaN</td>\n",
       "      <td>When I don’t trust AI’s answers</td>\n",
       "      <td>critical thinking, the skill to define the tas...</td>\n",
       "      <td>60000.0</td>\n",
       "      <td>7.0</td>\n",
       "    </tr>\n",
       "  </tbody>\n",
       "</table>\n",
       "<p>5 rows × 170 columns</p>\n",
       "</div>"
      ],
      "text/plain": [
       "   ResponseId                      MainBranch              Age  \\\n",
       "0           1  I am a developer by profession  25-34 years old   \n",
       "1           2  I am a developer by profession  25-34 years old   \n",
       "2           3  I am a developer by profession  35-44 years old   \n",
       "3           4  I am a developer by profession  35-44 years old   \n",
       "4           5  I am a developer by profession  35-44 years old   \n",
       "\n",
       "                                           EdLevel  \\\n",
       "0  Master’s degree (M.A., M.S., M.Eng., MBA, etc.)   \n",
       "1              Associate degree (A.A., A.S., etc.)   \n",
       "2     Bachelor’s degree (B.A., B.S., B.Eng., etc.)   \n",
       "3     Bachelor’s degree (B.A., B.S., B.Eng., etc.)   \n",
       "4  Master’s degree (M.A., M.S., M.Eng., MBA, etc.)   \n",
       "\n",
       "                                          Employment  \\\n",
       "0                                           Employed   \n",
       "1                                           Employed   \n",
       "2  Independent contractor, freelancer, or self-em...   \n",
       "3                                           Employed   \n",
       "4  Independent contractor, freelancer, or self-em...   \n",
       "\n",
       "                                    EmploymentAddl  WorkExp  \\\n",
       "0  Caring for dependents (children, elderly, etc.)      8.0   \n",
       "1                                              NaN      2.0   \n",
       "2                                None of the above     10.0   \n",
       "3                                None of the above      4.0   \n",
       "4  Caring for dependents (children, elderly, etc.)     21.0   \n",
       "\n",
       "                                     LearnCodeChoose  \\\n",
       "0  Yes, I am not new to coding but am learning ne...   \n",
       "1  Yes, I am not new to coding but am learning ne...   \n",
       "2  Yes, I am not new to coding but am learning ne...   \n",
       "3  Yes, I am not new to coding but am learning ne...   \n",
       "4  No, I am not new to coding and did not learn n...   \n",
       "\n",
       "                                           LearnCode  \\\n",
       "0  Online Courses or Certification (includes all ...   \n",
       "1  Online Courses or Certification (includes all ...   \n",
       "2  Online Courses or Certification (includes all ...   \n",
       "3  Other online resources (e.g. standard search, ...   \n",
       "4                                                NaN   \n",
       "\n",
       "                                         LearnCodeAI  ...  \\\n",
       "0  Yes, I learned how to use AI-enabled tools for...  ...   \n",
       "1  Yes, I learned how to use AI-enabled tools for...  ...   \n",
       "2  Yes, I learned how to use AI-enabled tools for...  ...   \n",
       "3  Yes, I learned how to use AI-enabled tools for...  ...   \n",
       "4  Yes, I learned how to use AI-enabled tools for...  ...   \n",
       "\n",
       "  AIAgentOrchestration  AIAgentOrchWrite AIAgentObserveSecure AIAgentObsWrite  \\\n",
       "0            Vertex AI               NaN                  NaN             NaN   \n",
       "1                  NaN               NaN                  NaN             NaN   \n",
       "2                  NaN               NaN                  NaN             NaN   \n",
       "3                  NaN               NaN                  NaN             NaN   \n",
       "4                  NaN               NaN                  NaN             NaN   \n",
       "\n",
       "                                    AIAgentExternal AIAgentExtWrite  \\\n",
       "0                                           ChatGPT             NaN   \n",
       "1                                               NaN             NaN   \n",
       "2  ChatGPT;Claude Code;GitHub Copilot;Google Gemini             NaN   \n",
       "3                               ChatGPT;Claude Code             NaN   \n",
       "4                                               NaN             NaN   \n",
       "\n",
       "                                             AIHuman  \\\n",
       "0                    When I don’t trust AI’s answers   \n",
       "1  When I don’t trust AI’s answers;When I want to...   \n",
       "2  When I don’t trust AI’s answers;When I want to...   \n",
       "3  When I don’t trust AI’s answers;When I want to...   \n",
       "4                    When I don’t trust AI’s answers   \n",
       "\n",
       "                                              AIOpen  ConvertedCompYearly  \\\n",
       "0              Troubleshooting, profiling, debugging              61256.0   \n",
       "1                          All skills. AI is a flop.             104413.0   \n",
       "2  Understand how things actually work, problem s...              53061.0   \n",
       "3                                                NaN              36197.0   \n",
       "4  critical thinking, the skill to define the tas...              60000.0   \n",
       "\n",
       "   JobSat  \n",
       "0    10.0  \n",
       "1     9.0  \n",
       "2     8.0  \n",
       "3     6.0  \n",
       "4     7.0  \n",
       "\n",
       "[5 rows x 170 columns]"
      ]
     },
     "execution_count": 5,
     "metadata": {},
     "output_type": "execute_result"
    }
   ],
   "source": [
    "df.head()"
   ]
  },
  {
   "cell_type": "code",
   "execution_count": 7,
   "id": "ece8ba36-3556-4db0-bc73-3fc1bf76d324",
   "metadata": {},
   "outputs": [
    {
     "name": "stdout",
     "output_type": "stream",
     "text": [
      "Ukraine\n",
      "Netherlands\n",
      "Ukraine\n",
      "Ukraine\n",
      "Ukraine\n"
     ]
    }
   ],
   "source": [
    "# ilk 5 kişinin ülkesini for döngüsü ile yazdır\n",
    "for country in df[\"Country\"].head(5):\n",
    "    print(country)"
   ]
  },
  {
   "cell_type": "code",
   "execution_count": 9,
   "id": "6f918489-50da-4f0e-99c5-979bbc105f84",
   "metadata": {},
   "outputs": [
    {
     "name": "stdout",
     "output_type": "stream",
     "text": [
      "Employed\n",
      "Employed\n",
      "Independent contractor, freelancer, or self-employed\n",
      "Employed\n",
      "Independent contractor, freelancer, or self-employed\n"
     ]
    }
   ],
   "source": [
    "for emp in df[\"Employment\"].head(5):\n",
    "    print(emp)"
   ]
  },
  {
   "cell_type": "code",
   "execution_count": 11,
   "id": "a0ef195a-1dfb-4f26-8fae-f7267631f80f",
   "metadata": {},
   "outputs": [
    {
     "name": "stdout",
     "output_type": "stream",
     "text": [
      "Sütun adı: ResponseId\n",
      "Sütun adı: MainBranch\n",
      "Sütun adı: Age\n",
      "Sütun adı: EdLevel\n",
      "Sütun adı: Employment\n",
      "Sütun adı: EmploymentAddl\n",
      "Sütun adı: WorkExp\n",
      "Sütun adı: LearnCodeChoose\n",
      "Sütun adı: LearnCode\n",
      "Sütun adı: LearnCodeAI\n",
      "Sütun adı: AILearnHow\n",
      "Sütun adı: YearsCode\n",
      "Sütun adı: DevType\n",
      "Sütun adı: OrgSize\n",
      "Sütun adı: ICorPM\n",
      "Sütun adı: RemoteWork\n",
      "Sütun adı: PurchaseInfluence\n",
      "Sütun adı: TechEndorseIntro\n",
      "Sütun adı: TechEndorse_1\n",
      "Sütun adı: TechEndorse_2\n"
     ]
    }
   ],
   "source": [
    "for col in df.columns[:20]:\n",
    "    print(\"Sütun adı:\", col)"
   ]
  },
  {
   "cell_type": "code",
   "execution_count": 13,
   "id": "869aa27e-b54d-4fdc-87c4-9e1426168ae0",
   "metadata": {},
   "outputs": [
    {
     "name": "stdout",
     "output_type": "stream",
     "text": [
      "Ukraine\n",
      "Netherlands\n",
      "Ukraine\n",
      "Ukraine\n",
      "Ukraine\n"
     ]
    }
   ],
   "source": [
    "i = 0\n",
    "while i < 5:\n",
    "    print(df.loc[i, \"Country\"])\n",
    "    i += 1"
   ]
  },
  {
   "cell_type": "code",
   "execution_count": 15,
   "id": "e20c2c23-8c90-4e1a-ad48-8a5d8ca4fb09",
   "metadata": {},
   "outputs": [
    {
     "name": "stdout",
     "output_type": "stream",
     "text": [
      "25-34 years old\n",
      "25-34 years old\n",
      "35-44 years old\n",
      "35-44 years old\n",
      "35-44 years old\n"
     ]
    }
   ],
   "source": [
    "i = 0\n",
    "while i < 5:\n",
    "    print(df.loc[i, \"Age\"])\n",
    "    i += 1"
   ]
  },
  {
   "cell_type": "code",
   "execution_count": 17,
   "id": "4b45e466-11c3-4e3c-8324-9ead9fb0ae7c",
   "metadata": {},
   "outputs": [
    {
     "name": "stdout",
     "output_type": "stream",
     "text": [
      "Kaç kişi dahil edildi: 8\n",
      "Toplam maaş: 513167.0\n"
     ]
    }
   ],
   "source": [
    "# toplam 500.000’e ulaşana kadar satırları eklemeye devam ediyoruz.\n",
    "total = 0\n",
    "count = 0\n",
    "i = 0\n",
    "\n",
    "while total < 500000 and i < len(df):\n",
    "    salary = df.loc[i, \"ConvertedCompYearly\"]\n",
    "    if pd.notnull(salary):\n",
    "        total += salary\n",
    "        count += 1\n",
    "    i += 1\n",
    "\n",
    "print(\"Kaç kişi dahil edildi:\", count)\n",
    "print(\"Toplam maaş:\", total)"
   ]
  },
  {
   "cell_type": "code",
   "execution_count": 19,
   "id": "51357a95-8d63-48fa-9f0a-607530ea73c2",
   "metadata": {},
   "outputs": [
    {
     "name": "stdout",
     "output_type": "stream",
     "text": [
      "{'Country': 'Ukraine', 'Age': '25-34 years old'}\n",
      "{'Country': 'Netherlands', 'Age': '25-34 years old'}\n",
      "{'Country': 'Ukraine', 'Age': '25-34 years old'}\n",
      "{'Country': 'Ukraine', 'Age': '25-34 years old'}\n",
      "{'Country': 'Ukraine', 'Age': '25-34 years old'}\n",
      "{'Country': 'Ukraine', 'Age': '25-34 years old'}\n",
      "{'Country': 'India', 'Age': '25-34 years old'}\n",
      "{'Country': 'Greece', 'Age': '25-34 years old'}\n",
      "{'Country': 'Bangladesh', 'Age': '25-34 years old'}\n",
      "{'Country': 'United States of America', 'Age': '25-34 years old'}\n"
     ]
    }
   ],
   "source": [
    "i = 0\n",
    "count = 0\n",
    "\n",
    "while count < 10 and i < len(df):\n",
    "    if df.loc[i, \"Age\"] == \"25-34 years old\":\n",
    "        print(df.loc[i, [\"Country\",\"Age\"]].to_dict())\n",
    "        count += 1\n",
    "    i += 1"
   ]
  },
  {
   "cell_type": "code",
   "execution_count": null,
   "id": "7011ec02-ad94-44b2-9530-1f96db7f63f6",
   "metadata": {},
   "outputs": [],
   "source": []
  }
 ],
 "metadata": {
  "kernelspec": {
   "display_name": "Python 3 (ipykernel)",
   "language": "python",
   "name": "python3"
  },
  "language_info": {
   "codemirror_mode": {
    "name": "ipython",
    "version": 3
   },
   "file_extension": ".py",
   "mimetype": "text/x-python",
   "name": "python",
   "nbconvert_exporter": "python",
   "pygments_lexer": "ipython3",
   "version": "3.11.5"
  }
 },
 "nbformat": 4,
 "nbformat_minor": 5
}
