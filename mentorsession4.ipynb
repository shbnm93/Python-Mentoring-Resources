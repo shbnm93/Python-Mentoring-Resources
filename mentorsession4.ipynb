{
 "cells": [
  {
   "cell_type": "code",
   "execution_count": 1,
   "id": "2c846d6a-d855-4f4f-9158-bcbd05315e12",
   "metadata": {},
   "outputs": [],
   "source": [
    "import pandas as pd\n",
    "import numpy as np"
   ]
  },
  {
   "cell_type": "code",
   "execution_count": 2,
   "id": "1c5cd73c-8010-4cda-ab80-515264773c7d",
   "metadata": {},
   "outputs": [],
   "source": [
    "df = pd.read_csv(r\"C:\\Users\\Ali\\Documents\\python\\stack-overflow-developer-survey-2025\\survey_results_public.csv\")"
   ]
  },
  {
   "cell_type": "code",
   "execution_count": 3,
   "id": "4dcc4cc9-fefc-49e4-b2fb-91c62332c21f",
   "metadata": {},
   "outputs": [
    {
     "data": {
      "text/html": [
       "<div>\n",
       "<style scoped>\n",
       "    .dataframe tbody tr th:only-of-type {\n",
       "        vertical-align: middle;\n",
       "    }\n",
       "\n",
       "    .dataframe tbody tr th {\n",
       "        vertical-align: top;\n",
       "    }\n",
       "\n",
       "    .dataframe thead th {\n",
       "        text-align: right;\n",
       "    }\n",
       "</style>\n",
       "<table border=\"1\" class=\"dataframe\">\n",
       "  <thead>\n",
       "    <tr style=\"text-align: right;\">\n",
       "      <th></th>\n",
       "      <th>ResponseId</th>\n",
       "      <th>MainBranch</th>\n",
       "      <th>Age</th>\n",
       "      <th>EdLevel</th>\n",
       "      <th>Employment</th>\n",
       "      <th>EmploymentAddl</th>\n",
       "      <th>WorkExp</th>\n",
       "      <th>LearnCodeChoose</th>\n",
       "      <th>LearnCode</th>\n",
       "      <th>LearnCodeAI</th>\n",
       "      <th>...</th>\n",
       "      <th>AIAgentOrchestration</th>\n",
       "      <th>AIAgentOrchWrite</th>\n",
       "      <th>AIAgentObserveSecure</th>\n",
       "      <th>AIAgentObsWrite</th>\n",
       "      <th>AIAgentExternal</th>\n",
       "      <th>AIAgentExtWrite</th>\n",
       "      <th>AIHuman</th>\n",
       "      <th>AIOpen</th>\n",
       "      <th>ConvertedCompYearly</th>\n",
       "      <th>JobSat</th>\n",
       "    </tr>\n",
       "  </thead>\n",
       "  <tbody>\n",
       "    <tr>\n",
       "      <th>0</th>\n",
       "      <td>1</td>\n",
       "      <td>I am a developer by profession</td>\n",
       "      <td>25-34 years old</td>\n",
       "      <td>Master’s degree (M.A., M.S., M.Eng., MBA, etc.)</td>\n",
       "      <td>Employed</td>\n",
       "      <td>Caring for dependents (children, elderly, etc.)</td>\n",
       "      <td>8.0</td>\n",
       "      <td>Yes, I am not new to coding but am learning ne...</td>\n",
       "      <td>Online Courses or Certification (includes all ...</td>\n",
       "      <td>Yes, I learned how to use AI-enabled tools for...</td>\n",
       "      <td>...</td>\n",
       "      <td>Vertex AI</td>\n",
       "      <td>NaN</td>\n",
       "      <td>NaN</td>\n",
       "      <td>NaN</td>\n",
       "      <td>ChatGPT</td>\n",
       "      <td>NaN</td>\n",
       "      <td>When I don’t trust AI’s answers</td>\n",
       "      <td>Troubleshooting, profiling, debugging</td>\n",
       "      <td>61256.0</td>\n",
       "      <td>10.0</td>\n",
       "    </tr>\n",
       "    <tr>\n",
       "      <th>1</th>\n",
       "      <td>2</td>\n",
       "      <td>I am a developer by profession</td>\n",
       "      <td>25-34 years old</td>\n",
       "      <td>Associate degree (A.A., A.S., etc.)</td>\n",
       "      <td>Employed</td>\n",
       "      <td>NaN</td>\n",
       "      <td>2.0</td>\n",
       "      <td>Yes, I am not new to coding but am learning ne...</td>\n",
       "      <td>Online Courses or Certification (includes all ...</td>\n",
       "      <td>Yes, I learned how to use AI-enabled tools for...</td>\n",
       "      <td>...</td>\n",
       "      <td>NaN</td>\n",
       "      <td>NaN</td>\n",
       "      <td>NaN</td>\n",
       "      <td>NaN</td>\n",
       "      <td>NaN</td>\n",
       "      <td>NaN</td>\n",
       "      <td>When I don’t trust AI’s answers;When I want to...</td>\n",
       "      <td>All skills. AI is a flop.</td>\n",
       "      <td>104413.0</td>\n",
       "      <td>9.0</td>\n",
       "    </tr>\n",
       "    <tr>\n",
       "      <th>2</th>\n",
       "      <td>3</td>\n",
       "      <td>I am a developer by profession</td>\n",
       "      <td>35-44 years old</td>\n",
       "      <td>Bachelor’s degree (B.A., B.S., B.Eng., etc.)</td>\n",
       "      <td>Independent contractor, freelancer, or self-em...</td>\n",
       "      <td>None of the above</td>\n",
       "      <td>10.0</td>\n",
       "      <td>Yes, I am not new to coding but am learning ne...</td>\n",
       "      <td>Online Courses or Certification (includes all ...</td>\n",
       "      <td>Yes, I learned how to use AI-enabled tools for...</td>\n",
       "      <td>...</td>\n",
       "      <td>NaN</td>\n",
       "      <td>NaN</td>\n",
       "      <td>NaN</td>\n",
       "      <td>NaN</td>\n",
       "      <td>ChatGPT;Claude Code;GitHub Copilot;Google Gemini</td>\n",
       "      <td>NaN</td>\n",
       "      <td>When I don’t trust AI’s answers;When I want to...</td>\n",
       "      <td>Understand how things actually work, problem s...</td>\n",
       "      <td>53061.0</td>\n",
       "      <td>8.0</td>\n",
       "    </tr>\n",
       "    <tr>\n",
       "      <th>3</th>\n",
       "      <td>4</td>\n",
       "      <td>I am a developer by profession</td>\n",
       "      <td>35-44 years old</td>\n",
       "      <td>Bachelor’s degree (B.A., B.S., B.Eng., etc.)</td>\n",
       "      <td>Employed</td>\n",
       "      <td>None of the above</td>\n",
       "      <td>4.0</td>\n",
       "      <td>Yes, I am not new to coding but am learning ne...</td>\n",
       "      <td>Other online resources (e.g. standard search, ...</td>\n",
       "      <td>Yes, I learned how to use AI-enabled tools for...</td>\n",
       "      <td>...</td>\n",
       "      <td>NaN</td>\n",
       "      <td>NaN</td>\n",
       "      <td>NaN</td>\n",
       "      <td>NaN</td>\n",
       "      <td>ChatGPT;Claude Code</td>\n",
       "      <td>NaN</td>\n",
       "      <td>When I don’t trust AI’s answers;When I want to...</td>\n",
       "      <td>NaN</td>\n",
       "      <td>36197.0</td>\n",
       "      <td>6.0</td>\n",
       "    </tr>\n",
       "    <tr>\n",
       "      <th>4</th>\n",
       "      <td>5</td>\n",
       "      <td>I am a developer by profession</td>\n",
       "      <td>35-44 years old</td>\n",
       "      <td>Master’s degree (M.A., M.S., M.Eng., MBA, etc.)</td>\n",
       "      <td>Independent contractor, freelancer, or self-em...</td>\n",
       "      <td>Caring for dependents (children, elderly, etc.)</td>\n",
       "      <td>21.0</td>\n",
       "      <td>No, I am not new to coding and did not learn n...</td>\n",
       "      <td>NaN</td>\n",
       "      <td>Yes, I learned how to use AI-enabled tools for...</td>\n",
       "      <td>...</td>\n",
       "      <td>NaN</td>\n",
       "      <td>NaN</td>\n",
       "      <td>NaN</td>\n",
       "      <td>NaN</td>\n",
       "      <td>NaN</td>\n",
       "      <td>NaN</td>\n",
       "      <td>When I don’t trust AI’s answers</td>\n",
       "      <td>critical thinking, the skill to define the tas...</td>\n",
       "      <td>60000.0</td>\n",
       "      <td>7.0</td>\n",
       "    </tr>\n",
       "  </tbody>\n",
       "</table>\n",
       "<p>5 rows × 170 columns</p>\n",
       "</div>"
      ],
      "text/plain": [
       "   ResponseId                      MainBranch              Age  \\\n",
       "0           1  I am a developer by profession  25-34 years old   \n",
       "1           2  I am a developer by profession  25-34 years old   \n",
       "2           3  I am a developer by profession  35-44 years old   \n",
       "3           4  I am a developer by profession  35-44 years old   \n",
       "4           5  I am a developer by profession  35-44 years old   \n",
       "\n",
       "                                           EdLevel  \\\n",
       "0  Master’s degree (M.A., M.S., M.Eng., MBA, etc.)   \n",
       "1              Associate degree (A.A., A.S., etc.)   \n",
       "2     Bachelor’s degree (B.A., B.S., B.Eng., etc.)   \n",
       "3     Bachelor’s degree (B.A., B.S., B.Eng., etc.)   \n",
       "4  Master’s degree (M.A., M.S., M.Eng., MBA, etc.)   \n",
       "\n",
       "                                          Employment  \\\n",
       "0                                           Employed   \n",
       "1                                           Employed   \n",
       "2  Independent contractor, freelancer, or self-em...   \n",
       "3                                           Employed   \n",
       "4  Independent contractor, freelancer, or self-em...   \n",
       "\n",
       "                                    EmploymentAddl  WorkExp  \\\n",
       "0  Caring for dependents (children, elderly, etc.)      8.0   \n",
       "1                                              NaN      2.0   \n",
       "2                                None of the above     10.0   \n",
       "3                                None of the above      4.0   \n",
       "4  Caring for dependents (children, elderly, etc.)     21.0   \n",
       "\n",
       "                                     LearnCodeChoose  \\\n",
       "0  Yes, I am not new to coding but am learning ne...   \n",
       "1  Yes, I am not new to coding but am learning ne...   \n",
       "2  Yes, I am not new to coding but am learning ne...   \n",
       "3  Yes, I am not new to coding but am learning ne...   \n",
       "4  No, I am not new to coding and did not learn n...   \n",
       "\n",
       "                                           LearnCode  \\\n",
       "0  Online Courses or Certification (includes all ...   \n",
       "1  Online Courses or Certification (includes all ...   \n",
       "2  Online Courses or Certification (includes all ...   \n",
       "3  Other online resources (e.g. standard search, ...   \n",
       "4                                                NaN   \n",
       "\n",
       "                                         LearnCodeAI  ...  \\\n",
       "0  Yes, I learned how to use AI-enabled tools for...  ...   \n",
       "1  Yes, I learned how to use AI-enabled tools for...  ...   \n",
       "2  Yes, I learned how to use AI-enabled tools for...  ...   \n",
       "3  Yes, I learned how to use AI-enabled tools for...  ...   \n",
       "4  Yes, I learned how to use AI-enabled tools for...  ...   \n",
       "\n",
       "  AIAgentOrchestration  AIAgentOrchWrite AIAgentObserveSecure AIAgentObsWrite  \\\n",
       "0            Vertex AI               NaN                  NaN             NaN   \n",
       "1                  NaN               NaN                  NaN             NaN   \n",
       "2                  NaN               NaN                  NaN             NaN   \n",
       "3                  NaN               NaN                  NaN             NaN   \n",
       "4                  NaN               NaN                  NaN             NaN   \n",
       "\n",
       "                                    AIAgentExternal AIAgentExtWrite  \\\n",
       "0                                           ChatGPT             NaN   \n",
       "1                                               NaN             NaN   \n",
       "2  ChatGPT;Claude Code;GitHub Copilot;Google Gemini             NaN   \n",
       "3                               ChatGPT;Claude Code             NaN   \n",
       "4                                               NaN             NaN   \n",
       "\n",
       "                                             AIHuman  \\\n",
       "0                    When I don’t trust AI’s answers   \n",
       "1  When I don’t trust AI’s answers;When I want to...   \n",
       "2  When I don’t trust AI’s answers;When I want to...   \n",
       "3  When I don’t trust AI’s answers;When I want to...   \n",
       "4                    When I don’t trust AI’s answers   \n",
       "\n",
       "                                              AIOpen  ConvertedCompYearly  \\\n",
       "0              Troubleshooting, profiling, debugging              61256.0   \n",
       "1                          All skills. AI is a flop.             104413.0   \n",
       "2  Understand how things actually work, problem s...              53061.0   \n",
       "3                                                NaN              36197.0   \n",
       "4  critical thinking, the skill to define the tas...              60000.0   \n",
       "\n",
       "   JobSat  \n",
       "0    10.0  \n",
       "1     9.0  \n",
       "2     8.0  \n",
       "3     6.0  \n",
       "4     7.0  \n",
       "\n",
       "[5 rows x 170 columns]"
      ]
     },
     "execution_count": 3,
     "metadata": {},
     "output_type": "execute_result"
    }
   ],
   "source": [
    "df.head()"
   ]
  },
  {
   "cell_type": "markdown",
   "id": "11b3a235-2155-4134-9a5d-a16acc2c787a",
   "metadata": {},
   "source": [
    "For vs While\n",
    "\n",
    "for → genellikle “belli sayıda tekrar” veya “bir listenin elemanlarında gezmek” için.\n",
    "\n",
    "While döngüsü → koşul doğru olduğu sürece çalışır."
   ]
  },
  {
   "cell_type": "code",
   "execution_count": 5,
   "id": "de3d8ff3-f036-45c0-8273-92601ce06c99",
   "metadata": {},
   "outputs": [
    {
     "name": "stdout",
     "output_type": "stream",
     "text": [
      "Ukraine\n",
      "Netherlands\n",
      "Ukraine\n",
      "Ukraine\n",
      "Ukraine\n"
     ]
    }
   ],
   "source": [
    "# ilk 5 kişinin ülkesini for döngüsü ile yazdır\n",
    "for country in df[\"Country\"].head(5):\n",
    "    print(country)"
   ]
  },
  {
   "cell_type": "code",
   "execution_count": 6,
   "id": "611ec4ed-aaa6-4f75-9382-11a93627acc8",
   "metadata": {},
   "outputs": [
    {
     "name": "stdout",
     "output_type": "stream",
     "text": [
      "Employed\n",
      "Employed\n",
      "Independent contractor, freelancer, or self-employed\n",
      "Employed\n",
      "Independent contractor, freelancer, or self-employed\n"
     ]
    }
   ],
   "source": [
    "for emp in df[\"Employment\"].head(5):\n",
    "    print(emp)"
   ]
  },
  {
   "cell_type": "code",
   "execution_count": 7,
   "id": "6dd3ef1a-6680-43fd-9a35-032fea0cf781",
   "metadata": {},
   "outputs": [
    {
     "name": "stdout",
     "output_type": "stream",
     "text": [
      "Sütun adı: ResponseId\n",
      "Sütun adı: MainBranch\n",
      "Sütun adı: Age\n",
      "Sütun adı: EdLevel\n",
      "Sütun adı: Employment\n",
      "Sütun adı: EmploymentAddl\n",
      "Sütun adı: WorkExp\n",
      "Sütun adı: LearnCodeChoose\n",
      "Sütun adı: LearnCode\n",
      "Sütun adı: LearnCodeAI\n",
      "Sütun adı: AILearnHow\n",
      "Sütun adı: YearsCode\n",
      "Sütun adı: DevType\n",
      "Sütun adı: OrgSize\n",
      "Sütun adı: ICorPM\n",
      "Sütun adı: RemoteWork\n",
      "Sütun adı: PurchaseInfluence\n",
      "Sütun adı: TechEndorseIntro\n",
      "Sütun adı: TechEndorse_1\n",
      "Sütun adı: TechEndorse_2\n"
     ]
    }
   ],
   "source": [
    "for col in df.columns[:20]:\n",
    "    print(\"Sütun adı:\", col)"
   ]
  },
  {
   "cell_type": "code",
   "execution_count": 8,
   "id": "2b0cb174-ce3c-4f88-aae3-85ce16299b59",
   "metadata": {},
   "outputs": [
    {
     "name": "stdout",
     "output_type": "stream",
     "text": [
      "Ukraine\n",
      "Netherlands\n",
      "Ukraine\n",
      "Ukraine\n",
      "Ukraine\n"
     ]
    }
   ],
   "source": [
    "i = 0\n",
    "while i < 5:\n",
    "    print(df.loc[i, \"Country\"])\n",
    "    i += 1"
   ]
  },
  {
   "cell_type": "code",
   "execution_count": 9,
   "id": "3fefc5cf-cb09-401e-9e73-57811f41dfad",
   "metadata": {},
   "outputs": [
    {
     "name": "stdout",
     "output_type": "stream",
     "text": [
      "25-34 years old\n",
      "25-34 years old\n",
      "35-44 years old\n",
      "35-44 years old\n",
      "35-44 years old\n"
     ]
    }
   ],
   "source": [
    "i = 0\n",
    "while i < 5:\n",
    "    print(df.loc[i, \"Age\"])\n",
    "    i += 1"
   ]
  },
  {
   "cell_type": "code",
   "execution_count": 10,
   "id": "5ee937b4-a2a9-44de-80c4-5bf019586a87",
   "metadata": {},
   "outputs": [
    {
     "name": "stdout",
     "output_type": "stream",
     "text": [
      "Kaç kişi dahil edildi: 8\n",
      "Toplam maaş: 513167.0\n"
     ]
    }
   ],
   "source": [
    "# toplam 500.000’e ulaşana kadar satırları eklemeye devam ediyoruz.\n",
    "total = 0\n",
    "count = 0\n",
    "i = 0\n",
    "\n",
    "while total < 500000 and i < len(df):\n",
    "    salary = df.loc[i, \"ConvertedCompYearly\"]\n",
    "    if pd.notnull(salary):\n",
    "        total += salary\n",
    "        count += 1\n",
    "    i += 1\n",
    "\n",
    "print(\"Kaç kişi dahil edildi:\", count)\n",
    "print(\"Toplam maaş:\", total)"
   ]
  },
  {
   "cell_type": "code",
   "execution_count": 11,
   "id": "76a732b4-2285-432c-9adb-eff3ff53fcbe",
   "metadata": {},
   "outputs": [
    {
     "name": "stdout",
     "output_type": "stream",
     "text": [
      "Kaç kişi dahil edildi: 6\n",
      "Toplam iş tecrübesi: 60.0\n"
     ]
    }
   ],
   "source": [
    "total_exp = 0\n",
    "count = 0\n",
    "i = 0\n",
    "\n",
    "while total_exp < 50 and i < len(df):\n",
    "    exp = df.loc[i, \"WorkExp\"]\n",
    "    if pd.notnull(exp):\n",
    "        total_exp += exp\n",
    "        count += 1\n",
    "    i += 1\n",
    "\n",
    "print(\"Kaç kişi dahil edildi:\", count)\n",
    "print(\"Toplam iş tecrübesi:\", total_exp)\n"
   ]
  },
  {
   "cell_type": "markdown",
   "id": "9957270d-eb16-42bc-9d9a-5ae48ecc91b3",
   "metadata": {},
   "source": [
    "Ülke bazında ilk 5 ülkenin katılımcı sayısını saymak"
   ]
  },
  {
   "cell_type": "code",
   "execution_count": 13,
   "id": "f3b787e5-480c-47ce-9282-5ecc687fa3e7",
   "metadata": {},
   "outputs": [
    {
     "name": "stdout",
     "output_type": "stream",
     "text": [
      "{'Ukraine': 12, 'Netherlands': 5, 'India': 4, 'Georgia': 1, 'Australia': 1, 'Greece': 1, 'Germany': 6, 'Bangladesh': 2, 'Brazil': 2, 'United States of America': 19, 'Lithuania': 1, 'United Kingdom of Great Britain and Northern Ireland': 6, 'Ireland': 1, 'Sweden': 2, 'Dominican Republic': 1, 'Austria': 2, 'Belgium': 3, 'Czech Republic': 5, 'Italy': 2, 'Hungary': 2, 'Malaysia': 1, 'Switzerland': 2, 'Egypt': 1, 'Sri Lanka': 2, 'Poland': 2, 'Spain': 2, 'Russian Federation': 3, 'Serbia': 1, 'Japan': 1, 'France': 2, 'Romania': 1, 'Canada': 1, 'Uruguay': 1, 'United Arab Emirates': 1, 'Argentina': 1}\n"
     ]
    }
   ],
   "source": [
    "country_counts = {}\n",
    "\n",
    "for country in df[\"Country\"].head(100):  # ilk 100 kişiye bakalım\n",
    "    if pd.notnull(country):\n",
    "        country_counts[country] = country_counts.get(country, 0) + 1\n",
    "\n",
    "print(country_counts)"
   ]
  },
  {
   "cell_type": "markdown",
   "id": "00520724-7d0e-4135-b8ca-496d8c996194",
   "metadata": {},
   "source": [
    "Eğitim seviyesi bazında benzersiz değerleri toplamak"
   ]
  },
  {
   "cell_type": "code",
   "execution_count": 15,
   "id": "f46fa1c5-0b11-4ea0-9a70-a58885d89c72",
   "metadata": {},
   "outputs": [
    {
     "name": "stdout",
     "output_type": "stream",
     "text": [
      "['Master’s degree (M.A., M.S., M.Eng., MBA, etc.)', 'Associate degree (A.A., A.S., etc.)', 'Bachelor’s degree (B.A., B.S., B.Eng., etc.)', 'Some college/university study without earning a degree', 'Professional degree (JD, MD, Ph.D, Ed.D, etc.)']\n"
     ]
    }
   ],
   "source": [
    "ed_levels = []\n",
    "\n",
    "for level in df[\"EdLevel\"].dropna().head(20):\n",
    "    if level not in ed_levels:\n",
    "        ed_levels.append(level)\n",
    "\n",
    "print(ed_levels)"
   ]
  },
  {
   "cell_type": "markdown",
   "id": "517e985a-87e8-40be-ac30-b6680d54ab5d",
   "metadata": {},
   "source": [
    "Ortalama iş tecrübesi (WorkExp) hesaplamak"
   ]
  },
  {
   "cell_type": "code",
   "execution_count": 17,
   "id": "e93acdd2-dcb1-4de2-97d5-cbe35c25cc02",
   "metadata": {},
   "outputs": [
    {
     "name": "stdout",
     "output_type": "stream",
     "text": [
      "Ortalama iş tecrübesi: 15.448979591836734\n"
     ]
    }
   ],
   "source": [
    "total = 0\n",
    "count = 0\n",
    "\n",
    "for exp in df[\"WorkExp\"].head(50):\n",
    "    if pd.notnull(exp):\n",
    "        total += exp\n",
    "        count += 1\n",
    "\n",
    "print(\"Ortalama iş tecrübesi:\", total/count)"
   ]
  },
  {
   "cell_type": "markdown",
   "id": "c5674912-a7ca-4d7b-86c3-0237a0f8eb20",
   "metadata": {},
   "source": [
    "İlk “freelancer” bulunana kadar tarama"
   ]
  },
  {
   "cell_type": "code",
   "execution_count": 19,
   "id": "5f1389a5-231f-4083-8036-45f6bcfaf143",
   "metadata": {},
   "outputs": [
    {
     "name": "stdout",
     "output_type": "stream",
     "text": [
      "İlk freelancer bulundu: {'Country': 'Ukraine', 'Employment': 'Independent contractor, freelancer, or self-employed'}\n"
     ]
    }
   ],
   "source": [
    "i = 0\n",
    "while i < len(df):\n",
    "    if df.loc[i, \"Employment\"] and \"freelancer\" in str(df.loc[i, \"Employment\"]).lower():\n",
    "        print(\"İlk freelancer bulundu:\", df.loc[i, [\"Country\",\"Employment\"]].to_dict())\n",
    "        break\n",
    "    i += 1"
   ]
  },
  {
   "cell_type": "markdown",
   "id": "165803b9-760d-4e23-a0a9-ad6519678d8c",
   "metadata": {},
   "source": [
    "10 kişi bulunana kadar 25–34 yaş aralığındaki katılımcıları listeleme"
   ]
  },
  {
   "cell_type": "code",
   "execution_count": 21,
   "id": "c22b6d3e-ceaf-44b9-95d0-2c42491236ea",
   "metadata": {},
   "outputs": [
    {
     "name": "stdout",
     "output_type": "stream",
     "text": [
      "{'Country': 'Ukraine', 'Age': '25-34 years old'}\n",
      "{'Country': 'Netherlands', 'Age': '25-34 years old'}\n",
      "{'Country': 'Ukraine', 'Age': '25-34 years old'}\n",
      "{'Country': 'Ukraine', 'Age': '25-34 years old'}\n",
      "{'Country': 'Ukraine', 'Age': '25-34 years old'}\n",
      "{'Country': 'Ukraine', 'Age': '25-34 years old'}\n",
      "{'Country': 'India', 'Age': '25-34 years old'}\n",
      "{'Country': 'Greece', 'Age': '25-34 years old'}\n",
      "{'Country': 'Bangladesh', 'Age': '25-34 years old'}\n",
      "{'Country': 'United States of America', 'Age': '25-34 years old'}\n"
     ]
    }
   ],
   "source": [
    "i = 0\n",
    "count = 0\n",
    "\n",
    "while count < 10 and i < len(df):\n",
    "    if df.loc[i, \"Age\"] == \"25-34 years old\":\n",
    "        print(df.loc[i, [\"Country\",\"Age\"]].to_dict())\n",
    "        count += 1\n",
    "    i += 1"
   ]
  },
  {
   "cell_type": "markdown",
   "id": "cf55be31-46b5-481f-bb31-2e9d5cdb757e",
   "metadata": {},
   "source": [
    "Yaş gruplarını sınıflandırmak"
   ]
  },
  {
   "cell_type": "code",
   "execution_count": 23,
   "id": "a760b486-2b83-4bce-8b13-37296a6521fb",
   "metadata": {},
   "outputs": [
    {
     "name": "stdout",
     "output_type": "stream",
     "text": [
      "{'25-34': 0, '35-44': 0, '45-54': 0}\n"
     ]
    }
   ],
   "source": [
    "age_groups = {\"25-34\":0, \"35-44\":0, \"45-54\":0}\n",
    "i = 0\n",
    "\n",
    "while i < 200:   # ilk 200 kişiyi incele\n",
    "    age = df.loc[i,\"Age\"]\n",
    "    if age in age_groups:\n",
    "        age_groups[age] += 1\n",
    "    i += 1\n",
    "\n",
    "print(age_groups)"
   ]
  },
  {
   "cell_type": "code",
   "execution_count": 24,
   "id": "6f5fc24d-027e-4bf1-bac4-851b1a62bf9a",
   "metadata": {},
   "outputs": [
    {
     "name": "stdout",
     "output_type": "stream",
     "text": [
      "Ortalama iş tecrübesi: 15.62\n"
     ]
    }
   ],
   "source": [
    "# Ortalama iş tecrübesi (WorkExp)\n",
    "total = 0\n",
    "count = 0\n",
    "\n",
    "for exp in df[\"WorkExp\"].dropna().head(100):\n",
    "    total += exp\n",
    "    count += 1\n",
    "\n",
    "print(\"Ortalama iş tecrübesi:\", total/count)"
   ]
  },
  {
   "cell_type": "code",
   "execution_count": 25,
   "id": "2f056b84-2506-4742-9f18-efa47c1c93f8",
   "metadata": {},
   "outputs": [
    {
     "name": "stdout",
     "output_type": "stream",
     "text": [
      "Ortalama iş tecrübesi: 15.62\n"
     ]
    }
   ],
   "source": [
    "# NumPy ile:\n",
    "print(\"Ortalama iş tecrübesi:\", np.mean(df[\"WorkExp\"].dropna().head(100)))"
   ]
  },
  {
   "cell_type": "code",
   "execution_count": 45,
   "id": "89665a80-8033-46cb-894f-2f6b6b10f8b9",
   "metadata": {},
   "outputs": [
    {
     "name": "stdout",
     "output_type": "stream",
     "text": [
      "{'25-34': 0, '35-44': 0, '45-54': 0}\n"
     ]
    }
   ],
   "source": [
    "# Yaş grubu sayımı\n",
    "age_groups = {\"25-34\":0, \"35-44\":0, \"45-54\":0}\n",
    "i = 0\n",
    "\n",
    "while i < 200:\n",
    "    age = df.loc[i,\"Age\"]\n",
    "    if age in age_groups:\n",
    "        age_groups[age] += 1\n",
    "    i += 1\n",
    "\n",
    "print(age_groups)"
   ]
  },
  {
   "cell_type": "code",
   "execution_count": 47,
   "id": "45ee20d6-c42d-4bef-a078-ba9e2d371ea2",
   "metadata": {},
   "outputs": [
    {
     "name": "stdout",
     "output_type": "stream",
     "text": [
      "{'18-24 years old': 26, '25-34 years old': 57, '35-44 years old': 58, '45-54 years old': 40, '55-64 years old': 10, '65 years or older': 9}\n"
     ]
    }
   ],
   "source": [
    "# NumPy ile:\n",
    "values, counts = np.unique(df[\"Age\"].head(200).dropna(), return_counts=True)\n",
    "age_counts = dict(zip(values, counts))\n",
    "print(age_counts)"
   ]
  },
  {
   "cell_type": "code",
   "execution_count": null,
   "id": "ab7bc224-bb88-4478-ae42-fb8547209b06",
   "metadata": {},
   "outputs": [],
   "source": []
  }
 ],
 "metadata": {
  "kernelspec": {
   "display_name": "Python 3 (ipykernel)",
   "language": "python",
   "name": "python3"
  },
  "language_info": {
   "codemirror_mode": {
    "name": "ipython",
    "version": 3
   },
   "file_extension": ".py",
   "mimetype": "text/x-python",
   "name": "python",
   "nbconvert_exporter": "python",
   "pygments_lexer": "ipython3",
   "version": "3.11.5"
  }
 },
 "nbformat": 4,
 "nbformat_minor": 5
}
