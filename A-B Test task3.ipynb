{
 "cells": [
  {
   "cell_type": "code",
   "execution_count": 1,
   "id": "cb15c961-7f90-496b-914d-024745dad6eb",
   "metadata": {},
   "outputs": [],
   "source": [
    "import pandas as pd\n",
    "import numpy as np\n",
    "import matplotlib.pyplot as plt\n",
    "import seaborn as sns"
   ]
  },
  {
   "cell_type": "code",
   "execution_count": 2,
   "id": "a6b6b474-3dc8-4486-bf07-4979150dcf5e",
   "metadata": {},
   "outputs": [
    {
     "data": {
      "text/html": [
       "<div>\n",
       "<style scoped>\n",
       "    .dataframe tbody tr th:only-of-type {\n",
       "        vertical-align: middle;\n",
       "    }\n",
       "\n",
       "    .dataframe tbody tr th {\n",
       "        vertical-align: top;\n",
       "    }\n",
       "\n",
       "    .dataframe thead th {\n",
       "        text-align: right;\n",
       "    }\n",
       "</style>\n",
       "<table border=\"1\" class=\"dataframe\">\n",
       "  <thead>\n",
       "    <tr style=\"text-align: right;\">\n",
       "      <th></th>\n",
       "      <th>user_id</th>\n",
       "      <th>timestamp</th>\n",
       "      <th>test_group</th>\n",
       "      <th>conversion</th>\n",
       "    </tr>\n",
       "  </thead>\n",
       "  <tbody>\n",
       "    <tr>\n",
       "      <th>0</th>\n",
       "      <td>7f6833e6-1141-4f20-b4b2-f1e31019b1fd</td>\n",
       "      <td>2023-07-04 4:40:56</td>\n",
       "      <td>a</td>\n",
       "      <td>0</td>\n",
       "    </tr>\n",
       "    <tr>\n",
       "      <th>1</th>\n",
       "      <td>e6a6e960-d3f3-4074-a516-ba1e609b211e</td>\n",
       "      <td>2023-07-06 0:26:45</td>\n",
       "      <td>b</td>\n",
       "      <td>0</td>\n",
       "    </tr>\n",
       "    <tr>\n",
       "      <th>2</th>\n",
       "      <td>4d3fbfa5-6847-410a-bac2-477f01d5f400</td>\n",
       "      <td>2023-07-10 20:24:34</td>\n",
       "      <td>b</td>\n",
       "      <td>0</td>\n",
       "    </tr>\n",
       "    <tr>\n",
       "      <th>3</th>\n",
       "      <td>361457d9-a044-48f7-981c-d67dc3861679</td>\n",
       "      <td>2023-07-20 7:04:50</td>\n",
       "      <td>b</td>\n",
       "      <td>0</td>\n",
       "    </tr>\n",
       "    <tr>\n",
       "      <th>4</th>\n",
       "      <td>285cd63d-7d03-427f-a062-1fa2dd2e77d6</td>\n",
       "      <td>2023-07-19 23:27:50</td>\n",
       "      <td>b</td>\n",
       "      <td>0</td>\n",
       "    </tr>\n",
       "    <tr>\n",
       "      <th>...</th>\n",
       "      <td>...</td>\n",
       "      <td>...</td>\n",
       "      <td>...</td>\n",
       "      <td>...</td>\n",
       "    </tr>\n",
       "    <tr>\n",
       "      <th>19993</th>\n",
       "      <td>6763ae9a-515c-473e-af00-0d9c4f6a5bc7</td>\n",
       "      <td>2023-07-06 3:27:37</td>\n",
       "      <td>b</td>\n",
       "      <td>0</td>\n",
       "    </tr>\n",
       "    <tr>\n",
       "      <th>19994</th>\n",
       "      <td>ac5600f2-4d16-4503-b115-f1a96728b6d1</td>\n",
       "      <td>2023-07-03 4:20:49</td>\n",
       "      <td>a</td>\n",
       "      <td>0</td>\n",
       "    </tr>\n",
       "    <tr>\n",
       "      <th>19995</th>\n",
       "      <td>5a8b2630-209b-4d83-b47f-0f3d9dd568a8</td>\n",
       "      <td>2023-07-23 16:23:49</td>\n",
       "      <td>b</td>\n",
       "      <td>1</td>\n",
       "    </tr>\n",
       "    <tr>\n",
       "      <th>19996</th>\n",
       "      <td>b572d68b-26ac-432b-9f88-83e0fdee4ca1</td>\n",
       "      <td>2023-07-03 18:26:21</td>\n",
       "      <td>b</td>\n",
       "      <td>0</td>\n",
       "    </tr>\n",
       "    <tr>\n",
       "      <th>19997</th>\n",
       "      <td>3d313adc-c8d6-43f2-8b4e-e267b194ff78</td>\n",
       "      <td>2023-07-19 13:15:38</td>\n",
       "      <td>b</td>\n",
       "      <td>0</td>\n",
       "    </tr>\n",
       "  </tbody>\n",
       "</table>\n",
       "<p>19998 rows × 4 columns</p>\n",
       "</div>"
      ],
      "text/plain": [
       "                                    user_id            timestamp test_group  \\\n",
       "0      7f6833e6-1141-4f20-b4b2-f1e31019b1fd   2023-07-04 4:40:56          a   \n",
       "1      e6a6e960-d3f3-4074-a516-ba1e609b211e   2023-07-06 0:26:45          b   \n",
       "2      4d3fbfa5-6847-410a-bac2-477f01d5f400  2023-07-10 20:24:34          b   \n",
       "3      361457d9-a044-48f7-981c-d67dc3861679   2023-07-20 7:04:50          b   \n",
       "4      285cd63d-7d03-427f-a062-1fa2dd2e77d6  2023-07-19 23:27:50          b   \n",
       "...                                     ...                  ...        ...   \n",
       "19993  6763ae9a-515c-473e-af00-0d9c4f6a5bc7   2023-07-06 3:27:37          b   \n",
       "19994  ac5600f2-4d16-4503-b115-f1a96728b6d1   2023-07-03 4:20:49          a   \n",
       "19995  5a8b2630-209b-4d83-b47f-0f3d9dd568a8  2023-07-23 16:23:49          b   \n",
       "19996  b572d68b-26ac-432b-9f88-83e0fdee4ca1  2023-07-03 18:26:21          b   \n",
       "19997  3d313adc-c8d6-43f2-8b4e-e267b194ff78  2023-07-19 13:15:38          b   \n",
       "\n",
       "       conversion  \n",
       "0               0  \n",
       "1               0  \n",
       "2               0  \n",
       "3               0  \n",
       "4               0  \n",
       "...           ...  \n",
       "19993           0  \n",
       "19994           0  \n",
       "19995           1  \n",
       "19996           0  \n",
       "19997           0  \n",
       "\n",
       "[19998 rows x 4 columns]"
      ]
     },
     "execution_count": 2,
     "metadata": {},
     "output_type": "execute_result"
    }
   ],
   "source": [
    "df = pd.read_csv (r\"C:\\Users\\Ali\\Documents\\python\\ab_test_data.csv\")\n",
    "df"
   ]
  },
  {
   "cell_type": "markdown",
   "id": "c6d4ce52-9eae-4c8c-9c0f-bae7a873885f",
   "metadata": {},
   "source": [
    "#### H0 (Null Hipotez): Yeni abonelik ekranı tasarımının abonelik satın alma oranı üzerinde hiçbir etkisi yoktur.\n",
    "\n",
    "#### H1 (Alternatif Hipotez): Yeni abonelik ekranı tasarımı, abonelik satın alma oranını arttırır.\n"
   ]
  },
  {
   "cell_type": "code",
   "execution_count": 4,
   "id": "1f7a1228-157c-45e0-a19c-f510a686914b",
   "metadata": {},
   "outputs": [
    {
     "data": {
      "text/plain": [
       "19998"
      ]
     },
     "execution_count": 4,
     "metadata": {},
     "output_type": "execute_result"
    }
   ],
   "source": [
    "df.user_id.nunique()"
   ]
  },
  {
   "cell_type": "markdown",
   "id": "35a3672d-e05f-44a7-bd0c-a0309bacb20d",
   "metadata": {},
   "source": [
    "## A ve B gruplarındaki kullanıcı sayısı;"
   ]
  },
  {
   "cell_type": "code",
   "execution_count": 6,
   "id": "32788679-7c64-4f9e-bb3d-41e038d8ab8b",
   "metadata": {},
   "outputs": [
    {
     "data": {
      "text/plain": [
       "test_group\n",
       "a    10013\n",
       "b     9985\n",
       "Name: count, dtype: int64"
      ]
     },
     "execution_count": 6,
     "metadata": {},
     "output_type": "execute_result"
    }
   ],
   "source": [
    "grup_sayilari = df['test_group'].value_counts()\n",
    "grup_sayilari"
   ]
  },
  {
   "cell_type": "markdown",
   "id": "fbe1a138-7264-4ffd-9653-c2cd669e946c",
   "metadata": {},
   "source": [
    "## A ve B gruplarındaki dönüşüm sayısı;"
   ]
  },
  {
   "cell_type": "code",
   "execution_count": 8,
   "id": "6a221c5f-6382-477d-882a-4ad4035cda2e",
   "metadata": {},
   "outputs": [
    {
     "data": {
      "text/plain": [
       "test_group\n",
       "a    611\n",
       "b    889\n",
       "Name: conversion, dtype: int64"
      ]
     },
     "execution_count": 8,
     "metadata": {},
     "output_type": "execute_result"
    }
   ],
   "source": [
    "donusum_sayisi  = df.groupby('test_group')['conversion'].sum()\n",
    "donusum_sayisi"
   ]
  },
  {
   "cell_type": "markdown",
   "id": "fd550e7e-27c8-4e32-902a-01a5902ea1fc",
   "metadata": {},
   "source": [
    " ## A ve B gruplarındaki dönüşüm oranı;"
   ]
  },
  {
   "cell_type": "code",
   "execution_count": 10,
   "id": "97f40f49-a998-436c-8c60-97d9114afdc1",
   "metadata": {},
   "outputs": [
    {
     "name": "stdout",
     "output_type": "stream",
     "text": [
      "test_group\n",
      "a    0.061021\n",
      "b    0.089034\n",
      "dtype: float64\n"
     ]
    }
   ],
   "source": [
    "donusum_orani = donusum_sayisi  / grup_sayilari\n",
    "print(donusum_orani)"
   ]
  },
  {
   "cell_type": "markdown",
   "id": "568e157f-4c5a-4c23-ae04-ad337549792c",
   "metadata": {},
   "source": [
    "## Testin başlangıç tarihi, bitiş tarihi ve testin süresi (gün olarak)"
   ]
  },
  {
   "cell_type": "code",
   "execution_count": 12,
   "id": "ab96bbbb-6de8-4d5e-8b88-0932a9b49ba4",
   "metadata": {},
   "outputs": [],
   "source": [
    "df['timestamp'] = pd.to_datetime(df['timestamp'])"
   ]
  },
  {
   "cell_type": "code",
   "execution_count": 13,
   "id": "bf600eee-52f3-4302-8ad7-edc9bc91b9e1",
   "metadata": {},
   "outputs": [],
   "source": [
    "baslangic_tarihi = df['timestamp'].min()\n",
    "bitis_tarihi = df['timestamp'].max()"
   ]
  },
  {
   "cell_type": "code",
   "execution_count": 14,
   "id": "fa394441-2da9-49fa-a810-cc40c5f08de7",
   "metadata": {},
   "outputs": [],
   "source": [
    "testin_suresi = (bitis_tarihi - baslangic_tarihi).days"
   ]
  },
  {
   "cell_type": "code",
   "execution_count": 15,
   "id": "3f6509de-ba1c-4362-8c29-871c3388a4b4",
   "metadata": {},
   "outputs": [
    {
     "name": "stdout",
     "output_type": "stream",
     "text": [
      " Testin başlangıç tarihi: 2023-07-03 01:42:34\n",
      " Testin bitiş tarihi: 2023-07-25 01:41:19\n",
      " Testin süresi: 21\n"
     ]
    }
   ],
   "source": [
    "print(f\" Testin başlangıç tarihi: {baslangic_tarihi}\")\n",
    "print(f\" Testin bitiş tarihi: {bitis_tarihi}\")\n",
    "print(f\" Testin süresi: {testin_suresi}\")"
   ]
  },
  {
   "cell_type": "markdown",
   "id": "849abe61-567f-4ef4-bb49-b0a2c4bfbe53",
   "metadata": {},
   "source": [
    "## Hipotez testleri için istediğiniz istatistiksel kriteri seçin ve istatistik değerlerini ve p-değerini hesaplayın. Null hipotezini reddedip edemeyeceğimizi kontrol edin. Hangi kriteri kullandığınızı belirtmeyi unutmayın"
   ]
  },
  {
   "cell_type": "markdown",
   "id": "da499bcd-b4b9-4c70-b3c5-54d9f44c51fe",
   "metadata": {},
   "source": [
    "#### T-Testini kullanacağım."
   ]
  },
  {
   "cell_type": "code",
   "execution_count": 18,
   "id": "3ba60150-6690-4f0f-be97-c03dd3c6c77d",
   "metadata": {},
   "outputs": [
    {
     "name": "stdout",
     "output_type": "stream",
     "text": [
      "t-statistic: -7.53, p-value: 0.0\n",
      "Fark istatistiksel olarak anlamlıdır. H0 reddedilir.\n"
     ]
    }
   ],
   "source": [
    "from scipy import stats\n",
    "\n",
    "alpha = 0.05\n",
    "\n",
    "statistic, pvalue = stats.ttest_ind(df[df['test_group'] == 'a']['conversion'],\n",
    "                                    df[df['test_group'] == 'b']['conversion'], \n",
    "                                    alternative='less') # a'nın mean değeri, b'nin mean değerinden daha küçük olduğu için less kullandım.\n",
    "\n",
    "print(f't-statistic: {round(statistic, 2)}, p-value: {round(pvalue, 2)}')\n",
    "\n",
    "if pvalue < alpha:\n",
    "    print('Fark istatistiksel olarak anlamlıdır. H0 reddedilir.')\n",
    "else:\n",
    "    print('Fark istatistiksel olarak anlamlı değildir. H0 reddedilemez.')\n"
   ]
  },
  {
   "cell_type": "markdown",
   "id": "ec430f96-2fd5-4f6e-9642-1dfb7e37132e",
   "metadata": {},
   "source": [
    "##### t-statistic: -7.53 sonucu bize A grubunun ortalamasının B grubunun ortalamasından daha küçük olduğunu gösterir."
   ]
  },
  {
   "cell_type": "markdown",
   "id": "b55ccf48-15f9-4995-a40f-ef3a38bbf1a1",
   "metadata": {},
   "source": [
    "## 95% güven aralıkları ile gruplar arasındaki ortalama değerlerin karşılaştırılması için bir görselleştirme oluşturun."
   ]
  },
  {
   "cell_type": "code",
   "execution_count": 21,
   "id": "64a35237-befe-4bcf-bd1c-1bbe36b7ca5f",
   "metadata": {},
   "outputs": [
    {
     "data": {
      "image/png": "[encoded data removed]",
      "text/plain": [
       "<Figure size 900x500 with 1 Axes>"
      ]
     },
     "metadata": {},
     "output_type": "display_data"
    }
   ],
   "source": [
    "import matplotlib.pyplot as plt\n",
    "import seaborn as sns\n",
    "\n",
    "plt.figure(figsize=(9, 5))\n",
    "sns.barplot(x=df['test_group'], \n",
    "            y=df['conversion'], \n",
    "            errorbar=('ci', 95)) #Güven Aralıkları\n",
    "\n",
    "plt.title('A/B Testin Sonucu')\n",
    "plt.xlabel('Grup')\n",
    "plt.ylabel('Ortalama')\n",
    "\n",
    "plt.show()\n",
    "\n"
   ]
  },
  {
   "cell_type": "markdown",
   "id": "aea155a7-c9cd-4913-b6ea-df6e9b3005f6",
   "metadata": {},
   "source": [
    "#### Grup B'nin (test grubunun) performansı Grup A'ya kıyasla daha yüksek, ve %95 güven aralığı dikkate alındığında, bu farkın istatistiksel olarak anlamlı olma ihtimali yüksek.  T-Testin sonucuna göre istatistik olarak anlamlı bir sonuç elde etmiştik."
   ]
  },
  {
   "cell_type": "markdown",
   "id": "8d1d576b-262b-47e8-84b9-05895e122034",
   "metadata": {},
   "source": [
    "## Bu konuda okuduğunuz önerilere göre A/B testinin sonuçları hakkında çıkarımlar hazırlayın."
   ]
  },
  {
   "cell_type": "markdown",
   "id": "d652880f-0456-471a-9846-c588b523039b",
   "metadata": {},
   "source": [
    "#### Test sonucunda Grup B'nin ortalama dönüşüm oranı, Grup A'ya göre da yüksek. Abonelik ekranının yeni tasarımının olumlu bir etki yarattığını gösteriyor.\n",
    "#### Grup B’nin başarılı olması, yeni tasarımın kullanıcılar üzerinde olumlu bir etki yarattığını gösteriyor. Bu sonuç, abonelik oranını artırma stratejisinde doğru yolda olunduğunu ve yeni tasarımın daha geniş çapta uygulanabileceğini gösteriyor."
   ]
  },
  {
   "cell_type": "markdown",
   "id": "6ce475a3-2262-4991-a8e2-c37f70ed348f",
   "metadata": {},
   "source": [
    "## Bonus Görevi\n",
    "\n",
    "## Zaman içinde dönüşüm oranının değişimini gösteren bir grafik oluşturun. Bu sefer olayın gerçekleşme zamanı ile ilgili verilerimizin olduğunu unutmayın."
   ]
  },
  {
   "cell_type": "code",
   "execution_count": 26,
   "id": "d2112aad-0e17-4f12-b0bf-575f68daefdb",
   "metadata": {},
   "outputs": [
    {
     "data": {
      "image/png": "[encoded data removed]",
      "text/plain": [
       "<Figure size 1000x600 with 1 Axes>"
      ]
     },
     "metadata": {},
     "output_type": "display_data"
    }
   ],
   "source": [
    "df['timestamp'] = pd.to_datetime(df['timestamp'])\n",
    "df = df.sort_values(by='timestamp').reset_index(drop=True)\n",
    "cumulative_metric_a = df[df['test_group'] == 'a']['conversion'].expanding().mean().reset_index(drop=True)\n",
    "cumulative_metric_b = df[df['test_group'] == 'b']['conversion'].expanding().mean().reset_index(drop=True)\n",
    "plt.figure(figsize=(10, 6))\n",
    "plt.plot(cumulative_metric_a, label='Group A', color='red')\n",
    "plt.plot(cumulative_metric_b, label='Group B', color='blue')\n",
    "plt.title('Kümülatif Dönüşüm Oranı Karşılaştırması', fontsize=14)\n",
    "plt.xlabel('Zaman', fontsize=10)\n",
    "plt.ylabel('Kümülatif Dönüşüm Oranı', fontsize=10)\n",
    "plt.legend()\n",
    "plt.show()"
   ]
  },
  {
   "cell_type": "code",
   "execution_count": null,
   "id": "abed7d09-2adc-4999-ade6-d9cff2bb684d",
   "metadata": {},
   "outputs": [],
   "source": []
  }
 ],
 "metadata": {
  "kernelspec": {
   "display_name": "Python 3 (ipykernel)",
   "language": "python",
   "name": "python3"
  },
  "language_info": {
   "codemirror_mode": {
    "name": "ipython",
    "version": 3
   },
   "file_extension": ".py",
   "mimetype": "text/x-python",
   "name": "python",
   "nbconvert_exporter": "python",
   "pygments_lexer": "ipython3",
   "version": "3.11.5"
  }
 },
 "nbformat": 4,
 "nbformat_minor": 5
}
