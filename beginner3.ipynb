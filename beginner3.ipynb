{
 "cells": [
  {
   "cell_type": "code",
   "execution_count": 2,
   "id": "f1162485",
   "metadata": {},
   "outputs": [],
   "source": [
    "def my_func():\n",
    "    print(\"Hello world!\")"
   ]
  },
  {
   "cell_type": "code",
   "execution_count": 4,
   "id": "f481fe6f",
   "metadata": {},
   "outputs": [
    {
     "name": "stdout",
     "output_type": "stream",
     "text": [
      "Hello world!\n"
     ]
    }
   ],
   "source": [
    "my_func()"
   ]
  },
  {
   "cell_type": "code",
   "execution_count": 6,
   "id": "d2522cd4",
   "metadata": {},
   "outputs": [],
   "source": [
    "def add(a, b):\n",
    "    if a > 2:\n",
    "        print(a + b)\n",
    "    else: \n",
    "        print(\"a 2'den küçük\")\n",
    "    "
   ]
  },
  {
   "cell_type": "code",
   "execution_count": 8,
   "id": "8279eabe",
   "metadata": {},
   "outputs": [
    {
     "name": "stdout",
     "output_type": "stream",
     "text": [
      "a 2'den küçük\n"
     ]
    }
   ],
   "source": [
    "add(1, 4)"
   ]
  },
  {
   "cell_type": "code",
   "execution_count": 10,
   "id": "775b28cc",
   "metadata": {},
   "outputs": [
    {
     "name": "stdout",
     "output_type": "stream",
     "text": [
      "9\n"
     ]
    }
   ],
   "source": [
    "add(8, 1)"
   ]
  },
  {
   "cell_type": "code",
   "execution_count": 12,
   "id": "e23d810c",
   "metadata": {},
   "outputs": [],
   "source": [
    "def sum(a, b):\n",
    "    sum = a + b\n",
    "    return sum"
   ]
  },
  {
   "cell_type": "code",
   "execution_count": 14,
   "id": "62a60e87",
   "metadata": {},
   "outputs": [],
   "source": [
    "a = sum(2,3)"
   ]
  },
  {
   "cell_type": "code",
   "execution_count": 16,
   "id": "fe3a40fe",
   "metadata": {},
   "outputs": [
    {
     "data": {
      "text/plain": [
       "5"
      ]
     },
     "execution_count": 16,
     "metadata": {},
     "output_type": "execute_result"
    }
   ],
   "source": [
    "a"
   ]
  },
  {
   "cell_type": "code",
   "execution_count": 18,
   "id": "940905a0",
   "metadata": {},
   "outputs": [],
   "source": [
    "x = a + 10"
   ]
  },
  {
   "cell_type": "code",
   "execution_count": 20,
   "id": "46563407",
   "metadata": {},
   "outputs": [
    {
     "data": {
      "text/plain": [
       "15"
      ]
     },
     "execution_count": 20,
     "metadata": {},
     "output_type": "execute_result"
    }
   ],
   "source": [
    "x"
   ]
  },
  {
   "cell_type": "code",
   "execution_count": 22,
   "id": "99a72160",
   "metadata": {},
   "outputs": [],
   "source": [
    "def func(a, b= 5, c= 10):\n",
    "    print(\"a eşittir\", a, \"b eşittir\", b, \"c eşittir\", c)"
   ]
  },
  {
   "cell_type": "code",
   "execution_count": 24,
   "id": "a22ddc37",
   "metadata": {},
   "outputs": [
    {
     "name": "stdout",
     "output_type": "stream",
     "text": [
      "a eşittir 1 b eşittir 6 c eşittir 11\n"
     ]
    }
   ],
   "source": [
    "func(1, 6, 11)"
   ]
  },
  {
   "cell_type": "code",
   "execution_count": 26,
   "id": "3d5156ee",
   "metadata": {},
   "outputs": [],
   "source": [
    "def say(message, times = 2):\n",
    "    print(message * times)"
   ]
  },
  {
   "cell_type": "code",
   "execution_count": 28,
   "id": "29bed766",
   "metadata": {
    "scrolled": true
   },
   "outputs": [
    {
     "name": "stdout",
     "output_type": "stream",
     "text": [
      "20\n"
     ]
    }
   ],
   "source": [
    "say(2, 10)"
   ]
  },
  {
   "cell_type": "code",
   "execution_count": 30,
   "id": "6f53d324",
   "metadata": {},
   "outputs": [],
   "source": [
    "def total(a = 5, *numbers, **phone_book):\n",
    "    for single_items in numbers:\n",
    "        print(\"single items\", single_items)\n",
    "    for key , value in phone_book.items():\n",
    "        print(key, value)\n",
    "    print(\"a=\", a)"
   ]
  },
  {
   "cell_type": "code",
   "execution_count": 32,
   "id": "9a4a0906",
   "metadata": {},
   "outputs": [
    {
     "name": "stdout",
     "output_type": "stream",
     "text": [
      "single items 2\n",
      "single items 4\n",
      "single items 6\n",
      "single items 15\n",
      "single items 30\n",
      "Jack 18\n",
      "Brady 25\n",
      "Kim 35\n",
      "a= 10\n"
     ]
    }
   ],
   "source": [
    "total(10, 2, 4, 6, 15, 30, Jack = 18, Brady = 25, Kim = 35)"
   ]
  },
  {
   "cell_type": "code",
   "execution_count": 34,
   "id": "0b98c424",
   "metadata": {},
   "outputs": [],
   "source": [
    "#lambda fonksiyonları"
   ]
  },
  {
   "cell_type": "code",
   "execution_count": 36,
   "id": "5eccbfe0",
   "metadata": {},
   "outputs": [],
   "source": [
    "sum_lambda = lambda x ,y: x + y"
   ]
  },
  {
   "cell_type": "code",
   "execution_count": 38,
   "id": "c56191b9",
   "metadata": {},
   "outputs": [],
   "source": [
    "g = sum_lambda(2, 5)"
   ]
  },
  {
   "cell_type": "code",
   "execution_count": 40,
   "id": "f8702b87",
   "metadata": {},
   "outputs": [
    {
     "data": {
      "text/plain": [
       "7"
      ]
     },
     "execution_count": 40,
     "metadata": {},
     "output_type": "execute_result"
    }
   ],
   "source": [
    "g"
   ]
  },
  {
   "cell_type": "code",
   "execution_count": 42,
   "id": "a99541a5",
   "metadata": {},
   "outputs": [],
   "source": [
    "v = 10"
   ]
  },
  {
   "cell_type": "code",
   "execution_count": 44,
   "id": "459c138f",
   "metadata": {},
   "outputs": [
    {
     "data": {
      "text/plain": [
       "15"
      ]
     },
     "execution_count": 44,
     "metadata": {},
     "output_type": "execute_result"
    }
   ],
   "source": [
    "sum_lambda(v, 5)"
   ]
  },
  {
   "cell_type": "code",
   "execution_count": 46,
   "id": "5f02cb6b",
   "metadata": {},
   "outputs": [],
   "source": [
    "def create_string():\n",
    "    new_string = \"yeni string\"\n",
    "    print(new_string)"
   ]
  },
  {
   "cell_type": "code",
   "execution_count": 48,
   "id": "1c9f9942",
   "metadata": {},
   "outputs": [
    {
     "name": "stdout",
     "output_type": "stream",
     "text": [
      "yeni string\n"
     ]
    }
   ],
   "source": [
    "create_string()"
   ]
  },
  {
   "cell_type": "code",
   "execution_count": 50,
   "id": "3a4fc8f7",
   "metadata": {},
   "outputs": [
    {
     "ename": "NameError",
     "evalue": "name 'new_string' is not defined",
     "output_type": "error",
     "traceback": [
      "\u001b[1;31m---------------------------------------------------------------------------\u001b[0m",
      "\u001b[1;31mNameError\u001b[0m                                 Traceback (most recent call last)",
      "Cell \u001b[1;32mIn[50], line 1\u001b[0m\n\u001b[1;32m----> 1\u001b[0m \u001b[38;5;28mprint\u001b[39m(new_string)\n",
      "\u001b[1;31mNameError\u001b[0m: name 'new_string' is not defined"
     ]
    }
   ],
   "source": [
    "print(new_string)"
   ]
  },
  {
   "cell_type": "code",
   "execution_count": null,
   "id": "ddaffa17",
   "metadata": {},
   "outputs": [],
   "source": [
    "def create_string():\n",
    "    global new_string\n",
    "    new_string = \"yeni string\"\n",
    "    print(new_string)"
   ]
  },
  {
   "cell_type": "code",
   "execution_count": 53,
   "id": "88e198f3",
   "metadata": {},
   "outputs": [
    {
     "name": "stdout",
     "output_type": "stream",
     "text": [
      "yeni string\n"
     ]
    }
   ],
   "source": [
    "create_string()"
   ]
  },
  {
   "cell_type": "code",
   "execution_count": 55,
   "id": "1b908ff8",
   "metadata": {},
   "outputs": [
    {
     "ename": "NameError",
     "evalue": "name 'new_string' is not defined",
     "output_type": "error",
     "traceback": [
      "\u001b[1;31m---------------------------------------------------------------------------\u001b[0m",
      "\u001b[1;31mNameError\u001b[0m                                 Traceback (most recent call last)",
      "Cell \u001b[1;32mIn[55], line 1\u001b[0m\n\u001b[1;32m----> 1\u001b[0m \u001b[38;5;28mprint\u001b[39m(new_string)\n",
      "\u001b[1;31mNameError\u001b[0m: name 'new_string' is not defined"
     ]
    }
   ],
   "source": [
    "print(new_string)"
   ]
  },
  {
   "cell_type": "code",
   "execution_count": 57,
   "id": "412e203b",
   "metadata": {},
   "outputs": [],
   "source": [
    "x = 5 \n",
    "y = 19\n",
    "\n",
    "def sum():\n",
    "    print(x+ y)"
   ]
  },
  {
   "cell_type": "code",
   "execution_count": 59,
   "id": "71959146",
   "metadata": {},
   "outputs": [
    {
     "name": "stdout",
     "output_type": "stream",
     "text": [
      "24\n"
     ]
    }
   ],
   "source": [
    "sum()"
   ]
  },
  {
   "cell_type": "code",
   "execution_count": 61,
   "id": "f01f41f4",
   "metadata": {},
   "outputs": [],
   "source": [
    "x = 5 \n",
    "y = 19\n",
    "\n",
    "def sum():\n",
    "    global x\n",
    "    x = x + y\n",
    "    print(f\"x= {x}, y= {y}\")"
   ]
  },
  {
   "cell_type": "code",
   "execution_count": 63,
   "id": "1e8f1284",
   "metadata": {},
   "outputs": [
    {
     "name": "stdout",
     "output_type": "stream",
     "text": [
      "fonksiyonu çalıştırmadan önce x = 5, y = 19\n",
      "x= 24, y= 19\n",
      "fonksiyonu çalıştırdıktan sonra x = 24, y = 19\n"
     ]
    }
   ],
   "source": [
    "print(f\"fonksiyonu çalıştırmadan önce x = {x}, y = {y}\")\n",
    "\n",
    "sum()\n",
    "\n",
    "print(f\"fonksiyonu çalıştırdıktan sonra x = {x}, y = {y}\")"
   ]
  },
  {
   "cell_type": "code",
   "execution_count": 65,
   "id": "5f6aeda8",
   "metadata": {},
   "outputs": [
    {
     "data": {
      "text/plain": [
       "24"
      ]
     },
     "execution_count": 65,
     "metadata": {},
     "output_type": "execute_result"
    }
   ],
   "source": [
    "x"
   ]
  },
  {
   "cell_type": "code",
   "execution_count": null,
   "id": "f2b27866",
   "metadata": {},
   "outputs": [],
   "source": []
  },
  {
   "cell_type": "code",
   "execution_count": 68,
   "id": "eaa0cd74",
   "metadata": {},
   "outputs": [],
   "source": [
    "new_string = \"new\""
   ]
  },
  {
   "cell_type": "code",
   "execution_count": 70,
   "id": "4b65ef10",
   "metadata": {},
   "outputs": [],
   "source": [
    "def create_string():\n",
    "    new_string = \"yeni string\"\n",
    "    return new_string"
   ]
  },
  {
   "cell_type": "code",
   "execution_count": 72,
   "id": "40ba730d",
   "metadata": {},
   "outputs": [
    {
     "data": {
      "text/plain": [
       "'yeni string'"
      ]
     },
     "execution_count": 72,
     "metadata": {},
     "output_type": "execute_result"
    }
   ],
   "source": [
    "create_string()"
   ]
  },
  {
   "cell_type": "code",
   "execution_count": 74,
   "id": "b4520a1d",
   "metadata": {},
   "outputs": [],
   "source": [
    "a = create_string()"
   ]
  },
  {
   "cell_type": "code",
   "execution_count": 76,
   "id": "fa1efbfd",
   "metadata": {},
   "outputs": [
    {
     "data": {
      "text/plain": [
       "'yeni string'"
      ]
     },
     "execution_count": 76,
     "metadata": {},
     "output_type": "execute_result"
    }
   ],
   "source": [
    "a"
   ]
  },
  {
   "cell_type": "code",
   "execution_count": 78,
   "id": "01f28a5f",
   "metadata": {},
   "outputs": [
    {
     "data": {
      "text/plain": [
       "'new'"
      ]
     },
     "execution_count": 78,
     "metadata": {},
     "output_type": "execute_result"
    }
   ],
   "source": [
    "new_string"
   ]
  },
  {
   "cell_type": "code",
   "execution_count": 80,
   "id": "ee060fd5",
   "metadata": {},
   "outputs": [],
   "source": [
    "def create_string():\n",
    "    global new_string\n",
    "    new_string = \"yeni string\"\n",
    "    return new_string\n",
    "    "
   ]
  },
  {
   "cell_type": "code",
   "execution_count": 82,
   "id": "a297a009",
   "metadata": {},
   "outputs": [],
   "source": [
    "a = create_string()"
   ]
  },
  {
   "cell_type": "code",
   "execution_count": 84,
   "id": "99d1e26b",
   "metadata": {},
   "outputs": [
    {
     "name": "stdout",
     "output_type": "stream",
     "text": [
      "yeni string\n"
     ]
    }
   ],
   "source": [
    "print(a)"
   ]
  },
  {
   "cell_type": "code",
   "execution_count": 86,
   "id": "2abbcb27",
   "metadata": {},
   "outputs": [
    {
     "data": {
      "text/plain": [
       "'yeni string'"
      ]
     },
     "execution_count": 86,
     "metadata": {},
     "output_type": "execute_result"
    }
   ],
   "source": [
    "new_string"
   ]
  },
  {
   "cell_type": "markdown",
   "id": "edfe8430",
   "metadata": {},
   "source": [
    "# Kütüphaneler"
   ]
  },
  {
   "cell_type": "code",
   "execution_count": 89,
   "id": "4a29b4ab",
   "metadata": {},
   "outputs": [],
   "source": [
    "import math"
   ]
  },
  {
   "cell_type": "code",
   "execution_count": 91,
   "id": "0cc3d417",
   "metadata": {},
   "outputs": [
    {
     "name": "stdout",
     "output_type": "stream",
     "text": [
      "4.0\n"
     ]
    }
   ],
   "source": [
    "print(math.sqrt(16))"
   ]
  },
  {
   "cell_type": "code",
   "execution_count": 93,
   "id": "b8f2a254",
   "metadata": {},
   "outputs": [],
   "source": [
    "from math import sqrt"
   ]
  },
  {
   "cell_type": "code",
   "execution_count": 95,
   "id": "f7c59a57",
   "metadata": {},
   "outputs": [
    {
     "data": {
      "text/plain": [
       "8.0"
      ]
     },
     "execution_count": 95,
     "metadata": {},
     "output_type": "execute_result"
    }
   ],
   "source": [
    "sqrt(64)"
   ]
  },
  {
   "cell_type": "code",
   "execution_count": 97,
   "id": "a59e0bc8",
   "metadata": {},
   "outputs": [],
   "source": [
    "import math as m"
   ]
  },
  {
   "cell_type": "code",
   "execution_count": 99,
   "id": "aaaf99e3",
   "metadata": {},
   "outputs": [
    {
     "name": "stdout",
     "output_type": "stream",
     "text": [
      "8.0\n"
     ]
    }
   ],
   "source": [
    "print(m.sqrt(64))"
   ]
  },
  {
   "cell_type": "code",
   "execution_count": 101,
   "id": "14c07197",
   "metadata": {},
   "outputs": [],
   "source": [
    "import numpy as np\n",
    "import pandas as pd\n",
    "import matplotlib.pyplot as plt\n",
    "import seaborn as sns"
   ]
  },
  {
   "cell_type": "code",
   "execution_count": 110,
   "id": "62031932",
   "metadata": {},
   "outputs": [],
   "source": [
    "# !pip3 install numpy"
   ]
  },
  {
   "cell_type": "markdown",
   "id": "7303785c",
   "metadata": {},
   "source": [
    "## numpy"
   ]
  },
  {
   "cell_type": "code",
   "execution_count": 113,
   "id": "37a3a701",
   "metadata": {},
   "outputs": [],
   "source": [
    "import numpy as np"
   ]
  },
  {
   "cell_type": "code",
   "execution_count": 115,
   "id": "69c89b90",
   "metadata": {},
   "outputs": [],
   "source": [
    "a = np.array([1,2,3,4,5])"
   ]
  },
  {
   "cell_type": "code",
   "execution_count": 117,
   "id": "6b17832d",
   "metadata": {},
   "outputs": [
    {
     "data": {
      "text/plain": [
       "array([1, 2, 3, 4, 5])"
      ]
     },
     "execution_count": 117,
     "metadata": {},
     "output_type": "execute_result"
    }
   ],
   "source": [
    "a"
   ]
  },
  {
   "cell_type": "code",
   "execution_count": 119,
   "id": "94d63153",
   "metadata": {},
   "outputs": [
    {
     "name": "stdout",
     "output_type": "stream",
     "text": [
      "[1 2 3 4 5]\n"
     ]
    }
   ],
   "source": [
    "print(a)"
   ]
  },
  {
   "cell_type": "code",
   "execution_count": 121,
   "id": "85d7e7d6",
   "metadata": {},
   "outputs": [
    {
     "data": {
      "text/plain": [
       "1"
      ]
     },
     "execution_count": 121,
     "metadata": {},
     "output_type": "execute_result"
    }
   ],
   "source": [
    "a[0]"
   ]
  },
  {
   "cell_type": "code",
   "execution_count": 123,
   "id": "fff49ba6",
   "metadata": {},
   "outputs": [],
   "source": [
    "m = np.array([[1,2,3], [4,5,6]])"
   ]
  },
  {
   "cell_type": "code",
   "execution_count": 125,
   "id": "5603a6e5",
   "metadata": {},
   "outputs": [
    {
     "data": {
      "text/plain": [
       "array([[1, 2, 3],\n",
       "       [4, 5, 6]])"
      ]
     },
     "execution_count": 125,
     "metadata": {},
     "output_type": "execute_result"
    }
   ],
   "source": [
    "m"
   ]
  },
  {
   "cell_type": "code",
   "execution_count": 127,
   "id": "f14ff73d",
   "metadata": {},
   "outputs": [],
   "source": [
    "a = np.array([1.3,2.6,3,4,5],dtype = float)\n",
    "m = np.array([[1,2,3],[4,5,6]],dtype = int)"
   ]
  },
  {
   "cell_type": "code",
   "execution_count": 129,
   "id": "87b786a3",
   "metadata": {},
   "outputs": [
    {
     "name": "stdout",
     "output_type": "stream",
     "text": [
      "(5,)\n"
     ]
    }
   ],
   "source": [
    "print(a.shape)"
   ]
  },
  {
   "cell_type": "code",
   "execution_count": 131,
   "id": "215e1986",
   "metadata": {},
   "outputs": [
    {
     "name": "stdout",
     "output_type": "stream",
     "text": [
      "(2, 3)\n"
     ]
    }
   ],
   "source": [
    "print(m.shape)"
   ]
  },
  {
   "cell_type": "code",
   "execution_count": 133,
   "id": "7f73f3a5",
   "metadata": {},
   "outputs": [
    {
     "name": "stdout",
     "output_type": "stream",
     "text": [
      "2\n"
     ]
    }
   ],
   "source": [
    "print(m.ndim)"
   ]
  },
  {
   "cell_type": "code",
   "execution_count": 135,
   "id": "e290caf8",
   "metadata": {},
   "outputs": [
    {
     "name": "stdout",
     "output_type": "stream",
     "text": [
      "5\n",
      "6\n"
     ]
    }
   ],
   "source": [
    "print(a.size)\n",
    "print(m.size)"
   ]
  },
  {
   "cell_type": "code",
   "execution_count": 137,
   "id": "981ebd46",
   "metadata": {},
   "outputs": [
    {
     "name": "stdout",
     "output_type": "stream",
     "text": [
      "float64\n",
      "int32\n"
     ]
    }
   ],
   "source": [
    "print(a.dtype)\n",
    "print(m.dtype)"
   ]
  },
  {
   "cell_type": "code",
   "execution_count": 139,
   "id": "77568da8",
   "metadata": {},
   "outputs": [
    {
     "name": "stdout",
     "output_type": "stream",
     "text": [
      "8\n",
      "4\n"
     ]
    }
   ],
   "source": [
    "print(a.itemsize)\n",
    "print(m.itemsize)"
   ]
  },
  {
   "cell_type": "code",
   "execution_count": 141,
   "id": "c8854c78",
   "metadata": {},
   "outputs": [],
   "source": [
    "a = np.ones((5,))"
   ]
  },
  {
   "cell_type": "code",
   "execution_count": 143,
   "id": "6922f691",
   "metadata": {},
   "outputs": [
    {
     "data": {
      "text/plain": [
       "array([1., 1., 1., 1., 1.])"
      ]
     },
     "execution_count": 143,
     "metadata": {},
     "output_type": "execute_result"
    }
   ],
   "source": [
    "a"
   ]
  },
  {
   "cell_type": "code",
   "execution_count": 145,
   "id": "7a0298be",
   "metadata": {},
   "outputs": [],
   "source": [
    "m = np.ones((2,3), dtype = int)"
   ]
  },
  {
   "cell_type": "code",
   "execution_count": 147,
   "id": "2128d10a",
   "metadata": {},
   "outputs": [
    {
     "data": {
      "text/plain": [
       "array([[1, 1, 1],\n",
       "       [1, 1, 1]])"
      ]
     },
     "execution_count": 147,
     "metadata": {},
     "output_type": "execute_result"
    }
   ],
   "source": [
    "m"
   ]
  },
  {
   "cell_type": "code",
   "execution_count": 149,
   "id": "8ac65e75",
   "metadata": {},
   "outputs": [],
   "source": [
    "a = np.zeros((5,))"
   ]
  },
  {
   "cell_type": "code",
   "execution_count": 151,
   "id": "f84c07e2",
   "metadata": {},
   "outputs": [
    {
     "data": {
      "text/plain": [
       "array([0., 0., 0., 0., 0.])"
      ]
     },
     "execution_count": 151,
     "metadata": {},
     "output_type": "execute_result"
    }
   ],
   "source": [
    "a"
   ]
  },
  {
   "cell_type": "code",
   "execution_count": 153,
   "id": "c4ffbfd5",
   "metadata": {},
   "outputs": [
    {
     "name": "stdout",
     "output_type": "stream",
     "text": [
      "[[0 0 0 0 0]\n",
      " [0 0 0 0 0]\n",
      " [0 0 0 0 0]\n",
      " [0 0 0 0 0]\n",
      " [0 0 0 0 0]]\n"
     ]
    }
   ],
   "source": [
    "m = np.zeros((5,5), dtype = int)\n",
    "print(m)"
   ]
  },
  {
   "cell_type": "code",
   "execution_count": 155,
   "id": "bf01b851",
   "metadata": {},
   "outputs": [],
   "source": [
    "i = np.identity(20, dtype = int)"
   ]
  },
  {
   "cell_type": "code",
   "execution_count": 157,
   "id": "d08d3478",
   "metadata": {},
   "outputs": [
    {
     "data": {
      "text/plain": [
       "array([[1, 0, 0, 0, 0, 0, 0, 0, 0, 0, 0, 0, 0, 0, 0, 0, 0, 0, 0, 0],\n",
       "       [0, 1, 0, 0, 0, 0, 0, 0, 0, 0, 0, 0, 0, 0, 0, 0, 0, 0, 0, 0],\n",
       "       [0, 0, 1, 0, 0, 0, 0, 0, 0, 0, 0, 0, 0, 0, 0, 0, 0, 0, 0, 0],\n",
       "       [0, 0, 0, 1, 0, 0, 0, 0, 0, 0, 0, 0, 0, 0, 0, 0, 0, 0, 0, 0],\n",
       "       [0, 0, 0, 0, 1, 0, 0, 0, 0, 0, 0, 0, 0, 0, 0, 0, 0, 0, 0, 0],\n",
       "       [0, 0, 0, 0, 0, 1, 0, 0, 0, 0, 0, 0, 0, 0, 0, 0, 0, 0, 0, 0],\n",
       "       [0, 0, 0, 0, 0, 0, 1, 0, 0, 0, 0, 0, 0, 0, 0, 0, 0, 0, 0, 0],\n",
       "       [0, 0, 0, 0, 0, 0, 0, 1, 0, 0, 0, 0, 0, 0, 0, 0, 0, 0, 0, 0],\n",
       "       [0, 0, 0, 0, 0, 0, 0, 0, 1, 0, 0, 0, 0, 0, 0, 0, 0, 0, 0, 0],\n",
       "       [0, 0, 0, 0, 0, 0, 0, 0, 0, 1, 0, 0, 0, 0, 0, 0, 0, 0, 0, 0],\n",
       "       [0, 0, 0, 0, 0, 0, 0, 0, 0, 0, 1, 0, 0, 0, 0, 0, 0, 0, 0, 0],\n",
       "       [0, 0, 0, 0, 0, 0, 0, 0, 0, 0, 0, 1, 0, 0, 0, 0, 0, 0, 0, 0],\n",
       "       [0, 0, 0, 0, 0, 0, 0, 0, 0, 0, 0, 0, 1, 0, 0, 0, 0, 0, 0, 0],\n",
       "       [0, 0, 0, 0, 0, 0, 0, 0, 0, 0, 0, 0, 0, 1, 0, 0, 0, 0, 0, 0],\n",
       "       [0, 0, 0, 0, 0, 0, 0, 0, 0, 0, 0, 0, 0, 0, 1, 0, 0, 0, 0, 0],\n",
       "       [0, 0, 0, 0, 0, 0, 0, 0, 0, 0, 0, 0, 0, 0, 0, 1, 0, 0, 0, 0],\n",
       "       [0, 0, 0, 0, 0, 0, 0, 0, 0, 0, 0, 0, 0, 0, 0, 0, 1, 0, 0, 0],\n",
       "       [0, 0, 0, 0, 0, 0, 0, 0, 0, 0, 0, 0, 0, 0, 0, 0, 0, 1, 0, 0],\n",
       "       [0, 0, 0, 0, 0, 0, 0, 0, 0, 0, 0, 0, 0, 0, 0, 0, 0, 0, 1, 0],\n",
       "       [0, 0, 0, 0, 0, 0, 0, 0, 0, 0, 0, 0, 0, 0, 0, 0, 0, 0, 0, 1]])"
      ]
     },
     "execution_count": 157,
     "metadata": {},
     "output_type": "execute_result"
    }
   ],
   "source": [
    "i"
   ]
  },
  {
   "cell_type": "code",
   "execution_count": 159,
   "id": "5e8605ae",
   "metadata": {},
   "outputs": [
    {
     "name": "stdout",
     "output_type": "stream",
     "text": [
      "[0 1 2 3 4 5 6 7 8 9]\n"
     ]
    }
   ],
   "source": [
    "a = np.arange(10)\n",
    "print(a)"
   ]
  },
  {
   "cell_type": "code",
   "execution_count": 161,
   "id": "1c4fd25c",
   "metadata": {},
   "outputs": [
    {
     "name": "stdout",
     "output_type": "stream",
     "text": [
      "[1 3 5 7 9]\n"
     ]
    }
   ],
   "source": [
    "a = np.arange(1, 10, 2)\n",
    "print(a)"
   ]
  },
  {
   "cell_type": "code",
   "execution_count": 163,
   "id": "fe8cbe30",
   "metadata": {},
   "outputs": [],
   "source": [
    "a = np.random.random(3)"
   ]
  },
  {
   "cell_type": "code",
   "execution_count": 165,
   "id": "3d356ab6",
   "metadata": {},
   "outputs": [
    {
     "data": {
      "text/plain": [
       "array([0.74681366, 0.01493174, 0.15689533])"
      ]
     },
     "execution_count": 165,
     "metadata": {},
     "output_type": "execute_result"
    }
   ],
   "source": [
    "a"
   ]
  },
  {
   "cell_type": "code",
   "execution_count": 167,
   "id": "f7ec770a",
   "metadata": {},
   "outputs": [
    {
     "name": "stdout",
     "output_type": "stream",
     "text": [
      "[[0.84833741 0.70983377 0.64898308 0.74091921]\n",
      " [0.56065295 0.83463478 0.93371731 0.46207854]\n",
      " [0.00988382 0.09795228 0.45166527 0.73508481]]\n"
     ]
    }
   ],
   "source": [
    "a = np.random.random((3,4))\n",
    "print(a)"
   ]
  },
  {
   "cell_type": "code",
   "execution_count": 169,
   "id": "ecdb6751",
   "metadata": {},
   "outputs": [
    {
     "name": "stdout",
     "output_type": "stream",
     "text": [
      "[0 1 2 3 4 5 6 7 8 9]\n"
     ]
    }
   ],
   "source": [
    "a = np.arange(10)\n",
    "print(a)"
   ]
  },
  {
   "cell_type": "code",
   "execution_count": 171,
   "id": "b63aaadf",
   "metadata": {},
   "outputs": [
    {
     "data": {
      "text/plain": [
       "5"
      ]
     },
     "execution_count": 171,
     "metadata": {},
     "output_type": "execute_result"
    }
   ],
   "source": [
    "a[5]"
   ]
  },
  {
   "cell_type": "code",
   "execution_count": 173,
   "id": "1fc3075d",
   "metadata": {},
   "outputs": [
    {
     "name": "stdout",
     "output_type": "stream",
     "text": [
      "[1 2 3]\n"
     ]
    }
   ],
   "source": [
    "print(a[1:4])"
   ]
  },
  {
   "cell_type": "code",
   "execution_count": 175,
   "id": "80edda70",
   "metadata": {},
   "outputs": [
    {
     "name": "stdout",
     "output_type": "stream",
     "text": [
      "[1 2 3 4 5 6 7 8 9]\n"
     ]
    }
   ],
   "source": [
    "print(a[1:])"
   ]
  },
  {
   "cell_type": "code",
   "execution_count": 177,
   "id": "1534d209",
   "metadata": {},
   "outputs": [
    {
     "name": "stdout",
     "output_type": "stream",
     "text": [
      "[0 1 2 3 4]\n"
     ]
    }
   ],
   "source": [
    "print(a[:5])"
   ]
  },
  {
   "cell_type": "code",
   "execution_count": 179,
   "id": "4fbdcf98",
   "metadata": {},
   "outputs": [
    {
     "name": "stdout",
     "output_type": "stream",
     "text": [
      "[2 3 4 5]\n"
     ]
    }
   ],
   "source": [
    "print(a[2:6])"
   ]
  },
  {
   "cell_type": "code",
   "execution_count": 181,
   "id": "d5c8d693",
   "metadata": {},
   "outputs": [],
   "source": [
    "m = np.array([[1,2,3],[4,5,6],[7,8,9]])"
   ]
  },
  {
   "cell_type": "code",
   "execution_count": 183,
   "id": "358084d9",
   "metadata": {},
   "outputs": [
    {
     "data": {
      "text/plain": [
       "array([[1, 2, 3],\n",
       "       [4, 5, 6],\n",
       "       [7, 8, 9]])"
      ]
     },
     "execution_count": 183,
     "metadata": {},
     "output_type": "execute_result"
    }
   ],
   "source": [
    "m"
   ]
  },
  {
   "cell_type": "code",
   "execution_count": 185,
   "id": "ea7ba630",
   "metadata": {},
   "outputs": [
    {
     "name": "stdout",
     "output_type": "stream",
     "text": [
      "8\n"
     ]
    }
   ],
   "source": [
    "print(m[2,1])"
   ]
  },
  {
   "cell_type": "code",
   "execution_count": 187,
   "id": "c5a163fb",
   "metadata": {},
   "outputs": [
    {
     "name": "stdout",
     "output_type": "stream",
     "text": [
      "[2 5 8]\n"
     ]
    }
   ],
   "source": [
    "print(m[0:,1])"
   ]
  },
  {
   "cell_type": "code",
   "execution_count": 189,
   "id": "100f79a3",
   "metadata": {},
   "outputs": [
    {
     "name": "stdout",
     "output_type": "stream",
     "text": [
      "[5 8]\n"
     ]
    }
   ],
   "source": [
    "print(m[1:,1])"
   ]
  },
  {
   "cell_type": "code",
   "execution_count": 191,
   "id": "13d7c21b",
   "metadata": {},
   "outputs": [
    {
     "name": "stdout",
     "output_type": "stream",
     "text": [
      "[5 6]\n"
     ]
    }
   ],
   "source": [
    "print(m[1,1:])"
   ]
  },
  {
   "cell_type": "code",
   "execution_count": 193,
   "id": "a1921b56",
   "metadata": {},
   "outputs": [
    {
     "name": "stdout",
     "output_type": "stream",
     "text": [
      "[8 9]\n"
     ]
    }
   ],
   "source": [
    "print(m[2,1:])"
   ]
  },
  {
   "cell_type": "code",
   "execution_count": 195,
   "id": "fe6001cb",
   "metadata": {},
   "outputs": [
    {
     "name": "stdout",
     "output_type": "stream",
     "text": [
      "[5 8]\n"
     ]
    }
   ],
   "source": [
    "print(m[1:,1])"
   ]
  },
  {
   "cell_type": "code",
   "execution_count": 197,
   "id": "706a0155",
   "metadata": {},
   "outputs": [
    {
     "name": "stdout",
     "output_type": "stream",
     "text": [
      "[5 7 9]\n",
      "[-3 -3 -3]\n",
      "[ 4 10 18]\n",
      "[0.25 0.4  0.5 ]\n"
     ]
    }
   ],
   "source": [
    "a = np.array([1, 2, 3])\n",
    "b = np.array([4, 5, 6])\n",
    "print(a + b)\n",
    "print(a - b)\n",
    "print(a * b)\n",
    "print(a / b)"
   ]
  },
  {
   "cell_type": "code",
   "execution_count": 199,
   "id": "dbb88463",
   "metadata": {},
   "outputs": [
    {
     "name": "stdout",
     "output_type": "stream",
     "text": [
      "[[ 3  4  5]\n",
      " [ 7  8  9]\n",
      " [11 12 13]]\n"
     ]
    }
   ],
   "source": [
    "a = np.array([[1, 2, 3], [4, 5, 6], [7, 8, 9]])\n",
    "b = np.array([[2, 2, 2], [3, 3, 3], [4, 4, 4]])\n",
    "print(a + b)"
   ]
  },
  {
   "cell_type": "code",
   "execution_count": 201,
   "id": "2959b83b",
   "metadata": {},
   "outputs": [
    {
     "name": "stdout",
     "output_type": "stream",
     "text": [
      "[[-1  0  1]\n",
      " [ 1  2  3]\n",
      " [ 3  4  5]]\n",
      "[[ 2  4  6]\n",
      " [12 15 18]\n",
      " [28 32 36]]\n",
      "[[0.5        1.         1.5       ]\n",
      " [1.33333333 1.66666667 2.        ]\n",
      " [1.75       2.         2.25      ]]\n"
     ]
    }
   ],
   "source": [
    "print(a - b)\n",
    "print(a * b)\n",
    "print(a / b)"
   ]
  },
  {
   "cell_type": "code",
   "execution_count": 203,
   "id": "6df25c5c",
   "metadata": {},
   "outputs": [
    {
     "name": "stdout",
     "output_type": "stream",
     "text": [
      "[[ 2  4  6]\n",
      " [ 5  7  9]\n",
      " [ 8 10 12]]\n",
      "[[0 0 0]\n",
      " [3 3 3]\n",
      " [6 6 6]]\n",
      "[[ 1  4  9]\n",
      " [ 4 10 18]\n",
      " [ 7 16 27]]\n",
      "[[1.  1.  1. ]\n",
      " [4.  2.5 2. ]\n",
      " [7.  4.  3. ]]\n"
     ]
    }
   ],
   "source": [
    "a = np.array([[1, 2, 3], [4, 5, 6], [7, 8, 9]])\n",
    "b = np.array([1, 2, 3])\n",
    "print(a + b)\n",
    "print(a - b)\n",
    "print(a * b)\n",
    "print(a / b)"
   ]
  },
  {
   "cell_type": "code",
   "execution_count": 205,
   "id": "3d2b9dfe",
   "metadata": {},
   "outputs": [
    {
     "name": "stdout",
     "output_type": "stream",
     "text": [
      "1\n",
      "5\n",
      "15\n",
      "3.0\n",
      "120\n"
     ]
    }
   ],
   "source": [
    "a = np.array([1, 2, 3, 4, 5])\n",
    "print(a.min())\n",
    "print(a.max())\n",
    "print(a.sum())\n",
    "print(a.mean())\n",
    "print(a.prod())"
   ]
  },
  {
   "cell_type": "code",
   "execution_count": 207,
   "id": "c9909b22",
   "metadata": {},
   "outputs": [
    {
     "name": "stdout",
     "output_type": "stream",
     "text": [
      "1\n",
      "9\n",
      "45\n",
      "5.0\n",
      "362880\n"
     ]
    }
   ],
   "source": [
    "a = np.array([[1, 2, 3], [4, 5, 6], [7, 8, 9]])\n",
    "print(a.min())\n",
    "print(a.max())\n",
    "print(a.sum())\n",
    "print(a.mean())\n",
    "print(a.prod())"
   ]
  },
  {
   "cell_type": "code",
   "execution_count": 209,
   "id": "64042b28",
   "metadata": {},
   "outputs": [
    {
     "name": "stdout",
     "output_type": "stream",
     "text": [
      "5.0\n"
     ]
    }
   ],
   "source": [
    "print(a.mean())"
   ]
  },
  {
   "cell_type": "code",
   "execution_count": 211,
   "id": "be031b84",
   "metadata": {},
   "outputs": [
    {
     "data": {
      "text/plain": [
       "numpy.ndarray"
      ]
     },
     "execution_count": 211,
     "metadata": {},
     "output_type": "execute_result"
    }
   ],
   "source": [
    "type(a)"
   ]
  },
  {
   "cell_type": "markdown",
   "id": "bb4db168",
   "metadata": {},
   "source": [
    "## Pandas"
   ]
  },
  {
   "cell_type": "code",
   "execution_count": 214,
   "id": "f98201a8",
   "metadata": {},
   "outputs": [],
   "source": [
    "import pandas as pd"
   ]
  },
  {
   "cell_type": "code",
   "execution_count": 216,
   "id": "3e6ec229",
   "metadata": {},
   "outputs": [],
   "source": [
    "# series - dataframe"
   ]
  },
  {
   "cell_type": "code",
   "execution_count": 218,
   "id": "abb7b37f",
   "metadata": {},
   "outputs": [],
   "source": [
    "mountains_height = pd.Series([2061, 2035.8, 2028.5, 2022.5, 2016.4])"
   ]
  },
  {
   "cell_type": "code",
   "execution_count": 220,
   "id": "65cf220d",
   "metadata": {},
   "outputs": [
    {
     "data": {
      "text/plain": [
       "0    2061.0\n",
       "1    2035.8\n",
       "2    2028.5\n",
       "3    2022.5\n",
       "4    2016.4\n",
       "dtype: float64"
      ]
     },
     "execution_count": 220,
     "metadata": {},
     "output_type": "execute_result"
    }
   ],
   "source": [
    "mountains_height"
   ]
  },
  {
   "cell_type": "code",
   "execution_count": 222,
   "id": "bfffd7b7",
   "metadata": {},
   "outputs": [],
   "source": [
    "mountains_height = pd.Series(\n",
    "    data=[2061, 2035.8, 2028.5, 2022.5, 2016.4],\n",
    "    index=[\"Goverla\", \"Brebenskyl\", \"Pip_Ivan\", \"Petros\", \"Gutin_Tomnatik\"],\n",
    "    name=\"Height, m\",\n",
    "    dtype=float,\n",
    ")"
   ]
  },
  {
   "cell_type": "code",
   "execution_count": 224,
   "id": "22b4ed75",
   "metadata": {},
   "outputs": [
    {
     "data": {
      "text/plain": [
       "Goverla           2061.0\n",
       "Brebenskyl        2035.8\n",
       "Pip_Ivan          2028.5\n",
       "Petros            2022.5\n",
       "Gutin_Tomnatik    2016.4\n",
       "Name: Height, m, dtype: float64"
      ]
     },
     "execution_count": 224,
     "metadata": {},
     "output_type": "execute_result"
    }
   ],
   "source": [
    "mountains_height"
   ]
  },
  {
   "cell_type": "code",
   "execution_count": 226,
   "id": "f1699e81",
   "metadata": {},
   "outputs": [
    {
     "name": "stdout",
     "output_type": "stream",
     "text": [
      "2028.5\n"
     ]
    }
   ],
   "source": [
    "print(mountains_height[2])"
   ]
  },
  {
   "cell_type": "code",
   "execution_count": 228,
   "id": "22401189",
   "metadata": {},
   "outputs": [
    {
     "name": "stdout",
     "output_type": "stream",
     "text": [
      "2028.5\n"
     ]
    }
   ],
   "source": [
    "print(mountains_height[\"Pip_Ivan\"])"
   ]
  },
  {
   "cell_type": "code",
   "execution_count": 230,
   "id": "82c1ffb0",
   "metadata": {},
   "outputs": [
    {
     "name": "stdout",
     "output_type": "stream",
     "text": [
      "Pip_Ivan    2028.5\n",
      "Petros      2022.5\n",
      "Goverla     2061.0\n",
      "Name: Height, m, dtype: float64\n"
     ]
    }
   ],
   "source": [
    "print(mountains_height[[\"Pip_Ivan\",\"Petros\",\"Goverla\"]])"
   ]
  },
  {
   "cell_type": "code",
   "execution_count": 232,
   "id": "0d71e7c7",
   "metadata": {},
   "outputs": [
    {
     "name": "stdout",
     "output_type": "stream",
     "text": [
      "Brebenskyl    2035.8\n",
      "Pip_Ivan      2028.5\n",
      "Name: Height, m, dtype: float64\n"
     ]
    }
   ],
   "source": [
    "print(mountains_height[1:3])"
   ]
  },
  {
   "cell_type": "code",
   "execution_count": 234,
   "id": "781cd7c3",
   "metadata": {},
   "outputs": [
    {
     "name": "stdout",
     "output_type": "stream",
     "text": [
      "Pip_Ivan          2028.5\n",
      "Petros            2022.5\n",
      "Gutin_Tomnatik    2016.4\n",
      "Name: Height, m, dtype: float64\n"
     ]
    }
   ],
   "source": [
    "print(mountains_height[\"Pip_Ivan\":\"Gutin_Tomnatik\"])"
   ]
  },
  {
   "cell_type": "code",
   "execution_count": 236,
   "id": "751768de",
   "metadata": {},
   "outputs": [],
   "source": [
    "mountains_height = pd.Series(\n",
    "    data=[2061, 2035.8, 2028.5, 2022.5, 2016.4],\n",
    "    index=[\"Goverla\", \"Brebenskyl\", \"Pip_Ivan\", \"Petros\", \"Gutin_Tomnatik\"],\n",
    "    name=\"Height, m\",\n",
    "    dtype=float,\n",
    ")"
   ]
  },
  {
   "cell_type": "code",
   "execution_count": 238,
   "id": "8f1a9f59",
   "metadata": {},
   "outputs": [
    {
     "data": {
      "text/plain": [
       "Goverla           2061.0\n",
       "Brebenskyl        2035.8\n",
       "Pip_Ivan          2028.5\n",
       "Petros            2022.5\n",
       "Gutin_Tomnatik    2016.4\n",
       "Name: Height, m, dtype: float64"
      ]
     },
     "execution_count": 238,
     "metadata": {},
     "output_type": "execute_result"
    }
   ],
   "source": [
    "mountains_height"
   ]
  },
  {
   "cell_type": "code",
   "execution_count": 240,
   "id": "554ca3e0",
   "metadata": {},
   "outputs": [
    {
     "name": "stdout",
     "output_type": "stream",
     "text": [
      "Goverla            True\n",
      "Brebenskyl         True\n",
      "Pip_Ivan          False\n",
      "Petros            False\n",
      "Gutin_Tomnatik    False\n",
      "Name: Height, m, dtype: bool\n"
     ]
    }
   ],
   "source": [
    "print(mountains_height > 2030)"
   ]
  },
  {
   "cell_type": "code",
   "execution_count": 242,
   "id": "68d36533",
   "metadata": {},
   "outputs": [
    {
     "name": "stdout",
     "output_type": "stream",
     "text": [
      "Goverla       2061.0\n",
      "Brebenskyl    2035.8\n",
      "Name: Height, m, dtype: float64\n"
     ]
    }
   ],
   "source": [
    "print(mountains_height[mountains_height > 2030])"
   ]
  },
  {
   "cell_type": "code",
   "execution_count": 244,
   "id": "9645b70e",
   "metadata": {},
   "outputs": [
    {
     "name": "stdout",
     "output_type": "stream",
     "text": [
      "True\n"
     ]
    }
   ],
   "source": [
    "print(\"Goverla\" in mountains_height)"
   ]
  },
  {
   "cell_type": "code",
   "execution_count": 246,
   "id": "1254432a",
   "metadata": {},
   "outputs": [],
   "source": [
    "#inplace = False\n",
    "#ascending = True"
   ]
  },
  {
   "cell_type": "code",
   "execution_count": 248,
   "id": "d352507a",
   "metadata": {},
   "outputs": [
    {
     "name": "stdout",
     "output_type": "stream",
     "text": [
      "Pip_Ivan          2028.5\n",
      "Petros            2022.5\n",
      "Gutin_Tomnatik    2016.4\n",
      "Goverla           2061.0\n",
      "Brebenskyl        2035.8\n",
      "Name: Height, m, dtype: float64\n"
     ]
    }
   ],
   "source": [
    "mountains_height = mountains_height.sort_index(ascending = False)\n",
    "print(mountains_height)"
   ]
  },
  {
   "cell_type": "code",
   "execution_count": 250,
   "id": "72796528",
   "metadata": {},
   "outputs": [
    {
     "name": "stdout",
     "output_type": "stream",
     "text": [
      "Brebenskyl        2035.8\n",
      "Goverla           2061.0\n",
      "Gutin_Tomnatik    2016.4\n",
      "Petros            2022.5\n",
      "Pip_Ivan          2028.5\n",
      "Name: Height, m, dtype: float64\n"
     ]
    }
   ],
   "source": [
    "mountains_height.sort_index(inplace = True)\n",
    "print(mountains_height)"
   ]
  },
  {
   "cell_type": "code",
   "execution_count": 252,
   "id": "c17fd8a4",
   "metadata": {},
   "outputs": [
    {
     "name": "stdout",
     "output_type": "stream",
     "text": [
      "Gutin_Tomnatik    2016.4\n",
      "Petros            2022.5\n",
      "Pip_Ivan          2028.5\n",
      "Brebenskyl        2035.8\n",
      "Goverla           2061.0\n",
      "Name: Height, m, dtype: float64\n"
     ]
    }
   ],
   "source": [
    "mountains_height.sort_values(inplace = True, ascending = True)\n",
    "print(mountains_height)"
   ]
  },
  {
   "cell_type": "code",
   "execution_count": 254,
   "id": "c9a11a25",
   "metadata": {},
   "outputs": [
    {
     "name": "stdout",
     "output_type": "stream",
     "text": [
      "Goverla           2061.0\n",
      "Brebenskyl        2035.8\n",
      "Pip_Ivan          2028.5\n",
      "Petros               NaN\n",
      "Gutin_Tomnatik       NaN\n",
      "Name: Height, m, dtype: float64\n"
     ]
    }
   ],
   "source": [
    "mountains_height = pd.Series(\n",
    "    {\"Goverla\": 2061, \"Brebenskyl\": 2035.8, \"Pip_Ivan\": 2028.5},\n",
    "    index=[\"Goverla\", \"Brebenskyl\", \"Pip_Ivan\", \"Petros\", \"Gutin_Tomnatik\"],\n",
    "    name=\"Height, m\",\n",
    "    dtype=float,\n",
    ")\n",
    "\n",
    "print(mountains_height)"
   ]
  },
  {
   "cell_type": "code",
   "execution_count": 256,
   "id": "e18603d0",
   "metadata": {},
   "outputs": [],
   "source": [
    "mountains_height.fillna(436, inplace=True)"
   ]
  },
  {
   "cell_type": "code",
   "execution_count": 258,
   "id": "12eca917",
   "metadata": {},
   "outputs": [
    {
     "data": {
      "text/plain": [
       "Goverla           2061.0\n",
       "Brebenskyl        2035.8\n",
       "Pip_Ivan          2028.5\n",
       "Petros             436.0\n",
       "Gutin_Tomnatik     436.0\n",
       "Name: Height, m, dtype: float64"
      ]
     },
     "execution_count": 258,
     "metadata": {},
     "output_type": "execute_result"
    }
   ],
   "source": [
    "mountains_height"
   ]
  },
  {
   "cell_type": "code",
   "execution_count": 260,
   "id": "23c8e330",
   "metadata": {},
   "outputs": [],
   "source": [
    "mountains_height = mountains_height.fillna(0)"
   ]
  },
  {
   "cell_type": "code",
   "execution_count": 262,
   "id": "6a54e6c3",
   "metadata": {},
   "outputs": [
    {
     "data": {
      "text/plain": [
       "Goverla           2061.0\n",
       "Brebenskyl        2035.8\n",
       "Pip_Ivan          2028.5\n",
       "Petros             436.0\n",
       "Gutin_Tomnatik     436.0\n",
       "Name: Height, m, dtype: float64"
      ]
     },
     "execution_count": 262,
     "metadata": {},
     "output_type": "execute_result"
    }
   ],
   "source": [
    "mountains_height"
   ]
  },
  {
   "cell_type": "markdown",
   "id": "166590e6",
   "metadata": {},
   "source": [
    "## Dataframe"
   ]
  },
  {
   "cell_type": "code",
   "execution_count": 265,
   "id": "f5c87ffe",
   "metadata": {},
   "outputs": [
    {
     "name": "stdout",
     "output_type": "stream",
     "text": [
      "   ID   Name\n",
      "0   1  Alice\n",
      "1   2    Bob\n"
     ]
    }
   ],
   "source": [
    "#dictionary\n",
    "data = {'ID': [1, 2], 'Name': ['Alice', 'Bob']}\n",
    "df = pd.DataFrame(data)\n",
    "print(df)"
   ]
  },
  {
   "cell_type": "code",
   "execution_count": 267,
   "id": "eea52162",
   "metadata": {},
   "outputs": [
    {
     "name": "stdout",
     "output_type": "stream",
     "text": [
      "   ID   Name\n",
      "0   1  Alice\n",
      "1   2    Bob\n"
     ]
    }
   ],
   "source": [
    "#list\n",
    "data = [[1, 'Alice'], [2, 'Bob']]\n",
    "df = pd.DataFrame(data, columns=['ID', 'Name'])\n",
    "print(df)"
   ]
  },
  {
   "cell_type": "code",
   "execution_count": 269,
   "id": "936dbef7",
   "metadata": {},
   "outputs": [
    {
     "name": "stdout",
     "output_type": "stream",
     "text": [
      "  ID   Name\n",
      "0  1  Alice\n",
      "1  2    Bob\n"
     ]
    }
   ],
   "source": [
    "#numpy array\n",
    "data = np.array([[1, 'Alice'], [2, 'Bob']])\n",
    "df = pd.DataFrame(data, columns=['ID', 'Name'])\n",
    "print(df)"
   ]
  },
  {
   "cell_type": "code",
   "execution_count": 271,
   "id": "23b77059",
   "metadata": {},
   "outputs": [
    {
     "data": {
      "text/plain": [
       "(2, 2)"
      ]
     },
     "execution_count": 271,
     "metadata": {},
     "output_type": "execute_result"
    }
   ],
   "source": [
    "df.shape"
   ]
  },
  {
   "cell_type": "code",
   "execution_count": 273,
   "id": "11acbd62",
   "metadata": {},
   "outputs": [
    {
     "name": "stdout",
     "output_type": "stream",
     "text": [
      "Index(['ID', 'Name'], dtype='object')\n"
     ]
    }
   ],
   "source": [
    "print(df.columns)"
   ]
  },
  {
   "cell_type": "code",
   "execution_count": 275,
   "id": "bb4459b3",
   "metadata": {},
   "outputs": [
    {
     "name": "stdout",
     "output_type": "stream",
     "text": [
      "RangeIndex(start=0, stop=2, step=1)\n"
     ]
    }
   ],
   "source": [
    "print(df.index)"
   ]
  },
  {
   "cell_type": "code",
   "execution_count": 277,
   "id": "4ec1d902",
   "metadata": {},
   "outputs": [
    {
     "name": "stdout",
     "output_type": "stream",
     "text": [
      "ID      object\n",
      "Name    object\n",
      "dtype: object\n"
     ]
    }
   ],
   "source": [
    "print(df.dtypes)"
   ]
  },
  {
   "cell_type": "code",
   "execution_count": 279,
   "id": "5a5925e5",
   "metadata": {},
   "outputs": [
    {
     "name": "stdout",
     "output_type": "stream",
     "text": [
      "            name                          email           phone  favorite\n",
      "1  Allen Raymond      nulla.ante@vestibul.co.uk  (992) 914-3792     False\n",
      "2    Chaim Lewis            dui.in@egetlacus.ca  (294) 840-6685     False\n",
      "3   Kennedy Lane  mattis.Cras@nonenimMauris.net  (542) 451-7038      True\n",
      "4     Wylie Pope              est@utquamvel.net  (692) 802-2949     False\n",
      "5  Cyrus Jackson         nibh@semsempererat.com  (501) 472-5218      True\n"
     ]
    }
   ],
   "source": [
    "contacts = pd.DataFrame(\n",
    "    {\n",
    "        \"name\": [\n",
    "            \"Allen Raymond\",\n",
    "            \"Chaim Lewis\",\n",
    "            \"Kennedy Lane\",\n",
    "            \"Wylie Pope\",\n",
    "            \"Cyrus Jackson\",\n",
    "        ],\n",
    "        \"email\": [\n",
    "            \"nulla.ante@vestibul.co.uk\",\n",
    "            \"dui.in@egetlacus.ca\",\n",
    "            \"mattis.Cras@nonenimMauris.net\",\n",
    "            \"est@utquamvel.net\",\n",
    "            \"nibh@semsempererat.com\",\n",
    "        ],\n",
    "        \"phone\": [\n",
    "            \"(992) 914-3792\",\n",
    "            \"(294) 840-6685\",\n",
    "            \"(542) 451-7038\",\n",
    "            \"(692) 802-2949\",\n",
    "            \"(501) 472-5218\",\n",
    "        ],\n",
    "        \"favorite\": [False, False, True, False, True],\n",
    "    },\n",
    "    index=[1, 2, 3, 4, 5],\n",
    ")\n",
    "\n",
    "print(contacts)"
   ]
  },
  {
   "cell_type": "code",
   "execution_count": 281,
   "id": "d561906b",
   "metadata": {},
   "outputs": [
    {
     "data": {
      "text/plain": [
       "(5, 4)"
      ]
     },
     "execution_count": 281,
     "metadata": {},
     "output_type": "execute_result"
    }
   ],
   "source": [
    "contacts.shape"
   ]
  },
  {
   "cell_type": "code",
   "execution_count": 283,
   "id": "59df74d8",
   "metadata": {},
   "outputs": [
    {
     "data": {
      "text/plain": [
       "1    Allen Raymond\n",
       "2      Chaim Lewis\n",
       "3     Kennedy Lane\n",
       "4       Wylie Pope\n",
       "5    Cyrus Jackson\n",
       "Name: name, dtype: object"
      ]
     },
     "execution_count": 283,
     "metadata": {},
     "output_type": "execute_result"
    }
   ],
   "source": [
    "contacts[\"name\"]"
   ]
  },
  {
   "cell_type": "code",
   "execution_count": 285,
   "id": "c831ac25",
   "metadata": {},
   "outputs": [
    {
     "data": {
      "text/plain": [
       "name                 Cyrus Jackson\n",
       "email       nibh@semsempererat.com\n",
       "phone               (501) 472-5218\n",
       "favorite                      True\n",
       "Name: 5, dtype: object"
      ]
     },
     "execution_count": 285,
     "metadata": {},
     "output_type": "execute_result"
    }
   ],
   "source": [
    "contacts.loc[5]"
   ]
  },
  {
   "cell_type": "code",
   "execution_count": 287,
   "id": "d0ab212e",
   "metadata": {},
   "outputs": [
    {
     "data": {
      "text/plain": [
       "name                 Cyrus Jackson\n",
       "email       nibh@semsempererat.com\n",
       "phone               (501) 472-5218\n",
       "favorite                      True\n",
       "Name: 5, dtype: object"
      ]
     },
     "execution_count": 287,
     "metadata": {},
     "output_type": "execute_result"
    }
   ],
   "source": [
    "contacts.iloc[4]"
   ]
  },
  {
   "cell_type": "code",
   "execution_count": 289,
   "id": "c451d651",
   "metadata": {
    "scrolled": true
   },
   "outputs": [
    {
     "data": {
      "text/html": [
       "<div>\n",
       "<style scoped>\n",
       "    .dataframe tbody tr th:only-of-type {\n",
       "        vertical-align: middle;\n",
       "    }\n",
       "\n",
       "    .dataframe tbody tr th {\n",
       "        vertical-align: top;\n",
       "    }\n",
       "\n",
       "    .dataframe thead th {\n",
       "        text-align: right;\n",
       "    }\n",
       "</style>\n",
       "<table border=\"1\" class=\"dataframe\">\n",
       "  <thead>\n",
       "    <tr style=\"text-align: right;\">\n",
       "      <th></th>\n",
       "      <th>name</th>\n",
       "      <th>email</th>\n",
       "      <th>phone</th>\n",
       "      <th>favorite</th>\n",
       "    </tr>\n",
       "  </thead>\n",
       "  <tbody>\n",
       "    <tr>\n",
       "      <th>3</th>\n",
       "      <td>Kennedy Lane</td>\n",
       "      <td>mattis.Cras@nonenimMauris.net</td>\n",
       "      <td>(542) 451-7038</td>\n",
       "      <td>True</td>\n",
       "    </tr>\n",
       "    <tr>\n",
       "      <th>4</th>\n",
       "      <td>Wylie Pope</td>\n",
       "      <td>est@utquamvel.net</td>\n",
       "      <td>(692) 802-2949</td>\n",
       "      <td>False</td>\n",
       "    </tr>\n",
       "  </tbody>\n",
       "</table>\n",
       "</div>"
      ],
      "text/plain": [
       "           name                          email           phone  favorite\n",
       "3  Kennedy Lane  mattis.Cras@nonenimMauris.net  (542) 451-7038      True\n",
       "4    Wylie Pope              est@utquamvel.net  (692) 802-2949     False"
      ]
     },
     "execution_count": 289,
     "metadata": {},
     "output_type": "execute_result"
    }
   ],
   "source": [
    "contacts[2:4]"
   ]
  },
  {
   "cell_type": "code",
   "execution_count": 291,
   "id": "7b451cbd",
   "metadata": {},
   "outputs": [
    {
     "data": {
      "text/html": [
       "<div>\n",
       "<style scoped>\n",
       "    .dataframe tbody tr th:only-of-type {\n",
       "        vertical-align: middle;\n",
       "    }\n",
       "\n",
       "    .dataframe tbody tr th {\n",
       "        vertical-align: top;\n",
       "    }\n",
       "\n",
       "    .dataframe thead th {\n",
       "        text-align: right;\n",
       "    }\n",
       "</style>\n",
       "<table border=\"1\" class=\"dataframe\">\n",
       "  <thead>\n",
       "    <tr style=\"text-align: right;\">\n",
       "      <th></th>\n",
       "      <th>name</th>\n",
       "      <th>email</th>\n",
       "      <th>phone</th>\n",
       "      <th>favorite</th>\n",
       "    </tr>\n",
       "  </thead>\n",
       "  <tbody>\n",
       "    <tr>\n",
       "      <th>1</th>\n",
       "      <td>Allen Raymond</td>\n",
       "      <td>nulla.ante@vestibul.co.uk</td>\n",
       "      <td>(992) 914-3792</td>\n",
       "      <td>False</td>\n",
       "    </tr>\n",
       "    <tr>\n",
       "      <th>2</th>\n",
       "      <td>Chaim Lewis</td>\n",
       "      <td>dui.in@egetlacus.ca</td>\n",
       "      <td>(294) 840-6685</td>\n",
       "      <td>False</td>\n",
       "    </tr>\n",
       "    <tr>\n",
       "      <th>3</th>\n",
       "      <td>Kennedy Lane</td>\n",
       "      <td>mattis.Cras@nonenimMauris.net</td>\n",
       "      <td>(542) 451-7038</td>\n",
       "      <td>True</td>\n",
       "    </tr>\n",
       "    <tr>\n",
       "      <th>4</th>\n",
       "      <td>Wylie Pope</td>\n",
       "      <td>est@utquamvel.net</td>\n",
       "      <td>(692) 802-2949</td>\n",
       "      <td>False</td>\n",
       "    </tr>\n",
       "    <tr>\n",
       "      <th>5</th>\n",
       "      <td>Cyrus Jackson</td>\n",
       "      <td>nibh@semsempererat.com</td>\n",
       "      <td>(501) 472-5218</td>\n",
       "      <td>True</td>\n",
       "    </tr>\n",
       "  </tbody>\n",
       "</table>\n",
       "</div>"
      ],
      "text/plain": [
       "            name                          email           phone  favorite\n",
       "1  Allen Raymond      nulla.ante@vestibul.co.uk  (992) 914-3792     False\n",
       "2    Chaim Lewis            dui.in@egetlacus.ca  (294) 840-6685     False\n",
       "3   Kennedy Lane  mattis.Cras@nonenimMauris.net  (542) 451-7038      True\n",
       "4     Wylie Pope              est@utquamvel.net  (692) 802-2949     False\n",
       "5  Cyrus Jackson         nibh@semsempererat.com  (501) 472-5218      True"
      ]
     },
     "execution_count": 291,
     "metadata": {},
     "output_type": "execute_result"
    }
   ],
   "source": [
    "contacts"
   ]
  },
  {
   "cell_type": "code",
   "execution_count": 293,
   "id": "6e823ea2",
   "metadata": {},
   "outputs": [
    {
     "data": {
      "text/html": [
       "<div>\n",
       "<style scoped>\n",
       "    .dataframe tbody tr th:only-of-type {\n",
       "        vertical-align: middle;\n",
       "    }\n",
       "\n",
       "    .dataframe tbody tr th {\n",
       "        vertical-align: top;\n",
       "    }\n",
       "\n",
       "    .dataframe thead th {\n",
       "        text-align: right;\n",
       "    }\n",
       "</style>\n",
       "<table border=\"1\" class=\"dataframe\">\n",
       "  <thead>\n",
       "    <tr style=\"text-align: right;\">\n",
       "      <th></th>\n",
       "      <th>name</th>\n",
       "      <th>email</th>\n",
       "      <th>phone</th>\n",
       "      <th>favorite</th>\n",
       "    </tr>\n",
       "  </thead>\n",
       "  <tbody>\n",
       "    <tr>\n",
       "      <th>3</th>\n",
       "      <td>Kennedy Lane</td>\n",
       "      <td>mattis.Cras@nonenimMauris.net</td>\n",
       "      <td>(542) 451-7038</td>\n",
       "      <td>True</td>\n",
       "    </tr>\n",
       "    <tr>\n",
       "      <th>5</th>\n",
       "      <td>Cyrus Jackson</td>\n",
       "      <td>nibh@semsempererat.com</td>\n",
       "      <td>(501) 472-5218</td>\n",
       "      <td>True</td>\n",
       "    </tr>\n",
       "  </tbody>\n",
       "</table>\n",
       "</div>"
      ],
      "text/plain": [
       "            name                          email           phone  favorite\n",
       "3   Kennedy Lane  mattis.Cras@nonenimMauris.net  (542) 451-7038      True\n",
       "5  Cyrus Jackson         nibh@semsempererat.com  (501) 472-5218      True"
      ]
     },
     "execution_count": 293,
     "metadata": {},
     "output_type": "execute_result"
    }
   ],
   "source": [
    "contacts[contacts['favorite'] == True]"
   ]
  },
  {
   "cell_type": "code",
   "execution_count": 295,
   "id": "69d11d30",
   "metadata": {},
   "outputs": [
    {
     "data": {
      "text/html": [
       "<div>\n",
       "<style scoped>\n",
       "    .dataframe tbody tr th:only-of-type {\n",
       "        vertical-align: middle;\n",
       "    }\n",
       "\n",
       "    .dataframe tbody tr th {\n",
       "        vertical-align: top;\n",
       "    }\n",
       "\n",
       "    .dataframe thead th {\n",
       "        text-align: right;\n",
       "    }\n",
       "</style>\n",
       "<table border=\"1\" class=\"dataframe\">\n",
       "  <thead>\n",
       "    <tr style=\"text-align: right;\">\n",
       "      <th></th>\n",
       "      <th>name</th>\n",
       "      <th>email</th>\n",
       "      <th>phone</th>\n",
       "      <th>favorite</th>\n",
       "    </tr>\n",
       "  </thead>\n",
       "  <tbody>\n",
       "    <tr>\n",
       "      <th>1</th>\n",
       "      <td>Allen Raymond</td>\n",
       "      <td>nulla.ante@vestibul.co.uk</td>\n",
       "      <td>(992) 914-3792</td>\n",
       "      <td>False</td>\n",
       "    </tr>\n",
       "    <tr>\n",
       "      <th>3</th>\n",
       "      <td>Kennedy Lane</td>\n",
       "      <td>mattis.Cras@nonenimMauris.net</td>\n",
       "      <td>(542) 451-7038</td>\n",
       "      <td>True</td>\n",
       "    </tr>\n",
       "    <tr>\n",
       "      <th>5</th>\n",
       "      <td>Cyrus Jackson</td>\n",
       "      <td>nibh@semsempererat.com</td>\n",
       "      <td>(501) 472-5218</td>\n",
       "      <td>True</td>\n",
       "    </tr>\n",
       "  </tbody>\n",
       "</table>\n",
       "</div>"
      ],
      "text/plain": [
       "            name                          email           phone  favorite\n",
       "1  Allen Raymond      nulla.ante@vestibul.co.uk  (992) 914-3792     False\n",
       "3   Kennedy Lane  mattis.Cras@nonenimMauris.net  (542) 451-7038      True\n",
       "5  Cyrus Jackson         nibh@semsempererat.com  (501) 472-5218      True"
      ]
     },
     "execution_count": 295,
     "metadata": {},
     "output_type": "execute_result"
    }
   ],
   "source": [
    "# & | \n",
    "contacts[(contacts['favorite'] == True)|(contacts['name'] == 'Allen Raymond')]"
   ]
  },
  {
   "cell_type": "code",
   "execution_count": 297,
   "id": "3d3b1ca2",
   "metadata": {},
   "outputs": [
    {
     "data": {
      "text/html": [
       "<div>\n",
       "<style scoped>\n",
       "    .dataframe tbody tr th:only-of-type {\n",
       "        vertical-align: middle;\n",
       "    }\n",
       "\n",
       "    .dataframe tbody tr th {\n",
       "        vertical-align: top;\n",
       "    }\n",
       "\n",
       "    .dataframe thead th {\n",
       "        text-align: right;\n",
       "    }\n",
       "</style>\n",
       "<table border=\"1\" class=\"dataframe\">\n",
       "  <thead>\n",
       "    <tr style=\"text-align: right;\">\n",
       "      <th></th>\n",
       "      <th>name</th>\n",
       "      <th>email</th>\n",
       "      <th>phone</th>\n",
       "      <th>favorite</th>\n",
       "    </tr>\n",
       "  </thead>\n",
       "  <tbody>\n",
       "    <tr>\n",
       "      <th>1</th>\n",
       "      <td>Allen Raymond</td>\n",
       "      <td>nulla.ante@vestibul.co.uk</td>\n",
       "      <td>(992) 914-3792</td>\n",
       "      <td>False</td>\n",
       "    </tr>\n",
       "  </tbody>\n",
       "</table>\n",
       "</div>"
      ],
      "text/plain": [
       "            name                      email           phone  favorite\n",
       "1  Allen Raymond  nulla.ante@vestibul.co.uk  (992) 914-3792     False"
      ]
     },
     "execution_count": 297,
     "metadata": {},
     "output_type": "execute_result"
    }
   ],
   "source": [
    "contacts[(contacts['favorite'] == False)&(contacts['name'] == 'Allen Raymond')]"
   ]
  }
 ],
 "metadata": {
  "kernelspec": {
   "display_name": "Python 3 (ipykernel)",
   "language": "python",
   "name": "python3"
  },
  "language_info": {
   "codemirror_mode": {
    "name": "ipython",
    "version": 3
   },
   "file_extension": ".py",
   "mimetype": "text/x-python",
   "name": "python",
   "nbconvert_exporter": "python",
   "pygments_lexer": "ipython3",
   "version": "3.11.5"
  }
 },
 "nbformat": 4,
 "nbformat_minor": 5
}
