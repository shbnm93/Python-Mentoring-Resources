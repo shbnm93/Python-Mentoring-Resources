{
 "cells": [
  {
   "cell_type": "code",
   "execution_count": 1,
   "id": "45072de0-24f8-4260-9aae-101a86f75f3d",
   "metadata": {},
   "outputs": [],
   "source": [
    "import pandas as pd\n",
    "import numpy as np"
   ]
  },
  {
   "cell_type": "code",
   "execution_count": 2,
   "id": "98f3b24c-6f02-4dda-a184-ae6edc1b3ff7",
   "metadata": {},
   "outputs": [],
   "source": [
    "df = pd.read_csv(r\"C:\\Users\\Ali\\Documents\\python\\applications(2.0).csv\")\n",
    "df2 = pd.read_csv(r\"C:\\Users\\Ali\\Documents\\python\\industries(2.0).csv\")"
   ]
  },
  {
   "cell_type": "code",
   "execution_count": 3,
   "id": "82f86917-c904-42e3-abf5-48f0b88fee46",
   "metadata": {},
   "outputs": [
    {
     "data": {
      "text/html": [
       "<div>\n",
       "<style scoped>\n",
       "    .dataframe tbody tr th:only-of-type {\n",
       "        vertical-align: middle;\n",
       "    }\n",
       "\n",
       "    .dataframe tbody tr th {\n",
       "        vertical-align: top;\n",
       "    }\n",
       "\n",
       "    .dataframe thead th {\n",
       "        text-align: right;\n",
       "    }\n",
       "</style>\n",
       "<table border=\"1\" class=\"dataframe\">\n",
       "  <thead>\n",
       "    <tr style=\"text-align: right;\">\n",
       "      <th></th>\n",
       "      <th>Applied at</th>\n",
       "      <th>Amount</th>\n",
       "      <th>Age</th>\n",
       "      <th>Gender</th>\n",
       "      <th>Industry</th>\n",
       "      <th>Marital status</th>\n",
       "      <th>External Rating</th>\n",
       "      <th>Education level</th>\n",
       "      <th>Location</th>\n",
       "      <th>applicant_id</th>\n",
       "    </tr>\n",
       "  </thead>\n",
       "  <tbody>\n",
       "    <tr>\n",
       "      <th>0</th>\n",
       "      <td>11.30.2022 10:26:37</td>\n",
       "      <td>12000.0</td>\n",
       "      <td>29</td>\n",
       "      <td>Чоловік</td>\n",
       "      <td>Blockchain</td>\n",
       "      <td>Other</td>\n",
       "      <td>8.0</td>\n",
       "      <td>Вища (бакалавр, спеціаліст, магістр)</td>\n",
       "      <td>Івано-Франківськ чи область</td>\n",
       "      <td>99e7b0dc6cc05dd334d8f38dc26ce9b3</td>\n",
       "    </tr>\n",
       "    <tr>\n",
       "      <th>1</th>\n",
       "      <td>11.30.2022 10:26:39</td>\n",
       "      <td>NaN</td>\n",
       "      <td>36</td>\n",
       "      <td>Чоловік</td>\n",
       "      <td>Public services / Government</td>\n",
       "      <td>Single</td>\n",
       "      <td>3.0</td>\n",
       "      <td>Вища (бакалавр, спеціаліст, магістр)</td>\n",
       "      <td>NaN</td>\n",
       "      <td>63dfcf8e6904186650d6814279fbe42f</td>\n",
       "    </tr>\n",
       "    <tr>\n",
       "      <th>2</th>\n",
       "      <td>11.30.2022 10:26:58</td>\n",
       "      <td>7500.0</td>\n",
       "      <td>34</td>\n",
       "      <td>Чоловік</td>\n",
       "      <td>Adtech / Advertising</td>\n",
       "      <td>Single</td>\n",
       "      <td>4.0</td>\n",
       "      <td>Вища (бакалавр, спеціаліст, магістр)</td>\n",
       "      <td>Київ чи область</td>\n",
       "      <td>10dbafaeb46c09e96b6987c03bbb3498</td>\n",
       "    </tr>\n",
       "    <tr>\n",
       "      <th>3</th>\n",
       "      <td>11.30.2022 10:27:31</td>\n",
       "      <td>1500.0</td>\n",
       "      <td>23</td>\n",
       "      <td>Жінка</td>\n",
       "      <td>Telecom</td>\n",
       "      <td>Single</td>\n",
       "      <td>0.0</td>\n",
       "      <td>Вища (бакалавр, спеціаліст, магістр)</td>\n",
       "      <td>Львів чи область</td>\n",
       "      <td>5847ac62cc9eac5e323c2517dcc91ad1</td>\n",
       "    </tr>\n",
       "    <tr>\n",
       "      <th>4</th>\n",
       "      <td>11.30.2022 10:27:34</td>\n",
       "      <td>8400.0</td>\n",
       "      <td>33</td>\n",
       "      <td>Жінка</td>\n",
       "      <td>Automotive</td>\n",
       "      <td>Single</td>\n",
       "      <td>6.0</td>\n",
       "      <td>Вища (бакалавр, спеціаліст, магістр)</td>\n",
       "      <td>Житомир чи область</td>\n",
       "      <td>5d21f3795b50de8e8f8f8d5f48b754f3</td>\n",
       "    </tr>\n",
       "  </tbody>\n",
       "</table>\n",
       "</div>"
      ],
      "text/plain": [
       "            Applied at   Amount  Age   Gender                      Industry  \\\n",
       "0  11.30.2022 10:26:37  12000.0   29  Чоловік                    Blockchain   \n",
       "1  11.30.2022 10:26:39      NaN   36  Чоловік  Public services / Government   \n",
       "2  11.30.2022 10:26:58   7500.0   34  Чоловік          Adtech / Advertising   \n",
       "3  11.30.2022 10:27:31   1500.0   23    Жінка                       Telecom   \n",
       "4  11.30.2022 10:27:34   8400.0   33    Жінка                    Automotive   \n",
       "\n",
       "  Marital status  External Rating                       Education level  \\\n",
       "0          Other              8.0  Вища (бакалавр, спеціаліст, магістр)   \n",
       "1         Single              3.0  Вища (бакалавр, спеціаліст, магістр)   \n",
       "2         Single              4.0  Вища (бакалавр, спеціаліст, магістр)   \n",
       "3         Single              0.0  Вища (бакалавр, спеціаліст, магістр)   \n",
       "4         Single              6.0  Вища (бакалавр, спеціаліст, магістр)   \n",
       "\n",
       "                      Location                      applicant_id  \n",
       "0  Івано-Франківськ чи область  99e7b0dc6cc05dd334d8f38dc26ce9b3  \n",
       "1                          NaN  63dfcf8e6904186650d6814279fbe42f  \n",
       "2              Київ чи область  10dbafaeb46c09e96b6987c03bbb3498  \n",
       "3             Львів чи область  5847ac62cc9eac5e323c2517dcc91ad1  \n",
       "4           Житомир чи область  5d21f3795b50de8e8f8f8d5f48b754f3  "
      ]
     },
     "execution_count": 3,
     "metadata": {},
     "output_type": "execute_result"
    }
   ],
   "source": [
    "df.head()"
   ]
  },
  {
   "cell_type": "code",
   "execution_count": 4,
   "id": "279b1056-8d94-449b-8313-9c1e59ca7b9b",
   "metadata": {},
   "outputs": [
    {
     "data": {
      "text/plain": [
       "(13315, 10)"
      ]
     },
     "execution_count": 4,
     "metadata": {},
     "output_type": "execute_result"
    }
   ],
   "source": [
    "df.shape"
   ]
  },
  {
   "cell_type": "code",
   "execution_count": 5,
   "id": "3b9519a8-a657-46f7-85c4-0a99e795d97e",
   "metadata": {},
   "outputs": [
    {
     "data": {
      "text/plain": [
       "Index(['Applied at', 'Amount', 'Age', 'Gender', 'Industry', 'Marital status',\n",
       "       'External Rating', 'Education level', 'Location', 'applicant_id'],\n",
       "      dtype='object')"
      ]
     },
     "execution_count": 5,
     "metadata": {},
     "output_type": "execute_result"
    }
   ],
   "source": [
    "df.columns"
   ]
  },
  {
   "cell_type": "code",
   "execution_count": 6,
   "id": "e5f6e580-4160-456b-a9c0-e8e7832ce9ca",
   "metadata": {},
   "outputs": [
    {
     "data": {
      "text/html": [
       "<div>\n",
       "<style scoped>\n",
       "    .dataframe tbody tr th:only-of-type {\n",
       "        vertical-align: middle;\n",
       "    }\n",
       "\n",
       "    .dataframe tbody tr th {\n",
       "        vertical-align: top;\n",
       "    }\n",
       "\n",
       "    .dataframe thead th {\n",
       "        text-align: right;\n",
       "    }\n",
       "</style>\n",
       "<table border=\"1\" class=\"dataframe\">\n",
       "  <thead>\n",
       "    <tr style=\"text-align: right;\">\n",
       "      <th></th>\n",
       "      <th>Industry</th>\n",
       "      <th>Score</th>\n",
       "    </tr>\n",
       "  </thead>\n",
       "  <tbody>\n",
       "    <tr>\n",
       "      <th>0</th>\n",
       "      <td>Blockchain</td>\n",
       "      <td>0</td>\n",
       "    </tr>\n",
       "    <tr>\n",
       "      <th>1</th>\n",
       "      <td>Public services / Government</td>\n",
       "      <td>20</td>\n",
       "    </tr>\n",
       "    <tr>\n",
       "      <th>2</th>\n",
       "      <td>Adtech / Advertising</td>\n",
       "      <td>10</td>\n",
       "    </tr>\n",
       "    <tr>\n",
       "      <th>3</th>\n",
       "      <td>Telecom</td>\n",
       "      <td>15</td>\n",
       "    </tr>\n",
       "    <tr>\n",
       "      <th>4</th>\n",
       "      <td>Automotive</td>\n",
       "      <td>15</td>\n",
       "    </tr>\n",
       "  </tbody>\n",
       "</table>\n",
       "</div>"
      ],
      "text/plain": [
       "                       Industry  Score\n",
       "0                    Blockchain      0\n",
       "1  Public services / Government     20\n",
       "2          Adtech / Advertising     10\n",
       "3                       Telecom     15\n",
       "4                    Automotive     15"
      ]
     },
     "execution_count": 6,
     "metadata": {},
     "output_type": "execute_result"
    }
   ],
   "source": [
    "df2.head()"
   ]
  },
  {
   "cell_type": "markdown",
   "id": "33567fc0-6d41-4329-b585-af6130bee29e",
   "metadata": {},
   "source": [
    "### Use the drop_duplicates() function to remove rows where the applicant_id is duplicated."
   ]
  },
  {
   "cell_type": "code",
   "execution_count": 8,
   "id": "733f7f48-a94b-4c7b-8f6d-02a5598020f0",
   "metadata": {},
   "outputs": [],
   "source": [
    "# Remove duplicate values based on 'applicant_id' column\n",
    "df_cleaned = df.drop_duplicates(subset='applicant_id')"
   ]
  },
  {
   "cell_type": "code",
   "execution_count": 9,
   "id": "f8970cf0-91fa-48c3-8ae5-eabcfd46f145",
   "metadata": {
    "scrolled": true
   },
   "outputs": [
    {
     "data": {
      "text/html": [
       "<div>\n",
       "<style scoped>\n",
       "    .dataframe tbody tr th:only-of-type {\n",
       "        vertical-align: middle;\n",
       "    }\n",
       "\n",
       "    .dataframe tbody tr th {\n",
       "        vertical-align: top;\n",
       "    }\n",
       "\n",
       "    .dataframe thead th {\n",
       "        text-align: right;\n",
       "    }\n",
       "</style>\n",
       "<table border=\"1\" class=\"dataframe\">\n",
       "  <thead>\n",
       "    <tr style=\"text-align: right;\">\n",
       "      <th></th>\n",
       "      <th>Applied at</th>\n",
       "      <th>Amount</th>\n",
       "      <th>Age</th>\n",
       "      <th>Gender</th>\n",
       "      <th>Industry</th>\n",
       "      <th>Marital status</th>\n",
       "      <th>External Rating</th>\n",
       "      <th>Education level</th>\n",
       "      <th>Location</th>\n",
       "      <th>applicant_id</th>\n",
       "    </tr>\n",
       "  </thead>\n",
       "  <tbody>\n",
       "    <tr>\n",
       "      <th>0</th>\n",
       "      <td>11.30.2022 10:26:37</td>\n",
       "      <td>12000.0</td>\n",
       "      <td>29</td>\n",
       "      <td>Чоловік</td>\n",
       "      <td>Blockchain</td>\n",
       "      <td>Other</td>\n",
       "      <td>8.0</td>\n",
       "      <td>Вища (бакалавр, спеціаліст, магістр)</td>\n",
       "      <td>Івано-Франківськ чи область</td>\n",
       "      <td>99e7b0dc6cc05dd334d8f38dc26ce9b3</td>\n",
       "    </tr>\n",
       "    <tr>\n",
       "      <th>1</th>\n",
       "      <td>11.30.2022 10:26:39</td>\n",
       "      <td>NaN</td>\n",
       "      <td>36</td>\n",
       "      <td>Чоловік</td>\n",
       "      <td>Public services / Government</td>\n",
       "      <td>Single</td>\n",
       "      <td>3.0</td>\n",
       "      <td>Вища (бакалавр, спеціаліст, магістр)</td>\n",
       "      <td>NaN</td>\n",
       "      <td>63dfcf8e6904186650d6814279fbe42f</td>\n",
       "    </tr>\n",
       "    <tr>\n",
       "      <th>2</th>\n",
       "      <td>11.30.2022 10:26:58</td>\n",
       "      <td>7500.0</td>\n",
       "      <td>34</td>\n",
       "      <td>Чоловік</td>\n",
       "      <td>Adtech / Advertising</td>\n",
       "      <td>Single</td>\n",
       "      <td>4.0</td>\n",
       "      <td>Вища (бакалавр, спеціаліст, магістр)</td>\n",
       "      <td>Київ чи область</td>\n",
       "      <td>10dbafaeb46c09e96b6987c03bbb3498</td>\n",
       "    </tr>\n",
       "    <tr>\n",
       "      <th>3</th>\n",
       "      <td>11.30.2022 10:27:31</td>\n",
       "      <td>1500.0</td>\n",
       "      <td>23</td>\n",
       "      <td>Жінка</td>\n",
       "      <td>Telecom</td>\n",
       "      <td>Single</td>\n",
       "      <td>0.0</td>\n",
       "      <td>Вища (бакалавр, спеціаліст, магістр)</td>\n",
       "      <td>Львів чи область</td>\n",
       "      <td>5847ac62cc9eac5e323c2517dcc91ad1</td>\n",
       "    </tr>\n",
       "    <tr>\n",
       "      <th>4</th>\n",
       "      <td>11.30.2022 10:27:34</td>\n",
       "      <td>8400.0</td>\n",
       "      <td>33</td>\n",
       "      <td>Жінка</td>\n",
       "      <td>Automotive</td>\n",
       "      <td>Single</td>\n",
       "      <td>6.0</td>\n",
       "      <td>Вища (бакалавр, спеціаліст, магістр)</td>\n",
       "      <td>Житомир чи область</td>\n",
       "      <td>5d21f3795b50de8e8f8f8d5f48b754f3</td>\n",
       "    </tr>\n",
       "  </tbody>\n",
       "</table>\n",
       "</div>"
      ],
      "text/plain": [
       "            Applied at   Amount  Age   Gender                      Industry  \\\n",
       "0  11.30.2022 10:26:37  12000.0   29  Чоловік                    Blockchain   \n",
       "1  11.30.2022 10:26:39      NaN   36  Чоловік  Public services / Government   \n",
       "2  11.30.2022 10:26:58   7500.0   34  Чоловік          Adtech / Advertising   \n",
       "3  11.30.2022 10:27:31   1500.0   23    Жінка                       Telecom   \n",
       "4  11.30.2022 10:27:34   8400.0   33    Жінка                    Automotive   \n",
       "\n",
       "  Marital status  External Rating                       Education level  \\\n",
       "0          Other              8.0  Вища (бакалавр, спеціаліст, магістр)   \n",
       "1         Single              3.0  Вища (бакалавр, спеціаліст, магістр)   \n",
       "2         Single              4.0  Вища (бакалавр, спеціаліст, магістр)   \n",
       "3         Single              0.0  Вища (бакалавр, спеціаліст, магістр)   \n",
       "4         Single              6.0  Вища (бакалавр, спеціаліст, магістр)   \n",
       "\n",
       "                      Location                      applicant_id  \n",
       "0  Івано-Франківськ чи область  99e7b0dc6cc05dd334d8f38dc26ce9b3  \n",
       "1                          NaN  63dfcf8e6904186650d6814279fbe42f  \n",
       "2              Київ чи область  10dbafaeb46c09e96b6987c03bbb3498  \n",
       "3             Львів чи область  5847ac62cc9eac5e323c2517dcc91ad1  \n",
       "4           Житомир чи область  5d21f3795b50de8e8f8f8d5f48b754f3  "
      ]
     },
     "execution_count": 9,
     "metadata": {},
     "output_type": "execute_result"
    }
   ],
   "source": [
    "df_cleaned.head()"
   ]
  },
  {
   "cell_type": "code",
   "execution_count": 10,
   "id": "dd46294f-4dc4-44cf-a851-e36d5483b617",
   "metadata": {},
   "outputs": [
    {
     "data": {
      "text/plain": [
       "(13278, 10)"
      ]
     },
     "execution_count": 10,
     "metadata": {},
     "output_type": "execute_result"
    }
   ],
   "source": [
    "df_cleaned.shape"
   ]
  },
  {
   "cell_type": "code",
   "execution_count": 23,
   "id": "a46ad813-5095-43c4-ba87-bc7f22eeb615",
   "metadata": {},
   "outputs": [],
   "source": [
    "df_cleaned.loc[:, 'External Rating'] = df_cleaned['External Rating'].fillna(0)"
   ]
  },
  {
   "cell_type": "code",
   "execution_count": 27,
   "id": "dc93b2c9-399f-4ded-8bb8-fff16f0fba78",
   "metadata": {},
   "outputs": [
    {
     "data": {
      "text/plain": [
       "array([ 8.,  3.,  4.,  0.,  6.,  1.,  2.,  5., 10., 11.,  7., 15., 12.,\n",
       "        9., 14., 13.])"
      ]
     },
     "execution_count": 27,
     "metadata": {},
     "output_type": "execute_result"
    }
   ],
   "source": [
    "df_cleaned['External Rating'].unique()"
   ]
  },
  {
   "cell_type": "code",
   "execution_count": null,
   "id": "81b7f787-1130-4079-acf4-6d168f9fe34a",
   "metadata": {},
   "outputs": [],
   "source": []
  }
 ],
 "metadata": {
  "kernelspec": {
   "display_name": "Python 3 (ipykernel)",
   "language": "python",
   "name": "python3"
  },
  "language_info": {
   "codemirror_mode": {
    "name": "ipython",
    "version": 3
   },
   "file_extension": ".py",
   "mimetype": "text/x-python",
   "name": "python",
   "nbconvert_exporter": "python",
   "pygments_lexer": "ipython3",
   "version": "3.11.5"
  }
 },
 "nbformat": 4,
 "nbformat_minor": 5
}
