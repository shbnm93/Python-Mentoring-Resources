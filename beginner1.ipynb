{
 "cells": [
  {
   "cell_type": "code",
   "execution_count": 2,
   "id": "55cf6382",
   "metadata": {
    "scrolled": true
   },
   "outputs": [
    {
     "name": "stdout",
     "output_type": "stream",
     "text": [
      "Hello World!\n"
     ]
    }
   ],
   "source": [
    "print('Hello World!')"
   ]
  },
  {
   "cell_type": "markdown",
   "id": "579ec9d0",
   "metadata": {},
   "source": [
    "# veriables"
   ]
  },
  {
   "cell_type": "code",
   "execution_count": 5,
   "id": "054e6923",
   "metadata": {},
   "outputs": [],
   "source": [
    "age = 5\n",
    "user1_age = 18\n",
    "user2_age = 34\n",
    "is_human = 1"
   ]
  },
  {
   "cell_type": "code",
   "execution_count": 7,
   "id": "ce69aa8c",
   "metadata": {},
   "outputs": [
    {
     "name": "stdout",
     "output_type": "stream",
     "text": [
      "7\n"
     ]
    }
   ],
   "source": [
    "x = 2\n",
    "y = x + 5\n",
    "print(y)"
   ]
  },
  {
   "cell_type": "code",
   "execution_count": 9,
   "id": "53f4bb56",
   "metadata": {},
   "outputs": [
    {
     "name": "stdout",
     "output_type": "stream",
     "text": [
      "8\n"
     ]
    }
   ],
   "source": [
    "a = 1\n",
    "b = 7\n",
    "c = a + b\n",
    "print(c)"
   ]
  },
  {
   "cell_type": "code",
   "execution_count": 11,
   "id": "7e600521",
   "metadata": {},
   "outputs": [
    {
     "data": {
      "text/plain": [
       "7"
      ]
     },
     "execution_count": 11,
     "metadata": {},
     "output_type": "execute_result"
    }
   ],
   "source": [
    "5 + 2"
   ]
  },
  {
   "cell_type": "code",
   "execution_count": 13,
   "id": "5aa46122",
   "metadata": {},
   "outputs": [
    {
     "data": {
      "text/plain": [
       "3"
      ]
     },
     "execution_count": 13,
     "metadata": {},
     "output_type": "execute_result"
    }
   ],
   "source": [
    "5 - 2"
   ]
  },
  {
   "cell_type": "code",
   "execution_count": 15,
   "id": "e60aa7d0",
   "metadata": {},
   "outputs": [
    {
     "data": {
      "text/plain": [
       "10"
      ]
     },
     "execution_count": 15,
     "metadata": {},
     "output_type": "execute_result"
    }
   ],
   "source": [
    "5 * 2"
   ]
  },
  {
   "cell_type": "code",
   "execution_count": 17,
   "id": "bba95d8c",
   "metadata": {},
   "outputs": [
    {
     "data": {
      "text/plain": [
       "2.5"
      ]
     },
     "execution_count": 17,
     "metadata": {},
     "output_type": "execute_result"
    }
   ],
   "source": [
    "5 / 2"
   ]
  },
  {
   "cell_type": "code",
   "execution_count": 19,
   "id": "3c951edb",
   "metadata": {},
   "outputs": [
    {
     "data": {
      "text/plain": [
       "25"
      ]
     },
     "execution_count": 19,
     "metadata": {},
     "output_type": "execute_result"
    }
   ],
   "source": [
    "5 ** 2"
   ]
  },
  {
   "cell_type": "code",
   "execution_count": 21,
   "id": "2cc6ef18",
   "metadata": {},
   "outputs": [
    {
     "data": {
      "text/plain": [
       "1"
      ]
     },
     "execution_count": 21,
     "metadata": {},
     "output_type": "execute_result"
    }
   ],
   "source": [
    "5 % 2"
   ]
  },
  {
   "cell_type": "code",
   "execution_count": 23,
   "id": "9f93f656",
   "metadata": {},
   "outputs": [
    {
     "data": {
      "text/plain": [
       "0"
      ]
     },
     "execution_count": 23,
     "metadata": {},
     "output_type": "execute_result"
    }
   ],
   "source": [
    "10 % 2"
   ]
  },
  {
   "cell_type": "code",
   "execution_count": 25,
   "id": "3f6e281e",
   "metadata": {},
   "outputs": [
    {
     "data": {
      "text/plain": [
       "1"
      ]
     },
     "execution_count": 25,
     "metadata": {},
     "output_type": "execute_result"
    }
   ],
   "source": [
    "7 % 3"
   ]
  },
  {
   "cell_type": "code",
   "execution_count": 27,
   "id": "544382b5",
   "metadata": {},
   "outputs": [
    {
     "data": {
      "text/plain": [
       "2.3333333333333335"
      ]
     },
     "execution_count": 27,
     "metadata": {},
     "output_type": "execute_result"
    }
   ],
   "source": [
    "7 / 3"
   ]
  },
  {
   "cell_type": "code",
   "execution_count": 29,
   "id": "b3939c91",
   "metadata": {},
   "outputs": [
    {
     "data": {
      "text/plain": [
       "2"
      ]
     },
     "execution_count": 29,
     "metadata": {},
     "output_type": "execute_result"
    }
   ],
   "source": [
    "7 // 3"
   ]
  },
  {
   "cell_type": "code",
   "execution_count": 31,
   "id": "dee4cb47",
   "metadata": {},
   "outputs": [
    {
     "data": {
      "text/plain": [
       "2"
      ]
     },
     "execution_count": 31,
     "metadata": {},
     "output_type": "execute_result"
    }
   ],
   "source": [
    "5 // 2"
   ]
  },
  {
   "cell_type": "code",
   "execution_count": 33,
   "id": "6b625f6b",
   "metadata": {},
   "outputs": [
    {
     "data": {
      "text/plain": [
       "84"
      ]
     },
     "execution_count": 33,
     "metadata": {},
     "output_type": "execute_result"
    }
   ],
   "source": [
    "8 ** 2 + 5 * (2 + 2)"
   ]
  },
  {
   "cell_type": "code",
   "execution_count": 35,
   "id": "5ad35211",
   "metadata": {},
   "outputs": [
    {
     "name": "stdout",
     "output_type": "stream",
     "text": [
      "21\n"
     ]
    }
   ],
   "source": [
    "user_age = 21\n",
    "#user_age = 18 \n",
    "print(user_age)"
   ]
  },
  {
   "cell_type": "code",
   "execution_count": 37,
   "id": "98f958e4",
   "metadata": {},
   "outputs": [],
   "source": [
    "a = None"
   ]
  },
  {
   "cell_type": "markdown",
   "id": "6ef8c982",
   "metadata": {},
   "source": [
    "# number format"
   ]
  },
  {
   "cell_type": "code",
   "execution_count": 40,
   "id": "a136d460",
   "metadata": {},
   "outputs": [],
   "source": [
    "int_variable = 5\n",
    "int_2 = 27"
   ]
  },
  {
   "cell_type": "code",
   "execution_count": 42,
   "id": "544b5370",
   "metadata": {},
   "outputs": [],
   "source": [
    "float_variable = 3.2\n",
    "float_2 = 27.3"
   ]
  },
  {
   "cell_type": "code",
   "execution_count": 44,
   "id": "466c462b",
   "metadata": {},
   "outputs": [],
   "source": [
    "complex_variable = 23 + 3j"
   ]
  },
  {
   "cell_type": "markdown",
   "id": "0119594b",
   "metadata": {},
   "source": [
    "# string format"
   ]
  },
  {
   "cell_type": "code",
   "execution_count": 47,
   "id": "7074691d",
   "metadata": {},
   "outputs": [],
   "source": [
    "string_variable = 'string 1'\n",
    "string_variable_2 = \"string 2\""
   ]
  },
  {
   "cell_type": "code",
   "execution_count": 49,
   "id": "6fb6c85e",
   "metadata": {},
   "outputs": [
    {
     "name": "stdout",
     "output_type": "stream",
     "text": [
      "turkey\n",
      "turkiye\n"
     ]
    }
   ],
   "source": [
    "string_tr = \"turkey\"\n",
    "string_tr_2 = 'turkiye'\n",
    "\n",
    "print(string_tr)\n",
    "print(string_tr_2)"
   ]
  },
  {
   "cell_type": "code",
   "execution_count": 51,
   "id": "9d188357",
   "metadata": {},
   "outputs": [
    {
     "name": "stdout",
     "output_type": "stream",
     "text": [
      "t\n"
     ]
    }
   ],
   "source": [
    "string_tr = \"tutkiye\"\n",
    "print(string_tr[0])"
   ]
  },
  {
   "cell_type": "code",
   "execution_count": 53,
   "id": "185d087b",
   "metadata": {},
   "outputs": [
    {
     "name": "stdout",
     "output_type": "stream",
     "text": [
      "Türkiye'nin Şehirleri\n"
     ]
    }
   ],
   "source": [
    "string_tr = \"Türkiye'nin\"\n",
    "string_tr_2 = \"Şehirleri\"\n",
    "\n",
    "joined_string = string_tr + ' ' + string_tr_2\n",
    "print(joined_string)"
   ]
  },
  {
   "cell_type": "code",
   "execution_count": 55,
   "id": "ddbb383f",
   "metadata": {},
   "outputs": [],
   "source": [
    "city = 'New York'\n",
    "fstring = f\"{city} Amerika şehirlerindendir\""
   ]
  },
  {
   "cell_type": "code",
   "execution_count": 57,
   "id": "4c4def9a",
   "metadata": {},
   "outputs": [
    {
     "name": "stdout",
     "output_type": "stream",
     "text": [
      "New York Amerika şehirlerindendir\n"
     ]
    }
   ],
   "source": [
    "print(fstring)"
   ]
  },
  {
   "cell_type": "code",
   "execution_count": 59,
   "id": "146158ea",
   "metadata": {},
   "outputs": [
    {
     "name": "stdout",
     "output_type": "stream",
     "text": [
      "Türkiyenin 81 şehri vardır.\n"
     ]
    }
   ],
   "source": [
    "city_count = 81\n",
    "tr_city = f\"Türkiyenin {city_count} şehri vardır.\"\n",
    "print(tr_city)"
   ]
  },
  {
   "cell_type": "markdown",
   "id": "8d6482de",
   "metadata": {},
   "source": [
    "# boolean format"
   ]
  },
  {
   "cell_type": "code",
   "execution_count": 62,
   "id": "190e3d14",
   "metadata": {},
   "outputs": [],
   "source": [
    "a = True\n",
    "b = False"
   ]
  },
  {
   "cell_type": "code",
   "execution_count": 64,
   "id": "0b858f41",
   "metadata": {},
   "outputs": [
    {
     "name": "stdout",
     "output_type": "stream",
     "text": [
      "True\n"
     ]
    }
   ],
   "source": [
    "print(a)"
   ]
  },
  {
   "cell_type": "code",
   "execution_count": 66,
   "id": "0a535d9e",
   "metadata": {},
   "outputs": [
    {
     "name": "stdout",
     "output_type": "stream",
     "text": [
      "True\n"
     ]
    }
   ],
   "source": [
    "age = 18 \n",
    "adult1 = age >= 18\n",
    "print(adult1)"
   ]
  },
  {
   "cell_type": "code",
   "execution_count": 68,
   "id": "e53856b1",
   "metadata": {},
   "outputs": [
    {
     "name": "stdout",
     "output_type": "stream",
     "text": [
      "False\n"
     ]
    }
   ],
   "source": [
    "age_2 = 5\n",
    "adult2 = age_2 >= 18\n",
    "print(adult2)"
   ]
  },
  {
   "cell_type": "markdown",
   "id": "73332d2b",
   "metadata": {},
   "source": [
    "- `<` (küçültür)\n",
    "- `<=` (küçük veya eşittir)\n",
    "- `>` (büyüktür)\n",
    "- `>=` (büyük veya eşittir)\n",
    "- `==` (eşittir)\n",
    "- `!=` (eşit değildir)"
   ]
  },
  {
   "cell_type": "code",
   "execution_count": 71,
   "id": "2280ba1a",
   "metadata": {},
   "outputs": [
    {
     "name": "stdout",
     "output_type": "stream",
     "text": [
      "False\n"
     ]
    }
   ],
   "source": [
    "print(3==5)"
   ]
  },
  {
   "cell_type": "code",
   "execution_count": 73,
   "id": "ab4e6df9",
   "metadata": {},
   "outputs": [],
   "source": [
    "a=3\n",
    "b=5\n",
    "\n"
   ]
  },
  {
   "cell_type": "code",
   "execution_count": 75,
   "id": "13742b6d",
   "metadata": {},
   "outputs": [
    {
     "data": {
      "text/plain": [
       "False"
      ]
     },
     "execution_count": 75,
     "metadata": {},
     "output_type": "execute_result"
    }
   ],
   "source": [
    "a==b"
   ]
  },
  {
   "cell_type": "code",
   "execution_count": 77,
   "id": "95badceb",
   "metadata": {},
   "outputs": [
    {
     "data": {
      "text/plain": [
       "True"
      ]
     },
     "execution_count": 77,
     "metadata": {},
     "output_type": "execute_result"
    }
   ],
   "source": [
    "a < b"
   ]
  },
  {
   "cell_type": "code",
   "execution_count": 79,
   "id": "53f58445",
   "metadata": {},
   "outputs": [
    {
     "data": {
      "text/plain": [
       "False"
      ]
     },
     "execution_count": 79,
     "metadata": {},
     "output_type": "execute_result"
    }
   ],
   "source": [
    "a > b"
   ]
  },
  {
   "cell_type": "code",
   "execution_count": 81,
   "id": "e6ef18c0",
   "metadata": {},
   "outputs": [
    {
     "data": {
      "text/plain": [
       "True"
      ]
     },
     "execution_count": 81,
     "metadata": {},
     "output_type": "execute_result"
    }
   ],
   "source": [
    "a != b "
   ]
  },
  {
   "cell_type": "markdown",
   "id": "797dbe15",
   "metadata": {},
   "source": [
    "# data type change"
   ]
  },
  {
   "cell_type": "code",
   "execution_count": 84,
   "id": "0c91bc8f",
   "metadata": {},
   "outputs": [
    {
     "data": {
      "text/plain": [
       "str"
      ]
     },
     "execution_count": 84,
     "metadata": {},
     "output_type": "execute_result"
    }
   ],
   "source": [
    "age = \"18\"\n",
    "type(age)"
   ]
  },
  {
   "cell_type": "code",
   "execution_count": 86,
   "id": "2b62bdde",
   "metadata": {},
   "outputs": [
    {
     "data": {
      "text/plain": [
       "int"
      ]
     },
     "execution_count": 86,
     "metadata": {},
     "output_type": "execute_result"
    }
   ],
   "source": [
    "age = int(age)\n",
    "type(age)"
   ]
  },
  {
   "cell_type": "code",
   "execution_count": 88,
   "id": "c951c2fb",
   "metadata": {},
   "outputs": [],
   "source": [
    "average = 18.3"
   ]
  },
  {
   "cell_type": "code",
   "execution_count": 90,
   "id": "de5f8b46",
   "metadata": {},
   "outputs": [
    {
     "data": {
      "text/plain": [
       "float"
      ]
     },
     "execution_count": 90,
     "metadata": {},
     "output_type": "execute_result"
    }
   ],
   "source": [
    "type(average)"
   ]
  },
  {
   "cell_type": "code",
   "execution_count": 92,
   "id": "3ffa4fd7",
   "metadata": {},
   "outputs": [],
   "source": [
    "average = int(average)"
   ]
  },
  {
   "cell_type": "code",
   "execution_count": 94,
   "id": "10b5ea9d",
   "metadata": {},
   "outputs": [
    {
     "data": {
      "text/plain": [
       "int"
      ]
     },
     "execution_count": 94,
     "metadata": {},
     "output_type": "execute_result"
    }
   ],
   "source": [
    "type(average)"
   ]
  },
  {
   "cell_type": "code",
   "execution_count": 96,
   "id": "09a36440",
   "metadata": {},
   "outputs": [],
   "source": [
    "average = float(average)"
   ]
  },
  {
   "cell_type": "code",
   "execution_count": 98,
   "id": "a5f7122a",
   "metadata": {},
   "outputs": [
    {
     "data": {
      "text/plain": [
       "float"
      ]
     },
     "execution_count": 98,
     "metadata": {},
     "output_type": "execute_result"
    }
   ],
   "source": [
    "type(average)"
   ]
  },
  {
   "cell_type": "code",
   "execution_count": 100,
   "id": "44ff6bf8",
   "metadata": {},
   "outputs": [
    {
     "data": {
      "text/plain": [
       "18.0"
      ]
     },
     "execution_count": 100,
     "metadata": {},
     "output_type": "execute_result"
    }
   ],
   "source": [
    "average"
   ]
  },
  {
   "cell_type": "code",
   "execution_count": 102,
   "id": "019662d7",
   "metadata": {},
   "outputs": [
    {
     "data": {
      "text/plain": [
       "str"
      ]
     },
     "execution_count": 102,
     "metadata": {},
     "output_type": "execute_result"
    }
   ],
   "source": [
    "average = str(average)\n",
    "type(average)"
   ]
  },
  {
   "cell_type": "markdown",
   "id": "23aca7f1",
   "metadata": {},
   "source": [
    "# data input output"
   ]
  },
  {
   "cell_type": "code",
   "execution_count": 107,
   "id": "65d706bc",
   "metadata": {},
   "outputs": [
    {
     "name": "stdout",
     "output_type": "stream",
     "text": [
      "Veri Çıkışı\n"
     ]
    }
   ],
   "source": [
    "print('Veri Çıkışı')"
   ]
  },
  {
   "cell_type": "code",
   "execution_count": 109,
   "id": "7b87a582",
   "metadata": {},
   "outputs": [],
   "source": [
    "a = 'Hello'\n"
   ]
  },
  {
   "cell_type": "code",
   "execution_count": 111,
   "id": "1e3d55d1",
   "metadata": {},
   "outputs": [
    {
     "data": {
      "text/plain": [
       "'Hello'"
      ]
     },
     "execution_count": 111,
     "metadata": {},
     "output_type": "execute_result"
    }
   ],
   "source": [
    "a"
   ]
  },
  {
   "cell_type": "code",
   "execution_count": 113,
   "id": "838dce5f",
   "metadata": {},
   "outputs": [
    {
     "name": "stdout",
     "output_type": "stream",
     "text": [
      "Hello\n"
     ]
    }
   ],
   "source": [
    "print(a)"
   ]
  },
  {
   "cell_type": "code",
   "execution_count": 115,
   "id": "b21ceec5",
   "metadata": {},
   "outputs": [],
   "source": [
    "b = 3 "
   ]
  },
  {
   "cell_type": "code",
   "execution_count": 117,
   "id": "406e9249",
   "metadata": {},
   "outputs": [
    {
     "data": {
      "text/plain": [
       "3"
      ]
     },
     "execution_count": 117,
     "metadata": {},
     "output_type": "execute_result"
    }
   ],
   "source": [
    "b"
   ]
  },
  {
   "cell_type": "markdown",
   "id": "bcd6c355",
   "metadata": {},
   "source": [
    "## input"
   ]
  },
  {
   "cell_type": "code",
   "execution_count": 122,
   "id": "aef7431d",
   "metadata": {},
   "outputs": [
    {
     "name": "stdin",
     "output_type": "stream",
     "text": [
      "Yaşınızı girin:  30\n"
     ]
    }
   ],
   "source": [
    "a = int(input(\"Yaşınızı girin: \"))"
   ]
  },
  {
   "cell_type": "code",
   "execution_count": 124,
   "id": "f6b588b9",
   "metadata": {},
   "outputs": [
    {
     "data": {
      "text/plain": [
       "int"
      ]
     },
     "execution_count": 124,
     "metadata": {},
     "output_type": "execute_result"
    }
   ],
   "source": [
    "type(a)"
   ]
  },
  {
   "cell_type": "code",
   "execution_count": 126,
   "id": "cc1d9ee8",
   "metadata": {},
   "outputs": [
    {
     "data": {
      "text/plain": [
       "30"
      ]
     },
     "execution_count": 126,
     "metadata": {},
     "output_type": "execute_result"
    }
   ],
   "source": [
    "a"
   ]
  },
  {
   "cell_type": "code",
   "execution_count": 128,
   "id": "d543b54c",
   "metadata": {},
   "outputs": [
    {
     "name": "stdin",
     "output_type": "stream",
     "text": [
      "Bir şehir girin! istanbul\n"
     ]
    }
   ],
   "source": [
    "city = input(\"Bir şehir girin!\")"
   ]
  },
  {
   "cell_type": "code",
   "execution_count": 130,
   "id": "635289d2",
   "metadata": {},
   "outputs": [
    {
     "name": "stdout",
     "output_type": "stream",
     "text": [
      "istanbul\n"
     ]
    }
   ],
   "source": [
    "print(city)"
   ]
  },
  {
   "cell_type": "markdown",
   "id": "8731e3ea",
   "metadata": {},
   "source": [
    "# conditions"
   ]
  },
  {
   "cell_type": "markdown",
   "id": "69b6d5dd",
   "metadata": {},
   "source": [
    "if <koşul>:\n",
    "    <koşul doğruysa çalışacak kısım>\n",
    "else:\n",
    "    <koşul yanlışsa çalışacak kısım>"
   ]
  },
  {
   "cell_type": "code",
   "execution_count": 134,
   "id": "7935fac6",
   "metadata": {},
   "outputs": [],
   "source": [
    "city = \"İzmir\""
   ]
  },
  {
   "cell_type": "code",
   "execution_count": 136,
   "id": "8e5df843",
   "metadata": {
    "scrolled": true
   },
   "outputs": [
    {
     "name": "stdin",
     "output_type": "stream",
     "text": [
      "Şehir giriniz. istanbul\n"
     ]
    },
    {
     "name": "stdout",
     "output_type": "stream",
     "text": [
      "Şehir istanbul idi.\n"
     ]
    }
   ],
   "source": [
    "city = input(\"Şehir giriniz.\")\n",
    "if city == \"İzmir\":\n",
    "    print('Evet şehir İzmirdi.')\n",
    "else:\n",
    "    print(f\"Şehir {city} idi.\")"
   ]
  },
  {
   "cell_type": "markdown",
   "id": "22348dda",
   "metadata": {},
   "source": [
    "### elif"
   ]
  },
  {
   "cell_type": "code",
   "execution_count": 139,
   "id": "460ba452",
   "metadata": {},
   "outputs": [
    {
     "name": "stdin",
     "output_type": "stream",
     "text": [
      "Şehir giriniz. istanbul\n"
     ]
    },
    {
     "name": "stdout",
     "output_type": "stream",
     "text": [
      "Hayır, şehir istanbul idi.\n"
     ]
    }
   ],
   "source": [
    "city = input(\"Şehir giriniz.\")\n",
    "if city == \"İzmir\":\n",
    "    print('Evet şehir İzmirdi.')\n",
    "elif city == \"İstanbul\":\n",
    "    print('Evet şehir İstanbuldu')\n",
    "elif city == \"Ankara\":\n",
    "    print('Evet şehir Ankaraydı.')    \n",
    "else:\n",
    "    print(f\"Hayır, şehir {city} idi.\")"
   ]
  },
  {
   "cell_type": "code",
   "execution_count": 141,
   "id": "84221182",
   "metadata": {},
   "outputs": [
    {
     "name": "stdin",
     "output_type": "stream",
     "text": [
      "Yaşınızı girin:  30\n"
     ]
    },
    {
     "name": "stdout",
     "output_type": "stream",
     "text": [
      "Yaşınız 25 yaşından büyük.\n"
     ]
    }
   ],
   "source": [
    "age = int(input('Yaşınızı girin: '))\n",
    "\n",
    "if age < 0:\n",
    "    print(\"Yaşınızı yalnış girdiniz, O yaşından küçük olamazsınız!\")\n",
    "elif age < 18:\n",
    "    print(\"Yaşınız 18 yaşından küçük.\")\n",
    "elif age < 25:\n",
    "    print(\"Yaşınız 25 yaşından küçük.\")\n",
    "else:\n",
    "    print(\"Yaşınız 25 yaşından büyük.\")"
   ]
  },
  {
   "cell_type": "code",
   "execution_count": 143,
   "id": "f54174ee",
   "metadata": {},
   "outputs": [
    {
     "name": "stdout",
     "output_type": "stream",
     "text": [
      "Taras\n"
     ]
    }
   ],
   "source": [
    "name = 'Taras'\n",
    "\n",
    "if name:\n",
    "    print(name)"
   ]
  },
  {
   "cell_type": "code",
   "execution_count": 145,
   "id": "fab96c82",
   "metadata": {},
   "outputs": [
    {
     "name": "stdout",
     "output_type": "stream",
     "text": [
      "User Taras can rent a car\n"
     ]
    }
   ],
   "source": [
    "name = \"Taras\"\n",
    "age = 22\n",
    "has_driver_licence = True\n",
    "\n",
    "if name and age >= 18 and has_driver_licence:\n",
    "    print(f\"User {name} can rent a car\")"
   ]
  },
  {
   "cell_type": "code",
   "execution_count": 147,
   "id": "0601ad93",
   "metadata": {},
   "outputs": [
    {
     "data": {
      "text/plain": [
       "False"
      ]
     },
     "execution_count": 147,
     "metadata": {},
     "output_type": "execute_result"
    }
   ],
   "source": [
    "True and False"
   ]
  },
  {
   "cell_type": "code",
   "execution_count": 149,
   "id": "6a8b23b1",
   "metadata": {},
   "outputs": [
    {
     "data": {
      "text/plain": [
       "True"
      ]
     },
     "execution_count": 149,
     "metadata": {},
     "output_type": "execute_result"
    }
   ],
   "source": [
    "True and True"
   ]
  },
  {
   "cell_type": "code",
   "execution_count": 151,
   "id": "b74bc4bc",
   "metadata": {},
   "outputs": [
    {
     "data": {
      "text/plain": [
       "False"
      ]
     },
     "execution_count": 151,
     "metadata": {},
     "output_type": "execute_result"
    }
   ],
   "source": [
    "False and False "
   ]
  },
  {
   "cell_type": "code",
   "execution_count": 153,
   "id": "612328b1",
   "metadata": {},
   "outputs": [
    {
     "data": {
      "text/plain": [
       "False"
      ]
     },
     "execution_count": 153,
     "metadata": {},
     "output_type": "execute_result"
    }
   ],
   "source": [
    "5 > 3 and 3 > 5"
   ]
  },
  {
   "cell_type": "code",
   "execution_count": 155,
   "id": "5133ad81",
   "metadata": {},
   "outputs": [
    {
     "data": {
      "text/plain": [
       "True"
      ]
     },
     "execution_count": 155,
     "metadata": {},
     "output_type": "execute_result"
    }
   ],
   "source": [
    "True or False "
   ]
  },
  {
   "cell_type": "code",
   "execution_count": 157,
   "id": "7dfb9e96",
   "metadata": {},
   "outputs": [
    {
     "data": {
      "text/plain": [
       "True"
      ]
     },
     "execution_count": 157,
     "metadata": {},
     "output_type": "execute_result"
    }
   ],
   "source": [
    "True or True"
   ]
  },
  {
   "cell_type": "code",
   "execution_count": 159,
   "id": "1286362e",
   "metadata": {},
   "outputs": [
    {
     "data": {
      "text/plain": [
       "False"
      ]
     },
     "execution_count": 159,
     "metadata": {},
     "output_type": "execute_result"
    }
   ],
   "source": [
    "False or False"
   ]
  },
  {
   "cell_type": "code",
   "execution_count": 161,
   "id": "3c4d232f",
   "metadata": {},
   "outputs": [
    {
     "name": "stdout",
     "output_type": "stream",
     "text": [
      "User Taras can rent a car\n"
     ]
    }
   ],
   "source": [
    "if name and age >= 18 and has_driver_licence:\n",
    "    print(f\"User {name} can rent a car\")"
   ]
  },
  {
   "cell_type": "code",
   "execution_count": null,
   "id": "94c49640",
   "metadata": {},
   "outputs": [],
   "source": [
    "is_weekend = input(\"Bugün izin günü mü? Evet/Hayır \")\n",
    "hour = int(input(\"Saat kaç? \"))\n",
    "\n",
    "if is_weekend != \"Hayır\" and is_weekend != \"Evet\":\n",
    "    print(\"Evet veya Hayır girin.\")\n",
    "    is_weekend = input(\"Bugün izin günü mü? Evet/Hayır \")\n",
    "\n",
    "    if is_weekend == \"Hayır\" and hour == 8:\n",
    "        print(\"Kalkıp işe gitme zamanı!\")\n",
    "\n",
    "    elif is_weekend == \"Evet\" and hour == 10:\n",
    "        print(\"Kalkın ve tatilinizin tadını çıkarın\")\n",
    "else:\n",
    "    if is_weekend == \"Hayır\" and hour == 8:\n",
    "        print(\"Kalkıp işe gitme zamanı!\")\n",
    "\n",
    "    elif is_weekend == \"Evet\" and hour == 10:\n",
    "        print(\"Kalkın ve tatilinizin tadını çıkarın\")"
   ]
  },
  {
   "cell_type": "code",
   "execution_count": null,
   "id": "31865d60",
   "metadata": {},
   "outputs": [],
   "source": []
  }
 ],
 "metadata": {
  "kernelspec": {
   "display_name": "Python 3 (ipykernel)",
   "language": "python",
   "name": "python3"
  },
  "language_info": {
   "codemirror_mode": {
    "name": "ipython",
    "version": 3
   },
   "file_extension": ".py",
   "mimetype": "text/x-python",
   "name": "python",
   "nbconvert_exporter": "python",
   "pygments_lexer": "ipython3",
   "version": "3.11.5"
  }
 },
 "nbformat": 4,
 "nbformat_minor": 5
}
