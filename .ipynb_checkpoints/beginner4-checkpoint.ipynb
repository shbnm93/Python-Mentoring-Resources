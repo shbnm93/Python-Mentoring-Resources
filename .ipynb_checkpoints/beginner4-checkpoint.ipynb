{
 "cells": [
  {
   "cell_type": "code",
   "execution_count": 1,
   "id": "2149ed7f",
   "metadata": {},
   "outputs": [],
   "source": [
    "import pandas as pd"
   ]
  },
  {
   "cell_type": "code",
   "execution_count": 2,
   "id": "09e59d5a",
   "metadata": {},
   "outputs": [
    {
     "name": "stdout",
     "output_type": "stream",
     "text": [
      "            name                          email           phone  favorite\n",
      "1  Allen Raymond      nulla.ante@vestibul.co.uk  (992) 914-3792     False\n",
      "2    Chaim Lewis            dui.in@egetlacus.ca  (294) 840-6685     False\n",
      "3   Kennedy Lane  mattis.Cras@nonenimMauris.net  (542) 451-7038      True\n",
      "4     Wylie Pope              est@utquamvel.net  (692) 802-2949     False\n",
      "5  Cyrus Jackson         nibh@semsempererat.com  (501) 472-5218      True\n"
     ]
    }
   ],
   "source": [
    "contacts = pd.DataFrame(\n",
    "    {\n",
    "        \"name\": [\n",
    "            \"Allen Raymond\",\n",
    "            \"Chaim Lewis\",\n",
    "            \"Kennedy Lane\",\n",
    "            \"Wylie Pope\",\n",
    "            \"Cyrus Jackson\",\n",
    "        ],\n",
    "        \"email\": [\n",
    "            \"nulla.ante@vestibul.co.uk\",\n",
    "            \"dui.in@egetlacus.ca\",\n",
    "            \"mattis.Cras@nonenimMauris.net\",\n",
    "            \"est@utquamvel.net\",\n",
    "            \"nibh@semsempererat.com\",\n",
    "        ],\n",
    "        \"phone\": [\n",
    "            \"(992) 914-3792\",\n",
    "            \"(294) 840-6685\",\n",
    "            \"(542) 451-7038\",\n",
    "            \"(692) 802-2949\",\n",
    "            \"(501) 472-5218\",\n",
    "        ],\n",
    "        \"favorite\": [False, False, True, False, True],\n",
    "    },\n",
    "    index=[1, 2, 3, 4, 5],\n",
    ")\n",
    "\n",
    "print(contacts)"
   ]
  },
  {
   "cell_type": "code",
   "execution_count": 3,
   "id": "2ba91951",
   "metadata": {},
   "outputs": [],
   "source": [
    "contacts.set_index('name', inplace = True)"
   ]
  },
  {
   "cell_type": "code",
   "execution_count": 4,
   "id": "6c71d8b5",
   "metadata": {},
   "outputs": [
    {
     "data": {
      "text/html": [
       "<div>\n",
       "<style scoped>\n",
       "    .dataframe tbody tr th:only-of-type {\n",
       "        vertical-align: middle;\n",
       "    }\n",
       "\n",
       "    .dataframe tbody tr th {\n",
       "        vertical-align: top;\n",
       "    }\n",
       "\n",
       "    .dataframe thead th {\n",
       "        text-align: right;\n",
       "    }\n",
       "</style>\n",
       "<table border=\"1\" class=\"dataframe\">\n",
       "  <thead>\n",
       "    <tr style=\"text-align: right;\">\n",
       "      <th></th>\n",
       "      <th>email</th>\n",
       "      <th>phone</th>\n",
       "      <th>favorite</th>\n",
       "    </tr>\n",
       "    <tr>\n",
       "      <th>name</th>\n",
       "      <th></th>\n",
       "      <th></th>\n",
       "      <th></th>\n",
       "    </tr>\n",
       "  </thead>\n",
       "  <tbody>\n",
       "    <tr>\n",
       "      <th>Allen Raymond</th>\n",
       "      <td>nulla.ante@vestibul.co.uk</td>\n",
       "      <td>(992) 914-3792</td>\n",
       "      <td>False</td>\n",
       "    </tr>\n",
       "    <tr>\n",
       "      <th>Chaim Lewis</th>\n",
       "      <td>dui.in@egetlacus.ca</td>\n",
       "      <td>(294) 840-6685</td>\n",
       "      <td>False</td>\n",
       "    </tr>\n",
       "    <tr>\n",
       "      <th>Kennedy Lane</th>\n",
       "      <td>mattis.Cras@nonenimMauris.net</td>\n",
       "      <td>(542) 451-7038</td>\n",
       "      <td>True</td>\n",
       "    </tr>\n",
       "    <tr>\n",
       "      <th>Wylie Pope</th>\n",
       "      <td>est@utquamvel.net</td>\n",
       "      <td>(692) 802-2949</td>\n",
       "      <td>False</td>\n",
       "    </tr>\n",
       "    <tr>\n",
       "      <th>Cyrus Jackson</th>\n",
       "      <td>nibh@semsempererat.com</td>\n",
       "      <td>(501) 472-5218</td>\n",
       "      <td>True</td>\n",
       "    </tr>\n",
       "  </tbody>\n",
       "</table>\n",
       "</div>"
      ],
      "text/plain": [
       "                                       email           phone  favorite\n",
       "name                                                                  \n",
       "Allen Raymond      nulla.ante@vestibul.co.uk  (992) 914-3792     False\n",
       "Chaim Lewis              dui.in@egetlacus.ca  (294) 840-6685     False\n",
       "Kennedy Lane   mattis.Cras@nonenimMauris.net  (542) 451-7038      True\n",
       "Wylie Pope                 est@utquamvel.net  (692) 802-2949     False\n",
       "Cyrus Jackson         nibh@semsempererat.com  (501) 472-5218      True"
      ]
     },
     "execution_count": 4,
     "metadata": {},
     "output_type": "execute_result"
    }
   ],
   "source": [
    "contacts"
   ]
  },
  {
   "cell_type": "code",
   "execution_count": 5,
   "id": "6f4c5a88",
   "metadata": {},
   "outputs": [],
   "source": [
    "contacts.reset_index(inplace = True)"
   ]
  },
  {
   "cell_type": "code",
   "execution_count": 6,
   "id": "754305c6",
   "metadata": {},
   "outputs": [
    {
     "data": {
      "text/html": [
       "<div>\n",
       "<style scoped>\n",
       "    .dataframe tbody tr th:only-of-type {\n",
       "        vertical-align: middle;\n",
       "    }\n",
       "\n",
       "    .dataframe tbody tr th {\n",
       "        vertical-align: top;\n",
       "    }\n",
       "\n",
       "    .dataframe thead th {\n",
       "        text-align: right;\n",
       "    }\n",
       "</style>\n",
       "<table border=\"1\" class=\"dataframe\">\n",
       "  <thead>\n",
       "    <tr style=\"text-align: right;\">\n",
       "      <th></th>\n",
       "      <th>name</th>\n",
       "      <th>email</th>\n",
       "      <th>phone</th>\n",
       "      <th>favorite</th>\n",
       "    </tr>\n",
       "  </thead>\n",
       "  <tbody>\n",
       "    <tr>\n",
       "      <th>0</th>\n",
       "      <td>Allen Raymond</td>\n",
       "      <td>nulla.ante@vestibul.co.uk</td>\n",
       "      <td>(992) 914-3792</td>\n",
       "      <td>False</td>\n",
       "    </tr>\n",
       "    <tr>\n",
       "      <th>1</th>\n",
       "      <td>Chaim Lewis</td>\n",
       "      <td>dui.in@egetlacus.ca</td>\n",
       "      <td>(294) 840-6685</td>\n",
       "      <td>False</td>\n",
       "    </tr>\n",
       "    <tr>\n",
       "      <th>2</th>\n",
       "      <td>Kennedy Lane</td>\n",
       "      <td>mattis.Cras@nonenimMauris.net</td>\n",
       "      <td>(542) 451-7038</td>\n",
       "      <td>True</td>\n",
       "    </tr>\n",
       "    <tr>\n",
       "      <th>3</th>\n",
       "      <td>Wylie Pope</td>\n",
       "      <td>est@utquamvel.net</td>\n",
       "      <td>(692) 802-2949</td>\n",
       "      <td>False</td>\n",
       "    </tr>\n",
       "    <tr>\n",
       "      <th>4</th>\n",
       "      <td>Cyrus Jackson</td>\n",
       "      <td>nibh@semsempererat.com</td>\n",
       "      <td>(501) 472-5218</td>\n",
       "      <td>True</td>\n",
       "    </tr>\n",
       "  </tbody>\n",
       "</table>\n",
       "</div>"
      ],
      "text/plain": [
       "            name                          email           phone  favorite\n",
       "0  Allen Raymond      nulla.ante@vestibul.co.uk  (992) 914-3792     False\n",
       "1    Chaim Lewis            dui.in@egetlacus.ca  (294) 840-6685     False\n",
       "2   Kennedy Lane  mattis.Cras@nonenimMauris.net  (542) 451-7038      True\n",
       "3     Wylie Pope              est@utquamvel.net  (692) 802-2949     False\n",
       "4  Cyrus Jackson         nibh@semsempererat.com  (501) 472-5218      True"
      ]
     },
     "execution_count": 6,
     "metadata": {},
     "output_type": "execute_result"
    }
   ],
   "source": [
    "contacts"
   ]
  },
  {
   "cell_type": "code",
   "execution_count": 7,
   "id": "b76a99f5",
   "metadata": {},
   "outputs": [
    {
     "data": {
      "text/plain": [
       "name        object\n",
       "email       object\n",
       "phone       object\n",
       "favorite      bool\n",
       "dtype: object"
      ]
     },
     "execution_count": 7,
     "metadata": {},
     "output_type": "execute_result"
    }
   ],
   "source": [
    "contacts.dtypes"
   ]
  },
  {
   "cell_type": "code",
   "execution_count": 8,
   "id": "21096fb3",
   "metadata": {},
   "outputs": [],
   "source": [
    "contacts[\"favorite\"] = contacts[\"favorite\"].astype(\"int64\")"
   ]
  },
  {
   "cell_type": "code",
   "execution_count": 9,
   "id": "1caf9a70",
   "metadata": {},
   "outputs": [
    {
     "data": {
      "text/html": [
       "<div>\n",
       "<style scoped>\n",
       "    .dataframe tbody tr th:only-of-type {\n",
       "        vertical-align: middle;\n",
       "    }\n",
       "\n",
       "    .dataframe tbody tr th {\n",
       "        vertical-align: top;\n",
       "    }\n",
       "\n",
       "    .dataframe thead th {\n",
       "        text-align: right;\n",
       "    }\n",
       "</style>\n",
       "<table border=\"1\" class=\"dataframe\">\n",
       "  <thead>\n",
       "    <tr style=\"text-align: right;\">\n",
       "      <th></th>\n",
       "      <th>name</th>\n",
       "      <th>email</th>\n",
       "      <th>phone</th>\n",
       "      <th>favorite</th>\n",
       "    </tr>\n",
       "  </thead>\n",
       "  <tbody>\n",
       "    <tr>\n",
       "      <th>0</th>\n",
       "      <td>Allen Raymond</td>\n",
       "      <td>nulla.ante@vestibul.co.uk</td>\n",
       "      <td>(992) 914-3792</td>\n",
       "      <td>0</td>\n",
       "    </tr>\n",
       "    <tr>\n",
       "      <th>1</th>\n",
       "      <td>Chaim Lewis</td>\n",
       "      <td>dui.in@egetlacus.ca</td>\n",
       "      <td>(294) 840-6685</td>\n",
       "      <td>0</td>\n",
       "    </tr>\n",
       "    <tr>\n",
       "      <th>2</th>\n",
       "      <td>Kennedy Lane</td>\n",
       "      <td>mattis.Cras@nonenimMauris.net</td>\n",
       "      <td>(542) 451-7038</td>\n",
       "      <td>1</td>\n",
       "    </tr>\n",
       "    <tr>\n",
       "      <th>3</th>\n",
       "      <td>Wylie Pope</td>\n",
       "      <td>est@utquamvel.net</td>\n",
       "      <td>(692) 802-2949</td>\n",
       "      <td>0</td>\n",
       "    </tr>\n",
       "    <tr>\n",
       "      <th>4</th>\n",
       "      <td>Cyrus Jackson</td>\n",
       "      <td>nibh@semsempererat.com</td>\n",
       "      <td>(501) 472-5218</td>\n",
       "      <td>1</td>\n",
       "    </tr>\n",
       "  </tbody>\n",
       "</table>\n",
       "</div>"
      ],
      "text/plain": [
       "            name                          email           phone  favorite\n",
       "0  Allen Raymond      nulla.ante@vestibul.co.uk  (992) 914-3792         0\n",
       "1    Chaim Lewis            dui.in@egetlacus.ca  (294) 840-6685         0\n",
       "2   Kennedy Lane  mattis.Cras@nonenimMauris.net  (542) 451-7038         1\n",
       "3     Wylie Pope              est@utquamvel.net  (692) 802-2949         0\n",
       "4  Cyrus Jackson         nibh@semsempererat.com  (501) 472-5218         1"
      ]
     },
     "execution_count": 9,
     "metadata": {},
     "output_type": "execute_result"
    }
   ],
   "source": [
    "contacts"
   ]
  },
  {
   "cell_type": "code",
   "execution_count": 10,
   "id": "9921ab83",
   "metadata": {},
   "outputs": [
    {
     "data": {
      "text/plain": [
       "name        object\n",
       "email       object\n",
       "phone       object\n",
       "favorite     int64\n",
       "dtype: object"
      ]
     },
     "execution_count": 10,
     "metadata": {},
     "output_type": "execute_result"
    }
   ],
   "source": [
    "contacts.dtypes"
   ]
  },
  {
   "cell_type": "code",
   "execution_count": 11,
   "id": "feb9ac2a",
   "metadata": {},
   "outputs": [],
   "source": [
    "contacts.rename(columns = {\"name\": \"full_name\", \"email\": \"mail_adress\"}, inplace = True)"
   ]
  },
  {
   "cell_type": "code",
   "execution_count": 12,
   "id": "4b2fc090",
   "metadata": {},
   "outputs": [
    {
     "data": {
      "text/html": [
       "<div>\n",
       "<style scoped>\n",
       "    .dataframe tbody tr th:only-of-type {\n",
       "        vertical-align: middle;\n",
       "    }\n",
       "\n",
       "    .dataframe tbody tr th {\n",
       "        vertical-align: top;\n",
       "    }\n",
       "\n",
       "    .dataframe thead th {\n",
       "        text-align: right;\n",
       "    }\n",
       "</style>\n",
       "<table border=\"1\" class=\"dataframe\">\n",
       "  <thead>\n",
       "    <tr style=\"text-align: right;\">\n",
       "      <th></th>\n",
       "      <th>full_name</th>\n",
       "      <th>mail_adress</th>\n",
       "      <th>phone</th>\n",
       "      <th>favorite</th>\n",
       "    </tr>\n",
       "  </thead>\n",
       "  <tbody>\n",
       "    <tr>\n",
       "      <th>0</th>\n",
       "      <td>Allen Raymond</td>\n",
       "      <td>nulla.ante@vestibul.co.uk</td>\n",
       "      <td>(992) 914-3792</td>\n",
       "      <td>0</td>\n",
       "    </tr>\n",
       "    <tr>\n",
       "      <th>1</th>\n",
       "      <td>Chaim Lewis</td>\n",
       "      <td>dui.in@egetlacus.ca</td>\n",
       "      <td>(294) 840-6685</td>\n",
       "      <td>0</td>\n",
       "    </tr>\n",
       "    <tr>\n",
       "      <th>2</th>\n",
       "      <td>Kennedy Lane</td>\n",
       "      <td>mattis.Cras@nonenimMauris.net</td>\n",
       "      <td>(542) 451-7038</td>\n",
       "      <td>1</td>\n",
       "    </tr>\n",
       "    <tr>\n",
       "      <th>3</th>\n",
       "      <td>Wylie Pope</td>\n",
       "      <td>est@utquamvel.net</td>\n",
       "      <td>(692) 802-2949</td>\n",
       "      <td>0</td>\n",
       "    </tr>\n",
       "    <tr>\n",
       "      <th>4</th>\n",
       "      <td>Cyrus Jackson</td>\n",
       "      <td>nibh@semsempererat.com</td>\n",
       "      <td>(501) 472-5218</td>\n",
       "      <td>1</td>\n",
       "    </tr>\n",
       "  </tbody>\n",
       "</table>\n",
       "</div>"
      ],
      "text/plain": [
       "       full_name                    mail_adress           phone  favorite\n",
       "0  Allen Raymond      nulla.ante@vestibul.co.uk  (992) 914-3792         0\n",
       "1    Chaim Lewis            dui.in@egetlacus.ca  (294) 840-6685         0\n",
       "2   Kennedy Lane  mattis.Cras@nonenimMauris.net  (542) 451-7038         1\n",
       "3     Wylie Pope              est@utquamvel.net  (692) 802-2949         0\n",
       "4  Cyrus Jackson         nibh@semsempererat.com  (501) 472-5218         1"
      ]
     },
     "execution_count": 12,
     "metadata": {},
     "output_type": "execute_result"
    }
   ],
   "source": [
    "contacts"
   ]
  },
  {
   "cell_type": "code",
   "execution_count": 13,
   "id": "20230767",
   "metadata": {},
   "outputs": [],
   "source": [
    "import numpy as np"
   ]
  },
  {
   "cell_type": "code",
   "execution_count": 14,
   "id": "f324674b",
   "metadata": {},
   "outputs": [],
   "source": [
    "df = pd.DataFrame({\n",
    "    'A': [1, np.nan, 3],\n",
    "    'B': [np.nan, 5, np.nan]\n",
    "})"
   ]
  },
  {
   "cell_type": "code",
   "execution_count": 15,
   "id": "00c19dc0",
   "metadata": {},
   "outputs": [
    {
     "data": {
      "text/html": [
       "<div>\n",
       "<style scoped>\n",
       "    .dataframe tbody tr th:only-of-type {\n",
       "        vertical-align: middle;\n",
       "    }\n",
       "\n",
       "    .dataframe tbody tr th {\n",
       "        vertical-align: top;\n",
       "    }\n",
       "\n",
       "    .dataframe thead th {\n",
       "        text-align: right;\n",
       "    }\n",
       "</style>\n",
       "<table border=\"1\" class=\"dataframe\">\n",
       "  <thead>\n",
       "    <tr style=\"text-align: right;\">\n",
       "      <th></th>\n",
       "      <th>A</th>\n",
       "      <th>B</th>\n",
       "    </tr>\n",
       "  </thead>\n",
       "  <tbody>\n",
       "    <tr>\n",
       "      <th>0</th>\n",
       "      <td>1.0</td>\n",
       "      <td>NaN</td>\n",
       "    </tr>\n",
       "    <tr>\n",
       "      <th>1</th>\n",
       "      <td>NaN</td>\n",
       "      <td>5.0</td>\n",
       "    </tr>\n",
       "    <tr>\n",
       "      <th>2</th>\n",
       "      <td>3.0</td>\n",
       "      <td>NaN</td>\n",
       "    </tr>\n",
       "  </tbody>\n",
       "</table>\n",
       "</div>"
      ],
      "text/plain": [
       "     A    B\n",
       "0  1.0  NaN\n",
       "1  NaN  5.0\n",
       "2  3.0  NaN"
      ]
     },
     "execution_count": 15,
     "metadata": {},
     "output_type": "execute_result"
    }
   ],
   "source": [
    "df"
   ]
  },
  {
   "cell_type": "code",
   "execution_count": 16,
   "id": "f4454913",
   "metadata": {},
   "outputs": [],
   "source": [
    "df.fillna(0, inplace = True)"
   ]
  },
  {
   "cell_type": "code",
   "execution_count": 17,
   "id": "47104b6c",
   "metadata": {},
   "outputs": [
    {
     "data": {
      "text/html": [
       "<div>\n",
       "<style scoped>\n",
       "    .dataframe tbody tr th:only-of-type {\n",
       "        vertical-align: middle;\n",
       "    }\n",
       "\n",
       "    .dataframe tbody tr th {\n",
       "        vertical-align: top;\n",
       "    }\n",
       "\n",
       "    .dataframe thead th {\n",
       "        text-align: right;\n",
       "    }\n",
       "</style>\n",
       "<table border=\"1\" class=\"dataframe\">\n",
       "  <thead>\n",
       "    <tr style=\"text-align: right;\">\n",
       "      <th></th>\n",
       "      <th>A</th>\n",
       "      <th>B</th>\n",
       "    </tr>\n",
       "  </thead>\n",
       "  <tbody>\n",
       "    <tr>\n",
       "      <th>0</th>\n",
       "      <td>1.0</td>\n",
       "      <td>0.0</td>\n",
       "    </tr>\n",
       "    <tr>\n",
       "      <th>1</th>\n",
       "      <td>0.0</td>\n",
       "      <td>5.0</td>\n",
       "    </tr>\n",
       "    <tr>\n",
       "      <th>2</th>\n",
       "      <td>3.0</td>\n",
       "      <td>0.0</td>\n",
       "    </tr>\n",
       "  </tbody>\n",
       "</table>\n",
       "</div>"
      ],
      "text/plain": [
       "     A    B\n",
       "0  1.0  0.0\n",
       "1  0.0  5.0\n",
       "2  3.0  0.0"
      ]
     },
     "execution_count": 17,
     "metadata": {},
     "output_type": "execute_result"
    }
   ],
   "source": [
    "df"
   ]
  },
  {
   "cell_type": "code",
   "execution_count": 18,
   "id": "7ab8baa2",
   "metadata": {},
   "outputs": [],
   "source": [
    "df_ffill = df.fillna(method = \"ffill\")\n",
    "df_bfill = df.fillna(method = \"bfill\")"
   ]
  },
  {
   "cell_type": "code",
   "execution_count": 19,
   "id": "bcb5d201",
   "metadata": {},
   "outputs": [
    {
     "data": {
      "text/html": [
       "<div>\n",
       "<style scoped>\n",
       "    .dataframe tbody tr th:only-of-type {\n",
       "        vertical-align: middle;\n",
       "    }\n",
       "\n",
       "    .dataframe tbody tr th {\n",
       "        vertical-align: top;\n",
       "    }\n",
       "\n",
       "    .dataframe thead th {\n",
       "        text-align: right;\n",
       "    }\n",
       "</style>\n",
       "<table border=\"1\" class=\"dataframe\">\n",
       "  <thead>\n",
       "    <tr style=\"text-align: right;\">\n",
       "      <th></th>\n",
       "      <th>A</th>\n",
       "      <th>B</th>\n",
       "    </tr>\n",
       "  </thead>\n",
       "  <tbody>\n",
       "    <tr>\n",
       "      <th>0</th>\n",
       "      <td>1.0</td>\n",
       "      <td>0.0</td>\n",
       "    </tr>\n",
       "    <tr>\n",
       "      <th>1</th>\n",
       "      <td>0.0</td>\n",
       "      <td>5.0</td>\n",
       "    </tr>\n",
       "    <tr>\n",
       "      <th>2</th>\n",
       "      <td>3.0</td>\n",
       "      <td>0.0</td>\n",
       "    </tr>\n",
       "  </tbody>\n",
       "</table>\n",
       "</div>"
      ],
      "text/plain": [
       "     A    B\n",
       "0  1.0  0.0\n",
       "1  0.0  5.0\n",
       "2  3.0  0.0"
      ]
     },
     "execution_count": 19,
     "metadata": {},
     "output_type": "execute_result"
    }
   ],
   "source": [
    "df_ffill"
   ]
  },
  {
   "cell_type": "code",
   "execution_count": 20,
   "id": "9daa723d",
   "metadata": {},
   "outputs": [
    {
     "data": {
      "text/html": [
       "<div>\n",
       "<style scoped>\n",
       "    .dataframe tbody tr th:only-of-type {\n",
       "        vertical-align: middle;\n",
       "    }\n",
       "\n",
       "    .dataframe tbody tr th {\n",
       "        vertical-align: top;\n",
       "    }\n",
       "\n",
       "    .dataframe thead th {\n",
       "        text-align: right;\n",
       "    }\n",
       "</style>\n",
       "<table border=\"1\" class=\"dataframe\">\n",
       "  <thead>\n",
       "    <tr style=\"text-align: right;\">\n",
       "      <th></th>\n",
       "      <th>A</th>\n",
       "      <th>B</th>\n",
       "    </tr>\n",
       "  </thead>\n",
       "  <tbody>\n",
       "    <tr>\n",
       "      <th>0</th>\n",
       "      <td>1.0</td>\n",
       "      <td>0.0</td>\n",
       "    </tr>\n",
       "    <tr>\n",
       "      <th>1</th>\n",
       "      <td>0.0</td>\n",
       "      <td>5.0</td>\n",
       "    </tr>\n",
       "    <tr>\n",
       "      <th>2</th>\n",
       "      <td>3.0</td>\n",
       "      <td>0.0</td>\n",
       "    </tr>\n",
       "  </tbody>\n",
       "</table>\n",
       "</div>"
      ],
      "text/plain": [
       "     A    B\n",
       "0  1.0  0.0\n",
       "1  0.0  5.0\n",
       "2  3.0  0.0"
      ]
     },
     "execution_count": 20,
     "metadata": {},
     "output_type": "execute_result"
    }
   ],
   "source": [
    "df_bfill"
   ]
  },
  {
   "cell_type": "code",
   "execution_count": 21,
   "id": "0dddf7dd",
   "metadata": {},
   "outputs": [],
   "source": [
    "df = pd.DataFrame({\n",
    "    'A': [1, np.nan, 3],\n",
    "    'B': [np.nan, 5, np.nan]\n",
    "})"
   ]
  },
  {
   "cell_type": "code",
   "execution_count": 22,
   "id": "e1d601f3",
   "metadata": {},
   "outputs": [
    {
     "data": {
      "text/html": [
       "<div>\n",
       "<style scoped>\n",
       "    .dataframe tbody tr th:only-of-type {\n",
       "        vertical-align: middle;\n",
       "    }\n",
       "\n",
       "    .dataframe tbody tr th {\n",
       "        vertical-align: top;\n",
       "    }\n",
       "\n",
       "    .dataframe thead th {\n",
       "        text-align: right;\n",
       "    }\n",
       "</style>\n",
       "<table border=\"1\" class=\"dataframe\">\n",
       "  <thead>\n",
       "    <tr style=\"text-align: right;\">\n",
       "      <th></th>\n",
       "      <th>A</th>\n",
       "      <th>B</th>\n",
       "    </tr>\n",
       "  </thead>\n",
       "  <tbody>\n",
       "    <tr>\n",
       "      <th>0</th>\n",
       "      <td>1.0</td>\n",
       "      <td>NaN</td>\n",
       "    </tr>\n",
       "    <tr>\n",
       "      <th>1</th>\n",
       "      <td>NaN</td>\n",
       "      <td>5.0</td>\n",
       "    </tr>\n",
       "    <tr>\n",
       "      <th>2</th>\n",
       "      <td>3.0</td>\n",
       "      <td>NaN</td>\n",
       "    </tr>\n",
       "  </tbody>\n",
       "</table>\n",
       "</div>"
      ],
      "text/plain": [
       "     A    B\n",
       "0  1.0  NaN\n",
       "1  NaN  5.0\n",
       "2  3.0  NaN"
      ]
     },
     "execution_count": 22,
     "metadata": {},
     "output_type": "execute_result"
    }
   ],
   "source": [
    "df"
   ]
  },
  {
   "cell_type": "code",
   "execution_count": 23,
   "id": "f5092ed1",
   "metadata": {},
   "outputs": [],
   "source": [
    "df.dropna(inplace = True)"
   ]
  },
  {
   "cell_type": "code",
   "execution_count": 24,
   "id": "1b9ebf89",
   "metadata": {},
   "outputs": [
    {
     "data": {
      "text/html": [
       "<div>\n",
       "<style scoped>\n",
       "    .dataframe tbody tr th:only-of-type {\n",
       "        vertical-align: middle;\n",
       "    }\n",
       "\n",
       "    .dataframe tbody tr th {\n",
       "        vertical-align: top;\n",
       "    }\n",
       "\n",
       "    .dataframe thead th {\n",
       "        text-align: right;\n",
       "    }\n",
       "</style>\n",
       "<table border=\"1\" class=\"dataframe\">\n",
       "  <thead>\n",
       "    <tr style=\"text-align: right;\">\n",
       "      <th></th>\n",
       "      <th>A</th>\n",
       "      <th>B</th>\n",
       "    </tr>\n",
       "  </thead>\n",
       "  <tbody>\n",
       "  </tbody>\n",
       "</table>\n",
       "</div>"
      ],
      "text/plain": [
       "Empty DataFrame\n",
       "Columns: [A, B]\n",
       "Index: []"
      ]
     },
     "execution_count": 24,
     "metadata": {},
     "output_type": "execute_result"
    }
   ],
   "source": [
    "df"
   ]
  },
  {
   "cell_type": "code",
   "execution_count": 25,
   "id": "ef31fbff",
   "metadata": {},
   "outputs": [],
   "source": [
    "df.dropna(axis = 1, inplace= True)"
   ]
  },
  {
   "cell_type": "code",
   "execution_count": 26,
   "id": "472dbf49",
   "metadata": {},
   "outputs": [
    {
     "data": {
      "text/html": [
       "<div>\n",
       "<style scoped>\n",
       "    .dataframe tbody tr th:only-of-type {\n",
       "        vertical-align: middle;\n",
       "    }\n",
       "\n",
       "    .dataframe tbody tr th {\n",
       "        vertical-align: top;\n",
       "    }\n",
       "\n",
       "    .dataframe thead th {\n",
       "        text-align: right;\n",
       "    }\n",
       "</style>\n",
       "<table border=\"1\" class=\"dataframe\">\n",
       "  <thead>\n",
       "    <tr style=\"text-align: right;\">\n",
       "      <th></th>\n",
       "      <th>A</th>\n",
       "      <th>B</th>\n",
       "    </tr>\n",
       "  </thead>\n",
       "  <tbody>\n",
       "  </tbody>\n",
       "</table>\n",
       "</div>"
      ],
      "text/plain": [
       "Empty DataFrame\n",
       "Columns: [A, B]\n",
       "Index: []"
      ]
     },
     "execution_count": 26,
     "metadata": {},
     "output_type": "execute_result"
    }
   ],
   "source": [
    "df"
   ]
  },
  {
   "cell_type": "code",
   "execution_count": 27,
   "id": "775f462c",
   "metadata": {},
   "outputs": [],
   "source": [
    "df.dropna(subset = [\"A\"], inplace=True)"
   ]
  },
  {
   "cell_type": "code",
   "execution_count": 28,
   "id": "cf7d0b1c",
   "metadata": {},
   "outputs": [
    {
     "data": {
      "text/html": [
       "<div>\n",
       "<style scoped>\n",
       "    .dataframe tbody tr th:only-of-type {\n",
       "        vertical-align: middle;\n",
       "    }\n",
       "\n",
       "    .dataframe tbody tr th {\n",
       "        vertical-align: top;\n",
       "    }\n",
       "\n",
       "    .dataframe thead th {\n",
       "        text-align: right;\n",
       "    }\n",
       "</style>\n",
       "<table border=\"1\" class=\"dataframe\">\n",
       "  <thead>\n",
       "    <tr style=\"text-align: right;\">\n",
       "      <th></th>\n",
       "      <th>A</th>\n",
       "      <th>B</th>\n",
       "    </tr>\n",
       "  </thead>\n",
       "  <tbody>\n",
       "  </tbody>\n",
       "</table>\n",
       "</div>"
      ],
      "text/plain": [
       "Empty DataFrame\n",
       "Columns: [A, B]\n",
       "Index: []"
      ]
     },
     "execution_count": 28,
     "metadata": {},
     "output_type": "execute_result"
    }
   ],
   "source": [
    "df"
   ]
  },
  {
   "cell_type": "markdown",
   "id": "849536bc",
   "metadata": {},
   "source": [
    "## farklı kaynaklar df oluşturma"
   ]
  },
  {
   "cell_type": "code",
   "execution_count": 30,
   "id": "1a03b99c",
   "metadata": {},
   "outputs": [],
   "source": [
    "df = pd.read_csv(r\"C:\\Users\\Ali\\Documents\\python\\google_ads_basic_daily_202409102241.csv\")"
   ]
  },
  {
   "cell_type": "code",
   "execution_count": 31,
   "id": "dfda492c",
   "metadata": {},
   "outputs": [
    {
     "data": {
      "text/html": [
       "<div>\n",
       "<style scoped>\n",
       "    .dataframe tbody tr th:only-of-type {\n",
       "        vertical-align: middle;\n",
       "    }\n",
       "\n",
       "    .dataframe tbody tr th {\n",
       "        vertical-align: top;\n",
       "    }\n",
       "\n",
       "    .dataframe thead th {\n",
       "        text-align: right;\n",
       "    }\n",
       "</style>\n",
       "<table border=\"1\" class=\"dataframe\">\n",
       "  <thead>\n",
       "    <tr style=\"text-align: right;\">\n",
       "      <th></th>\n",
       "      <th>ad_date</th>\n",
       "      <th>campaign_name</th>\n",
       "      <th>adset_name</th>\n",
       "      <th>spend</th>\n",
       "      <th>impressions</th>\n",
       "      <th>reach</th>\n",
       "      <th>clicks</th>\n",
       "      <th>leads</th>\n",
       "      <th>value</th>\n",
       "      <th>url_parameters</th>\n",
       "    </tr>\n",
       "  </thead>\n",
       "  <tbody>\n",
       "    <tr>\n",
       "      <th>0</th>\n",
       "      <td>2020-11-12</td>\n",
       "      <td>Discounts</td>\n",
       "      <td>True power</td>\n",
       "      <td>332</td>\n",
       "      <td>9124</td>\n",
       "      <td>2900</td>\n",
       "      <td>252</td>\n",
       "      <td>6</td>\n",
       "      <td>440</td>\n",
       "      <td>utm_source=google&amp;utm_medium=cpc&amp;utm_campaign=...</td>\n",
       "    </tr>\n",
       "    <tr>\n",
       "      <th>1</th>\n",
       "      <td>2020-11-12</td>\n",
       "      <td>Discounts</td>\n",
       "      <td>Upgrades</td>\n",
       "      <td>66</td>\n",
       "      <td>180</td>\n",
       "      <td>129</td>\n",
       "      <td>7</td>\n",
       "      <td>0</td>\n",
       "      <td>76</td>\n",
       "      <td>utm_source=google&amp;utm_medium=cpc&amp;utm_campaign=...</td>\n",
       "    </tr>\n",
       "    <tr>\n",
       "      <th>2</th>\n",
       "      <td>2020-11-13</td>\n",
       "      <td>Discounts</td>\n",
       "      <td>True power</td>\n",
       "      <td>1054</td>\n",
       "      <td>6449</td>\n",
       "      <td>4682</td>\n",
       "      <td>108</td>\n",
       "      <td>9</td>\n",
       "      <td>1357</td>\n",
       "      <td>utm_source=google&amp;utm_medium=cpc&amp;utm_campaign=...</td>\n",
       "    </tr>\n",
       "    <tr>\n",
       "      <th>3</th>\n",
       "      <td>2020-11-14</td>\n",
       "      <td>Discounts</td>\n",
       "      <td>Upgrades</td>\n",
       "      <td>1</td>\n",
       "      <td>7</td>\n",
       "      <td>6</td>\n",
       "      <td>0</td>\n",
       "      <td>0</td>\n",
       "      <td>1</td>\n",
       "      <td>utm_source=google&amp;utm_medium=cpc&amp;utm_campaign=...</td>\n",
       "    </tr>\n",
       "    <tr>\n",
       "      <th>4</th>\n",
       "      <td>2020-11-15</td>\n",
       "      <td>Discounts</td>\n",
       "      <td>True power</td>\n",
       "      <td>682</td>\n",
       "      <td>5210</td>\n",
       "      <td>1882</td>\n",
       "      <td>130</td>\n",
       "      <td>2</td>\n",
       "      <td>1000</td>\n",
       "      <td>utm_source=google&amp;utm_medium=cpc&amp;utm_campaign=...</td>\n",
       "    </tr>\n",
       "    <tr>\n",
       "      <th>...</th>\n",
       "      <td>...</td>\n",
       "      <td>...</td>\n",
       "      <td>...</td>\n",
       "      <td>...</td>\n",
       "      <td>...</td>\n",
       "      <td>...</td>\n",
       "      <td>...</td>\n",
       "      <td>...</td>\n",
       "      <td>...</td>\n",
       "      <td>...</td>\n",
       "    </tr>\n",
       "    <tr>\n",
       "      <th>1420</th>\n",
       "      <td>2022-10-29</td>\n",
       "      <td>Expansion</td>\n",
       "      <td>Products</td>\n",
       "      <td>49801</td>\n",
       "      <td>26075</td>\n",
       "      <td>15090</td>\n",
       "      <td>81</td>\n",
       "      <td>0</td>\n",
       "      <td>67070</td>\n",
       "      <td>utm_source=google&amp;utm_medium=cpc&amp;utm_campaign=...</td>\n",
       "    </tr>\n",
       "    <tr>\n",
       "      <th>1421</th>\n",
       "      <td>2022-10-30</td>\n",
       "      <td>Expansion</td>\n",
       "      <td>Products</td>\n",
       "      <td>41590</td>\n",
       "      <td>28477</td>\n",
       "      <td>10256</td>\n",
       "      <td>120</td>\n",
       "      <td>2</td>\n",
       "      <td>36189</td>\n",
       "      <td>utm_source=google&amp;utm_medium=cpc&amp;utm_campaign=...</td>\n",
       "    </tr>\n",
       "    <tr>\n",
       "      <th>1422</th>\n",
       "      <td>2022-10-31</td>\n",
       "      <td>Expansion</td>\n",
       "      <td>Products</td>\n",
       "      <td>14153</td>\n",
       "      <td>6922</td>\n",
       "      <td>4800</td>\n",
       "      <td>29</td>\n",
       "      <td>2</td>\n",
       "      <td>20471</td>\n",
       "      <td>utm_source=google&amp;utm_medium=cpc&amp;utm_campaign=...</td>\n",
       "    </tr>\n",
       "    <tr>\n",
       "      <th>1423</th>\n",
       "      <td>2022-11-01</td>\n",
       "      <td>Expansion</td>\n",
       "      <td>Products</td>\n",
       "      <td>0</td>\n",
       "      <td>0</td>\n",
       "      <td>0</td>\n",
       "      <td>0</td>\n",
       "      <td>0</td>\n",
       "      <td>0</td>\n",
       "      <td>utm_source=google&amp;utm_medium=cpc&amp;utm_campaign=...</td>\n",
       "    </tr>\n",
       "    <tr>\n",
       "      <th>1424</th>\n",
       "      <td>2022-11-05</td>\n",
       "      <td>Expansion</td>\n",
       "      <td>Products</td>\n",
       "      <td>0</td>\n",
       "      <td>0</td>\n",
       "      <td>0</td>\n",
       "      <td>0</td>\n",
       "      <td>0</td>\n",
       "      <td>0</td>\n",
       "      <td>utm_source=google&amp;utm_medium=cpc&amp;utm_campaign=...</td>\n",
       "    </tr>\n",
       "  </tbody>\n",
       "</table>\n",
       "<p>1425 rows × 10 columns</p>\n",
       "</div>"
      ],
      "text/plain": [
       "         ad_date campaign_name  adset_name  spend  impressions  reach  clicks  \\\n",
       "0     2020-11-12     Discounts  True power    332         9124   2900     252   \n",
       "1     2020-11-12     Discounts    Upgrades     66          180    129       7   \n",
       "2     2020-11-13     Discounts  True power   1054         6449   4682     108   \n",
       "3     2020-11-14     Discounts    Upgrades      1            7      6       0   \n",
       "4     2020-11-15     Discounts  True power    682         5210   1882     130   \n",
       "...          ...           ...         ...    ...          ...    ...     ...   \n",
       "1420  2022-10-29     Expansion    Products  49801        26075  15090      81   \n",
       "1421  2022-10-30     Expansion    Products  41590        28477  10256     120   \n",
       "1422  2022-10-31     Expansion    Products  14153         6922   4800      29   \n",
       "1423  2022-11-01     Expansion    Products      0            0      0       0   \n",
       "1424  2022-11-05     Expansion    Products      0            0      0       0   \n",
       "\n",
       "      leads  value                                     url_parameters  \n",
       "0         6    440  utm_source=google&utm_medium=cpc&utm_campaign=...  \n",
       "1         0     76  utm_source=google&utm_medium=cpc&utm_campaign=...  \n",
       "2         9   1357  utm_source=google&utm_medium=cpc&utm_campaign=...  \n",
       "3         0      1  utm_source=google&utm_medium=cpc&utm_campaign=...  \n",
       "4         2   1000  utm_source=google&utm_medium=cpc&utm_campaign=...  \n",
       "...     ...    ...                                                ...  \n",
       "1420      0  67070  utm_source=google&utm_medium=cpc&utm_campaign=...  \n",
       "1421      2  36189  utm_source=google&utm_medium=cpc&utm_campaign=...  \n",
       "1422      2  20471  utm_source=google&utm_medium=cpc&utm_campaign=...  \n",
       "1423      0      0  utm_source=google&utm_medium=cpc&utm_campaign=...  \n",
       "1424      0      0  utm_source=google&utm_medium=cpc&utm_campaign=...  \n",
       "\n",
       "[1425 rows x 10 columns]"
      ]
     },
     "execution_count": 31,
     "metadata": {},
     "output_type": "execute_result"
    }
   ],
   "source": [
    "df"
   ]
  },
  {
   "cell_type": "code",
   "execution_count": 32,
   "id": "747cb3ab",
   "metadata": {},
   "outputs": [],
   "source": [
    "# df.to_csv(path_or_buf = r\"C:\\Users\\Ali\\Documents\\desktop\")"
   ]
  },
  {
   "cell_type": "code",
   "execution_count": 33,
   "id": "35238905",
   "metadata": {},
   "outputs": [],
   "source": [
    "# excel_df = pd.read_excel('null_df.xlsx')"
   ]
  },
  {
   "cell_type": "code",
   "execution_count": 34,
   "id": "e10f1787",
   "metadata": {},
   "outputs": [],
   "source": [
    "df.to_excel('null_df.xlsx', sheet_name = 'null_sheet')"
   ]
  },
  {
   "cell_type": "code",
   "execution_count": 35,
   "id": "f81c7d7c",
   "metadata": {},
   "outputs": [
    {
     "name": "stdout",
     "output_type": "stream",
     "text": [
      "      İsim  Yaş   Uzmanlık\n",
      "0     Anna   21       Math\n",
      "1   Bohdan   22    Physics\n",
      "2    Olena   20    Biology\n",
      "3     Ivan   19  Chemistry\n",
      "4    Maria   23       Math\n",
      "5    Petro   22    Physics\n",
      "6   Sophia   21    Biology\n",
      "7      Max   20  Chemistry\n",
      "8  Natalia   19       Math\n",
      "9    Vadym   21    Physics\n"
     ]
    }
   ],
   "source": [
    "students_data = {\n",
    "    'İsim': ['Anna', 'Bohdan', 'Olena', 'Ivan', 'Maria', 'Petro', 'Sophia', 'Max', 'Natalia', 'Vadym'],\n",
    "    'Yaş': [21, 22, 20, 19, 23, 22, 21, 20, 19, 21],\n",
    "    'Uzmanlık': ['Math', 'Physics', 'Biology', 'Chemistry', 'Math', 'Physics', 'Biology', 'Chemistry', 'Math', 'Physics']\n",
    "}\n",
    "\n",
    "students_df = pd.DataFrame(students_data)\n",
    "print(students_df)"
   ]
  },
  {
   "cell_type": "code",
   "execution_count": 36,
   "id": "fd5f0a29",
   "metadata": {},
   "outputs": [],
   "source": [
    "older_students = students_df[(students_df[\"Yaş\"] > 20) | (students_df[\"Uzmanlık\"] == \"Physics\")]"
   ]
  },
  {
   "cell_type": "code",
   "execution_count": 37,
   "id": "9f762911",
   "metadata": {},
   "outputs": [
    {
     "data": {
      "text/html": [
       "<div>\n",
       "<style scoped>\n",
       "    .dataframe tbody tr th:only-of-type {\n",
       "        vertical-align: middle;\n",
       "    }\n",
       "\n",
       "    .dataframe tbody tr th {\n",
       "        vertical-align: top;\n",
       "    }\n",
       "\n",
       "    .dataframe thead th {\n",
       "        text-align: right;\n",
       "    }\n",
       "</style>\n",
       "<table border=\"1\" class=\"dataframe\">\n",
       "  <thead>\n",
       "    <tr style=\"text-align: right;\">\n",
       "      <th></th>\n",
       "      <th>İsim</th>\n",
       "      <th>Yaş</th>\n",
       "      <th>Uzmanlık</th>\n",
       "    </tr>\n",
       "  </thead>\n",
       "  <tbody>\n",
       "    <tr>\n",
       "      <th>0</th>\n",
       "      <td>Anna</td>\n",
       "      <td>21</td>\n",
       "      <td>Math</td>\n",
       "    </tr>\n",
       "    <tr>\n",
       "      <th>1</th>\n",
       "      <td>Bohdan</td>\n",
       "      <td>22</td>\n",
       "      <td>Physics</td>\n",
       "    </tr>\n",
       "    <tr>\n",
       "      <th>4</th>\n",
       "      <td>Maria</td>\n",
       "      <td>23</td>\n",
       "      <td>Math</td>\n",
       "    </tr>\n",
       "    <tr>\n",
       "      <th>5</th>\n",
       "      <td>Petro</td>\n",
       "      <td>22</td>\n",
       "      <td>Physics</td>\n",
       "    </tr>\n",
       "    <tr>\n",
       "      <th>6</th>\n",
       "      <td>Sophia</td>\n",
       "      <td>21</td>\n",
       "      <td>Biology</td>\n",
       "    </tr>\n",
       "    <tr>\n",
       "      <th>9</th>\n",
       "      <td>Vadym</td>\n",
       "      <td>21</td>\n",
       "      <td>Physics</td>\n",
       "    </tr>\n",
       "  </tbody>\n",
       "</table>\n",
       "</div>"
      ],
      "text/plain": [
       "     İsim  Yaş Uzmanlık\n",
       "0    Anna   21     Math\n",
       "1  Bohdan   22  Physics\n",
       "4   Maria   23     Math\n",
       "5   Petro   22  Physics\n",
       "6  Sophia   21  Biology\n",
       "9   Vadym   21  Physics"
      ]
     },
     "execution_count": 37,
     "metadata": {},
     "output_type": "execute_result"
    }
   ],
   "source": [
    "older_students"
   ]
  },
  {
   "cell_type": "code",
   "execution_count": 38,
   "id": "e1c78973",
   "metadata": {},
   "outputs": [],
   "source": [
    "older_students = students_df[(students_df[\"Yaş\"] < 20) & (students_df[\"İsim\"] == \"Bohdan\")]"
   ]
  },
  {
   "cell_type": "code",
   "execution_count": 39,
   "id": "1b26360d",
   "metadata": {},
   "outputs": [
    {
     "data": {
      "text/html": [
       "<div>\n",
       "<style scoped>\n",
       "    .dataframe tbody tr th:only-of-type {\n",
       "        vertical-align: middle;\n",
       "    }\n",
       "\n",
       "    .dataframe tbody tr th {\n",
       "        vertical-align: top;\n",
       "    }\n",
       "\n",
       "    .dataframe thead th {\n",
       "        text-align: right;\n",
       "    }\n",
       "</style>\n",
       "<table border=\"1\" class=\"dataframe\">\n",
       "  <thead>\n",
       "    <tr style=\"text-align: right;\">\n",
       "      <th></th>\n",
       "      <th>İsim</th>\n",
       "      <th>Yaş</th>\n",
       "      <th>Uzmanlık</th>\n",
       "    </tr>\n",
       "  </thead>\n",
       "  <tbody>\n",
       "  </tbody>\n",
       "</table>\n",
       "</div>"
      ],
      "text/plain": [
       "Empty DataFrame\n",
       "Columns: [İsim, Yaş, Uzmanlık]\n",
       "Index: []"
      ]
     },
     "execution_count": 39,
     "metadata": {},
     "output_type": "execute_result"
    }
   ],
   "source": [
    "older_students"
   ]
  },
  {
   "cell_type": "code",
   "execution_count": 40,
   "id": "76f45334",
   "metadata": {},
   "outputs": [
    {
     "name": "stdout",
     "output_type": "stream",
     "text": [
      "      İsim  Yaş   Uzmanlık\n",
      "0     Anna   21       Math\n",
      "1   Bohdan   22    Physics\n",
      "2    Olena   20    Biology\n",
      "3     Ivan   19  Chemistry\n",
      "4    Maria   23       Math\n",
      "5    Petro   22    Physics\n",
      "6   Sophia   21    Biology\n",
      "7      Max   20  Chemistry\n",
      "8  Natalia   19       Math\n",
      "9    Vadym   21    Physics\n"
     ]
    }
   ],
   "source": [
    "print(students_df)"
   ]
  },
  {
   "cell_type": "code",
   "execution_count": 41,
   "id": "0797ea69",
   "metadata": {},
   "outputs": [
    {
     "data": {
      "text/html": [
       "<div>\n",
       "<style scoped>\n",
       "    .dataframe tbody tr th:only-of-type {\n",
       "        vertical-align: middle;\n",
       "    }\n",
       "\n",
       "    .dataframe tbody tr th {\n",
       "        vertical-align: top;\n",
       "    }\n",
       "\n",
       "    .dataframe thead th {\n",
       "        text-align: right;\n",
       "    }\n",
       "</style>\n",
       "<table border=\"1\" class=\"dataframe\">\n",
       "  <thead>\n",
       "    <tr style=\"text-align: right;\">\n",
       "      <th></th>\n",
       "      <th>İsim</th>\n",
       "      <th>Yaş</th>\n",
       "      <th>Uzmanlık</th>\n",
       "    </tr>\n",
       "  </thead>\n",
       "  <tbody>\n",
       "    <tr>\n",
       "      <th>0</th>\n",
       "      <td>Anna</td>\n",
       "      <td>21</td>\n",
       "      <td>Math</td>\n",
       "    </tr>\n",
       "    <tr>\n",
       "      <th>1</th>\n",
       "      <td>Bohdan</td>\n",
       "      <td>22</td>\n",
       "      <td>Physics</td>\n",
       "    </tr>\n",
       "    <tr>\n",
       "      <th>2</th>\n",
       "      <td>Olena</td>\n",
       "      <td>20</td>\n",
       "      <td>Biology</td>\n",
       "    </tr>\n",
       "    <tr>\n",
       "      <th>3</th>\n",
       "      <td>Ivan</td>\n",
       "      <td>19</td>\n",
       "      <td>Chemistry</td>\n",
       "    </tr>\n",
       "    <tr>\n",
       "      <th>4</th>\n",
       "      <td>Maria</td>\n",
       "      <td>23</td>\n",
       "      <td>Math</td>\n",
       "    </tr>\n",
       "  </tbody>\n",
       "</table>\n",
       "</div>"
      ],
      "text/plain": [
       "     İsim  Yaş   Uzmanlık\n",
       "0    Anna   21       Math\n",
       "1  Bohdan   22    Physics\n",
       "2   Olena   20    Biology\n",
       "3    Ivan   19  Chemistry\n",
       "4   Maria   23       Math"
      ]
     },
     "execution_count": 41,
     "metadata": {},
     "output_type": "execute_result"
    }
   ],
   "source": [
    "students_df.head()"
   ]
  },
  {
   "cell_type": "code",
   "execution_count": 42,
   "id": "c01f5848",
   "metadata": {},
   "outputs": [
    {
     "data": {
      "text/plain": [
       "(10, 3)"
      ]
     },
     "execution_count": 42,
     "metadata": {},
     "output_type": "execute_result"
    }
   ],
   "source": [
    "students_df.shape"
   ]
  },
  {
   "cell_type": "code",
   "execution_count": 43,
   "id": "965c65db",
   "metadata": {},
   "outputs": [
    {
     "data": {
      "text/html": [
       "<div>\n",
       "<style scoped>\n",
       "    .dataframe tbody tr th:only-of-type {\n",
       "        vertical-align: middle;\n",
       "    }\n",
       "\n",
       "    .dataframe tbody tr th {\n",
       "        vertical-align: top;\n",
       "    }\n",
       "\n",
       "    .dataframe thead th {\n",
       "        text-align: right;\n",
       "    }\n",
       "</style>\n",
       "<table border=\"1\" class=\"dataframe\">\n",
       "  <thead>\n",
       "    <tr style=\"text-align: right;\">\n",
       "      <th></th>\n",
       "      <th>Yaş</th>\n",
       "    </tr>\n",
       "  </thead>\n",
       "  <tbody>\n",
       "    <tr>\n",
       "      <th>count</th>\n",
       "      <td>10.000000</td>\n",
       "    </tr>\n",
       "    <tr>\n",
       "      <th>mean</th>\n",
       "      <td>20.800000</td>\n",
       "    </tr>\n",
       "    <tr>\n",
       "      <th>std</th>\n",
       "      <td>1.316561</td>\n",
       "    </tr>\n",
       "    <tr>\n",
       "      <th>min</th>\n",
       "      <td>19.000000</td>\n",
       "    </tr>\n",
       "    <tr>\n",
       "      <th>25%</th>\n",
       "      <td>20.000000</td>\n",
       "    </tr>\n",
       "    <tr>\n",
       "      <th>50%</th>\n",
       "      <td>21.000000</td>\n",
       "    </tr>\n",
       "    <tr>\n",
       "      <th>75%</th>\n",
       "      <td>21.750000</td>\n",
       "    </tr>\n",
       "    <tr>\n",
       "      <th>max</th>\n",
       "      <td>23.000000</td>\n",
       "    </tr>\n",
       "  </tbody>\n",
       "</table>\n",
       "</div>"
      ],
      "text/plain": [
       "             Yaş\n",
       "count  10.000000\n",
       "mean   20.800000\n",
       "std     1.316561\n",
       "min    19.000000\n",
       "25%    20.000000\n",
       "50%    21.000000\n",
       "75%    21.750000\n",
       "max    23.000000"
      ]
     },
     "execution_count": 43,
     "metadata": {},
     "output_type": "execute_result"
    }
   ],
   "source": [
    "students_df.describe()"
   ]
  },
  {
   "cell_type": "code",
   "execution_count": 44,
   "id": "4e8875d8",
   "metadata": {},
   "outputs": [
    {
     "name": "stdout",
     "output_type": "stream",
     "text": [
      "<class 'pandas.core.frame.DataFrame'>\n",
      "RangeIndex: 10 entries, 0 to 9\n",
      "Data columns (total 3 columns):\n",
      " #   Column    Non-Null Count  Dtype \n",
      "---  ------    --------------  ----- \n",
      " 0   İsim      10 non-null     object\n",
      " 1   Yaş       10 non-null     int64 \n",
      " 2   Uzmanlık  10 non-null     object\n",
      "dtypes: int64(1), object(2)\n",
      "memory usage: 372.0+ bytes\n"
     ]
    }
   ],
   "source": [
    "students_df.info()"
   ]
  },
  {
   "cell_type": "markdown",
   "id": "7c793b98-8b6b-4b71-a41f-e309100f5e6a",
   "metadata": {},
   "source": [
    "Parametrenin değeri\tTanım\n",
    "bar (barh)\tÇubuk grafik oluşturma\n",
    "hist\tHistogram oluşturma\n",
    "box\tKutu grafiği\n",
    "kde\tYoğunluk grafiği oluşturma\n",
    "area\tKüreler ile diyagram\n",
    "scatter\tNokta çizimi\n",
    "hexbin\tAltıgenler kullanarak veri görselleştirme\n",
    "pie\tPasta grafiği"
   ]
  },
  {
   "cell_type": "code",
   "execution_count": 87,
   "id": "b79fd383",
   "metadata": {},
   "outputs": [
    {
     "data": {
      "text/plain": [
       "<Axes: title={'center': 'Yaş Dağılımı'}, ylabel='Yaş'>"
      ]
     },
     "execution_count": 87,
     "metadata": {},
     "output_type": "execute_result"
    },
    {
     "data": {
      "image/png": "[encoded data removed]",
      "text/plain": [
       "<Figure size 640x480 with 1 Axes>"
      ]
     },
     "metadata": {},
     "output_type": "display_data"
    }
   ],
   "source": [
    "students_df[\"Yaş\"].plot(kind = \"pie\", title = \"Yaş Dağılımı\")"
   ]
  },
  {
   "cell_type": "code",
   "execution_count": 89,
   "id": "132bafab",
   "metadata": {},
   "outputs": [],
   "source": [
    "students_df = pd.DataFrame({\n",
    "    'İsimler': ['Melike', 'Baris', 'Almila', 'Amir', 'Ceyda'],\n",
    "    'Yaş': [21, 22, 20, 21, 23],\n",
    "    'Bölüm': ['Math', 'Physics', 'Biology', 'Math', 'Physics']\n",
    "    }, index=['st1', 'st2', 'st3', 'st4', 'st5'])"
   ]
  },
  {
   "cell_type": "code",
   "execution_count": 91,
   "id": "4ae9b24a",
   "metadata": {},
   "outputs": [
    {
     "data": {
      "text/html": [
       "<div>\n",
       "<style scoped>\n",
       "    .dataframe tbody tr th:only-of-type {\n",
       "        vertical-align: middle;\n",
       "    }\n",
       "\n",
       "    .dataframe tbody tr th {\n",
       "        vertical-align: top;\n",
       "    }\n",
       "\n",
       "    .dataframe thead th {\n",
       "        text-align: right;\n",
       "    }\n",
       "</style>\n",
       "<table border=\"1\" class=\"dataframe\">\n",
       "  <thead>\n",
       "    <tr style=\"text-align: right;\">\n",
       "      <th></th>\n",
       "      <th>İsimler</th>\n",
       "      <th>Yaş</th>\n",
       "      <th>Bölüm</th>\n",
       "    </tr>\n",
       "  </thead>\n",
       "  <tbody>\n",
       "    <tr>\n",
       "      <th>st1</th>\n",
       "      <td>Melike</td>\n",
       "      <td>21</td>\n",
       "      <td>Math</td>\n",
       "    </tr>\n",
       "    <tr>\n",
       "      <th>st2</th>\n",
       "      <td>Baris</td>\n",
       "      <td>22</td>\n",
       "      <td>Physics</td>\n",
       "    </tr>\n",
       "    <tr>\n",
       "      <th>st3</th>\n",
       "      <td>Almila</td>\n",
       "      <td>20</td>\n",
       "      <td>Biology</td>\n",
       "    </tr>\n",
       "    <tr>\n",
       "      <th>st4</th>\n",
       "      <td>Amir</td>\n",
       "      <td>21</td>\n",
       "      <td>Math</td>\n",
       "    </tr>\n",
       "    <tr>\n",
       "      <th>st5</th>\n",
       "      <td>Ceyda</td>\n",
       "      <td>23</td>\n",
       "      <td>Physics</td>\n",
       "    </tr>\n",
       "  </tbody>\n",
       "</table>\n",
       "</div>"
      ],
      "text/plain": [
       "    İsimler  Yaş    Bölüm\n",
       "st1  Melike   21     Math\n",
       "st2   Baris   22  Physics\n",
       "st3  Almila   20  Biology\n",
       "st4    Amir   21     Math\n",
       "st5   Ceyda   23  Physics"
      ]
     },
     "execution_count": 91,
     "metadata": {},
     "output_type": "execute_result"
    }
   ],
   "source": [
    "students_df"
   ]
  },
  {
   "cell_type": "code",
   "execution_count": 93,
   "id": "82e141a7",
   "metadata": {},
   "outputs": [
    {
     "data": {
      "text/plain": [
       "22"
      ]
     },
     "execution_count": 93,
     "metadata": {},
     "output_type": "execute_result"
    }
   ],
   "source": [
    "#df.loc[rows, columns]\n",
    "students_df.loc[\"st2\", \"Yaş\"]"
   ]
  },
  {
   "cell_type": "code",
   "execution_count": 95,
   "id": "10920236",
   "metadata": {},
   "outputs": [
    {
     "data": {
      "text/plain": [
       "'Math'"
      ]
     },
     "execution_count": 95,
     "metadata": {},
     "output_type": "execute_result"
    }
   ],
   "source": [
    "students_df.loc[\"st4\", \"Bölüm\"]"
   ]
  },
  {
   "cell_type": "code",
   "execution_count": 97,
   "id": "797328f8",
   "metadata": {},
   "outputs": [
    {
     "data": {
      "text/plain": [
       "st2    22\n",
       "st3    20\n",
       "st4    21\n",
       "Name: Yaş, dtype: int64"
      ]
     },
     "execution_count": 97,
     "metadata": {},
     "output_type": "execute_result"
    }
   ],
   "source": [
    "students_df.loc[\"st2\":\"st4\", \"Yaş\"]"
   ]
  },
  {
   "cell_type": "code",
   "execution_count": 99,
   "id": "f417f853",
   "metadata": {},
   "outputs": [
    {
     "data": {
      "text/html": [
       "<div>\n",
       "<style scoped>\n",
       "    .dataframe tbody tr th:only-of-type {\n",
       "        vertical-align: middle;\n",
       "    }\n",
       "\n",
       "    .dataframe tbody tr th {\n",
       "        vertical-align: top;\n",
       "    }\n",
       "\n",
       "    .dataframe thead th {\n",
       "        text-align: right;\n",
       "    }\n",
       "</style>\n",
       "<table border=\"1\" class=\"dataframe\">\n",
       "  <thead>\n",
       "    <tr style=\"text-align: right;\">\n",
       "      <th></th>\n",
       "      <th>İsimler</th>\n",
       "      <th>Yaş</th>\n",
       "    </tr>\n",
       "  </thead>\n",
       "  <tbody>\n",
       "    <tr>\n",
       "      <th>st2</th>\n",
       "      <td>Baris</td>\n",
       "      <td>22</td>\n",
       "    </tr>\n",
       "    <tr>\n",
       "      <th>st3</th>\n",
       "      <td>Almila</td>\n",
       "      <td>20</td>\n",
       "    </tr>\n",
       "    <tr>\n",
       "      <th>st4</th>\n",
       "      <td>Amir</td>\n",
       "      <td>21</td>\n",
       "    </tr>\n",
       "  </tbody>\n",
       "</table>\n",
       "</div>"
      ],
      "text/plain": [
       "    İsimler  Yaş\n",
       "st2   Baris   22\n",
       "st3  Almila   20\n",
       "st4    Amir   21"
      ]
     },
     "execution_count": 99,
     "metadata": {},
     "output_type": "execute_result"
    }
   ],
   "source": [
    "students_df.loc[\"st2\" : \"st4\", \"İsimler\" : \"Yaş\"]"
   ]
  },
  {
   "cell_type": "code",
   "execution_count": 101,
   "id": "bb69506a",
   "metadata": {},
   "outputs": [
    {
     "data": {
      "text/plain": [
       "22"
      ]
     },
     "execution_count": 101,
     "metadata": {},
     "output_type": "execute_result"
    }
   ],
   "source": [
    "students_df.iloc[1,1]"
   ]
  },
  {
   "cell_type": "code",
   "execution_count": 103,
   "id": "80f32636",
   "metadata": {},
   "outputs": [
    {
     "data": {
      "text/html": [
       "<div>\n",
       "<style scoped>\n",
       "    .dataframe tbody tr th:only-of-type {\n",
       "        vertical-align: middle;\n",
       "    }\n",
       "\n",
       "    .dataframe tbody tr th {\n",
       "        vertical-align: top;\n",
       "    }\n",
       "\n",
       "    .dataframe thead th {\n",
       "        text-align: right;\n",
       "    }\n",
       "</style>\n",
       "<table border=\"1\" class=\"dataframe\">\n",
       "  <thead>\n",
       "    <tr style=\"text-align: right;\">\n",
       "      <th></th>\n",
       "      <th>İsimler</th>\n",
       "      <th>Yaş</th>\n",
       "    </tr>\n",
       "  </thead>\n",
       "  <tbody>\n",
       "    <tr>\n",
       "      <th>st2</th>\n",
       "      <td>Baris</td>\n",
       "      <td>22</td>\n",
       "    </tr>\n",
       "    <tr>\n",
       "      <th>st3</th>\n",
       "      <td>Almila</td>\n",
       "      <td>20</td>\n",
       "    </tr>\n",
       "    <tr>\n",
       "      <th>st4</th>\n",
       "      <td>Amir</td>\n",
       "      <td>21</td>\n",
       "    </tr>\n",
       "  </tbody>\n",
       "</table>\n",
       "</div>"
      ],
      "text/plain": [
       "    İsimler  Yaş\n",
       "st2   Baris   22\n",
       "st3  Almila   20\n",
       "st4    Amir   21"
      ]
     },
     "execution_count": 103,
     "metadata": {},
     "output_type": "execute_result"
    }
   ],
   "source": [
    "students_df.iloc[1:4, 0:2]"
   ]
  },
  {
   "cell_type": "code",
   "execution_count": 105,
   "id": "2227ee70",
   "metadata": {},
   "outputs": [
    {
     "data": {
      "text/html": [
       "<div>\n",
       "<style scoped>\n",
       "    .dataframe tbody tr th:only-of-type {\n",
       "        vertical-align: middle;\n",
       "    }\n",
       "\n",
       "    .dataframe tbody tr th {\n",
       "        vertical-align: top;\n",
       "    }\n",
       "\n",
       "    .dataframe thead th {\n",
       "        text-align: right;\n",
       "    }\n",
       "</style>\n",
       "<table border=\"1\" class=\"dataframe\">\n",
       "  <thead>\n",
       "    <tr style=\"text-align: right;\">\n",
       "      <th></th>\n",
       "      <th>İsimler</th>\n",
       "      <th>Yaş</th>\n",
       "    </tr>\n",
       "  </thead>\n",
       "  <tbody>\n",
       "    <tr>\n",
       "      <th>st2</th>\n",
       "      <td>Baris</td>\n",
       "      <td>22</td>\n",
       "    </tr>\n",
       "    <tr>\n",
       "      <th>st5</th>\n",
       "      <td>Ceyda</td>\n",
       "      <td>23</td>\n",
       "    </tr>\n",
       "  </tbody>\n",
       "</table>\n",
       "</div>"
      ],
      "text/plain": [
       "    İsimler  Yaş\n",
       "st2   Baris   22\n",
       "st5   Ceyda   23"
      ]
     },
     "execution_count": 105,
     "metadata": {},
     "output_type": "execute_result"
    }
   ],
   "source": [
    "students_df.loc[[\"st2\", \"st5\"], [\"İsimler\", \"Yaş\"]]"
   ]
  },
  {
   "cell_type": "code",
   "execution_count": 107,
   "id": "e7eb26aa",
   "metadata": {},
   "outputs": [
    {
     "data": {
      "text/html": [
       "<div>\n",
       "<style scoped>\n",
       "    .dataframe tbody tr th:only-of-type {\n",
       "        vertical-align: middle;\n",
       "    }\n",
       "\n",
       "    .dataframe tbody tr th {\n",
       "        vertical-align: top;\n",
       "    }\n",
       "\n",
       "    .dataframe thead th {\n",
       "        text-align: right;\n",
       "    }\n",
       "</style>\n",
       "<table border=\"1\" class=\"dataframe\">\n",
       "  <thead>\n",
       "    <tr style=\"text-align: right;\">\n",
       "      <th></th>\n",
       "      <th>İsimler</th>\n",
       "      <th>Yaş</th>\n",
       "    </tr>\n",
       "  </thead>\n",
       "  <tbody>\n",
       "    <tr>\n",
       "      <th>st2</th>\n",
       "      <td>Baris</td>\n",
       "      <td>22</td>\n",
       "    </tr>\n",
       "    <tr>\n",
       "      <th>st5</th>\n",
       "      <td>Ceyda</td>\n",
       "      <td>23</td>\n",
       "    </tr>\n",
       "  </tbody>\n",
       "</table>\n",
       "</div>"
      ],
      "text/plain": [
       "    İsimler  Yaş\n",
       "st2   Baris   22\n",
       "st5   Ceyda   23"
      ]
     },
     "execution_count": 107,
     "metadata": {},
     "output_type": "execute_result"
    }
   ],
   "source": [
    "students_df.iloc[[1,4], [0,1]]"
   ]
  },
  {
   "cell_type": "code",
   "execution_count": 109,
   "id": "a58a530d",
   "metadata": {},
   "outputs": [
    {
     "data": {
      "text/html": [
       "<div>\n",
       "<style scoped>\n",
       "    .dataframe tbody tr th:only-of-type {\n",
       "        vertical-align: middle;\n",
       "    }\n",
       "\n",
       "    .dataframe tbody tr th {\n",
       "        vertical-align: top;\n",
       "    }\n",
       "\n",
       "    .dataframe thead th {\n",
       "        text-align: right;\n",
       "    }\n",
       "</style>\n",
       "<table border=\"1\" class=\"dataframe\">\n",
       "  <thead>\n",
       "    <tr style=\"text-align: right;\">\n",
       "      <th></th>\n",
       "      <th>İsimler</th>\n",
       "      <th>Yaş</th>\n",
       "      <th>Bölüm</th>\n",
       "    </tr>\n",
       "  </thead>\n",
       "  <tbody>\n",
       "    <tr>\n",
       "      <th>st1</th>\n",
       "      <td>Melike</td>\n",
       "      <td>21</td>\n",
       "      <td>Math</td>\n",
       "    </tr>\n",
       "    <tr>\n",
       "      <th>st2</th>\n",
       "      <td>Baris</td>\n",
       "      <td>22</td>\n",
       "      <td>Physics</td>\n",
       "    </tr>\n",
       "    <tr>\n",
       "      <th>st4</th>\n",
       "      <td>Amir</td>\n",
       "      <td>21</td>\n",
       "      <td>Math</td>\n",
       "    </tr>\n",
       "    <tr>\n",
       "      <th>st5</th>\n",
       "      <td>Ceyda</td>\n",
       "      <td>23</td>\n",
       "      <td>Physics</td>\n",
       "    </tr>\n",
       "  </tbody>\n",
       "</table>\n",
       "</div>"
      ],
      "text/plain": [
       "    İsimler  Yaş    Bölüm\n",
       "st1  Melike   21     Math\n",
       "st2   Baris   22  Physics\n",
       "st4    Amir   21     Math\n",
       "st5   Ceyda   23  Physics"
      ]
     },
     "execution_count": 109,
     "metadata": {},
     "output_type": "execute_result"
    }
   ],
   "source": [
    "students_df.loc[students_df[\"Yaş\"] > 20]"
   ]
  },
  {
   "cell_type": "code",
   "execution_count": 111,
   "id": "0a133836",
   "metadata": {},
   "outputs": [
    {
     "data": {
      "text/html": [
       "<div>\n",
       "<style scoped>\n",
       "    .dataframe tbody tr th:only-of-type {\n",
       "        vertical-align: middle;\n",
       "    }\n",
       "\n",
       "    .dataframe tbody tr th {\n",
       "        vertical-align: top;\n",
       "    }\n",
       "\n",
       "    .dataframe thead th {\n",
       "        text-align: right;\n",
       "    }\n",
       "</style>\n",
       "<table border=\"1\" class=\"dataframe\">\n",
       "  <thead>\n",
       "    <tr style=\"text-align: right;\">\n",
       "      <th></th>\n",
       "      <th>İsimler</th>\n",
       "      <th>Yaş</th>\n",
       "      <th>Bölüm</th>\n",
       "    </tr>\n",
       "  </thead>\n",
       "  <tbody>\n",
       "    <tr>\n",
       "      <th>st1</th>\n",
       "      <td>Melike</td>\n",
       "      <td>21</td>\n",
       "      <td>Math</td>\n",
       "    </tr>\n",
       "    <tr>\n",
       "      <th>st2</th>\n",
       "      <td>Baris</td>\n",
       "      <td>22</td>\n",
       "      <td>Physics</td>\n",
       "    </tr>\n",
       "    <tr>\n",
       "      <th>st4</th>\n",
       "      <td>Amir</td>\n",
       "      <td>21</td>\n",
       "      <td>Math</td>\n",
       "    </tr>\n",
       "    <tr>\n",
       "      <th>st5</th>\n",
       "      <td>Ceyda</td>\n",
       "      <td>23</td>\n",
       "      <td>Physics</td>\n",
       "    </tr>\n",
       "  </tbody>\n",
       "</table>\n",
       "</div>"
      ],
      "text/plain": [
       "    İsimler  Yaş    Bölüm\n",
       "st1  Melike   21     Math\n",
       "st2   Baris   22  Physics\n",
       "st4    Amir   21     Math\n",
       "st5   Ceyda   23  Physics"
      ]
     },
     "execution_count": 111,
     "metadata": {},
     "output_type": "execute_result"
    }
   ],
   "source": [
    "students_df[students_df[\"Yaş\"] > 20]"
   ]
  },
  {
   "cell_type": "code",
   "execution_count": 113,
   "id": "35984e56",
   "metadata": {},
   "outputs": [
    {
     "data": {
      "text/html": [
       "<div>\n",
       "<style scoped>\n",
       "    .dataframe tbody tr th:only-of-type {\n",
       "        vertical-align: middle;\n",
       "    }\n",
       "\n",
       "    .dataframe tbody tr th {\n",
       "        vertical-align: top;\n",
       "    }\n",
       "\n",
       "    .dataframe thead th {\n",
       "        text-align: right;\n",
       "    }\n",
       "</style>\n",
       "<table border=\"1\" class=\"dataframe\">\n",
       "  <thead>\n",
       "    <tr style=\"text-align: right;\">\n",
       "      <th></th>\n",
       "      <th>İsimler</th>\n",
       "      <th>Yaş</th>\n",
       "      <th>Bölüm</th>\n",
       "    </tr>\n",
       "  </thead>\n",
       "  <tbody>\n",
       "    <tr>\n",
       "      <th>st1</th>\n",
       "      <td>Melike</td>\n",
       "      <td>21</td>\n",
       "      <td>Math</td>\n",
       "    </tr>\n",
       "    <tr>\n",
       "      <th>st4</th>\n",
       "      <td>Amir</td>\n",
       "      <td>21</td>\n",
       "      <td>Math</td>\n",
       "    </tr>\n",
       "  </tbody>\n",
       "</table>\n",
       "</div>"
      ],
      "text/plain": [
       "    İsimler  Yaş Bölüm\n",
       "st1  Melike   21  Math\n",
       "st4    Amir   21  Math"
      ]
     },
     "execution_count": 113,
     "metadata": {},
     "output_type": "execute_result"
    }
   ],
   "source": [
    "students_df[(students_df[\"Yaş\"] > 20) & (students_df[\"Bölüm\"] == \"Math\")]"
   ]
  },
  {
   "cell_type": "code",
   "execution_count": 115,
   "id": "550f88b1",
   "metadata": {},
   "outputs": [
    {
     "data": {
      "text/html": [
       "<div>\n",
       "<style scoped>\n",
       "    .dataframe tbody tr th:only-of-type {\n",
       "        vertical-align: middle;\n",
       "    }\n",
       "\n",
       "    .dataframe tbody tr th {\n",
       "        vertical-align: top;\n",
       "    }\n",
       "\n",
       "    .dataframe thead th {\n",
       "        text-align: right;\n",
       "    }\n",
       "</style>\n",
       "<table border=\"1\" class=\"dataframe\">\n",
       "  <thead>\n",
       "    <tr style=\"text-align: right;\">\n",
       "      <th></th>\n",
       "      <th>İsimler</th>\n",
       "      <th>Yaş</th>\n",
       "      <th>Bölüm</th>\n",
       "    </tr>\n",
       "  </thead>\n",
       "  <tbody>\n",
       "    <tr>\n",
       "      <th>st2</th>\n",
       "      <td>Baris</td>\n",
       "      <td>22</td>\n",
       "      <td>Physics</td>\n",
       "    </tr>\n",
       "    <tr>\n",
       "      <th>st5</th>\n",
       "      <td>Ceyda</td>\n",
       "      <td>23</td>\n",
       "      <td>Physics</td>\n",
       "    </tr>\n",
       "  </tbody>\n",
       "</table>\n",
       "</div>"
      ],
      "text/plain": [
       "    İsimler  Yaş    Bölüm\n",
       "st2   Baris   22  Physics\n",
       "st5   Ceyda   23  Physics"
      ]
     },
     "execution_count": 115,
     "metadata": {},
     "output_type": "execute_result"
    }
   ],
   "source": [
    "students_df[~((students_df['Bölüm'] == 'Biology') | (students_df['Bölüm'] == 'Math'))]"
   ]
  },
  {
   "cell_type": "code",
   "execution_count": 117,
   "id": "1669aefb",
   "metadata": {},
   "outputs": [
    {
     "data": {
      "text/html": [
       "<div>\n",
       "<style scoped>\n",
       "    .dataframe tbody tr th:only-of-type {\n",
       "        vertical-align: middle;\n",
       "    }\n",
       "\n",
       "    .dataframe tbody tr th {\n",
       "        vertical-align: top;\n",
       "    }\n",
       "\n",
       "    .dataframe thead th {\n",
       "        text-align: right;\n",
       "    }\n",
       "</style>\n",
       "<table border=\"1\" class=\"dataframe\">\n",
       "  <thead>\n",
       "    <tr style=\"text-align: right;\">\n",
       "      <th></th>\n",
       "      <th>İsimler</th>\n",
       "      <th>Yaş</th>\n",
       "      <th>Bölüm</th>\n",
       "    </tr>\n",
       "  </thead>\n",
       "  <tbody>\n",
       "    <tr>\n",
       "      <th>st1</th>\n",
       "      <td>Melike</td>\n",
       "      <td>21</td>\n",
       "      <td>Math</td>\n",
       "    </tr>\n",
       "    <tr>\n",
       "      <th>st3</th>\n",
       "      <td>Almila</td>\n",
       "      <td>20</td>\n",
       "      <td>Biology</td>\n",
       "    </tr>\n",
       "    <tr>\n",
       "      <th>st4</th>\n",
       "      <td>Amir</td>\n",
       "      <td>21</td>\n",
       "      <td>Math</td>\n",
       "    </tr>\n",
       "  </tbody>\n",
       "</table>\n",
       "</div>"
      ],
      "text/plain": [
       "    İsimler  Yaş    Bölüm\n",
       "st1  Melike   21     Math\n",
       "st3  Almila   20  Biology\n",
       "st4    Amir   21     Math"
      ]
     },
     "execution_count": 117,
     "metadata": {},
     "output_type": "execute_result"
    }
   ],
   "source": [
    "students_df[students_df[\"Bölüm\"].isin([\"Biology\", \"Math\"])]"
   ]
  },
  {
   "cell_type": "code",
   "execution_count": 119,
   "id": "b0e78e8a",
   "metadata": {},
   "outputs": [],
   "source": [
    "#multiindex"
   ]
  },
  {
   "cell_type": "code",
   "execution_count": 121,
   "id": "c5e4a235",
   "metadata": {},
   "outputs": [],
   "source": [
    "multiindex = pd.MultiIndex.from_arrays([['Math', 'Physics', 'Biology', 'Math', 'Physics'],\n",
    "                                       ['M19', 'P18', 'B20', 'M19', 'P17'],\n",
    "                                       ['Melike', 'Baris', 'Almila', 'Amir', 'Ceyda']],\n",
    "                                      names=['bölüm', 'gruplar', 'isimler'])"
   ]
  },
  {
   "cell_type": "code",
   "execution_count": 123,
   "id": "7854a77b",
   "metadata": {},
   "outputs": [
    {
     "name": "stdout",
     "output_type": "stream",
     "text": [
      "MultiIndex([(   'Math', 'M19', 'Melike'),\n",
      "            ('Physics', 'P18',  'Baris'),\n",
      "            ('Biology', 'B20', 'Almila'),\n",
      "            (   'Math', 'M19',   'Amir'),\n",
      "            ('Physics', 'P17',  'Ceyda')],\n",
      "           names=['bölüm', 'gruplar', 'isimler'])\n"
     ]
    }
   ],
   "source": [
    "print(multiindex)"
   ]
  },
  {
   "cell_type": "code",
   "execution_count": 125,
   "id": "f66de2d2",
   "metadata": {},
   "outputs": [
    {
     "name": "stdout",
     "output_type": "stream",
     "text": [
      "MultiIndex([(   'Math', 'M19', 'Melike'),\n",
      "            ('Physics', 'P18',  'Baris'),\n",
      "            ('Biology', 'B20', 'Almila'),\n",
      "            (   'Math', 'M19',   'Amir'),\n",
      "            ('Physics', 'P17',  'Ceyda')],\n",
      "           names=['Bölümler', 'Gruplar', 'İsimler'])\n"
     ]
    }
   ],
   "source": [
    "multiindex= pd.MultiIndex.from_tuples([('Math',    'M19', 'Melike'),\n",
    "                                       ('Physics', 'P18', 'Baris'),\n",
    "                                       ('Biology', 'B20', 'Almila'),\n",
    "                                       ('Math',    'M19', 'Amir'),\n",
    "                                       ('Physics', 'P17', 'Ceyda')],\n",
    "                                      names=['Bölümler', 'Gruplar', 'İsimler'])\n",
    "\n",
    "print(multiindex)"
   ]
  },
  {
   "cell_type": "code",
   "execution_count": 127,
   "id": "0da7efaf",
   "metadata": {},
   "outputs": [
    {
     "name": "stdout",
     "output_type": "stream",
     "text": [
      "MultiIndex([(   'Math', 'M19', 'Melike'),\n",
      "            ('Physics', 'P18',  'Baris'),\n",
      "            ('Biology', 'B20', 'Almila'),\n",
      "            (   'Math', 'M19',   'Amir'),\n",
      "            ('Physics', 'P17',  'Ceyda')],\n",
      "           names=['Bölüm', 'Gruplar', 'İsimler'])\n"
     ]
    }
   ],
   "source": [
    "multiindex_frame = pd.DataFrame({'Bölüm': ['Math', 'Physics', 'Biology', 'Math', 'Physics'],\n",
    "                                 'Gruplar': ['M19', 'P18', 'B20', 'M19', 'P17'],\n",
    "                                 'İsimler': ['Melike', 'Baris', 'Almila', 'Amir', 'Ceyda']})\n",
    "\n",
    "multiindex= pd.MultiIndex.from_frame(multiindex_frame)\n",
    "\n",
    "print(multiindex)"
   ]
  },
  {
   "cell_type": "code",
   "execution_count": 129,
   "id": "feed1bdf",
   "metadata": {},
   "outputs": [],
   "source": [
    "students_df = pd.DataFrame({'Yaş': [21, 22, 20, 21, 23],\n",
    "                            'Not Ortalaması': [21, 22, 20, 21, 23]},\n",
    "                          index=multiindex)"
   ]
  },
  {
   "cell_type": "code",
   "execution_count": 131,
   "id": "b08c0c1d",
   "metadata": {},
   "outputs": [
    {
     "data": {
      "text/html": [
       "<div>\n",
       "<style scoped>\n",
       "    .dataframe tbody tr th:only-of-type {\n",
       "        vertical-align: middle;\n",
       "    }\n",
       "\n",
       "    .dataframe tbody tr th {\n",
       "        vertical-align: top;\n",
       "    }\n",
       "\n",
       "    .dataframe thead th {\n",
       "        text-align: right;\n",
       "    }\n",
       "</style>\n",
       "<table border=\"1\" class=\"dataframe\">\n",
       "  <thead>\n",
       "    <tr style=\"text-align: right;\">\n",
       "      <th></th>\n",
       "      <th></th>\n",
       "      <th></th>\n",
       "      <th>Yaş</th>\n",
       "      <th>Not Ortalaması</th>\n",
       "    </tr>\n",
       "    <tr>\n",
       "      <th>Bölüm</th>\n",
       "      <th>Gruplar</th>\n",
       "      <th>İsimler</th>\n",
       "      <th></th>\n",
       "      <th></th>\n",
       "    </tr>\n",
       "  </thead>\n",
       "  <tbody>\n",
       "    <tr>\n",
       "      <th>Math</th>\n",
       "      <th>M19</th>\n",
       "      <th>Melike</th>\n",
       "      <td>21</td>\n",
       "      <td>21</td>\n",
       "    </tr>\n",
       "    <tr>\n",
       "      <th>Physics</th>\n",
       "      <th>P18</th>\n",
       "      <th>Baris</th>\n",
       "      <td>22</td>\n",
       "      <td>22</td>\n",
       "    </tr>\n",
       "    <tr>\n",
       "      <th>Biology</th>\n",
       "      <th>B20</th>\n",
       "      <th>Almila</th>\n",
       "      <td>20</td>\n",
       "      <td>20</td>\n",
       "    </tr>\n",
       "    <tr>\n",
       "      <th>Math</th>\n",
       "      <th>M19</th>\n",
       "      <th>Amir</th>\n",
       "      <td>21</td>\n",
       "      <td>21</td>\n",
       "    </tr>\n",
       "    <tr>\n",
       "      <th>Physics</th>\n",
       "      <th>P17</th>\n",
       "      <th>Ceyda</th>\n",
       "      <td>23</td>\n",
       "      <td>23</td>\n",
       "    </tr>\n",
       "  </tbody>\n",
       "</table>\n",
       "</div>"
      ],
      "text/plain": [
       "                         Yaş  Not Ortalaması\n",
       "Bölüm   Gruplar İsimler                     \n",
       "Math    M19     Melike    21              21\n",
       "Physics P18     Baris     22              22\n",
       "Biology B20     Almila    20              20\n",
       "Math    M19     Amir      21              21\n",
       "Physics P17     Ceyda     23              23"
      ]
     },
     "execution_count": 131,
     "metadata": {},
     "output_type": "execute_result"
    }
   ],
   "source": [
    "students_df"
   ]
  },
  {
   "cell_type": "code",
   "execution_count": 133,
   "id": "14a5eeff",
   "metadata": {},
   "outputs": [
    {
     "data": {
      "text/html": [
       "<div>\n",
       "<style scoped>\n",
       "    .dataframe tbody tr th:only-of-type {\n",
       "        vertical-align: middle;\n",
       "    }\n",
       "\n",
       "    .dataframe tbody tr th {\n",
       "        vertical-align: top;\n",
       "    }\n",
       "\n",
       "    .dataframe thead th {\n",
       "        text-align: right;\n",
       "    }\n",
       "</style>\n",
       "<table border=\"1\" class=\"dataframe\">\n",
       "  <thead>\n",
       "    <tr style=\"text-align: right;\">\n",
       "      <th></th>\n",
       "      <th></th>\n",
       "      <th></th>\n",
       "      <th>Yaş</th>\n",
       "      <th>Not Ortalaması</th>\n",
       "    </tr>\n",
       "    <tr>\n",
       "      <th>Bölüm</th>\n",
       "      <th>Gruplar</th>\n",
       "      <th>İsimler</th>\n",
       "      <th></th>\n",
       "      <th></th>\n",
       "    </tr>\n",
       "  </thead>\n",
       "  <tbody>\n",
       "    <tr>\n",
       "      <th>Math</th>\n",
       "      <th>M19</th>\n",
       "      <th>Melike</th>\n",
       "      <td>21</td>\n",
       "      <td>21</td>\n",
       "    </tr>\n",
       "    <tr>\n",
       "      <th>Physics</th>\n",
       "      <th>P18</th>\n",
       "      <th>Baris</th>\n",
       "      <td>22</td>\n",
       "      <td>22</td>\n",
       "    </tr>\n",
       "    <tr>\n",
       "      <th>Biology</th>\n",
       "      <th>B20</th>\n",
       "      <th>Almila</th>\n",
       "      <td>20</td>\n",
       "      <td>20</td>\n",
       "    </tr>\n",
       "    <tr>\n",
       "      <th>Math</th>\n",
       "      <th>M19</th>\n",
       "      <th>Amir</th>\n",
       "      <td>21</td>\n",
       "      <td>21</td>\n",
       "    </tr>\n",
       "    <tr>\n",
       "      <th>Physics</th>\n",
       "      <th>P17</th>\n",
       "      <th>Ceyda</th>\n",
       "      <td>23</td>\n",
       "      <td>23</td>\n",
       "    </tr>\n",
       "  </tbody>\n",
       "</table>\n",
       "</div>"
      ],
      "text/plain": [
       "                         Yaş  Not Ortalaması\n",
       "Bölüm   Gruplar İsimler                     \n",
       "Math    M19     Melike    21              21\n",
       "Physics P18     Baris     22              22\n",
       "Biology B20     Almila    20              20\n",
       "Math    M19     Amir      21              21\n",
       "Physics P17     Ceyda     23              23"
      ]
     },
     "metadata": {},
     "output_type": "display_data"
    }
   ],
   "source": [
    "display(students_df)"
   ]
  },
  {
   "cell_type": "code",
   "execution_count": 135,
   "id": "6a0e39fb",
   "metadata": {},
   "outputs": [
    {
     "data": {
      "text/html": [
       "<div>\n",
       "<style scoped>\n",
       "    .dataframe tbody tr th:only-of-type {\n",
       "        vertical-align: middle;\n",
       "    }\n",
       "\n",
       "    .dataframe tbody tr th {\n",
       "        vertical-align: top;\n",
       "    }\n",
       "\n",
       "    .dataframe thead th {\n",
       "        text-align: right;\n",
       "    }\n",
       "</style>\n",
       "<table border=\"1\" class=\"dataframe\">\n",
       "  <thead>\n",
       "    <tr style=\"text-align: right;\">\n",
       "      <th></th>\n",
       "      <th>Bölüm</th>\n",
       "      <th>Gruplar</th>\n",
       "      <th>İsimler</th>\n",
       "      <th>Yaş</th>\n",
       "      <th>Not Ortalaması</th>\n",
       "    </tr>\n",
       "  </thead>\n",
       "  <tbody>\n",
       "    <tr>\n",
       "      <th>0</th>\n",
       "      <td>Math</td>\n",
       "      <td>M19</td>\n",
       "      <td>Melike</td>\n",
       "      <td>21</td>\n",
       "      <td>21</td>\n",
       "    </tr>\n",
       "    <tr>\n",
       "      <th>1</th>\n",
       "      <td>Physics</td>\n",
       "      <td>P18</td>\n",
       "      <td>Baris</td>\n",
       "      <td>22</td>\n",
       "      <td>22</td>\n",
       "    </tr>\n",
       "    <tr>\n",
       "      <th>2</th>\n",
       "      <td>Biology</td>\n",
       "      <td>B20</td>\n",
       "      <td>Almila</td>\n",
       "      <td>20</td>\n",
       "      <td>20</td>\n",
       "    </tr>\n",
       "    <tr>\n",
       "      <th>3</th>\n",
       "      <td>Math</td>\n",
       "      <td>M19</td>\n",
       "      <td>Amir</td>\n",
       "      <td>21</td>\n",
       "      <td>21</td>\n",
       "    </tr>\n",
       "    <tr>\n",
       "      <th>4</th>\n",
       "      <td>Physics</td>\n",
       "      <td>P17</td>\n",
       "      <td>Ceyda</td>\n",
       "      <td>23</td>\n",
       "      <td>23</td>\n",
       "    </tr>\n",
       "  </tbody>\n",
       "</table>\n",
       "</div>"
      ],
      "text/plain": [
       "     Bölüm Gruplar İsimler  Yaş  Not Ortalaması\n",
       "0     Math     M19  Melike   21              21\n",
       "1  Physics     P18   Baris   22              22\n",
       "2  Biology     B20  Almila   20              20\n",
       "3     Math     M19    Amir   21              21\n",
       "4  Physics     P17   Ceyda   23              23"
      ]
     },
     "execution_count": 135,
     "metadata": {},
     "output_type": "execute_result"
    }
   ],
   "source": [
    "students_df = pd.DataFrame({'Bölüm': ['Math', 'Physics', 'Biology', 'Math', 'Physics'],\n",
    "                            'Gruplar': ['M19', 'P18', 'B20', 'M19', 'P17'],\n",
    "                            'İsimler': ['Melike', 'Baris', 'Almila', 'Amir', 'Ceyda'],\n",
    "                            'Yaş': [21, 22, 20, 21, 23],\n",
    "                            'Not Ortalaması': [21, 22, 20, 21, 23]})\n",
    "\n",
    "students_df"
   ]
  },
  {
   "cell_type": "code",
   "execution_count": 137,
   "id": "eed96271",
   "metadata": {},
   "outputs": [],
   "source": [
    "students_df = students_df.set_index([\"Bölüm\", \"Gruplar\", \"İsimler\"])"
   ]
  },
  {
   "cell_type": "code",
   "execution_count": 139,
   "id": "70e3cb42",
   "metadata": {},
   "outputs": [
    {
     "data": {
      "text/html": [
       "<div>\n",
       "<style scoped>\n",
       "    .dataframe tbody tr th:only-of-type {\n",
       "        vertical-align: middle;\n",
       "    }\n",
       "\n",
       "    .dataframe tbody tr th {\n",
       "        vertical-align: top;\n",
       "    }\n",
       "\n",
       "    .dataframe thead th {\n",
       "        text-align: right;\n",
       "    }\n",
       "</style>\n",
       "<table border=\"1\" class=\"dataframe\">\n",
       "  <thead>\n",
       "    <tr style=\"text-align: right;\">\n",
       "      <th></th>\n",
       "      <th></th>\n",
       "      <th></th>\n",
       "      <th>Yaş</th>\n",
       "      <th>Not Ortalaması</th>\n",
       "    </tr>\n",
       "    <tr>\n",
       "      <th>Bölüm</th>\n",
       "      <th>Gruplar</th>\n",
       "      <th>İsimler</th>\n",
       "      <th></th>\n",
       "      <th></th>\n",
       "    </tr>\n",
       "  </thead>\n",
       "  <tbody>\n",
       "    <tr>\n",
       "      <th>Math</th>\n",
       "      <th>M19</th>\n",
       "      <th>Melike</th>\n",
       "      <td>21</td>\n",
       "      <td>21</td>\n",
       "    </tr>\n",
       "    <tr>\n",
       "      <th>Physics</th>\n",
       "      <th>P18</th>\n",
       "      <th>Baris</th>\n",
       "      <td>22</td>\n",
       "      <td>22</td>\n",
       "    </tr>\n",
       "    <tr>\n",
       "      <th>Biology</th>\n",
       "      <th>B20</th>\n",
       "      <th>Almila</th>\n",
       "      <td>20</td>\n",
       "      <td>20</td>\n",
       "    </tr>\n",
       "    <tr>\n",
       "      <th>Math</th>\n",
       "      <th>M19</th>\n",
       "      <th>Amir</th>\n",
       "      <td>21</td>\n",
       "      <td>21</td>\n",
       "    </tr>\n",
       "    <tr>\n",
       "      <th>Physics</th>\n",
       "      <th>P17</th>\n",
       "      <th>Ceyda</th>\n",
       "      <td>23</td>\n",
       "      <td>23</td>\n",
       "    </tr>\n",
       "  </tbody>\n",
       "</table>\n",
       "</div>"
      ],
      "text/plain": [
       "                         Yaş  Not Ortalaması\n",
       "Bölüm   Gruplar İsimler                     \n",
       "Math    M19     Melike    21              21\n",
       "Physics P18     Baris     22              22\n",
       "Biology B20     Almila    20              20\n",
       "Math    M19     Amir      21              21\n",
       "Physics P17     Ceyda     23              23"
      ]
     },
     "execution_count": 139,
     "metadata": {},
     "output_type": "execute_result"
    }
   ],
   "source": [
    "students_df"
   ]
  },
  {
   "cell_type": "code",
   "execution_count": 141,
   "id": "f45c1be5",
   "metadata": {
    "scrolled": true
   },
   "outputs": [
    {
     "data": {
      "text/html": [
       "<div>\n",
       "<style scoped>\n",
       "    .dataframe tbody tr th:only-of-type {\n",
       "        vertical-align: middle;\n",
       "    }\n",
       "\n",
       "    .dataframe tbody tr th {\n",
       "        vertical-align: top;\n",
       "    }\n",
       "\n",
       "    .dataframe thead th {\n",
       "        text-align: right;\n",
       "    }\n",
       "</style>\n",
       "<table border=\"1\" class=\"dataframe\">\n",
       "  <thead>\n",
       "    <tr style=\"text-align: right;\">\n",
       "      <th></th>\n",
       "      <th></th>\n",
       "      <th>Yaş</th>\n",
       "      <th>Not Ortalaması</th>\n",
       "    </tr>\n",
       "    <tr>\n",
       "      <th>Gruplar</th>\n",
       "      <th>İsimler</th>\n",
       "      <th></th>\n",
       "      <th></th>\n",
       "    </tr>\n",
       "  </thead>\n",
       "  <tbody>\n",
       "    <tr>\n",
       "      <th>P18</th>\n",
       "      <th>Baris</th>\n",
       "      <td>22</td>\n",
       "      <td>22</td>\n",
       "    </tr>\n",
       "    <tr>\n",
       "      <th>P17</th>\n",
       "      <th>Ceyda</th>\n",
       "      <td>23</td>\n",
       "      <td>23</td>\n",
       "    </tr>\n",
       "  </tbody>\n",
       "</table>\n",
       "</div>"
      ],
      "text/plain": [
       "                 Yaş  Not Ortalaması\n",
       "Gruplar İsimler                     \n",
       "P18     Baris     22              22\n",
       "P17     Ceyda     23              23"
      ]
     },
     "execution_count": 141,
     "metadata": {},
     "output_type": "execute_result"
    }
   ],
   "source": [
    "students_df.loc[\"Physics\"]"
   ]
  },
  {
   "cell_type": "code",
   "execution_count": 143,
   "id": "68980193",
   "metadata": {},
   "outputs": [
    {
     "name": "stderr",
     "output_type": "stream",
     "text": [
      "C:\\Users\\Ali\\AppData\\Local\\Temp\\ipykernel_3992\\820088444.py:1: PerformanceWarning: indexing past lexsort depth may impact performance.\n",
      "  students_df.loc[\"Physics\", \"P18\"]\n"
     ]
    },
    {
     "data": {
      "text/html": [
       "<div>\n",
       "<style scoped>\n",
       "    .dataframe tbody tr th:only-of-type {\n",
       "        vertical-align: middle;\n",
       "    }\n",
       "\n",
       "    .dataframe tbody tr th {\n",
       "        vertical-align: top;\n",
       "    }\n",
       "\n",
       "    .dataframe thead th {\n",
       "        text-align: right;\n",
       "    }\n",
       "</style>\n",
       "<table border=\"1\" class=\"dataframe\">\n",
       "  <thead>\n",
       "    <tr style=\"text-align: right;\">\n",
       "      <th></th>\n",
       "      <th>Yaş</th>\n",
       "      <th>Not Ortalaması</th>\n",
       "    </tr>\n",
       "    <tr>\n",
       "      <th>İsimler</th>\n",
       "      <th></th>\n",
       "      <th></th>\n",
       "    </tr>\n",
       "  </thead>\n",
       "  <tbody>\n",
       "    <tr>\n",
       "      <th>Baris</th>\n",
       "      <td>22</td>\n",
       "      <td>22</td>\n",
       "    </tr>\n",
       "  </tbody>\n",
       "</table>\n",
       "</div>"
      ],
      "text/plain": [
       "         Yaş  Not Ortalaması\n",
       "İsimler                     \n",
       "Baris     22              22"
      ]
     },
     "execution_count": 143,
     "metadata": {},
     "output_type": "execute_result"
    }
   ],
   "source": [
    "students_df.loc[\"Physics\", \"P18\"]"
   ]
  },
  {
   "cell_type": "code",
   "execution_count": 145,
   "id": "0caf2986",
   "metadata": {},
   "outputs": [
    {
     "data": {
      "text/plain": [
       "Yaş               22\n",
       "Not Ortalaması    22\n",
       "Name: (Physics, P18, Baris), dtype: int64"
      ]
     },
     "execution_count": 145,
     "metadata": {},
     "output_type": "execute_result"
    }
   ],
   "source": [
    "students_df.loc[\"Physics\", \"P18\", \"Baris\"]"
   ]
  },
  {
   "cell_type": "code",
   "execution_count": 147,
   "id": "8602e8de",
   "metadata": {},
   "outputs": [
    {
     "data": {
      "text/html": [
       "<div>\n",
       "<style scoped>\n",
       "    .dataframe tbody tr th:only-of-type {\n",
       "        vertical-align: middle;\n",
       "    }\n",
       "\n",
       "    .dataframe tbody tr th {\n",
       "        vertical-align: top;\n",
       "    }\n",
       "\n",
       "    .dataframe thead th {\n",
       "        text-align: right;\n",
       "    }\n",
       "</style>\n",
       "<table border=\"1\" class=\"dataframe\">\n",
       "  <thead>\n",
       "    <tr style=\"text-align: right;\">\n",
       "      <th></th>\n",
       "      <th></th>\n",
       "      <th></th>\n",
       "      <th>Yaş</th>\n",
       "      <th>Not Ortalaması</th>\n",
       "    </tr>\n",
       "    <tr>\n",
       "      <th>Bölüm</th>\n",
       "      <th>Gruplar</th>\n",
       "      <th>İsimler</th>\n",
       "      <th></th>\n",
       "      <th></th>\n",
       "    </tr>\n",
       "  </thead>\n",
       "  <tbody>\n",
       "    <tr>\n",
       "      <th>Physics</th>\n",
       "      <th>P18</th>\n",
       "      <th>Baris</th>\n",
       "      <td>22</td>\n",
       "      <td>22</td>\n",
       "    </tr>\n",
       "  </tbody>\n",
       "</table>\n",
       "</div>"
      ],
      "text/plain": [
       "                         Yaş  Not Ortalaması\n",
       "Bölüm   Gruplar İsimler                     \n",
       "Physics P18     Baris     22              22"
      ]
     },
     "execution_count": 147,
     "metadata": {},
     "output_type": "execute_result"
    }
   ],
   "source": [
    "students_df.loc[[(\"Physics\", \"P18\", \"Baris\")]]"
   ]
  },
  {
   "cell_type": "code",
   "execution_count": 149,
   "id": "3a7e6536",
   "metadata": {},
   "outputs": [
    {
     "data": {
      "text/html": [
       "<div>\n",
       "<style scoped>\n",
       "    .dataframe tbody tr th:only-of-type {\n",
       "        vertical-align: middle;\n",
       "    }\n",
       "\n",
       "    .dataframe tbody tr th {\n",
       "        vertical-align: top;\n",
       "    }\n",
       "\n",
       "    .dataframe thead th {\n",
       "        text-align: right;\n",
       "    }\n",
       "</style>\n",
       "<table border=\"1\" class=\"dataframe\">\n",
       "  <thead>\n",
       "    <tr style=\"text-align: right;\">\n",
       "      <th></th>\n",
       "      <th></th>\n",
       "      <th></th>\n",
       "      <th>Yaş</th>\n",
       "      <th>Not Ortalaması</th>\n",
       "    </tr>\n",
       "    <tr>\n",
       "      <th>Bölüm</th>\n",
       "      <th>Gruplar</th>\n",
       "      <th>İsimler</th>\n",
       "      <th></th>\n",
       "      <th></th>\n",
       "    </tr>\n",
       "  </thead>\n",
       "  <tbody>\n",
       "    <tr>\n",
       "      <th>Math</th>\n",
       "      <th>M19</th>\n",
       "      <th>Melike</th>\n",
       "      <td>21</td>\n",
       "      <td>21</td>\n",
       "    </tr>\n",
       "    <tr>\n",
       "      <th>Physics</th>\n",
       "      <th>P18</th>\n",
       "      <th>Baris</th>\n",
       "      <td>22</td>\n",
       "      <td>22</td>\n",
       "    </tr>\n",
       "    <tr>\n",
       "      <th>Biology</th>\n",
       "      <th>B20</th>\n",
       "      <th>Almila</th>\n",
       "      <td>20</td>\n",
       "      <td>20</td>\n",
       "    </tr>\n",
       "    <tr>\n",
       "      <th>Math</th>\n",
       "      <th>M19</th>\n",
       "      <th>Amir</th>\n",
       "      <td>21</td>\n",
       "      <td>21</td>\n",
       "    </tr>\n",
       "    <tr>\n",
       "      <th>Physics</th>\n",
       "      <th>P17</th>\n",
       "      <th>Ceyda</th>\n",
       "      <td>23</td>\n",
       "      <td>23</td>\n",
       "    </tr>\n",
       "  </tbody>\n",
       "</table>\n",
       "</div>"
      ],
      "text/plain": [
       "                         Yaş  Not Ortalaması\n",
       "Bölüm   Gruplar İsimler                     \n",
       "Math    M19     Melike    21              21\n",
       "Physics P18     Baris     22              22\n",
       "Biology B20     Almila    20              20\n",
       "Math    M19     Amir      21              21\n",
       "Physics P17     Ceyda     23              23"
      ]
     },
     "execution_count": 149,
     "metadata": {},
     "output_type": "execute_result"
    }
   ],
   "source": [
    "students_df"
   ]
  },
  {
   "cell_type": "code",
   "execution_count": 151,
   "id": "df55e2dc",
   "metadata": {},
   "outputs": [
    {
     "data": {
      "text/html": [
       "<div>\n",
       "<style scoped>\n",
       "    .dataframe tbody tr th:only-of-type {\n",
       "        vertical-align: middle;\n",
       "    }\n",
       "\n",
       "    .dataframe tbody tr th {\n",
       "        vertical-align: top;\n",
       "    }\n",
       "\n",
       "    .dataframe thead th {\n",
       "        text-align: right;\n",
       "    }\n",
       "</style>\n",
       "<table border=\"1\" class=\"dataframe\">\n",
       "  <thead>\n",
       "    <tr style=\"text-align: right;\">\n",
       "      <th></th>\n",
       "      <th></th>\n",
       "      <th></th>\n",
       "      <th>Yaş</th>\n",
       "      <th>Not Ortalaması</th>\n",
       "    </tr>\n",
       "    <tr>\n",
       "      <th>Bölüm</th>\n",
       "      <th>Gruplar</th>\n",
       "      <th>İsimler</th>\n",
       "      <th></th>\n",
       "      <th></th>\n",
       "    </tr>\n",
       "  </thead>\n",
       "  <tbody>\n",
       "    <tr>\n",
       "      <th rowspan=\"2\" valign=\"top\">Math</th>\n",
       "      <th rowspan=\"2\" valign=\"top\">M19</th>\n",
       "      <th>Amir</th>\n",
       "      <td>21</td>\n",
       "      <td>21</td>\n",
       "    </tr>\n",
       "    <tr>\n",
       "      <th>Melike</th>\n",
       "      <td>21</td>\n",
       "      <td>21</td>\n",
       "    </tr>\n",
       "    <tr>\n",
       "      <th rowspan=\"2\" valign=\"top\">Physics</th>\n",
       "      <th>P17</th>\n",
       "      <th>Ceyda</th>\n",
       "      <td>23</td>\n",
       "      <td>23</td>\n",
       "    </tr>\n",
       "    <tr>\n",
       "      <th>P18</th>\n",
       "      <th>Baris</th>\n",
       "      <td>22</td>\n",
       "      <td>22</td>\n",
       "    </tr>\n",
       "  </tbody>\n",
       "</table>\n",
       "</div>"
      ],
      "text/plain": [
       "                         Yaş  Not Ortalaması\n",
       "Bölüm   Gruplar İsimler                     \n",
       "Math    M19     Amir      21              21\n",
       "                Melike    21              21\n",
       "Physics P17     Ceyda     23              23\n",
       "        P18     Baris     22              22"
      ]
     },
     "execution_count": 151,
     "metadata": {},
     "output_type": "execute_result"
    }
   ],
   "source": [
    "students_df.sort_index(ascending = True).loc[\"Math\":\"Physics\"]"
   ]
  },
  {
   "cell_type": "code",
   "execution_count": 153,
   "id": "ea4c9178",
   "metadata": {},
   "outputs": [
    {
     "data": {
      "text/html": [
       "<div>\n",
       "<style scoped>\n",
       "    .dataframe tbody tr th:only-of-type {\n",
       "        vertical-align: middle;\n",
       "    }\n",
       "\n",
       "    .dataframe tbody tr th {\n",
       "        vertical-align: top;\n",
       "    }\n",
       "\n",
       "    .dataframe thead th {\n",
       "        text-align: right;\n",
       "    }\n",
       "</style>\n",
       "<table border=\"1\" class=\"dataframe\">\n",
       "  <thead>\n",
       "    <tr style=\"text-align: right;\">\n",
       "      <th></th>\n",
       "      <th></th>\n",
       "      <th></th>\n",
       "      <th>Yaş</th>\n",
       "      <th>Not Ortalaması</th>\n",
       "    </tr>\n",
       "    <tr>\n",
       "      <th>Bölüm</th>\n",
       "      <th>Gruplar</th>\n",
       "      <th>İsimler</th>\n",
       "      <th></th>\n",
       "      <th></th>\n",
       "    </tr>\n",
       "  </thead>\n",
       "  <tbody>\n",
       "    <tr>\n",
       "      <th rowspan=\"2\" valign=\"top\">Physics</th>\n",
       "      <th>P18</th>\n",
       "      <th>Baris</th>\n",
       "      <td>22</td>\n",
       "      <td>22</td>\n",
       "    </tr>\n",
       "    <tr>\n",
       "      <th>P17</th>\n",
       "      <th>Ceyda</th>\n",
       "      <td>23</td>\n",
       "      <td>23</td>\n",
       "    </tr>\n",
       "    <tr>\n",
       "      <th rowspan=\"2\" valign=\"top\">Math</th>\n",
       "      <th rowspan=\"2\" valign=\"top\">M19</th>\n",
       "      <th>Melike</th>\n",
       "      <td>21</td>\n",
       "      <td>21</td>\n",
       "    </tr>\n",
       "    <tr>\n",
       "      <th>Amir</th>\n",
       "      <td>21</td>\n",
       "      <td>21</td>\n",
       "    </tr>\n",
       "    <tr>\n",
       "      <th>Biology</th>\n",
       "      <th>B20</th>\n",
       "      <th>Almila</th>\n",
       "      <td>20</td>\n",
       "      <td>20</td>\n",
       "    </tr>\n",
       "  </tbody>\n",
       "</table>\n",
       "</div>"
      ],
      "text/plain": [
       "                         Yaş  Not Ortalaması\n",
       "Bölüm   Gruplar İsimler                     \n",
       "Physics P18     Baris     22              22\n",
       "        P17     Ceyda     23              23\n",
       "Math    M19     Melike    21              21\n",
       "                Amir      21              21\n",
       "Biology B20     Almila    20              20"
      ]
     },
     "execution_count": 153,
     "metadata": {},
     "output_type": "execute_result"
    }
   ],
   "source": [
    "students_df.sort_index(ascending=False)"
   ]
  },
  {
   "cell_type": "code",
   "execution_count": 155,
   "id": "a51eeef3",
   "metadata": {},
   "outputs": [],
   "source": [
    "#Agregation"
   ]
  },
  {
   "cell_type": "code",
   "execution_count": 157,
   "id": "7a4fc162",
   "metadata": {},
   "outputs": [],
   "source": [
    "students_data = {\n",
    "    'İsimler': ['Melike', 'Baris', 'Almila', 'Amir', 'Ceyda'],\n",
    "    'Yaş': [21, 22, 20, 21, 23],\n",
    "    'Bölüm': ['Math', 'Physics', 'Biology', 'Math', 'Physics']\n",
    "}\n",
    "\n",
    "students_df = pd.DataFrame(students_data)"
   ]
  },
  {
   "cell_type": "code",
   "execution_count": 159,
   "id": "8df093e8",
   "metadata": {},
   "outputs": [
    {
     "data": {
      "text/html": [
       "<div>\n",
       "<style scoped>\n",
       "    .dataframe tbody tr th:only-of-type {\n",
       "        vertical-align: middle;\n",
       "    }\n",
       "\n",
       "    .dataframe tbody tr th {\n",
       "        vertical-align: top;\n",
       "    }\n",
       "\n",
       "    .dataframe thead th {\n",
       "        text-align: right;\n",
       "    }\n",
       "</style>\n",
       "<table border=\"1\" class=\"dataframe\">\n",
       "  <thead>\n",
       "    <tr style=\"text-align: right;\">\n",
       "      <th></th>\n",
       "      <th>İsimler</th>\n",
       "      <th>Yaş</th>\n",
       "      <th>Bölüm</th>\n",
       "    </tr>\n",
       "  </thead>\n",
       "  <tbody>\n",
       "    <tr>\n",
       "      <th>0</th>\n",
       "      <td>Melike</td>\n",
       "      <td>21</td>\n",
       "      <td>Math</td>\n",
       "    </tr>\n",
       "    <tr>\n",
       "      <th>1</th>\n",
       "      <td>Baris</td>\n",
       "      <td>22</td>\n",
       "      <td>Physics</td>\n",
       "    </tr>\n",
       "    <tr>\n",
       "      <th>2</th>\n",
       "      <td>Almila</td>\n",
       "      <td>20</td>\n",
       "      <td>Biology</td>\n",
       "    </tr>\n",
       "    <tr>\n",
       "      <th>3</th>\n",
       "      <td>Amir</td>\n",
       "      <td>21</td>\n",
       "      <td>Math</td>\n",
       "    </tr>\n",
       "    <tr>\n",
       "      <th>4</th>\n",
       "      <td>Ceyda</td>\n",
       "      <td>23</td>\n",
       "      <td>Physics</td>\n",
       "    </tr>\n",
       "  </tbody>\n",
       "</table>\n",
       "</div>"
      ],
      "text/plain": [
       "  İsimler  Yaş    Bölüm\n",
       "0  Melike   21     Math\n",
       "1   Baris   22  Physics\n",
       "2  Almila   20  Biology\n",
       "3    Amir   21     Math\n",
       "4   Ceyda   23  Physics"
      ]
     },
     "execution_count": 159,
     "metadata": {},
     "output_type": "execute_result"
    }
   ],
   "source": [
    "students_df"
   ]
  },
  {
   "cell_type": "code",
   "execution_count": 161,
   "id": "35203438",
   "metadata": {},
   "outputs": [
    {
     "data": {
      "text/plain": [
       "107"
      ]
     },
     "execution_count": 161,
     "metadata": {},
     "output_type": "execute_result"
    }
   ],
   "source": [
    "students_df[\"Yaş\"].sum()"
   ]
  },
  {
   "cell_type": "code",
   "execution_count": 163,
   "id": "46a63811",
   "metadata": {},
   "outputs": [
    {
     "data": {
      "text/plain": [
       "21.4"
      ]
     },
     "execution_count": 163,
     "metadata": {},
     "output_type": "execute_result"
    }
   ],
   "source": [
    "students_df[\"Yaş\"].mean()"
   ]
  },
  {
   "cell_type": "code",
   "execution_count": 165,
   "id": "9397cf12",
   "metadata": {},
   "outputs": [
    {
     "name": "stdout",
     "output_type": "stream",
     "text": [
      "21.0\n",
      "20\n",
      "23\n",
      "1.1401754250991378\n",
      "1.2999999999999998\n"
     ]
    }
   ],
   "source": [
    "print(students_df['Yaş'].median())\n",
    "print(students_df['Yaş'].min())\n",
    "print(students_df['Yaş'].max())\n",
    "print(students_df['Yaş'].std())\n",
    "print(students_df['Yaş'].var())"
   ]
  },
  {
   "cell_type": "code",
   "execution_count": 167,
   "id": "73fe44c1",
   "metadata": {},
   "outputs": [
    {
     "data": {
      "text/plain": [
       "4"
      ]
     },
     "execution_count": 167,
     "metadata": {},
     "output_type": "execute_result"
    }
   ],
   "source": [
    "students_df[\"Yaş\"].nunique()"
   ]
  },
  {
   "cell_type": "code",
   "execution_count": 169,
   "id": "0ab9c113",
   "metadata": {},
   "outputs": [
    {
     "data": {
      "text/plain": [
       "23.0"
      ]
     },
     "execution_count": 169,
     "metadata": {},
     "output_type": "execute_result"
    }
   ],
   "source": [
    "students_df[\"Yaş\"].quantile(1)"
   ]
  },
  {
   "cell_type": "code",
   "execution_count": 171,
   "id": "688d614d",
   "metadata": {},
   "outputs": [
    {
     "data": {
      "text/plain": [
       "2"
      ]
     },
     "execution_count": 171,
     "metadata": {},
     "output_type": "execute_result"
    }
   ],
   "source": [
    "students_df['Yaş'].idxmin()"
   ]
  },
  {
   "cell_type": "code",
   "execution_count": 173,
   "id": "af85632a",
   "metadata": {},
   "outputs": [
    {
     "data": {
      "text/plain": [
       "4"
      ]
     },
     "execution_count": 173,
     "metadata": {},
     "output_type": "execute_result"
    }
   ],
   "source": [
    "students_df['Yaş'].idxmax()"
   ]
  },
  {
   "cell_type": "code",
   "execution_count": 175,
   "id": "2741ba19",
   "metadata": {},
   "outputs": [
    {
     "data": {
      "text/plain": [
       "4462920"
      ]
     },
     "execution_count": 175,
     "metadata": {},
     "output_type": "execute_result"
    }
   ],
   "source": [
    "students_df[\"Yaş\"].prod()"
   ]
  },
  {
   "cell_type": "code",
   "execution_count": 177,
   "id": "2cb9e4e9",
   "metadata": {},
   "outputs": [],
   "source": [
    "#Gruplama "
   ]
  },
  {
   "cell_type": "code",
   "execution_count": 179,
   "id": "30b21b43",
   "metadata": {},
   "outputs": [
    {
     "data": {
      "text/html": [
       "<div>\n",
       "<style scoped>\n",
       "    .dataframe tbody tr th:only-of-type {\n",
       "        vertical-align: middle;\n",
       "    }\n",
       "\n",
       "    .dataframe tbody tr th {\n",
       "        vertical-align: top;\n",
       "    }\n",
       "\n",
       "    .dataframe thead th {\n",
       "        text-align: right;\n",
       "    }\n",
       "</style>\n",
       "<table border=\"1\" class=\"dataframe\">\n",
       "  <thead>\n",
       "    <tr style=\"text-align: right;\">\n",
       "      <th></th>\n",
       "      <th>İsimler</th>\n",
       "      <th>Yaş</th>\n",
       "      <th>Bölüm</th>\n",
       "    </tr>\n",
       "  </thead>\n",
       "  <tbody>\n",
       "    <tr>\n",
       "      <th>0</th>\n",
       "      <td>Melike</td>\n",
       "      <td>21</td>\n",
       "      <td>Math</td>\n",
       "    </tr>\n",
       "    <tr>\n",
       "      <th>1</th>\n",
       "      <td>Baris</td>\n",
       "      <td>22</td>\n",
       "      <td>Physics</td>\n",
       "    </tr>\n",
       "    <tr>\n",
       "      <th>2</th>\n",
       "      <td>Almila</td>\n",
       "      <td>20</td>\n",
       "      <td>Biology</td>\n",
       "    </tr>\n",
       "    <tr>\n",
       "      <th>3</th>\n",
       "      <td>Amir</td>\n",
       "      <td>21</td>\n",
       "      <td>Math</td>\n",
       "    </tr>\n",
       "    <tr>\n",
       "      <th>4</th>\n",
       "      <td>Ceyda</td>\n",
       "      <td>23</td>\n",
       "      <td>Physics</td>\n",
       "    </tr>\n",
       "  </tbody>\n",
       "</table>\n",
       "</div>"
      ],
      "text/plain": [
       "  İsimler  Yaş    Bölüm\n",
       "0  Melike   21     Math\n",
       "1   Baris   22  Physics\n",
       "2  Almila   20  Biology\n",
       "3    Amir   21     Math\n",
       "4   Ceyda   23  Physics"
      ]
     },
     "execution_count": 179,
     "metadata": {},
     "output_type": "execute_result"
    }
   ],
   "source": [
    "students_df"
   ]
  },
  {
   "cell_type": "code",
   "execution_count": 181,
   "id": "a089d14e",
   "metadata": {},
   "outputs": [
    {
     "data": {
      "text/plain": [
       "<pandas.core.groupby.generic.DataFrameGroupBy object at 0x0000027D44C71D90>"
      ]
     },
     "execution_count": 181,
     "metadata": {},
     "output_type": "execute_result"
    }
   ],
   "source": [
    "students_df.groupby(\"Bölüm\")"
   ]
  },
  {
   "cell_type": "code",
   "execution_count": 183,
   "id": "2a4c85a7",
   "metadata": {},
   "outputs": [],
   "source": [
    "grouped = students_df.groupby(\"Bölüm\")"
   ]
  },
  {
   "cell_type": "code",
   "execution_count": 185,
   "id": "2d814e2c",
   "metadata": {},
   "outputs": [
    {
     "data": {
      "text/plain": [
       "Bölüm\n",
       "Biology    20.0\n",
       "Math       21.0\n",
       "Physics    22.5\n",
       "Name: Yaş, dtype: float64"
      ]
     },
     "execution_count": 185,
     "metadata": {},
     "output_type": "execute_result"
    }
   ],
   "source": [
    "grouped[\"Yaş\"].mean()"
   ]
  },
  {
   "cell_type": "code",
   "execution_count": 187,
   "id": "1388b033",
   "metadata": {},
   "outputs": [
    {
     "data": {
      "text/plain": [
       "Bölüm\n",
       "Biology    20\n",
       "Math       42\n",
       "Physics    45\n",
       "Name: Yaş, dtype: int64"
      ]
     },
     "execution_count": 187,
     "metadata": {},
     "output_type": "execute_result"
    }
   ],
   "source": [
    "students_df.groupby(\"Bölüm\")[\"Yaş\"].sum()"
   ]
  },
  {
   "cell_type": "code",
   "execution_count": 189,
   "id": "cd2acc39",
   "metadata": {},
   "outputs": [
    {
     "data": {
      "text/plain": [
       "Bölüm\n",
       "Biology    20\n",
       "Math       21\n",
       "Physics    22\n",
       "Name: Yaş, dtype: int64"
      ]
     },
     "execution_count": 189,
     "metadata": {},
     "output_type": "execute_result"
    }
   ],
   "source": [
    "students_df.groupby(\"Bölüm\")[\"Yaş\"].min()"
   ]
  },
  {
   "cell_type": "code",
   "execution_count": 191,
   "id": "34671303",
   "metadata": {},
   "outputs": [
    {
     "data": {
      "text/plain": [
       "Bölüm\n",
       "Biology     20\n",
       "Math       441\n",
       "Physics    506\n",
       "Name: Yaş, dtype: int64"
      ]
     },
     "execution_count": 191,
     "metadata": {},
     "output_type": "execute_result"
    }
   ],
   "source": [
    "students_df.groupby(\"Bölüm\")[\"Yaş\"].prod()"
   ]
  },
  {
   "cell_type": "code",
   "execution_count": 193,
   "id": "e4e16205",
   "metadata": {},
   "outputs": [
    {
     "data": {
      "text/plain": [
       "Bölüm\n",
       "Biology    1\n",
       "Math       1\n",
       "Physics    2\n",
       "Name: Yaş, dtype: int64"
      ]
     },
     "execution_count": 193,
     "metadata": {},
     "output_type": "execute_result"
    }
   ],
   "source": [
    "students_df.groupby(\"Bölüm\")[\"Yaş\"].nunique()"
   ]
  },
  {
   "cell_type": "code",
   "execution_count": 195,
   "id": "15f78f3f",
   "metadata": {},
   "outputs": [],
   "source": [
    "grouped = students_df.groupby(\"Bölüm\")"
   ]
  },
  {
   "cell_type": "code",
   "execution_count": 197,
   "id": "9d07fb15",
   "metadata": {},
   "outputs": [
    {
     "data": {
      "text/plain": [
       "Bölüm\n",
       "Biology    20.0\n",
       "Math       21.0\n",
       "Physics    22.5\n",
       "Name: Yaş, dtype: float64"
      ]
     },
     "execution_count": 197,
     "metadata": {},
     "output_type": "execute_result"
    }
   ],
   "source": [
    "grouped[\"Yaş\"].mean()"
   ]
  },
  {
   "cell_type": "code",
   "execution_count": 199,
   "id": "1a958db6",
   "metadata": {},
   "outputs": [
    {
     "data": {
      "text/html": [
       "<div>\n",
       "<style scoped>\n",
       "    .dataframe tbody tr th:only-of-type {\n",
       "        vertical-align: middle;\n",
       "    }\n",
       "\n",
       "    .dataframe tbody tr th {\n",
       "        vertical-align: top;\n",
       "    }\n",
       "\n",
       "    .dataframe thead th {\n",
       "        text-align: right;\n",
       "    }\n",
       "</style>\n",
       "<table border=\"1\" class=\"dataframe\">\n",
       "  <thead>\n",
       "    <tr style=\"text-align: right;\">\n",
       "      <th></th>\n",
       "      <th>İsimler</th>\n",
       "      <th>Yaş</th>\n",
       "    </tr>\n",
       "    <tr>\n",
       "      <th>Bölüm</th>\n",
       "      <th></th>\n",
       "      <th></th>\n",
       "    </tr>\n",
       "  </thead>\n",
       "  <tbody>\n",
       "    <tr>\n",
       "      <th>Biology</th>\n",
       "      <td>1</td>\n",
       "      <td>1</td>\n",
       "    </tr>\n",
       "    <tr>\n",
       "      <th>Math</th>\n",
       "      <td>2</td>\n",
       "      <td>2</td>\n",
       "    </tr>\n",
       "    <tr>\n",
       "      <th>Physics</th>\n",
       "      <td>2</td>\n",
       "      <td>2</td>\n",
       "    </tr>\n",
       "  </tbody>\n",
       "</table>\n",
       "</div>"
      ],
      "text/plain": [
       "         İsimler  Yaş\n",
       "Bölüm                \n",
       "Biology        1    1\n",
       "Math           2    2\n",
       "Physics        2    2"
      ]
     },
     "execution_count": 199,
     "metadata": {},
     "output_type": "execute_result"
    }
   ],
   "source": [
    "grouped.agg(\"count\")"
   ]
  },
  {
   "cell_type": "code",
   "execution_count": 201,
   "id": "a70e2e0b",
   "metadata": {},
   "outputs": [
    {
     "data": {
      "text/html": [
       "<div>\n",
       "<style scoped>\n",
       "    .dataframe tbody tr th:only-of-type {\n",
       "        vertical-align: middle;\n",
       "    }\n",
       "\n",
       "    .dataframe tbody tr th {\n",
       "        vertical-align: top;\n",
       "    }\n",
       "\n",
       "    .dataframe thead th {\n",
       "        text-align: right;\n",
       "    }\n",
       "</style>\n",
       "<table border=\"1\" class=\"dataframe\">\n",
       "  <thead>\n",
       "    <tr style=\"text-align: right;\">\n",
       "      <th></th>\n",
       "      <th>mean</th>\n",
       "      <th>min</th>\n",
       "      <th>median</th>\n",
       "      <th>max</th>\n",
       "    </tr>\n",
       "    <tr>\n",
       "      <th>Bölüm</th>\n",
       "      <th></th>\n",
       "      <th></th>\n",
       "      <th></th>\n",
       "      <th></th>\n",
       "    </tr>\n",
       "  </thead>\n",
       "  <tbody>\n",
       "    <tr>\n",
       "      <th>Biology</th>\n",
       "      <td>20.0</td>\n",
       "      <td>20</td>\n",
       "      <td>20.0</td>\n",
       "      <td>20</td>\n",
       "    </tr>\n",
       "    <tr>\n",
       "      <th>Math</th>\n",
       "      <td>21.0</td>\n",
       "      <td>21</td>\n",
       "      <td>21.0</td>\n",
       "      <td>21</td>\n",
       "    </tr>\n",
       "    <tr>\n",
       "      <th>Physics</th>\n",
       "      <td>22.5</td>\n",
       "      <td>22</td>\n",
       "      <td>22.5</td>\n",
       "      <td>23</td>\n",
       "    </tr>\n",
       "  </tbody>\n",
       "</table>\n",
       "</div>"
      ],
      "text/plain": [
       "         mean  min  median  max\n",
       "Bölüm                          \n",
       "Biology  20.0   20    20.0   20\n",
       "Math     21.0   21    21.0   21\n",
       "Physics  22.5   22    22.5   23"
      ]
     },
     "execution_count": 201,
     "metadata": {},
     "output_type": "execute_result"
    }
   ],
   "source": [
    "grouped[\"Yaş\"].agg([\"mean\",\"min\", \"median\",\"max\"])"
   ]
  },
  {
   "cell_type": "code",
   "execution_count": 203,
   "id": "dae334d3",
   "metadata": {},
   "outputs": [
    {
     "data": {
      "text/plain": [
       "Bölüm\n",
       "Biology    0\n",
       "Math       0\n",
       "Physics    1\n",
       "Name: Yaş, dtype: int64"
      ]
     },
     "execution_count": 203,
     "metadata": {},
     "output_type": "execute_result"
    }
   ],
   "source": [
    "students_df.groupby(\"Bölüm\")[\"Yaş\"].agg(lambda x: x.max()- x.min())"
   ]
  },
  {
   "cell_type": "code",
   "execution_count": 205,
   "id": "f29a2569",
   "metadata": {},
   "outputs": [
    {
     "data": {
      "text/html": [
       "<div>\n",
       "<style scoped>\n",
       "    .dataframe tbody tr th:only-of-type {\n",
       "        vertical-align: middle;\n",
       "    }\n",
       "\n",
       "    .dataframe tbody tr th {\n",
       "        vertical-align: top;\n",
       "    }\n",
       "\n",
       "    .dataframe thead tr th {\n",
       "        text-align: left;\n",
       "    }\n",
       "\n",
       "    .dataframe thead tr:last-of-type th {\n",
       "        text-align: right;\n",
       "    }\n",
       "</style>\n",
       "<table border=\"1\" class=\"dataframe\">\n",
       "  <thead>\n",
       "    <tr>\n",
       "      <th></th>\n",
       "      <th colspan=\"4\" halign=\"left\">Yaş</th>\n",
       "      <th>İsimler</th>\n",
       "    </tr>\n",
       "    <tr>\n",
       "      <th></th>\n",
       "      <th>mean</th>\n",
       "      <th>min</th>\n",
       "      <th>median</th>\n",
       "      <th>max</th>\n",
       "      <th>nunique</th>\n",
       "    </tr>\n",
       "    <tr>\n",
       "      <th>Bölüm</th>\n",
       "      <th></th>\n",
       "      <th></th>\n",
       "      <th></th>\n",
       "      <th></th>\n",
       "      <th></th>\n",
       "    </tr>\n",
       "  </thead>\n",
       "  <tbody>\n",
       "    <tr>\n",
       "      <th>Biology</th>\n",
       "      <td>20.0</td>\n",
       "      <td>20</td>\n",
       "      <td>20.0</td>\n",
       "      <td>20</td>\n",
       "      <td>1</td>\n",
       "    </tr>\n",
       "    <tr>\n",
       "      <th>Math</th>\n",
       "      <td>21.0</td>\n",
       "      <td>21</td>\n",
       "      <td>21.0</td>\n",
       "      <td>21</td>\n",
       "      <td>2</td>\n",
       "    </tr>\n",
       "    <tr>\n",
       "      <th>Physics</th>\n",
       "      <td>22.5</td>\n",
       "      <td>22</td>\n",
       "      <td>22.5</td>\n",
       "      <td>23</td>\n",
       "      <td>2</td>\n",
       "    </tr>\n",
       "  </tbody>\n",
       "</table>\n",
       "</div>"
      ],
      "text/plain": [
       "          Yaş                İsimler\n",
       "         mean min median max nunique\n",
       "Bölüm                               \n",
       "Biology  20.0  20   20.0  20       1\n",
       "Math     21.0  21   21.0  21       2\n",
       "Physics  22.5  22   22.5  23       2"
      ]
     },
     "execution_count": 205,
     "metadata": {},
     "output_type": "execute_result"
    }
   ],
   "source": [
    "students_df.groupby(\"Bölüm\").agg({\"Yaş\" : [\"mean\", \"min\",\"median\",\"max\"],\n",
    "                                 \"İsimler\": \"nunique\"})"
   ]
  },
  {
   "cell_type": "code",
   "execution_count": 207,
   "id": "87dc000d",
   "metadata": {},
   "outputs": [
    {
     "data": {
      "text/html": [
       "<div>\n",
       "<style scoped>\n",
       "    .dataframe tbody tr th:only-of-type {\n",
       "        vertical-align: middle;\n",
       "    }\n",
       "\n",
       "    .dataframe tbody tr th {\n",
       "        vertical-align: top;\n",
       "    }\n",
       "\n",
       "    .dataframe thead th {\n",
       "        text-align: right;\n",
       "    }\n",
       "</style>\n",
       "<table border=\"1\" class=\"dataframe\">\n",
       "  <thead>\n",
       "    <tr style=\"text-align: right;\">\n",
       "      <th></th>\n",
       "      <th>İsimler</th>\n",
       "      <th>Yaş</th>\n",
       "      <th>Bölüm</th>\n",
       "    </tr>\n",
       "  </thead>\n",
       "  <tbody>\n",
       "    <tr>\n",
       "      <th>0</th>\n",
       "      <td>Melike</td>\n",
       "      <td>21</td>\n",
       "      <td>Math</td>\n",
       "    </tr>\n",
       "    <tr>\n",
       "      <th>1</th>\n",
       "      <td>Baris</td>\n",
       "      <td>22</td>\n",
       "      <td>Physics</td>\n",
       "    </tr>\n",
       "    <tr>\n",
       "      <th>2</th>\n",
       "      <td>Almila</td>\n",
       "      <td>20</td>\n",
       "      <td>Biology</td>\n",
       "    </tr>\n",
       "    <tr>\n",
       "      <th>3</th>\n",
       "      <td>Amir</td>\n",
       "      <td>21</td>\n",
       "      <td>Math</td>\n",
       "    </tr>\n",
       "    <tr>\n",
       "      <th>4</th>\n",
       "      <td>Ceyda</td>\n",
       "      <td>23</td>\n",
       "      <td>Physics</td>\n",
       "    </tr>\n",
       "  </tbody>\n",
       "</table>\n",
       "</div>"
      ],
      "text/plain": [
       "  İsimler  Yaş    Bölüm\n",
       "0  Melike   21     Math\n",
       "1   Baris   22  Physics\n",
       "2  Almila   20  Biology\n",
       "3    Amir   21     Math\n",
       "4   Ceyda   23  Physics"
      ]
     },
     "execution_count": 207,
     "metadata": {},
     "output_type": "execute_result"
    }
   ],
   "source": [
    "students_df"
   ]
  },
  {
   "cell_type": "code",
   "execution_count": 209,
   "id": "ea9bd20d",
   "metadata": {},
   "outputs": [
    {
     "data": {
      "text/plain": [
       "'SELECT\\n    *,\\n    avg(Yaş) over(partition by Bölüm) as bolum_ortalama_yas'"
      ]
     },
     "execution_count": 209,
     "metadata": {},
     "output_type": "execute_result"
    }
   ],
   "source": [
    "\"\"\"SELECT\n",
    "    *,\n",
    "    avg(Yaş) over(partition by Bölüm) as bolum_ortalama_yas\"\"\""
   ]
  },
  {
   "cell_type": "code",
   "execution_count": 211,
   "id": "afbeea4b",
   "metadata": {},
   "outputs": [
    {
     "data": {
      "text/plain": [
       "0    21.0\n",
       "1    22.5\n",
       "2    20.0\n",
       "3    21.0\n",
       "4    22.5\n",
       "Name: Yaş, dtype: float64"
      ]
     },
     "execution_count": 211,
     "metadata": {},
     "output_type": "execute_result"
    }
   ],
   "source": [
    "students_df.groupby('Bölüm')['Yaş'].transform('mean')"
   ]
  },
  {
   "cell_type": "code",
   "execution_count": 213,
   "id": "5c440e73",
   "metadata": {},
   "outputs": [],
   "source": [
    "students_df[\"ortalama_yas\"] = students_df.groupby('Bölüm')['Yaş'].transform('mean') "
   ]
  },
  {
   "cell_type": "code",
   "execution_count": 215,
   "id": "c2bee202",
   "metadata": {},
   "outputs": [
    {
     "data": {
      "text/html": [
       "<div>\n",
       "<style scoped>\n",
       "    .dataframe tbody tr th:only-of-type {\n",
       "        vertical-align: middle;\n",
       "    }\n",
       "\n",
       "    .dataframe tbody tr th {\n",
       "        vertical-align: top;\n",
       "    }\n",
       "\n",
       "    .dataframe thead th {\n",
       "        text-align: right;\n",
       "    }\n",
       "</style>\n",
       "<table border=\"1\" class=\"dataframe\">\n",
       "  <thead>\n",
       "    <tr style=\"text-align: right;\">\n",
       "      <th></th>\n",
       "      <th>İsimler</th>\n",
       "      <th>Yaş</th>\n",
       "      <th>Bölüm</th>\n",
       "      <th>ortalama_yas</th>\n",
       "    </tr>\n",
       "  </thead>\n",
       "  <tbody>\n",
       "    <tr>\n",
       "      <th>0</th>\n",
       "      <td>Melike</td>\n",
       "      <td>21</td>\n",
       "      <td>Math</td>\n",
       "      <td>21.0</td>\n",
       "    </tr>\n",
       "    <tr>\n",
       "      <th>1</th>\n",
       "      <td>Baris</td>\n",
       "      <td>22</td>\n",
       "      <td>Physics</td>\n",
       "      <td>22.5</td>\n",
       "    </tr>\n",
       "    <tr>\n",
       "      <th>2</th>\n",
       "      <td>Almila</td>\n",
       "      <td>20</td>\n",
       "      <td>Biology</td>\n",
       "      <td>20.0</td>\n",
       "    </tr>\n",
       "    <tr>\n",
       "      <th>3</th>\n",
       "      <td>Amir</td>\n",
       "      <td>21</td>\n",
       "      <td>Math</td>\n",
       "      <td>21.0</td>\n",
       "    </tr>\n",
       "    <tr>\n",
       "      <th>4</th>\n",
       "      <td>Ceyda</td>\n",
       "      <td>23</td>\n",
       "      <td>Physics</td>\n",
       "      <td>22.5</td>\n",
       "    </tr>\n",
       "  </tbody>\n",
       "</table>\n",
       "</div>"
      ],
      "text/plain": [
       "  İsimler  Yaş    Bölüm  ortalama_yas\n",
       "0  Melike   21     Math          21.0\n",
       "1   Baris   22  Physics          22.5\n",
       "2  Almila   20  Biology          20.0\n",
       "3    Amir   21     Math          21.0\n",
       "4   Ceyda   23  Physics          22.5"
      ]
     },
     "execution_count": 215,
     "metadata": {},
     "output_type": "execute_result"
    }
   ],
   "source": [
    "students_df"
   ]
  },
  {
   "cell_type": "code",
   "execution_count": 217,
   "id": "840572bb",
   "metadata": {},
   "outputs": [
    {
     "data": {
      "text/html": [
       "<div>\n",
       "<style scoped>\n",
       "    .dataframe tbody tr th:only-of-type {\n",
       "        vertical-align: middle;\n",
       "    }\n",
       "\n",
       "    .dataframe tbody tr th {\n",
       "        vertical-align: top;\n",
       "    }\n",
       "\n",
       "    .dataframe thead th {\n",
       "        text-align: right;\n",
       "    }\n",
       "</style>\n",
       "<table border=\"1\" class=\"dataframe\">\n",
       "  <thead>\n",
       "    <tr style=\"text-align: right;\">\n",
       "      <th></th>\n",
       "      <th>İsimler</th>\n",
       "      <th>Yaş</th>\n",
       "      <th>Bölüm</th>\n",
       "      <th>ortalama_yas</th>\n",
       "    </tr>\n",
       "  </thead>\n",
       "  <tbody>\n",
       "    <tr>\n",
       "      <th>4</th>\n",
       "      <td>Ceyda</td>\n",
       "      <td>23</td>\n",
       "      <td>Physics</td>\n",
       "      <td>22.5</td>\n",
       "    </tr>\n",
       "  </tbody>\n",
       "</table>\n",
       "</div>"
      ],
      "text/plain": [
       "  İsimler  Yaş    Bölüm  ortalama_yas\n",
       "4   Ceyda   23  Physics          22.5"
      ]
     },
     "execution_count": 217,
     "metadata": {},
     "output_type": "execute_result"
    }
   ],
   "source": [
    "students_df[students_df['Yaş'] > students_df['ortalama_yas']]"
   ]
  },
  {
   "cell_type": "code",
   "execution_count": 219,
   "id": "e61f639f",
   "metadata": {},
   "outputs": [],
   "source": [
    "students_df[\"ortalama_yasa_göre_fark\"] = students_df.groupby(\"Bölüm\")[\"Yaş\"].transform(lambda x : x - x.mean())"
   ]
  },
  {
   "cell_type": "code",
   "execution_count": 221,
   "id": "ee289da5",
   "metadata": {},
   "outputs": [
    {
     "data": {
      "text/html": [
       "<div>\n",
       "<style scoped>\n",
       "    .dataframe tbody tr th:only-of-type {\n",
       "        vertical-align: middle;\n",
       "    }\n",
       "\n",
       "    .dataframe tbody tr th {\n",
       "        vertical-align: top;\n",
       "    }\n",
       "\n",
       "    .dataframe thead th {\n",
       "        text-align: right;\n",
       "    }\n",
       "</style>\n",
       "<table border=\"1\" class=\"dataframe\">\n",
       "  <thead>\n",
       "    <tr style=\"text-align: right;\">\n",
       "      <th></th>\n",
       "      <th>İsimler</th>\n",
       "      <th>Yaş</th>\n",
       "      <th>Bölüm</th>\n",
       "      <th>ortalama_yas</th>\n",
       "      <th>ortalama_yasa_göre_fark</th>\n",
       "    </tr>\n",
       "  </thead>\n",
       "  <tbody>\n",
       "    <tr>\n",
       "      <th>0</th>\n",
       "      <td>Melike</td>\n",
       "      <td>21</td>\n",
       "      <td>Math</td>\n",
       "      <td>21.0</td>\n",
       "      <td>0.0</td>\n",
       "    </tr>\n",
       "    <tr>\n",
       "      <th>1</th>\n",
       "      <td>Baris</td>\n",
       "      <td>22</td>\n",
       "      <td>Physics</td>\n",
       "      <td>22.5</td>\n",
       "      <td>-0.5</td>\n",
       "    </tr>\n",
       "    <tr>\n",
       "      <th>2</th>\n",
       "      <td>Almila</td>\n",
       "      <td>20</td>\n",
       "      <td>Biology</td>\n",
       "      <td>20.0</td>\n",
       "      <td>0.0</td>\n",
       "    </tr>\n",
       "    <tr>\n",
       "      <th>3</th>\n",
       "      <td>Amir</td>\n",
       "      <td>21</td>\n",
       "      <td>Math</td>\n",
       "      <td>21.0</td>\n",
       "      <td>0.0</td>\n",
       "    </tr>\n",
       "    <tr>\n",
       "      <th>4</th>\n",
       "      <td>Ceyda</td>\n",
       "      <td>23</td>\n",
       "      <td>Physics</td>\n",
       "      <td>22.5</td>\n",
       "      <td>0.5</td>\n",
       "    </tr>\n",
       "  </tbody>\n",
       "</table>\n",
       "</div>"
      ],
      "text/plain": [
       "  İsimler  Yaş    Bölüm  ortalama_yas  ortalama_yasa_göre_fark\n",
       "0  Melike   21     Math          21.0                      0.0\n",
       "1   Baris   22  Physics          22.5                     -0.5\n",
       "2  Almila   20  Biology          20.0                      0.0\n",
       "3    Amir   21     Math          21.0                      0.0\n",
       "4   Ceyda   23  Physics          22.5                      0.5"
      ]
     },
     "execution_count": 221,
     "metadata": {},
     "output_type": "execute_result"
    }
   ],
   "source": [
    "students_df"
   ]
  },
  {
   "cell_type": "code",
   "execution_count": 223,
   "id": "bb49f0f6",
   "metadata": {},
   "outputs": [],
   "source": [
    "grouped = students_df.groupby('Bölüm', as_index = False)"
   ]
  },
  {
   "cell_type": "code",
   "execution_count": 225,
   "id": "b99c0275",
   "metadata": {},
   "outputs": [],
   "source": [
    "# grouped.agg('mean')"
   ]
  },
  {
   "cell_type": "code",
   "execution_count": 227,
   "id": "e34b00fa",
   "metadata": {},
   "outputs": [],
   "source": [
    "students_df.sort_values(\"Yaş\", inplace=True, ascending=False)"
   ]
  },
  {
   "cell_type": "code",
   "execution_count": 229,
   "id": "893ff0db",
   "metadata": {},
   "outputs": [
    {
     "data": {
      "text/html": [
       "<div>\n",
       "<style scoped>\n",
       "    .dataframe tbody tr th:only-of-type {\n",
       "        vertical-align: middle;\n",
       "    }\n",
       "\n",
       "    .dataframe tbody tr th {\n",
       "        vertical-align: top;\n",
       "    }\n",
       "\n",
       "    .dataframe thead th {\n",
       "        text-align: right;\n",
       "    }\n",
       "</style>\n",
       "<table border=\"1\" class=\"dataframe\">\n",
       "  <thead>\n",
       "    <tr style=\"text-align: right;\">\n",
       "      <th></th>\n",
       "      <th>İsimler</th>\n",
       "      <th>Yaş</th>\n",
       "      <th>Bölüm</th>\n",
       "      <th>ortalama_yas</th>\n",
       "      <th>ortalama_yasa_göre_fark</th>\n",
       "    </tr>\n",
       "  </thead>\n",
       "  <tbody>\n",
       "    <tr>\n",
       "      <th>4</th>\n",
       "      <td>Ceyda</td>\n",
       "      <td>23</td>\n",
       "      <td>Physics</td>\n",
       "      <td>22.5</td>\n",
       "      <td>0.5</td>\n",
       "    </tr>\n",
       "    <tr>\n",
       "      <th>1</th>\n",
       "      <td>Baris</td>\n",
       "      <td>22</td>\n",
       "      <td>Physics</td>\n",
       "      <td>22.5</td>\n",
       "      <td>-0.5</td>\n",
       "    </tr>\n",
       "    <tr>\n",
       "      <th>0</th>\n",
       "      <td>Melike</td>\n",
       "      <td>21</td>\n",
       "      <td>Math</td>\n",
       "      <td>21.0</td>\n",
       "      <td>0.0</td>\n",
       "    </tr>\n",
       "    <tr>\n",
       "      <th>3</th>\n",
       "      <td>Amir</td>\n",
       "      <td>21</td>\n",
       "      <td>Math</td>\n",
       "      <td>21.0</td>\n",
       "      <td>0.0</td>\n",
       "    </tr>\n",
       "    <tr>\n",
       "      <th>2</th>\n",
       "      <td>Almila</td>\n",
       "      <td>20</td>\n",
       "      <td>Biology</td>\n",
       "      <td>20.0</td>\n",
       "      <td>0.0</td>\n",
       "    </tr>\n",
       "  </tbody>\n",
       "</table>\n",
       "</div>"
      ],
      "text/plain": [
       "  İsimler  Yaş    Bölüm  ortalama_yas  ortalama_yasa_göre_fark\n",
       "4   Ceyda   23  Physics          22.5                      0.5\n",
       "1   Baris   22  Physics          22.5                     -0.5\n",
       "0  Melike   21     Math          21.0                      0.0\n",
       "3    Amir   21     Math          21.0                      0.0\n",
       "2  Almila   20  Biology          20.0                      0.0"
      ]
     },
     "execution_count": 229,
     "metadata": {},
     "output_type": "execute_result"
    }
   ],
   "source": [
    "students_df"
   ]
  },
  {
   "cell_type": "code",
   "execution_count": 231,
   "id": "e74efd76",
   "metadata": {},
   "outputs": [
    {
     "data": {
      "text/html": [
       "<div>\n",
       "<style scoped>\n",
       "    .dataframe tbody tr th:only-of-type {\n",
       "        vertical-align: middle;\n",
       "    }\n",
       "\n",
       "    .dataframe tbody tr th {\n",
       "        vertical-align: top;\n",
       "    }\n",
       "\n",
       "    .dataframe thead th {\n",
       "        text-align: right;\n",
       "    }\n",
       "</style>\n",
       "<table border=\"1\" class=\"dataframe\">\n",
       "  <thead>\n",
       "    <tr style=\"text-align: right;\">\n",
       "      <th></th>\n",
       "      <th>İsimler</th>\n",
       "      <th>Yaş</th>\n",
       "      <th>Bölüm</th>\n",
       "      <th>ortalama_yas</th>\n",
       "      <th>ortalama_yasa_göre_fark</th>\n",
       "    </tr>\n",
       "  </thead>\n",
       "  <tbody>\n",
       "    <tr>\n",
       "      <th>4</th>\n",
       "      <td>Ceyda</td>\n",
       "      <td>23</td>\n",
       "      <td>Physics</td>\n",
       "      <td>22.5</td>\n",
       "      <td>0.5</td>\n",
       "    </tr>\n",
       "    <tr>\n",
       "      <th>1</th>\n",
       "      <td>Baris</td>\n",
       "      <td>22</td>\n",
       "      <td>Physics</td>\n",
       "      <td>22.5</td>\n",
       "      <td>-0.5</td>\n",
       "    </tr>\n",
       "    <tr>\n",
       "      <th>0</th>\n",
       "      <td>Melike</td>\n",
       "      <td>21</td>\n",
       "      <td>Math</td>\n",
       "      <td>21.0</td>\n",
       "      <td>0.0</td>\n",
       "    </tr>\n",
       "    <tr>\n",
       "      <th>3</th>\n",
       "      <td>Amir</td>\n",
       "      <td>21</td>\n",
       "      <td>Math</td>\n",
       "      <td>21.0</td>\n",
       "      <td>0.0</td>\n",
       "    </tr>\n",
       "    <tr>\n",
       "      <th>2</th>\n",
       "      <td>Almila</td>\n",
       "      <td>20</td>\n",
       "      <td>Biology</td>\n",
       "      <td>20.0</td>\n",
       "      <td>0.0</td>\n",
       "    </tr>\n",
       "  </tbody>\n",
       "</table>\n",
       "</div>"
      ],
      "text/plain": [
       "  İsimler  Yaş    Bölüm  ortalama_yas  ortalama_yasa_göre_fark\n",
       "4   Ceyda   23  Physics          22.5                      0.5\n",
       "1   Baris   22  Physics          22.5                     -0.5\n",
       "0  Melike   21     Math          21.0                      0.0\n",
       "3    Amir   21     Math          21.0                      0.0\n",
       "2  Almila   20  Biology          20.0                      0.0"
      ]
     },
     "execution_count": 231,
     "metadata": {},
     "output_type": "execute_result"
    }
   ],
   "source": [
    "students_df.sort_values('Bölüm', ascending = False)"
   ]
  },
  {
   "cell_type": "code",
   "execution_count": 233,
   "id": "99bbc130",
   "metadata": {},
   "outputs": [
    {
     "data": {
      "text/html": [
       "<div>\n",
       "<style scoped>\n",
       "    .dataframe tbody tr th:only-of-type {\n",
       "        vertical-align: middle;\n",
       "    }\n",
       "\n",
       "    .dataframe tbody tr th {\n",
       "        vertical-align: top;\n",
       "    }\n",
       "\n",
       "    .dataframe thead th {\n",
       "        text-align: right;\n",
       "    }\n",
       "</style>\n",
       "<table border=\"1\" class=\"dataframe\">\n",
       "  <thead>\n",
       "    <tr style=\"text-align: right;\">\n",
       "      <th></th>\n",
       "      <th>İsimler</th>\n",
       "      <th>Yaş</th>\n",
       "      <th>Bölüm</th>\n",
       "      <th>ortalama_yas</th>\n",
       "      <th>ortalama_yasa_göre_fark</th>\n",
       "    </tr>\n",
       "  </thead>\n",
       "  <tbody>\n",
       "    <tr>\n",
       "      <th>4</th>\n",
       "      <td>Ceyda</td>\n",
       "      <td>23</td>\n",
       "      <td>Physics</td>\n",
       "      <td>22.5</td>\n",
       "      <td>0.5</td>\n",
       "    </tr>\n",
       "    <tr>\n",
       "      <th>1</th>\n",
       "      <td>Baris</td>\n",
       "      <td>22</td>\n",
       "      <td>Physics</td>\n",
       "      <td>22.5</td>\n",
       "      <td>-0.5</td>\n",
       "    </tr>\n",
       "    <tr>\n",
       "      <th>0</th>\n",
       "      <td>Melike</td>\n",
       "      <td>21</td>\n",
       "      <td>Math</td>\n",
       "      <td>21.0</td>\n",
       "      <td>0.0</td>\n",
       "    </tr>\n",
       "    <tr>\n",
       "      <th>3</th>\n",
       "      <td>Amir</td>\n",
       "      <td>21</td>\n",
       "      <td>Math</td>\n",
       "      <td>21.0</td>\n",
       "      <td>0.0</td>\n",
       "    </tr>\n",
       "    <tr>\n",
       "      <th>2</th>\n",
       "      <td>Almila</td>\n",
       "      <td>20</td>\n",
       "      <td>Biology</td>\n",
       "      <td>20.0</td>\n",
       "      <td>0.0</td>\n",
       "    </tr>\n",
       "  </tbody>\n",
       "</table>\n",
       "</div>"
      ],
      "text/plain": [
       "  İsimler  Yaş    Bölüm  ortalama_yas  ortalama_yasa_göre_fark\n",
       "4   Ceyda   23  Physics          22.5                      0.5\n",
       "1   Baris   22  Physics          22.5                     -0.5\n",
       "0  Melike   21     Math          21.0                      0.0\n",
       "3    Amir   21     Math          21.0                      0.0\n",
       "2  Almila   20  Biology          20.0                      0.0"
      ]
     },
     "execution_count": 233,
     "metadata": {},
     "output_type": "execute_result"
    }
   ],
   "source": [
    "students_df.sort_values([\"Bölüm\", \"Yaş\"], ascending=False)"
   ]
  },
  {
   "cell_type": "code",
   "execution_count": null,
   "id": "deea53da",
   "metadata": {},
   "outputs": [],
   "source": []
  },
  {
   "cell_type": "code",
   "execution_count": null,
   "id": "ef7e4c93",
   "metadata": {},
   "outputs": [],
   "source": []
  },
  {
   "cell_type": "code",
   "execution_count": null,
   "id": "b8209892",
   "metadata": {},
   "outputs": [],
   "source": []
  },
  {
   "cell_type": "code",
   "execution_count": null,
   "id": "09a140ee",
   "metadata": {},
   "outputs": [],
   "source": []
  },
  {
   "cell_type": "code",
   "execution_count": null,
   "id": "34a3f8ef",
   "metadata": {},
   "outputs": [],
   "source": []
  }
 ],
 "metadata": {
  "kernelspec": {
   "display_name": "Python 3 (ipykernel)",
   "language": "python",
   "name": "python3"
  },
  "language_info": {
   "codemirror_mode": {
    "name": "ipython",
    "version": 3
   },
   "file_extension": ".py",
   "mimetype": "text/x-python",
   "name": "python",
   "nbconvert_exporter": "python",
   "pygments_lexer": "ipython3",
   "version": "3.11.5"
  }
 },
 "nbformat": 4,
 "nbformat_minor": 5
}
