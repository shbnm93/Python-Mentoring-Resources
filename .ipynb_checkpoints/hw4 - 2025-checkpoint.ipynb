{
 "cells": [
  {
   "cell_type": "code",
   "execution_count": 1,
   "id": "add86b6b-9553-4141-84c1-476d8bdee921",
   "metadata": {},
   "outputs": [],
   "source": [
    "import pandas as pd\n",
    "import numpy as np"
   ]
  },
  {
   "cell_type": "code",
   "execution_count": 2,
   "id": "0f3edc0f-786d-46e5-b113-27a483e16bc9",
   "metadata": {},
   "outputs": [],
   "source": [
    "df = pd.read_csv(r\"C:\\Users\\Ali\\Documents\\python\\stack-overflow-developer-survey-2025\\survey_results_public.csv\")\n",
    "schema = pd.read_csv(r\"C:\\Users\\Ali\\Documents\\python\\stack-overflow-developer-survey-2025\\survey_results_schema.csv\")"
   ]
  },
  {
   "cell_type": "code",
   "execution_count": 3,
   "id": "80d1f84b-f033-4f6c-8a39-75b41fe737bc",
   "metadata": {},
   "outputs": [
    {
     "data": {
      "text/html": [
       "<div>\n",
       "<style scoped>\n",
       "    .dataframe tbody tr th:only-of-type {\n",
       "        vertical-align: middle;\n",
       "    }\n",
       "\n",
       "    .dataframe tbody tr th {\n",
       "        vertical-align: top;\n",
       "    }\n",
       "\n",
       "    .dataframe thead th {\n",
       "        text-align: right;\n",
       "    }\n",
       "</style>\n",
       "<table border=\"1\" class=\"dataframe\">\n",
       "  <thead>\n",
       "    <tr style=\"text-align: right;\">\n",
       "      <th></th>\n",
       "      <th>ResponseId</th>\n",
       "      <th>MainBranch</th>\n",
       "      <th>Age</th>\n",
       "      <th>EdLevel</th>\n",
       "      <th>Employment</th>\n",
       "      <th>EmploymentAddl</th>\n",
       "      <th>WorkExp</th>\n",
       "      <th>LearnCodeChoose</th>\n",
       "      <th>LearnCode</th>\n",
       "      <th>LearnCodeAI</th>\n",
       "      <th>...</th>\n",
       "      <th>AIAgentOrchestration</th>\n",
       "      <th>AIAgentOrchWrite</th>\n",
       "      <th>AIAgentObserveSecure</th>\n",
       "      <th>AIAgentObsWrite</th>\n",
       "      <th>AIAgentExternal</th>\n",
       "      <th>AIAgentExtWrite</th>\n",
       "      <th>AIHuman</th>\n",
       "      <th>AIOpen</th>\n",
       "      <th>ConvertedCompYearly</th>\n",
       "      <th>JobSat</th>\n",
       "    </tr>\n",
       "  </thead>\n",
       "  <tbody>\n",
       "    <tr>\n",
       "      <th>0</th>\n",
       "      <td>1</td>\n",
       "      <td>I am a developer by profession</td>\n",
       "      <td>25-34 years old</td>\n",
       "      <td>Master’s degree (M.A., M.S., M.Eng., MBA, etc.)</td>\n",
       "      <td>Employed</td>\n",
       "      <td>Caring for dependents (children, elderly, etc.)</td>\n",
       "      <td>8.0</td>\n",
       "      <td>Yes, I am not new to coding but am learning ne...</td>\n",
       "      <td>Online Courses or Certification (includes all ...</td>\n",
       "      <td>Yes, I learned how to use AI-enabled tools for...</td>\n",
       "      <td>...</td>\n",
       "      <td>Vertex AI</td>\n",
       "      <td>NaN</td>\n",
       "      <td>NaN</td>\n",
       "      <td>NaN</td>\n",
       "      <td>ChatGPT</td>\n",
       "      <td>NaN</td>\n",
       "      <td>When I don’t trust AI’s answers</td>\n",
       "      <td>Troubleshooting, profiling, debugging</td>\n",
       "      <td>61256.0</td>\n",
       "      <td>10.0</td>\n",
       "    </tr>\n",
       "    <tr>\n",
       "      <th>1</th>\n",
       "      <td>2</td>\n",
       "      <td>I am a developer by profession</td>\n",
       "      <td>25-34 years old</td>\n",
       "      <td>Associate degree (A.A., A.S., etc.)</td>\n",
       "      <td>Employed</td>\n",
       "      <td>NaN</td>\n",
       "      <td>2.0</td>\n",
       "      <td>Yes, I am not new to coding but am learning ne...</td>\n",
       "      <td>Online Courses or Certification (includes all ...</td>\n",
       "      <td>Yes, I learned how to use AI-enabled tools for...</td>\n",
       "      <td>...</td>\n",
       "      <td>NaN</td>\n",
       "      <td>NaN</td>\n",
       "      <td>NaN</td>\n",
       "      <td>NaN</td>\n",
       "      <td>NaN</td>\n",
       "      <td>NaN</td>\n",
       "      <td>When I don’t trust AI’s answers;When I want to...</td>\n",
       "      <td>All skills. AI is a flop.</td>\n",
       "      <td>104413.0</td>\n",
       "      <td>9.0</td>\n",
       "    </tr>\n",
       "    <tr>\n",
       "      <th>2</th>\n",
       "      <td>3</td>\n",
       "      <td>I am a developer by profession</td>\n",
       "      <td>35-44 years old</td>\n",
       "      <td>Bachelor’s degree (B.A., B.S., B.Eng., etc.)</td>\n",
       "      <td>Independent contractor, freelancer, or self-em...</td>\n",
       "      <td>None of the above</td>\n",
       "      <td>10.0</td>\n",
       "      <td>Yes, I am not new to coding but am learning ne...</td>\n",
       "      <td>Online Courses or Certification (includes all ...</td>\n",
       "      <td>Yes, I learned how to use AI-enabled tools for...</td>\n",
       "      <td>...</td>\n",
       "      <td>NaN</td>\n",
       "      <td>NaN</td>\n",
       "      <td>NaN</td>\n",
       "      <td>NaN</td>\n",
       "      <td>ChatGPT;Claude Code;GitHub Copilot;Google Gemini</td>\n",
       "      <td>NaN</td>\n",
       "      <td>When I don’t trust AI’s answers;When I want to...</td>\n",
       "      <td>Understand how things actually work, problem s...</td>\n",
       "      <td>53061.0</td>\n",
       "      <td>8.0</td>\n",
       "    </tr>\n",
       "    <tr>\n",
       "      <th>3</th>\n",
       "      <td>4</td>\n",
       "      <td>I am a developer by profession</td>\n",
       "      <td>35-44 years old</td>\n",
       "      <td>Bachelor’s degree (B.A., B.S., B.Eng., etc.)</td>\n",
       "      <td>Employed</td>\n",
       "      <td>None of the above</td>\n",
       "      <td>4.0</td>\n",
       "      <td>Yes, I am not new to coding but am learning ne...</td>\n",
       "      <td>Other online resources (e.g. standard search, ...</td>\n",
       "      <td>Yes, I learned how to use AI-enabled tools for...</td>\n",
       "      <td>...</td>\n",
       "      <td>NaN</td>\n",
       "      <td>NaN</td>\n",
       "      <td>NaN</td>\n",
       "      <td>NaN</td>\n",
       "      <td>ChatGPT;Claude Code</td>\n",
       "      <td>NaN</td>\n",
       "      <td>When I don’t trust AI’s answers;When I want to...</td>\n",
       "      <td>NaN</td>\n",
       "      <td>36197.0</td>\n",
       "      <td>6.0</td>\n",
       "    </tr>\n",
       "    <tr>\n",
       "      <th>4</th>\n",
       "      <td>5</td>\n",
       "      <td>I am a developer by profession</td>\n",
       "      <td>35-44 years old</td>\n",
       "      <td>Master’s degree (M.A., M.S., M.Eng., MBA, etc.)</td>\n",
       "      <td>Independent contractor, freelancer, or self-em...</td>\n",
       "      <td>Caring for dependents (children, elderly, etc.)</td>\n",
       "      <td>21.0</td>\n",
       "      <td>No, I am not new to coding and did not learn n...</td>\n",
       "      <td>NaN</td>\n",
       "      <td>Yes, I learned how to use AI-enabled tools for...</td>\n",
       "      <td>...</td>\n",
       "      <td>NaN</td>\n",
       "      <td>NaN</td>\n",
       "      <td>NaN</td>\n",
       "      <td>NaN</td>\n",
       "      <td>NaN</td>\n",
       "      <td>NaN</td>\n",
       "      <td>When I don’t trust AI’s answers</td>\n",
       "      <td>critical thinking, the skill to define the tas...</td>\n",
       "      <td>60000.0</td>\n",
       "      <td>7.0</td>\n",
       "    </tr>\n",
       "  </tbody>\n",
       "</table>\n",
       "<p>5 rows × 170 columns</p>\n",
       "</div>"
      ],
      "text/plain": [
       "   ResponseId                      MainBranch              Age  \\\n",
       "0           1  I am a developer by profession  25-34 years old   \n",
       "1           2  I am a developer by profession  25-34 years old   \n",
       "2           3  I am a developer by profession  35-44 years old   \n",
       "3           4  I am a developer by profession  35-44 years old   \n",
       "4           5  I am a developer by profession  35-44 years old   \n",
       "\n",
       "                                           EdLevel  \\\n",
       "0  Master’s degree (M.A., M.S., M.Eng., MBA, etc.)   \n",
       "1              Associate degree (A.A., A.S., etc.)   \n",
       "2     Bachelor’s degree (B.A., B.S., B.Eng., etc.)   \n",
       "3     Bachelor’s degree (B.A., B.S., B.Eng., etc.)   \n",
       "4  Master’s degree (M.A., M.S., M.Eng., MBA, etc.)   \n",
       "\n",
       "                                          Employment  \\\n",
       "0                                           Employed   \n",
       "1                                           Employed   \n",
       "2  Independent contractor, freelancer, or self-em...   \n",
       "3                                           Employed   \n",
       "4  Independent contractor, freelancer, or self-em...   \n",
       "\n",
       "                                    EmploymentAddl  WorkExp  \\\n",
       "0  Caring for dependents (children, elderly, etc.)      8.0   \n",
       "1                                              NaN      2.0   \n",
       "2                                None of the above     10.0   \n",
       "3                                None of the above      4.0   \n",
       "4  Caring for dependents (children, elderly, etc.)     21.0   \n",
       "\n",
       "                                     LearnCodeChoose  \\\n",
       "0  Yes, I am not new to coding but am learning ne...   \n",
       "1  Yes, I am not new to coding but am learning ne...   \n",
       "2  Yes, I am not new to coding but am learning ne...   \n",
       "3  Yes, I am not new to coding but am learning ne...   \n",
       "4  No, I am not new to coding and did not learn n...   \n",
       "\n",
       "                                           LearnCode  \\\n",
       "0  Online Courses or Certification (includes all ...   \n",
       "1  Online Courses or Certification (includes all ...   \n",
       "2  Online Courses or Certification (includes all ...   \n",
       "3  Other online resources (e.g. standard search, ...   \n",
       "4                                                NaN   \n",
       "\n",
       "                                         LearnCodeAI  ...  \\\n",
       "0  Yes, I learned how to use AI-enabled tools for...  ...   \n",
       "1  Yes, I learned how to use AI-enabled tools for...  ...   \n",
       "2  Yes, I learned how to use AI-enabled tools for...  ...   \n",
       "3  Yes, I learned how to use AI-enabled tools for...  ...   \n",
       "4  Yes, I learned how to use AI-enabled tools for...  ...   \n",
       "\n",
       "  AIAgentOrchestration  AIAgentOrchWrite AIAgentObserveSecure AIAgentObsWrite  \\\n",
       "0            Vertex AI               NaN                  NaN             NaN   \n",
       "1                  NaN               NaN                  NaN             NaN   \n",
       "2                  NaN               NaN                  NaN             NaN   \n",
       "3                  NaN               NaN                  NaN             NaN   \n",
       "4                  NaN               NaN                  NaN             NaN   \n",
       "\n",
       "                                    AIAgentExternal AIAgentExtWrite  \\\n",
       "0                                           ChatGPT             NaN   \n",
       "1                                               NaN             NaN   \n",
       "2  ChatGPT;Claude Code;GitHub Copilot;Google Gemini             NaN   \n",
       "3                               ChatGPT;Claude Code             NaN   \n",
       "4                                               NaN             NaN   \n",
       "\n",
       "                                             AIHuman  \\\n",
       "0                    When I don’t trust AI’s answers   \n",
       "1  When I don’t trust AI’s answers;When I want to...   \n",
       "2  When I don’t trust AI’s answers;When I want to...   \n",
       "3  When I don’t trust AI’s answers;When I want to...   \n",
       "4                    When I don’t trust AI’s answers   \n",
       "\n",
       "                                              AIOpen  ConvertedCompYearly  \\\n",
       "0              Troubleshooting, profiling, debugging              61256.0   \n",
       "1                          All skills. AI is a flop.             104413.0   \n",
       "2  Understand how things actually work, problem s...              53061.0   \n",
       "3                                                NaN              36197.0   \n",
       "4  critical thinking, the skill to define the tas...              60000.0   \n",
       "\n",
       "   JobSat  \n",
       "0    10.0  \n",
       "1     9.0  \n",
       "2     8.0  \n",
       "3     6.0  \n",
       "4     7.0  \n",
       "\n",
       "[5 rows x 170 columns]"
      ]
     },
     "execution_count": 3,
     "metadata": {},
     "output_type": "execute_result"
    }
   ],
   "source": [
    "df.head()"
   ]
  },
  {
   "cell_type": "code",
   "execution_count": 4,
   "id": "7c3c59bf-c2de-4eb3-b2ed-6f7b383d5af2",
   "metadata": {},
   "outputs": [
    {
     "data": {
      "text/html": [
       "<div>\n",
       "<style scoped>\n",
       "    .dataframe tbody tr th:only-of-type {\n",
       "        vertical-align: middle;\n",
       "    }\n",
       "\n",
       "    .dataframe tbody tr th {\n",
       "        vertical-align: top;\n",
       "    }\n",
       "\n",
       "    .dataframe thead th {\n",
       "        text-align: right;\n",
       "    }\n",
       "</style>\n",
       "<table border=\"1\" class=\"dataframe\">\n",
       "  <thead>\n",
       "    <tr style=\"text-align: right;\">\n",
       "      <th></th>\n",
       "      <th>qid</th>\n",
       "      <th>qname</th>\n",
       "      <th>question</th>\n",
       "      <th>type</th>\n",
       "      <th>sub</th>\n",
       "      <th>sq_id</th>\n",
       "    </tr>\n",
       "  </thead>\n",
       "  <tbody>\n",
       "    <tr>\n",
       "      <th>0</th>\n",
       "      <td>QID18</td>\n",
       "      <td>TechEndorse_1</td>\n",
       "      <td>What attracts you to a technology or causes yo...</td>\n",
       "      <td>RO</td>\n",
       "      <td>AI integration or AI Agent capabilities</td>\n",
       "      <td>1.0</td>\n",
       "    </tr>\n",
       "    <tr>\n",
       "      <th>1</th>\n",
       "      <td>QID18</td>\n",
       "      <td>TechEndorse_2</td>\n",
       "      <td>What attracts you to a technology or causes yo...</td>\n",
       "      <td>RO</td>\n",
       "      <td>Easy-to-use API</td>\n",
       "      <td>2.0</td>\n",
       "    </tr>\n",
       "    <tr>\n",
       "      <th>2</th>\n",
       "      <td>QID18</td>\n",
       "      <td>TechEndorse_3</td>\n",
       "      <td>What attracts you to a technology or causes yo...</td>\n",
       "      <td>RO</td>\n",
       "      <td>Robust and complete API</td>\n",
       "      <td>3.0</td>\n",
       "    </tr>\n",
       "    <tr>\n",
       "      <th>3</th>\n",
       "      <td>QID18</td>\n",
       "      <td>TechEndorse_4</td>\n",
       "      <td>What attracts you to a technology or causes yo...</td>\n",
       "      <td>RO</td>\n",
       "      <td>Customizable and manageable codebase</td>\n",
       "      <td>4.0</td>\n",
       "    </tr>\n",
       "    <tr>\n",
       "      <th>4</th>\n",
       "      <td>QID18</td>\n",
       "      <td>TechEndorse_5</td>\n",
       "      <td>What attracts you to a technology or causes yo...</td>\n",
       "      <td>RO</td>\n",
       "      <td>Reputation for quality</td>\n",
       "      <td>5.0</td>\n",
       "    </tr>\n",
       "  </tbody>\n",
       "</table>\n",
       "</div>"
      ],
      "text/plain": [
       "     qid          qname                                           question  \\\n",
       "0  QID18  TechEndorse_1  What attracts you to a technology or causes yo...   \n",
       "1  QID18  TechEndorse_2  What attracts you to a technology or causes yo...   \n",
       "2  QID18  TechEndorse_3  What attracts you to a technology or causes yo...   \n",
       "3  QID18  TechEndorse_4  What attracts you to a technology or causes yo...   \n",
       "4  QID18  TechEndorse_5  What attracts you to a technology or causes yo...   \n",
       "\n",
       "  type                                      sub  sq_id  \n",
       "0   RO  AI integration or AI Agent capabilities    1.0  \n",
       "1   RO                          Easy-to-use API    2.0  \n",
       "2   RO                  Robust and complete API    3.0  \n",
       "3   RO     Customizable and manageable codebase    4.0  \n",
       "4   RO                   Reputation for quality    5.0  "
      ]
     },
     "execution_count": 4,
     "metadata": {},
     "output_type": "execute_result"
    }
   ],
   "source": [
    "schema.head()"
   ]
  },
  {
   "cell_type": "code",
   "execution_count": 5,
   "id": "47f84f9e-f723-4734-9d24-ac14dc6e82ff",
   "metadata": {},
   "outputs": [
    {
     "data": {
      "text/plain": [
       "(49123, 170)"
      ]
     },
     "execution_count": 5,
     "metadata": {},
     "output_type": "execute_result"
    }
   ],
   "source": [
    "df.shape"
   ]
  },
  {
   "cell_type": "code",
   "execution_count": 6,
   "id": "e1574427-5d69-47ff-8395-e4ed983b97d0",
   "metadata": {},
   "outputs": [
    {
     "data": {
      "text/plain": [
       "(139, 6)"
      ]
     },
     "execution_count": 6,
     "metadata": {},
     "output_type": "execute_result"
    }
   ],
   "source": [
    "schema.shape"
   ]
  },
  {
   "cell_type": "code",
   "execution_count": 7,
   "id": "bb6ad5d4-34f1-43a7-b3fc-92d73becc62a",
   "metadata": {},
   "outputs": [
    {
     "data": {
      "text/plain": [
       "Index(['ResponseId', 'MainBranch', 'Age', 'EdLevel', 'Employment',\n",
       "       'EmploymentAddl', 'WorkExp', 'LearnCodeChoose', 'LearnCode',\n",
       "       'LearnCodeAI',\n",
       "       ...\n",
       "       'AIAgentOrchestration', 'AIAgentOrchWrite', 'AIAgentObserveSecure',\n",
       "       'AIAgentObsWrite', 'AIAgentExternal', 'AIAgentExtWrite', 'AIHuman',\n",
       "       'AIOpen', 'ConvertedCompYearly', 'JobSat'],\n",
       "      dtype='object', length=170)"
      ]
     },
     "execution_count": 7,
     "metadata": {},
     "output_type": "execute_result"
    }
   ],
   "source": [
    "df.columns"
   ]
  },
  {
   "cell_type": "code",
   "execution_count": 8,
   "id": "0288c9a5-a0b7-44e0-9911-2972e9e83d8c",
   "metadata": {},
   "outputs": [
    {
     "data": {
      "text/plain": [
       "Index(['qid', 'qname', 'question', 'type', 'sub', 'sq_id'], dtype='object')"
      ]
     },
     "execution_count": 8,
     "metadata": {},
     "output_type": "execute_result"
    }
   ],
   "source": [
    "schema.columns"
   ]
  },
  {
   "cell_type": "markdown",
   "id": "3f6aa4d0-1500-497b-926f-8b1a49f97192",
   "metadata": {},
   "source": [
    "### 1-How many respondents completed the survey?"
   ]
  },
  {
   "cell_type": "code",
   "execution_count": 10,
   "id": "2a79d6bf-3896-42a8-b08b-1944251be353",
   "metadata": {},
   "outputs": [
    {
     "data": {
      "text/plain": [
       "49123"
      ]
     },
     "execution_count": 10,
     "metadata": {},
     "output_type": "execute_result"
    }
   ],
   "source": [
    "df.ResponseId.nunique()"
   ]
  },
  {
   "cell_type": "markdown",
   "id": "574464dc-b216-43b0-80b8-eec297ae68f2",
   "metadata": {},
   "source": [
    "### 2-How many respondents answered all questions?"
   ]
  },
  {
   "cell_type": "code",
   "execution_count": 12,
   "id": "fd11b523-1ee6-4bff-b35c-66d046b7acbb",
   "metadata": {},
   "outputs": [
    {
     "data": {
      "text/plain": [
       "0"
      ]
     },
     "execution_count": 12,
     "metadata": {},
     "output_type": "execute_result"
    }
   ],
   "source": [
    "questions = set(schema.qname.unique()) & set(df.columns)\n",
    "df.dropna(subset=questions).shape[0]"
   ]
  },
  {
   "cell_type": "code",
   "execution_count": 13,
   "id": "b097222e-bfba-4067-86d4-6f2ac59e02a9",
   "metadata": {},
   "outputs": [
    {
     "name": "stdout",
     "output_type": "stream",
     "text": [
      "All question groups answered: 1\n",
      "All *core* question groups answered: 37131\n"
     ]
    }
   ],
   "source": [
    "# map qid -> the qname columns that exist in df\n",
    "qid_to_cols = (schema[schema.qname.isin(df.columns)]\n",
    "               .groupby('qid')['qname'].apply(list))\n",
    "\n",
    "# build a boolean frame: True if respondent answered at least one col for that question group\n",
    "answered_any = pd.DataFrame({\n",
    "    qid: df[cols].notna().any(axis=1) for qid, cols in qid_to_cols.items()\n",
    "})\n",
    "\n",
    "# --- Option 1: strict (all question groups answered)\n",
    "answered_all = answered_any.all(axis=1).sum()\n",
    "\n",
    "# --- Option 2: core only (asked to ≥80% of respondents)\n",
    "core_qids = answered_any.mean(axis=0).loc[lambda s: s >= 0.80].index\n",
    "answered_all_core = answered_any[core_qids].all(axis=1).sum()\n",
    "\n",
    "print(\"All question groups answered:\", answered_all)\n",
    "print(\"All *core* question groups answered:\", answered_all_core)"
   ]
  },
  {
   "cell_type": "markdown",
   "id": "b843d743-a703-4107-9272-deadd36e170d",
   "metadata": {},
   "source": [
    "All question groups answered: 1 → only one person filled something for every single qid (including rare/branch questions). That’s expected, since many questions are optional or only shown to subgroups.\n",
    "\n",
    "All *core* question groups answered: 37,131 → a much more meaningful number: these are respondents who answered all the questions that were asked to ≥80% of people. This is the metric you should use for analysis, because it excludes write-ins and branch-only questions."
   ]
  },
  {
   "cell_type": "markdown",
   "id": "7b8abc11-dee0-4824-9b1a-0f819c911919",
   "metadata": {},
   "source": [
    "### 3-What are the values ​​of measures of central tendency for respondents' experience (WorkExp)?"
   ]
  },
  {
   "cell_type": "code",
   "execution_count": 16,
   "id": "e02934e8-8a7a-4d61-af13-2f1b9d738d45",
   "metadata": {},
   "outputs": [
    {
     "name": "stdout",
     "output_type": "stream",
     "text": [
      "Mean: 13.4\n",
      "Mode: 10.0\n",
      "Median: 10.0\n"
     ]
    }
   ],
   "source": [
    "print(f'Mean: {round(df.WorkExp.mean(), 1)}')\n",
    "print(f'Mode: {round(df.WorkExp.mode()[0], 1)}')\n",
    "print(f'Median: {round(df.WorkExp.median(), 1)}')"
   ]
  },
  {
   "cell_type": "markdown",
   "id": "6ab0f33a-b0e2-4ce3-a722-3bc226db6185",
   "metadata": {},
   "source": [
    "### 4-How many respondents work remotely?"
   ]
  },
  {
   "cell_type": "code",
   "execution_count": 18,
   "id": "14cc6b04-e063-4808-bf44-c2b795e1230d",
   "metadata": {},
   "outputs": [
    {
     "data": {
      "text/plain": [
       "10924"
      ]
     },
     "execution_count": 18,
     "metadata": {},
     "output_type": "execute_result"
    }
   ],
   "source": [
    "df[df.RemoteWork == 'Remote'].shape[0]"
   ]
  },
  {
   "cell_type": "markdown",
   "id": "dd603fd2-e094-4b30-8bee-4962835357f5",
   "metadata": {},
   "source": [
    "### 5-What percentage of respondents program in Python?"
   ]
  },
  {
   "cell_type": "code",
   "execution_count": 20,
   "id": "3f6663e1-2545-4a7c-b82b-bad1a5d14a9a",
   "metadata": {},
   "outputs": [
    {
     "data": {
      "text/plain": [
       "0.38"
      ]
     },
     "execution_count": 20,
     "metadata": {},
     "output_type": "execute_result"
    }
   ],
   "source": [
    "# First option\n",
    "df['worked_with_python'] = df.LanguageHaveWorkedWith.apply(lambda x: 1 if 'python' in str(x).lower() else 0)\n",
    "round(df.worked_with_python.sum() / df.ResponseId.nunique(), 2)"
   ]
  },
  {
   "cell_type": "code",
   "execution_count": 21,
   "id": "7b88743a-2d91-4ce6-8320-d8dbc8eec35b",
   "metadata": {},
   "outputs": [
    {
     "data": {
      "text/plain": [
       "0.38"
      ]
     },
     "execution_count": 21,
     "metadata": {},
     "output_type": "execute_result"
    }
   ],
   "source": [
    "# Second option\n",
    "df['worked_with_python'] = df.LanguageHaveWorkedWith.str.contains('python', case=False, na=False)\n",
    "round(df.worked_with_python.sum() / df.ResponseId.nunique(), 2)"
   ]
  },
  {
   "cell_type": "markdown",
   "id": "e9fa3cd2-ef96-470a-9933-751d265642b7",
   "metadata": {},
   "source": [
    "### 6-How many respondents learned to program using online courses?"
   ]
  },
  {
   "cell_type": "code",
   "execution_count": 23,
   "id": "db72e8a9-527e-4e86-b478-ed2a799cf2ca",
   "metadata": {},
   "outputs": [
    {
     "data": {
      "text/plain": [
       "10957"
      ]
     },
     "execution_count": 23,
     "metadata": {},
     "output_type": "execute_result"
    }
   ],
   "source": [
    "# First option\n",
    "df['learned_with_online_courses'] = df.LearnCode.apply(lambda x: 1 if 'online courses' in str(x).lower() else 0)\n",
    "df.learned_with_online_courses.sum()"
   ]
  },
  {
   "cell_type": "code",
   "execution_count": 24,
   "id": "be00b1e4-a8c8-4af1-aef9-ae50f7b687bc",
   "metadata": {},
   "outputs": [
    {
     "data": {
      "text/plain": [
       "10957"
      ]
     },
     "execution_count": 24,
     "metadata": {},
     "output_type": "execute_result"
    }
   ],
   "source": [
    "# Second option\n",
    "df['learned_with_online_courses'] = df.LearnCode.str.contains('online courses', case=False, na=False)\n",
    "df.learned_with_online_courses.sum()"
   ]
  },
  {
   "cell_type": "markdown",
   "id": "dc4a7cd5-81e2-47e1-a24d-43cbcdec4bcc",
   "metadata": {},
   "source": [
    "### 7-Among the respondents who program in Python, grouped by country, what is the average and median amount of compensation (ConvertedCompYearly) in each country?"
   ]
  },
  {
   "cell_type": "code",
   "execution_count": 26,
   "id": "858a5453-8b45-43f8-9616-253a824c98f1",
   "metadata": {},
   "outputs": [
    {
     "data": {
      "text/html": [
       "<div>\n",
       "<style scoped>\n",
       "    .dataframe tbody tr th:only-of-type {\n",
       "        vertical-align: middle;\n",
       "    }\n",
       "\n",
       "    .dataframe tbody tr th {\n",
       "        vertical-align: top;\n",
       "    }\n",
       "\n",
       "    .dataframe thead th {\n",
       "        text-align: right;\n",
       "    }\n",
       "</style>\n",
       "<table border=\"1\" class=\"dataframe\">\n",
       "  <thead>\n",
       "    <tr style=\"text-align: right;\">\n",
       "      <th></th>\n",
       "      <th>country</th>\n",
       "      <th>mean_comp</th>\n",
       "      <th>median_comp</th>\n",
       "    </tr>\n",
       "  </thead>\n",
       "  <tbody>\n",
       "    <tr>\n",
       "      <th>0</th>\n",
       "      <td>Afghanistan</td>\n",
       "      <td>22328</td>\n",
       "      <td>1000</td>\n",
       "    </tr>\n",
       "    <tr>\n",
       "      <th>1</th>\n",
       "      <td>Albania</td>\n",
       "      <td>47217</td>\n",
       "      <td>50000</td>\n",
       "    </tr>\n",
       "    <tr>\n",
       "      <th>2</th>\n",
       "      <td>Algeria</td>\n",
       "      <td>20187</td>\n",
       "      <td>7088</td>\n",
       "    </tr>\n",
       "    <tr>\n",
       "      <th>3</th>\n",
       "      <td>Andorra</td>\n",
       "      <td>226103</td>\n",
       "      <td>226103</td>\n",
       "    </tr>\n",
       "    <tr>\n",
       "      <th>4</th>\n",
       "      <td>Antigua and Barbuda</td>\n",
       "      <td>1</td>\n",
       "      <td>1</td>\n",
       "    </tr>\n",
       "    <tr>\n",
       "      <th>...</th>\n",
       "      <td>...</td>\n",
       "      <td>...</td>\n",
       "      <td>...</td>\n",
       "    </tr>\n",
       "    <tr>\n",
       "      <th>148</th>\n",
       "      <td>Venezuela, Bolivarian Republic of...</td>\n",
       "      <td>9908</td>\n",
       "      <td>3000</td>\n",
       "    </tr>\n",
       "    <tr>\n",
       "      <th>149</th>\n",
       "      <td>Viet Nam</td>\n",
       "      <td>218837</td>\n",
       "      <td>8254</td>\n",
       "    </tr>\n",
       "    <tr>\n",
       "      <th>150</th>\n",
       "      <td>Yemen</td>\n",
       "      <td>32929</td>\n",
       "      <td>23672</td>\n",
       "    </tr>\n",
       "    <tr>\n",
       "      <th>151</th>\n",
       "      <td>Zambia</td>\n",
       "      <td>5424</td>\n",
       "      <td>3206</td>\n",
       "    </tr>\n",
       "    <tr>\n",
       "      <th>152</th>\n",
       "      <td>Zimbabwe</td>\n",
       "      <td>34000</td>\n",
       "      <td>25500</td>\n",
       "    </tr>\n",
       "  </tbody>\n",
       "</table>\n",
       "<p>153 rows × 3 columns</p>\n",
       "</div>"
      ],
      "text/plain": [
       "                                  country  mean_comp  median_comp\n",
       "0                             Afghanistan      22328         1000\n",
       "1                                 Albania      47217        50000\n",
       "2                                 Algeria      20187         7088\n",
       "3                                 Andorra     226103       226103\n",
       "4                     Antigua and Barbuda          1            1\n",
       "..                                    ...        ...          ...\n",
       "148  Venezuela, Bolivarian Republic of...       9908         3000\n",
       "149                              Viet Nam     218837         8254\n",
       "150                                 Yemen      32929        23672\n",
       "151                                Zambia       5424         3206\n",
       "152                              Zimbabwe      34000        25500\n",
       "\n",
       "[153 rows x 3 columns]"
      ]
     },
     "execution_count": 26,
     "metadata": {},
     "output_type": "execute_result"
    }
   ],
   "source": [
    "py_progers_by_country = df[df.worked_with_python == 1].dropna(subset='ConvertedCompYearly') \\\n",
    "                                                      .groupby('Country', as_index=False) \\\n",
    "                                                      .agg({'ConvertedCompYearly': ['mean', 'median']}).droplevel(1, axis=1)\n",
    "py_progers_by_country.columns = ['country', 'mean_comp', 'median_comp']\n",
    "py_progers_by_country = py_progers_by_country.astype({'mean_comp': 'int', 'median_comp': 'int'})\n",
    "py_progers_by_country"
   ]
  },
  {
   "cell_type": "markdown",
   "id": "acadb869-dfd3-4b0d-b74a-4b94f8fd4a86",
   "metadata": {},
   "source": [
    "### 8-What are the education levels of the 5 respondents with the highest compensation?"
   ]
  },
  {
   "cell_type": "code",
   "execution_count": 28,
   "id": "9e17cdbd-d2b0-48f5-8b7e-6aa02d1cc6b5",
   "metadata": {},
   "outputs": [
    {
     "data": {
      "text/html": [
       "<div>\n",
       "<style scoped>\n",
       "    .dataframe tbody tr th:only-of-type {\n",
       "        vertical-align: middle;\n",
       "    }\n",
       "\n",
       "    .dataframe tbody tr th {\n",
       "        vertical-align: top;\n",
       "    }\n",
       "\n",
       "    .dataframe thead th {\n",
       "        text-align: right;\n",
       "    }\n",
       "</style>\n",
       "<table border=\"1\" class=\"dataframe\">\n",
       "  <thead>\n",
       "    <tr style=\"text-align: right;\">\n",
       "      <th></th>\n",
       "      <th>ResponseId</th>\n",
       "      <th>EdLevel</th>\n",
       "      <th>ConvertedCompYearly</th>\n",
       "    </tr>\n",
       "  </thead>\n",
       "  <tbody>\n",
       "    <tr>\n",
       "      <th>0</th>\n",
       "      <td>34268</td>\n",
       "      <td>Associate degree (A.A., A.S., etc.)</td>\n",
       "      <td>50000000.0</td>\n",
       "    </tr>\n",
       "    <tr>\n",
       "      <th>1</th>\n",
       "      <td>28701</td>\n",
       "      <td>Master’s degree (M.A., M.S., M.Eng., MBA, etc.)</td>\n",
       "      <td>33552715.0</td>\n",
       "    </tr>\n",
       "    <tr>\n",
       "      <th>2</th>\n",
       "      <td>43144</td>\n",
       "      <td>Associate degree (A.A., A.S., etc.)</td>\n",
       "      <td>18387548.0</td>\n",
       "    </tr>\n",
       "    <tr>\n",
       "      <th>3</th>\n",
       "      <td>35354</td>\n",
       "      <td>Bachelor’s degree (B.A., B.S., B.Eng., etc.)</td>\n",
       "      <td>15430267.0</td>\n",
       "    </tr>\n",
       "    <tr>\n",
       "      <th>4</th>\n",
       "      <td>45972</td>\n",
       "      <td>Master’s degree (M.A., M.S., M.Eng., MBA, etc.)</td>\n",
       "      <td>13921760.0</td>\n",
       "    </tr>\n",
       "  </tbody>\n",
       "</table>\n",
       "</div>"
      ],
      "text/plain": [
       "   ResponseId                                          EdLevel  \\\n",
       "0       34268              Associate degree (A.A., A.S., etc.)   \n",
       "1       28701  Master’s degree (M.A., M.S., M.Eng., MBA, etc.)   \n",
       "2       43144              Associate degree (A.A., A.S., etc.)   \n",
       "3       35354     Bachelor’s degree (B.A., B.S., B.Eng., etc.)   \n",
       "4       45972  Master’s degree (M.A., M.S., M.Eng., MBA, etc.)   \n",
       "\n",
       "   ConvertedCompYearly  \n",
       "0           50000000.0  \n",
       "1           33552715.0  \n",
       "2           18387548.0  \n",
       "3           15430267.0  \n",
       "4           13921760.0  "
      ]
     },
     "execution_count": 28,
     "metadata": {},
     "output_type": "execute_result"
    }
   ],
   "source": [
    "df[['ResponseId', 'EdLevel', 'ConvertedCompYearly']].sort_values(by='ConvertedCompYearly', ascending=False).reset_index(drop=True).head(5)"
   ]
  },
  {
   "cell_type": "markdown",
   "id": "87c00694-d19b-46ce-bf0c-1ba814cbb179",
   "metadata": {},
   "source": [
    "### bonus1-In each age category, what percentage of respondents program in Python?"
   ]
  },
  {
   "cell_type": "code",
   "execution_count": 30,
   "id": "2ee7fc85-8a9d-4dd8-ad05-03022ad8d7ef",
   "metadata": {},
   "outputs": [
    {
     "data": {
      "text/html": [
       "<div>\n",
       "<style scoped>\n",
       "    .dataframe tbody tr th:only-of-type {\n",
       "        vertical-align: middle;\n",
       "    }\n",
       "\n",
       "    .dataframe tbody tr th {\n",
       "        vertical-align: top;\n",
       "    }\n",
       "\n",
       "    .dataframe thead th {\n",
       "        text-align: right;\n",
       "    }\n",
       "</style>\n",
       "<table border=\"1\" class=\"dataframe\">\n",
       "  <thead>\n",
       "    <tr style=\"text-align: right;\">\n",
       "      <th></th>\n",
       "      <th>Age</th>\n",
       "      <th>ResponseId</th>\n",
       "      <th>worked_with_python</th>\n",
       "      <th>work_with_python_share</th>\n",
       "    </tr>\n",
       "  </thead>\n",
       "  <tbody>\n",
       "    <tr>\n",
       "      <th>0</th>\n",
       "      <td>18-24 years old</td>\n",
       "      <td>9195</td>\n",
       "      <td>3681</td>\n",
       "      <td>0.40</td>\n",
       "    </tr>\n",
       "    <tr>\n",
       "      <th>1</th>\n",
       "      <td>25-34 years old</td>\n",
       "      <td>16485</td>\n",
       "      <td>6090</td>\n",
       "      <td>0.37</td>\n",
       "    </tr>\n",
       "    <tr>\n",
       "      <th>2</th>\n",
       "      <td>35-44 years old</td>\n",
       "      <td>13232</td>\n",
       "      <td>4857</td>\n",
       "      <td>0.37</td>\n",
       "    </tr>\n",
       "    <tr>\n",
       "      <th>3</th>\n",
       "      <td>45-54 years old</td>\n",
       "      <td>6265</td>\n",
       "      <td>2422</td>\n",
       "      <td>0.39</td>\n",
       "    </tr>\n",
       "    <tr>\n",
       "      <th>4</th>\n",
       "      <td>55-64 years old</td>\n",
       "      <td>2626</td>\n",
       "      <td>978</td>\n",
       "      <td>0.37</td>\n",
       "    </tr>\n",
       "    <tr>\n",
       "      <th>5</th>\n",
       "      <td>65 years or older</td>\n",
       "      <td>942</td>\n",
       "      <td>298</td>\n",
       "      <td>0.32</td>\n",
       "    </tr>\n",
       "    <tr>\n",
       "      <th>6</th>\n",
       "      <td>Prefer not to say</td>\n",
       "      <td>378</td>\n",
       "      <td>118</td>\n",
       "      <td>0.31</td>\n",
       "    </tr>\n",
       "  </tbody>\n",
       "</table>\n",
       "</div>"
      ],
      "text/plain": [
       "                 Age  ResponseId  worked_with_python  work_with_python_share\n",
       "0    18-24 years old        9195                3681                    0.40\n",
       "1    25-34 years old       16485                6090                    0.37\n",
       "2    35-44 years old       13232                4857                    0.37\n",
       "3    45-54 years old        6265                2422                    0.39\n",
       "4    55-64 years old        2626                 978                    0.37\n",
       "5  65 years or older         942                 298                    0.32\n",
       "6  Prefer not to say         378                 118                    0.31"
      ]
     },
     "execution_count": 30,
     "metadata": {},
     "output_type": "execute_result"
    }
   ],
   "source": [
    "py_progers_share_by_age = df.groupby('Age', as_index=False).agg({'ResponseId': 'count', 'worked_with_python': 'sum'})\n",
    "py_progers_share_by_age['work_with_python_share'] = round(py_progers_share_by_age.worked_with_python / py_progers_share_by_age.ResponseId, 2)\n",
    "py_progers_share_by_age"
   ]
  },
  {
   "cell_type": "markdown",
   "id": "77bb8ef3-d830-448a-89c2-e0d82e982933",
   "metadata": {},
   "source": [
    "### bonus2-Among respondents who are in the 75th percentile for average compensation and who work remotely, which industries are the most common?"
   ]
  },
  {
   "cell_type": "code",
   "execution_count": 32,
   "id": "6a2beeb3-b136-4b2d-a236-636b2af787a1",
   "metadata": {},
   "outputs": [
    {
     "data": {
      "text/html": [
       "<div>\n",
       "<style scoped>\n",
       "    .dataframe tbody tr th:only-of-type {\n",
       "        vertical-align: middle;\n",
       "    }\n",
       "\n",
       "    .dataframe tbody tr th {\n",
       "        vertical-align: top;\n",
       "    }\n",
       "\n",
       "    .dataframe thead th {\n",
       "        text-align: right;\n",
       "    }\n",
       "</style>\n",
       "<table border=\"1\" class=\"dataframe\">\n",
       "  <thead>\n",
       "    <tr style=\"text-align: right;\">\n",
       "      <th></th>\n",
       "      <th>Industry</th>\n",
       "      <th>count</th>\n",
       "    </tr>\n",
       "  </thead>\n",
       "  <tbody>\n",
       "    <tr>\n",
       "      <th>0</th>\n",
       "      <td>Software Development</td>\n",
       "      <td>1184</td>\n",
       "    </tr>\n",
       "    <tr>\n",
       "      <th>1</th>\n",
       "      <td>Fintech</td>\n",
       "      <td>189</td>\n",
       "    </tr>\n",
       "    <tr>\n",
       "      <th>2</th>\n",
       "      <td>Healthcare</td>\n",
       "      <td>188</td>\n",
       "    </tr>\n",
       "    <tr>\n",
       "      <th>3</th>\n",
       "      <td>Other:</td>\n",
       "      <td>176</td>\n",
       "    </tr>\n",
       "    <tr>\n",
       "      <th>4</th>\n",
       "      <td>Internet, Telecomm or Information Services</td>\n",
       "      <td>138</td>\n",
       "    </tr>\n",
       "    <tr>\n",
       "      <th>5</th>\n",
       "      <td>Banking/Financial Services</td>\n",
       "      <td>88</td>\n",
       "    </tr>\n",
       "    <tr>\n",
       "      <th>6</th>\n",
       "      <td>Government</td>\n",
       "      <td>78</td>\n",
       "    </tr>\n",
       "    <tr>\n",
       "      <th>7</th>\n",
       "      <td>Media &amp; Advertising Services</td>\n",
       "      <td>75</td>\n",
       "    </tr>\n",
       "    <tr>\n",
       "      <th>8</th>\n",
       "      <td>Retail and Consumer Services</td>\n",
       "      <td>64</td>\n",
       "    </tr>\n",
       "    <tr>\n",
       "      <th>9</th>\n",
       "      <td>Transportation, or Supply Chain</td>\n",
       "      <td>63</td>\n",
       "    </tr>\n",
       "    <tr>\n",
       "      <th>10</th>\n",
       "      <td>Computer Systems Design and Services</td>\n",
       "      <td>59</td>\n",
       "    </tr>\n",
       "    <tr>\n",
       "      <th>11</th>\n",
       "      <td>Insurance</td>\n",
       "      <td>46</td>\n",
       "    </tr>\n",
       "    <tr>\n",
       "      <th>12</th>\n",
       "      <td>Energy</td>\n",
       "      <td>45</td>\n",
       "    </tr>\n",
       "    <tr>\n",
       "      <th>13</th>\n",
       "      <td>Manufacturing</td>\n",
       "      <td>33</td>\n",
       "    </tr>\n",
       "    <tr>\n",
       "      <th>14</th>\n",
       "      <td>Higher Education</td>\n",
       "      <td>30</td>\n",
       "    </tr>\n",
       "  </tbody>\n",
       "</table>\n",
       "</div>"
      ],
      "text/plain": [
       "                                      Industry  count\n",
       "0                         Software Development   1184\n",
       "1                                      Fintech    189\n",
       "2                                   Healthcare    188\n",
       "3                                       Other:    176\n",
       "4   Internet, Telecomm or Information Services    138\n",
       "5                   Banking/Financial Services     88\n",
       "6                                   Government     78\n",
       "7                 Media & Advertising Services     75\n",
       "8                 Retail and Consumer Services     64\n",
       "9              Transportation, or Supply Chain     63\n",
       "10        Computer Systems Design and Services     59\n",
       "11                                   Insurance     46\n",
       "12                                      Energy     45\n",
       "13                               Manufacturing     33\n",
       "14                            Higher Education     30"
      ]
     },
     "execution_count": 32,
     "metadata": {},
     "output_type": "execute_result"
    }
   ],
   "source": [
    "df[(df.ConvertedCompYearly > df.ConvertedCompYearly.quantile(0.75)) & (df.RemoteWork == 'Remote')].Industry.value_counts().reset_index()"
   ]
  },
  {
   "cell_type": "code",
   "execution_count": null,
   "id": "77594fa7-d228-4a46-8445-2407097a4cdd",
   "metadata": {},
   "outputs": [],
   "source": []
  }
 ],
 "metadata": {
  "kernelspec": {
   "display_name": "Python 3 (ipykernel)",
   "language": "python",
   "name": "python3"
  },
  "language_info": {
   "codemirror_mode": {
    "name": "ipython",
    "version": 3
   },
   "file_extension": ".py",
   "mimetype": "text/x-python",
   "name": "python",
   "nbconvert_exporter": "python",
   "pygments_lexer": "ipython3",
   "version": "3.11.5"
  }
 },
 "nbformat": 4,
 "nbformat_minor": 5
}
