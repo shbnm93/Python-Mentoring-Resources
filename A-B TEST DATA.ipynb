{
 "cells": [
  {
   "cell_type": "code",
   "execution_count": 2,
   "id": "ae30a285-e3eb-46e8-a601-2657cca141f2",
   "metadata": {},
   "outputs": [],
   "source": [
    "import pandas as pd\n",
    "import numpy as np\n",
    "import matplotlib.pyplot as plt\n",
    "import seaborn as sns\n",
    "import plotly.express as px\n",
    "import warnings \n",
    "warnings.filterwarnings(\"ignore\")"
   ]
  },
  {
   "cell_type": "code",
   "execution_count": 4,
   "id": "ea91d425-3d24-464e-957d-54d369e650f5",
   "metadata": {},
   "outputs": [],
   "source": [
    "df = pd.read_csv (r\"C:\\Users\\Ali\\Documents\\python\\ab_test_data.csv\")"
   ]
  },
  {
   "cell_type": "code",
   "execution_count": 6,
   "id": "80e52474-281c-4565-aa5f-65144bc10ac6",
   "metadata": {},
   "outputs": [
    {
     "data": {
      "text/html": [
       "<div>\n",
       "<style scoped>\n",
       "    .dataframe tbody tr th:only-of-type {\n",
       "        vertical-align: middle;\n",
       "    }\n",
       "\n",
       "    .dataframe tbody tr th {\n",
       "        vertical-align: top;\n",
       "    }\n",
       "\n",
       "    .dataframe thead th {\n",
       "        text-align: right;\n",
       "    }\n",
       "</style>\n",
       "<table border=\"1\" class=\"dataframe\">\n",
       "  <thead>\n",
       "    <tr style=\"text-align: right;\">\n",
       "      <th></th>\n",
       "      <th>user_id</th>\n",
       "      <th>timestamp</th>\n",
       "      <th>test_group</th>\n",
       "      <th>conversion</th>\n",
       "    </tr>\n",
       "  </thead>\n",
       "  <tbody>\n",
       "    <tr>\n",
       "      <th>0</th>\n",
       "      <td>7f6833e6-1141-4f20-b4b2-f1e31019b1fd</td>\n",
       "      <td>2023-07-04 4:40:56</td>\n",
       "      <td>a</td>\n",
       "      <td>0</td>\n",
       "    </tr>\n",
       "    <tr>\n",
       "      <th>1</th>\n",
       "      <td>e6a6e960-d3f3-4074-a516-ba1e609b211e</td>\n",
       "      <td>2023-07-06 0:26:45</td>\n",
       "      <td>b</td>\n",
       "      <td>0</td>\n",
       "    </tr>\n",
       "    <tr>\n",
       "      <th>2</th>\n",
       "      <td>4d3fbfa5-6847-410a-bac2-477f01d5f400</td>\n",
       "      <td>2023-07-10 20:24:34</td>\n",
       "      <td>b</td>\n",
       "      <td>0</td>\n",
       "    </tr>\n",
       "    <tr>\n",
       "      <th>3</th>\n",
       "      <td>361457d9-a044-48f7-981c-d67dc3861679</td>\n",
       "      <td>2023-07-20 7:04:50</td>\n",
       "      <td>b</td>\n",
       "      <td>0</td>\n",
       "    </tr>\n",
       "    <tr>\n",
       "      <th>4</th>\n",
       "      <td>285cd63d-7d03-427f-a062-1fa2dd2e77d6</td>\n",
       "      <td>2023-07-19 23:27:50</td>\n",
       "      <td>b</td>\n",
       "      <td>0</td>\n",
       "    </tr>\n",
       "  </tbody>\n",
       "</table>\n",
       "</div>"
      ],
      "text/plain": [
       "                                user_id            timestamp test_group  \\\n",
       "0  7f6833e6-1141-4f20-b4b2-f1e31019b1fd   2023-07-04 4:40:56          a   \n",
       "1  e6a6e960-d3f3-4074-a516-ba1e609b211e   2023-07-06 0:26:45          b   \n",
       "2  4d3fbfa5-6847-410a-bac2-477f01d5f400  2023-07-10 20:24:34          b   \n",
       "3  361457d9-a044-48f7-981c-d67dc3861679   2023-07-20 7:04:50          b   \n",
       "4  285cd63d-7d03-427f-a062-1fa2dd2e77d6  2023-07-19 23:27:50          b   \n",
       "\n",
       "   conversion  \n",
       "0           0  \n",
       "1           0  \n",
       "2           0  \n",
       "3           0  \n",
       "4           0  "
      ]
     },
     "execution_count": 6,
     "metadata": {},
     "output_type": "execute_result"
    }
   ],
   "source": [
    "df.head()"
   ]
  },
  {
   "cell_type": "code",
   "execution_count": 8,
   "id": "ae17f30f-0e8a-42e6-8471-2aa9041167f5",
   "metadata": {},
   "outputs": [
    {
     "data": {
      "text/plain": [
       "(19998, 4)"
      ]
     },
     "execution_count": 8,
     "metadata": {},
     "output_type": "execute_result"
    }
   ],
   "source": [
    "df.shape"
   ]
  },
  {
   "cell_type": "code",
   "execution_count": 10,
   "id": "9256310e-36e4-4bd2-86f3-f97c5e0b86c2",
   "metadata": {},
   "outputs": [
    {
     "name": "stdout",
     "output_type": "stream",
     "text": [
      "<class 'pandas.core.frame.DataFrame'>\n",
      "RangeIndex: 19998 entries, 0 to 19997\n",
      "Data columns (total 4 columns):\n",
      " #   Column      Non-Null Count  Dtype \n",
      "---  ------      --------------  ----- \n",
      " 0   user_id     19998 non-null  object\n",
      " 1   timestamp   19998 non-null  object\n",
      " 2   test_group  19998 non-null  object\n",
      " 3   conversion  19998 non-null  int64 \n",
      "dtypes: int64(1), object(3)\n",
      "memory usage: 625.1+ KB\n"
     ]
    }
   ],
   "source": [
    "df.info()"
   ]
  },
  {
   "cell_type": "code",
   "execution_count": 12,
   "id": "3ba6c451-1183-4765-ac18-6a53f55401cb",
   "metadata": {},
   "outputs": [],
   "source": [
    "df['timestamp'] = pd.to_datetime(df['timestamp'])"
   ]
  },
  {
   "cell_type": "code",
   "execution_count": 14,
   "id": "69493c91-c71d-42e0-9668-b97d71a75cf5",
   "metadata": {},
   "outputs": [
    {
     "name": "stdout",
     "output_type": "stream",
     "text": [
      "<class 'pandas.core.frame.DataFrame'>\n",
      "RangeIndex: 19998 entries, 0 to 19997\n",
      "Data columns (total 4 columns):\n",
      " #   Column      Non-Null Count  Dtype         \n",
      "---  ------      --------------  -----         \n",
      " 0   user_id     19998 non-null  object        \n",
      " 1   timestamp   19998 non-null  datetime64[ns]\n",
      " 2   test_group  19998 non-null  object        \n",
      " 3   conversion  19998 non-null  int64         \n",
      "dtypes: datetime64[ns](1), int64(1), object(2)\n",
      "memory usage: 625.1+ KB\n"
     ]
    }
   ],
   "source": [
    "df.info()"
   ]
  },
  {
   "cell_type": "markdown",
   "id": "b26e00e7-5b09-4caa-b39f-254eb7f5d2db",
   "metadata": {},
   "source": [
    "- 1-1)  A ve B gruplarındaki kullanıcı sayısı:"
   ]
  },
  {
   "cell_type": "code",
   "execution_count": 17,
   "id": "6455e921-d511-4cd1-b906-5fbd919b5742",
   "metadata": {},
   "outputs": [
    {
     "name": "stdout",
     "output_type": "stream",
     "text": [
      "test_group\n",
      "a    10013\n",
      "b     9985\n",
      "Name: count, dtype: int64\n"
     ]
    }
   ],
   "source": [
    "user_counts = df['test_group'].value_counts()\n",
    "print(user_counts)"
   ]
  },
  {
   "cell_type": "markdown",
   "id": "96408f61-963b-42b8-91da-654314d6f7b5",
   "metadata": {},
   "source": [
    "- 1-2)A ve B gruplarındaki dönüşüm sayısı;"
   ]
  },
  {
   "cell_type": "code",
   "execution_count": 20,
   "id": "7150aece-7110-42b8-9ae1-81373eb3e6f3",
   "metadata": {},
   "outputs": [
    {
     "name": "stdout",
     "output_type": "stream",
     "text": [
      "test_group\n",
      "a    611\n",
      "b    889\n",
      "Name: conversion, dtype: int64\n"
     ]
    }
   ],
   "source": [
    "conversion_counts = df.groupby('test_group')['conversion'].sum()\n",
    "print(conversion_counts)"
   ]
  },
  {
   "cell_type": "markdown",
   "id": "db27c572-bf37-4701-b3ff-861af64f7bd9",
   "metadata": {},
   "source": [
    "- 1-3) A ve B gruplarındaki dönüşüm oranı;"
   ]
  },
  {
   "cell_type": "code",
   "execution_count": 23,
   "id": "5bb04d94-4aca-4d01-a114-da0efd848816",
   "metadata": {},
   "outputs": [
    {
     "name": "stdout",
     "output_type": "stream",
     "text": [
      "test_group\n",
      "a    0.061021\n",
      "b    0.089034\n",
      "Name: conversion, dtype: float64\n"
     ]
    }
   ],
   "source": [
    "conversion_rates = df.groupby('test_group')['conversion'].mean()\n",
    "print(conversion_rates)\n"
   ]
  },
  {
   "cell_type": "markdown",
   "id": "7fbd6154-6085-418d-9ad2-66bd24f89754",
   "metadata": {},
   "source": [
    "- 1-4)Testin başlangıç tarihi, bitiş tarihi ve testin süresi (gün olarak)"
   ]
  },
  {
   "cell_type": "code",
   "execution_count": 26,
   "id": "e8e6bbd9-ccb3-483c-a997-3c3e21421eb1",
   "metadata": {},
   "outputs": [
    {
     "name": "stdout",
     "output_type": "stream",
     "text": [
      "Testin başlangıç tarihi: 2023-07-03 01:42:34\n",
      "Testin bitiş tarihi: 2023-07-25 01:41:19\n",
      "Testin süresi: 21 gün\n"
     ]
    }
   ],
   "source": [
    "df['timestamp'] = pd.to_datetime(df['timestamp'])\n",
    "start_date = df['timestamp'].min()\n",
    "end_date = df['timestamp'].max()\n",
    "test_duration = (end_date - start_date).days\n",
    "\n",
    "print(f\"Testin başlangıç tarihi: {start_date}\")\n",
    "print(f\"Testin bitiş tarihi: {end_date}\")\n",
    "print(f\"Testin süresi: {test_duration} gün\")\n"
   ]
  },
  {
   "cell_type": "markdown",
   "id": "13b64625-d26b-47fa-aff4-a8f125b091fd",
   "metadata": {},
   "source": [
    "- 2. Hipotez testleri için istediğiniz istatistiksel kriteri seçin ve istatistik değerlerini ve p-değerini hesaplayın. Null hipotezini reddedip edemeyeceğimizi kontrol edin. Hangi kriteri kullandığınızı belirtmeyi unutmayın 😉"
   ]
  },
  {
   "cell_type": "markdown",
   "id": "3c15a44a-faf7-4778-a453-dcbb61567e8d",
   "metadata": {},
   "source": [
    "##### -T-TEST"
   ]
  },
  {
   "cell_type": "code",
   "execution_count": 30,
   "id": "1541f9ee-20c4-4d46-b76e-11c9ef6f88ce",
   "metadata": {},
   "outputs": [
    {
     "name": "stdout",
     "output_type": "stream",
     "text": [
      "t-statistic: -7.53, p-value: 0.0\n",
      "Fark istatistiksel olarak anlamlıdır. H0 reddedilir.\n"
     ]
    }
   ],
   "source": [
    "from scipy import stats\n",
    "\n",
    "alpha = 0.05\n",
    "statistic, pvalue = stats.ttest_ind(df[df['test_group'] == 'a']['conversion'],\n",
    "                                    df[df['test_group'] == 'b']['conversion'],\n",
    "                                    alternative='less')  \n",
    "\n",
    "print(f't-statistic: {round(statistic, 2)}, p-value: {round(pvalue, 2)}')\n",
    "\n",
    "if pvalue < alpha:\n",
    "    print('Fark istatistiksel olarak anlamlıdır. H0 reddedilir.')\n",
    "else:\n",
    "    print('Fark istatistiksel olarak anlamlı değildir. H0 reddedilemez.')\n"
   ]
  },
  {
   "cell_type": "markdown",
   "id": "7d0d8b80-b276-42ce-8022-1b8efb425ad6",
   "metadata": {},
   "source": [
    "- 3) 95% güven aralıkları ile gruplar arasındaki ortalama değerlerin karşılaştırılması için bir görselleştirme oluşturun."
   ]
  },
  {
   "cell_type": "code",
   "execution_count": 33,
   "id": "7fafcf65-18ac-4256-8745-e4f8523c80ee",
   "metadata": {
    "scrolled": true
   },
   "outputs": [
    {
     "data": {
      "image/png": "[encoded data removed]",
      "text/plain": [
       "<Figure size 800x600 with 1 Axes>"
      ]
     },
     "metadata": {},
     "output_type": "display_data"
    }
   ],
   "source": [
    "import numpy as np\n",
    "import matplotlib.pyplot as plt\n",
    "import seaborn as sns\n",
    "from scipy import stats\n",
    "group_a = df[df['test_group'] == 'a']['conversion']\n",
    "group_b = df[df['test_group'] == 'b']['conversion']\n",
    "\n",
    "mean_a = np.mean(group_a)\n",
    "mean_b = np.mean(group_b)\n",
    "sem_a = stats.sem(group_a)  \n",
    "sem_b = stats.sem(group_b)\n",
    "\n",
    "ci_a = stats.t.interval(0.95, len(group_a)-1, loc=mean_a, scale=sem_a)\n",
    "ci_b = stats.t.interval(0.95, len(group_b)-1, loc=mean_b, scale=sem_b)\n",
    "\n",
    "plt.figure(figsize=(8, 6))\n",
    "plt.bar(['Group A', 'Group B'], [mean_a, mean_b], yerr=[mean_a-ci_a[0], mean_b-ci_b[0]], capsize=10, color=['skyblue', 'lightgreen'])\n",
    "plt.ylabel('Dönüşüm Oranı')\n",
    "plt.title('Gruplar Arasındaki Dönüşüm Oranlarının 95% Güven Aralıkları')\n",
    "plt.grid(True, axis='y', linestyle='--', alpha=0.7)\n",
    "plt.show()\n"
   ]
  },
  {
   "cell_type": "markdown",
   "id": "8554d7ff-45d2-49b7-9e78-ed485919c981",
   "metadata": {},
   "source": [
    "- 4)Bu konuda okuduğunuz önerilere göre A/B testinin sonuçları hakkında çıkarımlar hazırlayın."
   ]
  },
  {
   "cell_type": "markdown",
   "id": "971b6e95-50b4-4bd3-9102-a61c56b52f1d",
   "metadata": {},
   "source": [
    "##### Grup A ile Grup B arasındaki farkın istatistiksel olarak anlamlı olduğu söylenebilir. Grup A ve Grup B'nin ortalama dönüşüm oranları arasındaki fark grafikte net bir şekilde görünüyor. Grup B'nin ortalama dönüşüm oranının Grup A'dan daha yüksek olduğunu da görüyoruz. Bu da, Grup B'de uygulanan stratejinin (abonelikte %50 indirim) Grup A'ya kıyasla daha etkili olduğunu gösteriyor."
   ]
  },
  {
   "cell_type": "markdown",
   "id": "ac12cc78-56bf-4eb1-a068-7deddd1a37db",
   "metadata": {},
   "source": [
    "- #### Bonus Görevi\r\n",
    "-\r\n",
    "Zaman içinde dönüşüm oranının değişimini gösteren bir grafik oluşturun."
   ]
  },
  {
   "cell_type": "code",
   "execution_count": 38,
   "id": "9e9c7975-d270-4502-aace-98f9c39bdaff",
   "metadata": {},
   "outputs": [
    {
     "data": {
      "image/png": "[encoded data removed]",
      "text/plain": [
       "<Figure size 1000x600 with 1 Axes>"
      ]
     },
     "metadata": {},
     "output_type": "display_data"
    }
   ],
   "source": [
    "df['timestamp'] = pd.to_datetime(df['timestamp'])\n",
    "\n",
    "df = df.sort_values(by='timestamp').reset_index(drop=True)\n",
    "\n",
    "cumulative_metric_a = df[df['test_group'] == 'a']['conversion'].expanding().mean().reset_index(drop=True)\n",
    "cumulative_metric_b = df[df['test_group'] == 'b']['conversion'].expanding().mean().reset_index(drop=True)\n",
    "\n",
    "\n",
    "plt.figure(figsize=(10, 6))\n",
    "plt.plot(cumulative_metric_a, label='Group A', color='skyblue')\n",
    "plt.plot(cumulative_metric_b, label='Group B', color='lightgreen')\n",
    "\n",
    "\n",
    "plt.title('Kümülatif Dönüşüm Oranı Karşılaştırması', fontsize=14)\n",
    "plt.xlabel('Zaman', fontsize=12)\n",
    "plt.ylabel('Kümülatif Dönüşüm Oranı', fontsize=12)\n",
    "plt.legend()\n",
    "plt.show()\n"
   ]
  },
  {
   "cell_type": "code",
   "execution_count": null,
   "id": "00cb46df-62cb-4dda-b41f-e628cacb0c76",
   "metadata": {},
   "outputs": [],
   "source": []
  },
  {
   "cell_type": "code",
   "execution_count": null,
   "id": "a6232d08-5716-41aa-8124-2e05b151c16a",
   "metadata": {},
   "outputs": [],
   "source": []
  },
  {
   "cell_type": "code",
   "execution_count": null,
   "id": "fcb39135-9d51-4b09-b8d0-3074007c1e6f",
   "metadata": {},
   "outputs": [],
   "source": []
  },
  {
   "cell_type": "code",
   "execution_count": null,
   "id": "cff03d4c-6ffb-4e44-91ec-3d7dc96b0ccb",
   "metadata": {},
   "outputs": [],
   "source": []
  },
  {
   "cell_type": "code",
   "execution_count": null,
   "id": "b53cda8d-5ee8-4862-afbe-dbfb6007d4e7",
   "metadata": {},
   "outputs": [],
   "source": []
  },
  {
   "cell_type": "code",
   "execution_count": null,
   "id": "e77345de-163a-48d8-8c06-112324cee320",
   "metadata": {},
   "outputs": [],
   "source": []
  },
  {
   "cell_type": "code",
   "execution_count": null,
   "id": "e52c87e5-be69-4fdb-bb6a-d42f9b5c51b9",
   "metadata": {},
   "outputs": [],
   "source": []
  },
  {
   "cell_type": "code",
   "execution_count": null,
   "id": "a8a3f298-b976-4760-bd8d-3c9d59955dde",
   "metadata": {},
   "outputs": [],
   "source": []
  },
  {
   "cell_type": "code",
   "execution_count": null,
   "id": "ec250837-5da9-41c2-b82a-1775f6130503",
   "metadata": {},
   "outputs": [],
   "source": []
  },
  {
   "cell_type": "code",
   "execution_count": null,
   "id": "6e8913c9-6ea6-48c2-9952-eb33d7911f6a",
   "metadata": {},
   "outputs": [],
   "source": []
  },
  {
   "cell_type": "code",
   "execution_count": null,
   "id": "b98cc06e-8e28-46fe-8d1d-409ea0ff1273",
   "metadata": {},
   "outputs": [],
   "source": []
  },
  {
   "cell_type": "code",
   "execution_count": null,
   "id": "79ff4df0-a811-4a8c-98f6-f2439331edb2",
   "metadata": {},
   "outputs": [],
   "source": []
  },
  {
   "cell_type": "code",
   "execution_count": null,
   "id": "539b7cd5-bf2d-4f1f-89ea-8d76003598f0",
   "metadata": {},
   "outputs": [],
   "source": []
  }
 ],
 "metadata": {
  "kernelspec": {
   "display_name": "Python 3 (ipykernel)",
   "language": "python",
   "name": "python3"
  },
  "language_info": {
   "codemirror_mode": {
    "name": "ipython",
    "version": 3
   },
   "file_extension": ".py",
   "mimetype": "text/x-python",
   "name": "python",
   "nbconvert_exporter": "python",
   "pygments_lexer": "ipython3",
   "version": "3.11.5"
  }
 },
 "nbformat": 4,
 "nbformat_minor": 5
}
