{
 "cells": [
  {
   "cell_type": "code",
   "execution_count": 1,
   "id": "220fc2dd",
   "metadata": {},
   "outputs": [
    {
     "name": "stderr",
     "output_type": "stream",
     "text": [
      "C:\\Users\\Ali\\AppData\\Local\\Temp\\ipykernel_17592\\2201182048.py:2: DeprecationWarning: Importing display from IPython.core.display is deprecated since IPython 7.14, please import from IPython display\n",
      "  from IPython.core.display import display, HTML\n"
     ]
    },
    {
     "data": {
      "text/html": [
       "<style>.container { width:90% !important; }</style>"
      ],
      "text/plain": [
       "<IPython.core.display.HTML object>"
      ]
     },
     "metadata": {},
     "output_type": "display_data"
    }
   ],
   "source": [
    "# Ekranı genişletmek için: \n",
    "from IPython.core.display import display, HTML \n",
    "display(HTML(\"<style>.container { width:90% !important; }</style>\"))"
   ]
  },
  {
   "cell_type": "code",
   "execution_count": 2,
   "id": "19fb6148",
   "metadata": {},
   "outputs": [],
   "source": [
    "import matplotlib.pyplot as plt\n",
    "import numpy as np\n",
    "import pandas as pd\n",
    "import seaborn as sns"
   ]
  },
  {
   "cell_type": "markdown",
   "id": "ea484c13",
   "metadata": {},
   "source": [
    "# PANDAS"
   ]
  },
  {
   "cell_type": "markdown",
   "id": "15a6077d",
   "metadata": {},
   "source": [
    "## VERİ SEÇİMİ"
   ]
  },
  {
   "cell_type": "code",
   "execution_count": 5,
   "id": "80d5178f",
   "metadata": {},
   "outputs": [],
   "source": [
    "\n",
    "students_df = pd.DataFrame({\n",
    "    'İsimler': ['Melike', 'Baris', 'Almila', 'Amir', 'Ceyda'],\n",
    "    'Yaş': [21, 22, 20, 21, 23],\n",
    "    'Böl': ['Math', 'Physics', 'Biology', 'Math', 'Physics']\n",
    "    }, index=['st1', 'st2', 'st3', 'st4', 'st5'])"
   ]
  },
  {
   "cell_type": "code",
   "execution_count": 6,
   "id": "00f4bfb7",
   "metadata": {},
   "outputs": [
    {
     "data": {
      "text/html": [
       "<div>\n",
       "<style scoped>\n",
       "    .dataframe tbody tr th:only-of-type {\n",
       "        vertical-align: middle;\n",
       "    }\n",
       "\n",
       "    .dataframe tbody tr th {\n",
       "        vertical-align: top;\n",
       "    }\n",
       "\n",
       "    .dataframe thead th {\n",
       "        text-align: right;\n",
       "    }\n",
       "</style>\n",
       "<table border=\"1\" class=\"dataframe\">\n",
       "  <thead>\n",
       "    <tr style=\"text-align: right;\">\n",
       "      <th></th>\n",
       "      <th>İsimler</th>\n",
       "      <th>Yaş</th>\n",
       "      <th>Böl</th>\n",
       "    </tr>\n",
       "  </thead>\n",
       "  <tbody>\n",
       "    <tr>\n",
       "      <th>st1</th>\n",
       "      <td>Melike</td>\n",
       "      <td>21</td>\n",
       "      <td>Math</td>\n",
       "    </tr>\n",
       "    <tr>\n",
       "      <th>st2</th>\n",
       "      <td>Baris</td>\n",
       "      <td>22</td>\n",
       "      <td>Physics</td>\n",
       "    </tr>\n",
       "    <tr>\n",
       "      <th>st3</th>\n",
       "      <td>Almila</td>\n",
       "      <td>20</td>\n",
       "      <td>Biology</td>\n",
       "    </tr>\n",
       "    <tr>\n",
       "      <th>st4</th>\n",
       "      <td>Amir</td>\n",
       "      <td>21</td>\n",
       "      <td>Math</td>\n",
       "    </tr>\n",
       "    <tr>\n",
       "      <th>st5</th>\n",
       "      <td>Ceyda</td>\n",
       "      <td>23</td>\n",
       "      <td>Physics</td>\n",
       "    </tr>\n",
       "  </tbody>\n",
       "</table>\n",
       "</div>"
      ],
      "text/plain": [
       "    İsimler  Yaş      Böl\n",
       "st1  Melike   21     Math\n",
       "st2   Baris   22  Physics\n",
       "st3  Almila   20  Biology\n",
       "st4    Amir   21     Math\n",
       "st5   Ceyda   23  Physics"
      ]
     },
     "execution_count": 6,
     "metadata": {},
     "output_type": "execute_result"
    }
   ],
   "source": [
    "students_df"
   ]
  },
  {
   "cell_type": "code",
   "execution_count": 7,
   "id": "4909fefc",
   "metadata": {},
   "outputs": [],
   "source": [
    "## LOC"
   ]
  },
  {
   "cell_type": "code",
   "execution_count": 8,
   "id": "ecdc8cb1",
   "metadata": {},
   "outputs": [
    {
     "data": {
      "text/plain": [
       "20"
      ]
     },
     "execution_count": 8,
     "metadata": {},
     "output_type": "execute_result"
    }
   ],
   "source": [
    "students_df.loc['st3','Yaş']"
   ]
  },
  {
   "cell_type": "code",
   "execution_count": 9,
   "id": "c70c4d93",
   "metadata": {},
   "outputs": [
    {
     "data": {
      "text/plain": [
       "İsimler     Almila\n",
       "Yaş             20\n",
       "Böl        Biology\n",
       "Name: st3, dtype: object"
      ]
     },
     "execution_count": 9,
     "metadata": {},
     "output_type": "execute_result"
    }
   ],
   "source": [
    "students_df.loc['st3']"
   ]
  },
  {
   "cell_type": "code",
   "execution_count": 10,
   "id": "19e90913",
   "metadata": {},
   "outputs": [
    {
     "data": {
      "text/html": [
       "<div>\n",
       "<style scoped>\n",
       "    .dataframe tbody tr th:only-of-type {\n",
       "        vertical-align: middle;\n",
       "    }\n",
       "\n",
       "    .dataframe tbody tr th {\n",
       "        vertical-align: top;\n",
       "    }\n",
       "\n",
       "    .dataframe thead th {\n",
       "        text-align: right;\n",
       "    }\n",
       "</style>\n",
       "<table border=\"1\" class=\"dataframe\">\n",
       "  <thead>\n",
       "    <tr style=\"text-align: right;\">\n",
       "      <th></th>\n",
       "      <th>İsimler</th>\n",
       "      <th>Yaş</th>\n",
       "      <th>Böl</th>\n",
       "    </tr>\n",
       "  </thead>\n",
       "  <tbody>\n",
       "    <tr>\n",
       "      <th>st2</th>\n",
       "      <td>Baris</td>\n",
       "      <td>22</td>\n",
       "      <td>Physics</td>\n",
       "    </tr>\n",
       "    <tr>\n",
       "      <th>st3</th>\n",
       "      <td>Almila</td>\n",
       "      <td>20</td>\n",
       "      <td>Biology</td>\n",
       "    </tr>\n",
       "    <tr>\n",
       "      <th>st4</th>\n",
       "      <td>Amir</td>\n",
       "      <td>21</td>\n",
       "      <td>Math</td>\n",
       "    </tr>\n",
       "  </tbody>\n",
       "</table>\n",
       "</div>"
      ],
      "text/plain": [
       "    İsimler  Yaş      Böl\n",
       "st2   Baris   22  Physics\n",
       "st3  Almila   20  Biology\n",
       "st4    Amir   21     Math"
      ]
     },
     "execution_count": 10,
     "metadata": {},
     "output_type": "execute_result"
    }
   ],
   "source": [
    "students_df.loc['st2':'st4']"
   ]
  },
  {
   "cell_type": "code",
   "execution_count": 11,
   "id": "b4c9b176",
   "metadata": {},
   "outputs": [
    {
     "data": {
      "text/html": [
       "<div>\n",
       "<style scoped>\n",
       "    .dataframe tbody tr th:only-of-type {\n",
       "        vertical-align: middle;\n",
       "    }\n",
       "\n",
       "    .dataframe tbody tr th {\n",
       "        vertical-align: top;\n",
       "    }\n",
       "\n",
       "    .dataframe thead th {\n",
       "        text-align: right;\n",
       "    }\n",
       "</style>\n",
       "<table border=\"1\" class=\"dataframe\">\n",
       "  <thead>\n",
       "    <tr style=\"text-align: right;\">\n",
       "      <th></th>\n",
       "      <th>İsimler</th>\n",
       "      <th>Yaş</th>\n",
       "    </tr>\n",
       "  </thead>\n",
       "  <tbody>\n",
       "    <tr>\n",
       "      <th>st2</th>\n",
       "      <td>Baris</td>\n",
       "      <td>22</td>\n",
       "    </tr>\n",
       "    <tr>\n",
       "      <th>st3</th>\n",
       "      <td>Almila</td>\n",
       "      <td>20</td>\n",
       "    </tr>\n",
       "    <tr>\n",
       "      <th>st4</th>\n",
       "      <td>Amir</td>\n",
       "      <td>21</td>\n",
       "    </tr>\n",
       "  </tbody>\n",
       "</table>\n",
       "</div>"
      ],
      "text/plain": [
       "    İsimler  Yaş\n",
       "st2   Baris   22\n",
       "st3  Almila   20\n",
       "st4    Amir   21"
      ]
     },
     "execution_count": 11,
     "metadata": {},
     "output_type": "execute_result"
    }
   ],
   "source": [
    "students_df.loc['st2':'st4', 'İsimler':'Yaş']"
   ]
  },
  {
   "cell_type": "code",
   "execution_count": 12,
   "id": "b19c348d",
   "metadata": {},
   "outputs": [],
   "source": [
    "## ILOC"
   ]
  },
  {
   "cell_type": "code",
   "execution_count": 13,
   "id": "d149db7b",
   "metadata": {},
   "outputs": [
    {
     "data": {
      "text/html": [
       "<div>\n",
       "<style scoped>\n",
       "    .dataframe tbody tr th:only-of-type {\n",
       "        vertical-align: middle;\n",
       "    }\n",
       "\n",
       "    .dataframe tbody tr th {\n",
       "        vertical-align: top;\n",
       "    }\n",
       "\n",
       "    .dataframe thead th {\n",
       "        text-align: right;\n",
       "    }\n",
       "</style>\n",
       "<table border=\"1\" class=\"dataframe\">\n",
       "  <thead>\n",
       "    <tr style=\"text-align: right;\">\n",
       "      <th></th>\n",
       "      <th>İsimler</th>\n",
       "      <th>Yaş</th>\n",
       "    </tr>\n",
       "  </thead>\n",
       "  <tbody>\n",
       "    <tr>\n",
       "      <th>st2</th>\n",
       "      <td>Baris</td>\n",
       "      <td>22</td>\n",
       "    </tr>\n",
       "    <tr>\n",
       "      <th>st3</th>\n",
       "      <td>Almila</td>\n",
       "      <td>20</td>\n",
       "    </tr>\n",
       "  </tbody>\n",
       "</table>\n",
       "</div>"
      ],
      "text/plain": [
       "    İsimler  Yaş\n",
       "st2   Baris   22\n",
       "st3  Almila   20"
      ]
     },
     "execution_count": 13,
     "metadata": {},
     "output_type": "execute_result"
    }
   ],
   "source": [
    " students_df.iloc[1:3,0:2]"
   ]
  },
  {
   "cell_type": "code",
   "execution_count": 14,
   "id": "e935fdbb",
   "metadata": {},
   "outputs": [
    {
     "data": {
      "text/html": [
       "<div>\n",
       "<style scoped>\n",
       "    .dataframe tbody tr th:only-of-type {\n",
       "        vertical-align: middle;\n",
       "    }\n",
       "\n",
       "    .dataframe tbody tr th {\n",
       "        vertical-align: top;\n",
       "    }\n",
       "\n",
       "    .dataframe thead th {\n",
       "        text-align: right;\n",
       "    }\n",
       "</style>\n",
       "<table border=\"1\" class=\"dataframe\">\n",
       "  <thead>\n",
       "    <tr style=\"text-align: right;\">\n",
       "      <th></th>\n",
       "      <th>İsimler</th>\n",
       "      <th>Yaş</th>\n",
       "    </tr>\n",
       "  </thead>\n",
       "  <tbody>\n",
       "    <tr>\n",
       "      <th>st2</th>\n",
       "      <td>Baris</td>\n",
       "      <td>22</td>\n",
       "    </tr>\n",
       "    <tr>\n",
       "      <th>st3</th>\n",
       "      <td>Almila</td>\n",
       "      <td>20</td>\n",
       "    </tr>\n",
       "    <tr>\n",
       "      <th>st4</th>\n",
       "      <td>Amir</td>\n",
       "      <td>21</td>\n",
       "    </tr>\n",
       "  </tbody>\n",
       "</table>\n",
       "</div>"
      ],
      "text/plain": [
       "    İsimler  Yaş\n",
       "st2   Baris   22\n",
       "st3  Almila   20\n",
       "st4    Amir   21"
      ]
     },
     "execution_count": 14,
     "metadata": {},
     "output_type": "execute_result"
    }
   ],
   "source": [
    " students_df.iloc[1:4, 0:2]"
   ]
  },
  {
   "cell_type": "code",
   "execution_count": 15,
   "id": "ce1fe816",
   "metadata": {},
   "outputs": [],
   "source": [
    "## Filter with Loc and Iloc"
   ]
  },
  {
   "cell_type": "code",
   "execution_count": 16,
   "id": "0286e388",
   "metadata": {},
   "outputs": [
    {
     "data": {
      "text/html": [
       "<div>\n",
       "<style scoped>\n",
       "    .dataframe tbody tr th:only-of-type {\n",
       "        vertical-align: middle;\n",
       "    }\n",
       "\n",
       "    .dataframe tbody tr th {\n",
       "        vertical-align: top;\n",
       "    }\n",
       "\n",
       "    .dataframe thead th {\n",
       "        text-align: right;\n",
       "    }\n",
       "</style>\n",
       "<table border=\"1\" class=\"dataframe\">\n",
       "  <thead>\n",
       "    <tr style=\"text-align: right;\">\n",
       "      <th></th>\n",
       "      <th>İsimler</th>\n",
       "      <th>Yaş</th>\n",
       "      <th>Böl</th>\n",
       "    </tr>\n",
       "  </thead>\n",
       "  <tbody>\n",
       "    <tr>\n",
       "      <th>st3</th>\n",
       "      <td>Almila</td>\n",
       "      <td>20</td>\n",
       "      <td>Biology</td>\n",
       "    </tr>\n",
       "  </tbody>\n",
       "</table>\n",
       "</div>"
      ],
      "text/plain": [
       "    İsimler  Yaş      Böl\n",
       "st3  Almila   20  Biology"
      ]
     },
     "execution_count": 16,
     "metadata": {},
     "output_type": "execute_result"
    }
   ],
   "source": [
    "students_df.loc[students_df['Böl'] == 'Biology']"
   ]
  },
  {
   "cell_type": "code",
   "execution_count": 17,
   "id": "ae94551b",
   "metadata": {},
   "outputs": [
    {
     "data": {
      "text/html": [
       "<div>\n",
       "<style scoped>\n",
       "    .dataframe tbody tr th:only-of-type {\n",
       "        vertical-align: middle;\n",
       "    }\n",
       "\n",
       "    .dataframe tbody tr th {\n",
       "        vertical-align: top;\n",
       "    }\n",
       "\n",
       "    .dataframe thead th {\n",
       "        text-align: right;\n",
       "    }\n",
       "</style>\n",
       "<table border=\"1\" class=\"dataframe\">\n",
       "  <thead>\n",
       "    <tr style=\"text-align: right;\">\n",
       "      <th></th>\n",
       "      <th>İsimler</th>\n",
       "      <th>Yaş</th>\n",
       "      <th>Böl</th>\n",
       "    </tr>\n",
       "  </thead>\n",
       "  <tbody>\n",
       "    <tr>\n",
       "      <th>st1</th>\n",
       "      <td>Melike</td>\n",
       "      <td>21</td>\n",
       "      <td>Math</td>\n",
       "    </tr>\n",
       "    <tr>\n",
       "      <th>st3</th>\n",
       "      <td>Almila</td>\n",
       "      <td>20</td>\n",
       "      <td>Biology</td>\n",
       "    </tr>\n",
       "    <tr>\n",
       "      <th>st4</th>\n",
       "      <td>Amir</td>\n",
       "      <td>21</td>\n",
       "      <td>Math</td>\n",
       "    </tr>\n",
       "  </tbody>\n",
       "</table>\n",
       "</div>"
      ],
      "text/plain": [
       "    İsimler  Yaş      Böl\n",
       "st1  Melike   21     Math\n",
       "st3  Almila   20  Biology\n",
       "st4    Amir   21     Math"
      ]
     },
     "execution_count": 17,
     "metadata": {},
     "output_type": "execute_result"
    }
   ],
   "source": [
    "## isin : in filtresi\n",
    "students_df.loc[students_df['Böl'].isin(['Biology','Math'])]"
   ]
  },
  {
   "cell_type": "code",
   "execution_count": 18,
   "id": "ce037b7b",
   "metadata": {},
   "outputs": [
    {
     "data": {
      "text/html": [
       "<div>\n",
       "<style scoped>\n",
       "    .dataframe tbody tr th:only-of-type {\n",
       "        vertical-align: middle;\n",
       "    }\n",
       "\n",
       "    .dataframe tbody tr th {\n",
       "        vertical-align: top;\n",
       "    }\n",
       "\n",
       "    .dataframe thead th {\n",
       "        text-align: right;\n",
       "    }\n",
       "</style>\n",
       "<table border=\"1\" class=\"dataframe\">\n",
       "  <thead>\n",
       "    <tr style=\"text-align: right;\">\n",
       "      <th></th>\n",
       "      <th>İsimler</th>\n",
       "      <th>Yaş</th>\n",
       "      <th>Böl</th>\n",
       "    </tr>\n",
       "  </thead>\n",
       "  <tbody>\n",
       "    <tr>\n",
       "      <th>st2</th>\n",
       "      <td>Baris</td>\n",
       "      <td>22</td>\n",
       "      <td>Physics</td>\n",
       "    </tr>\n",
       "    <tr>\n",
       "      <th>st5</th>\n",
       "      <td>Ceyda</td>\n",
       "      <td>23</td>\n",
       "      <td>Physics</td>\n",
       "    </tr>\n",
       "  </tbody>\n",
       "</table>\n",
       "</div>"
      ],
      "text/plain": [
       "    İsimler  Yaş      Böl\n",
       "st2   Baris   22  Physics\n",
       "st5   Ceyda   23  Physics"
      ]
     },
     "execution_count": 18,
     "metadata": {},
     "output_type": "execute_result"
    }
   ],
   "source": [
    "students_df.loc[~students_df['Böl'].isin(['Biology','Math'])]"
   ]
  },
  {
   "cell_type": "code",
   "execution_count": 19,
   "id": "2191aa57",
   "metadata": {},
   "outputs": [
    {
     "data": {
      "text/html": [
       "<div>\n",
       "<style scoped>\n",
       "    .dataframe tbody tr th:only-of-type {\n",
       "        vertical-align: middle;\n",
       "    }\n",
       "\n",
       "    .dataframe tbody tr th {\n",
       "        vertical-align: top;\n",
       "    }\n",
       "\n",
       "    .dataframe thead th {\n",
       "        text-align: right;\n",
       "    }\n",
       "</style>\n",
       "<table border=\"1\" class=\"dataframe\">\n",
       "  <thead>\n",
       "    <tr style=\"text-align: right;\">\n",
       "      <th></th>\n",
       "      <th>İsimler</th>\n",
       "      <th>Yaş</th>\n",
       "      <th>Böl</th>\n",
       "    </tr>\n",
       "  </thead>\n",
       "  <tbody>\n",
       "  </tbody>\n",
       "</table>\n",
       "</div>"
      ],
      "text/plain": [
       "Empty DataFrame\n",
       "Columns: [İsimler, Yaş, Böl]\n",
       "Index: []"
      ]
     },
     "execution_count": 19,
     "metadata": {},
     "output_type": "execute_result"
    }
   ],
   "source": [
    "## na selection\n",
    "students_df.loc[students_df['Böl'].isna()]"
   ]
  },
  {
   "cell_type": "code",
   "execution_count": 20,
   "id": "663ecaed",
   "metadata": {},
   "outputs": [
    {
     "data": {
      "text/html": [
       "<div>\n",
       "<style scoped>\n",
       "    .dataframe tbody tr th:only-of-type {\n",
       "        vertical-align: middle;\n",
       "    }\n",
       "\n",
       "    .dataframe tbody tr th {\n",
       "        vertical-align: top;\n",
       "    }\n",
       "\n",
       "    .dataframe thead th {\n",
       "        text-align: right;\n",
       "    }\n",
       "</style>\n",
       "<table border=\"1\" class=\"dataframe\">\n",
       "  <thead>\n",
       "    <tr style=\"text-align: right;\">\n",
       "      <th></th>\n",
       "      <th>İsimler</th>\n",
       "      <th>Yaş</th>\n",
       "      <th>Böl</th>\n",
       "    </tr>\n",
       "  </thead>\n",
       "  <tbody>\n",
       "    <tr>\n",
       "      <th>st1</th>\n",
       "      <td>Melike</td>\n",
       "      <td>21</td>\n",
       "      <td>Math</td>\n",
       "    </tr>\n",
       "    <tr>\n",
       "      <th>st2</th>\n",
       "      <td>Baris</td>\n",
       "      <td>22</td>\n",
       "      <td>Physics</td>\n",
       "    </tr>\n",
       "    <tr>\n",
       "      <th>st3</th>\n",
       "      <td>Almila</td>\n",
       "      <td>20</td>\n",
       "      <td>Biology</td>\n",
       "    </tr>\n",
       "    <tr>\n",
       "      <th>st4</th>\n",
       "      <td>Amir</td>\n",
       "      <td>21</td>\n",
       "      <td>Math</td>\n",
       "    </tr>\n",
       "    <tr>\n",
       "      <th>st5</th>\n",
       "      <td>Ceyda</td>\n",
       "      <td>23</td>\n",
       "      <td>Physics</td>\n",
       "    </tr>\n",
       "  </tbody>\n",
       "</table>\n",
       "</div>"
      ],
      "text/plain": [
       "    İsimler  Yaş      Böl\n",
       "st1  Melike   21     Math\n",
       "st2   Baris   22  Physics\n",
       "st3  Almila   20  Biology\n",
       "st4    Amir   21     Math\n",
       "st5   Ceyda   23  Physics"
      ]
     },
     "execution_count": 20,
     "metadata": {},
     "output_type": "execute_result"
    }
   ],
   "source": [
    "## NOT NA\n",
    "students_df.loc[~students_df['Böl'].isna()]"
   ]
  },
  {
   "cell_type": "code",
   "execution_count": 21,
   "id": "33cd9683",
   "metadata": {},
   "outputs": [
    {
     "data": {
      "text/html": [
       "<div>\n",
       "<style scoped>\n",
       "    .dataframe tbody tr th:only-of-type {\n",
       "        vertical-align: middle;\n",
       "    }\n",
       "\n",
       "    .dataframe tbody tr th {\n",
       "        vertical-align: top;\n",
       "    }\n",
       "\n",
       "    .dataframe thead th {\n",
       "        text-align: right;\n",
       "    }\n",
       "</style>\n",
       "<table border=\"1\" class=\"dataframe\">\n",
       "  <thead>\n",
       "    <tr style=\"text-align: right;\">\n",
       "      <th></th>\n",
       "      <th>İsimler</th>\n",
       "      <th>Yaş</th>\n",
       "      <th>Böl</th>\n",
       "    </tr>\n",
       "  </thead>\n",
       "  <tbody>\n",
       "    <tr>\n",
       "      <th>st1</th>\n",
       "      <td>Melike</td>\n",
       "      <td>21</td>\n",
       "      <td>Math</td>\n",
       "    </tr>\n",
       "    <tr>\n",
       "      <th>st2</th>\n",
       "      <td>Baris</td>\n",
       "      <td>22</td>\n",
       "      <td>Physics</td>\n",
       "    </tr>\n",
       "    <tr>\n",
       "      <th>st3</th>\n",
       "      <td>Almila</td>\n",
       "      <td>20</td>\n",
       "      <td>Biology</td>\n",
       "    </tr>\n",
       "    <tr>\n",
       "      <th>st4</th>\n",
       "      <td>Amir</td>\n",
       "      <td>21</td>\n",
       "      <td>Math</td>\n",
       "    </tr>\n",
       "    <tr>\n",
       "      <th>st5</th>\n",
       "      <td>Ceyda</td>\n",
       "      <td>23</td>\n",
       "      <td>Physics</td>\n",
       "    </tr>\n",
       "  </tbody>\n",
       "</table>\n",
       "</div>"
      ],
      "text/plain": [
       "    İsimler  Yaş      Böl\n",
       "st1  Melike   21     Math\n",
       "st2   Baris   22  Physics\n",
       "st3  Almila   20  Biology\n",
       "st4    Amir   21     Math\n",
       "st5   Ceyda   23  Physics"
      ]
     },
     "execution_count": 21,
     "metadata": {},
     "output_type": "execute_result"
    }
   ],
   "source": [
    "## NOT NA\n",
    "students_df.loc[students_df['Böl'].notna()]"
   ]
  },
  {
   "cell_type": "code",
   "execution_count": 22,
   "id": "12d8bd6a",
   "metadata": {},
   "outputs": [
    {
     "data": {
      "text/html": [
       "<div>\n",
       "<style scoped>\n",
       "    .dataframe tbody tr th:only-of-type {\n",
       "        vertical-align: middle;\n",
       "    }\n",
       "\n",
       "    .dataframe tbody tr th {\n",
       "        vertical-align: top;\n",
       "    }\n",
       "\n",
       "    .dataframe thead th {\n",
       "        text-align: right;\n",
       "    }\n",
       "</style>\n",
       "<table border=\"1\" class=\"dataframe\">\n",
       "  <thead>\n",
       "    <tr style=\"text-align: right;\">\n",
       "      <th></th>\n",
       "      <th>İsimler</th>\n",
       "      <th>Yaş</th>\n",
       "      <th>Böl</th>\n",
       "    </tr>\n",
       "  </thead>\n",
       "  <tbody>\n",
       "    <tr>\n",
       "      <th>st1</th>\n",
       "      <td>Melike</td>\n",
       "      <td>21</td>\n",
       "      <td>Math</td>\n",
       "    </tr>\n",
       "    <tr>\n",
       "      <th>st4</th>\n",
       "      <td>Amir</td>\n",
       "      <td>21</td>\n",
       "      <td>Math</td>\n",
       "    </tr>\n",
       "  </tbody>\n",
       "</table>\n",
       "</div>"
      ],
      "text/plain": [
       "    İsimler  Yaş   Böl\n",
       "st1  Melike   21  Math\n",
       "st4    Amir   21  Math"
      ]
     },
     "execution_count": 22,
     "metadata": {},
     "output_type": "execute_result"
    }
   ],
   "source": [
    "students_df[(students_df['Böl'] == 'Math')&(students_df['Yaş'] > 20)]"
   ]
  },
  {
   "cell_type": "code",
   "execution_count": 23,
   "id": "22e70401",
   "metadata": {},
   "outputs": [],
   "source": [
    "## MULTI INDEX"
   ]
  },
  {
   "cell_type": "code",
   "execution_count": 24,
   "id": "2f7e809b",
   "metadata": {},
   "outputs": [
    {
     "name": "stdout",
     "output_type": "stream",
     "text": [
      "                       Yas  Not\n",
      "Uzmanlık Grup Isimler          \n",
      "Math     M19  Melike    21   21\n",
      "Physics  P18  Baris     22   22\n",
      "Biology  B20  Almila    20   20\n",
      "Math     M19  Amir      21   21\n",
      "Physics  P17  Ceyda     23   23\n"
     ]
    }
   ],
   "source": [
    "# Veriler\n",
    "index = pd.MultiIndex.from_arrays(\n",
    "    [\n",
    "        ['Math', 'Physics', 'Biology', 'Math', 'Physics'],   # Uzmanlık alanı\n",
    "        ['M19', 'P18', 'B20', 'M19', 'P17'],                 # Grup\n",
    "        ['Melike', 'Baris', 'Almila', 'Amir', 'Ceyda']       # İsim\n",
    "    ],\n",
    "    names=['Uzmanlık', 'Grup', 'Isimler']\n",
    ")\n",
    "\n",
    "# İçerik verisi\n",
    "data = {\n",
    "    'Yas': [21, 22, 20, 21, 23],\n",
    "    'Not': [21, 22, 20, 21, 23]\n",
    "}\n",
    "\n",
    "# DataFrame oluşturma\n",
    "df = pd.DataFrame(data, index=index)\n",
    "\n",
    "print(df)"
   ]
  },
  {
   "cell_type": "code",
   "execution_count": 25,
   "id": "a0800a00",
   "metadata": {},
   "outputs": [
    {
     "data": {
      "text/plain": [
       "Uzmanlık\n",
       "Biology    20.0\n",
       "Math       21.0\n",
       "Physics    22.5\n",
       "Name: Yas, dtype: float64"
      ]
     },
     "execution_count": 25,
     "metadata": {},
     "output_type": "execute_result"
    }
   ],
   "source": [
    "df.groupby(level='Uzmanlık')['Yas'].mean()"
   ]
  },
  {
   "cell_type": "code",
   "execution_count": 26,
   "id": "3b40ed0e",
   "metadata": {},
   "outputs": [
    {
     "data": {
      "text/plain": [
       "Index(['Yas', 'Not'], dtype='object')"
      ]
     },
     "execution_count": 26,
     "metadata": {},
     "output_type": "execute_result"
    }
   ],
   "source": [
    "df.columns"
   ]
  },
  {
   "cell_type": "code",
   "execution_count": 27,
   "id": "0acaf33b",
   "metadata": {},
   "outputs": [
    {
     "data": {
      "text/html": [
       "<div>\n",
       "<style scoped>\n",
       "    .dataframe tbody tr th:only-of-type {\n",
       "        vertical-align: middle;\n",
       "    }\n",
       "\n",
       "    .dataframe tbody tr th {\n",
       "        vertical-align: top;\n",
       "    }\n",
       "\n",
       "    .dataframe thead th {\n",
       "        text-align: right;\n",
       "    }\n",
       "</style>\n",
       "<table border=\"1\" class=\"dataframe\">\n",
       "  <thead>\n",
       "    <tr style=\"text-align: right;\">\n",
       "      <th></th>\n",
       "      <th></th>\n",
       "      <th></th>\n",
       "      <th>Yas</th>\n",
       "      <th>Not</th>\n",
       "    </tr>\n",
       "    <tr>\n",
       "      <th>Uzmanlık</th>\n",
       "      <th>Grup</th>\n",
       "      <th>Isimler</th>\n",
       "      <th></th>\n",
       "      <th></th>\n",
       "    </tr>\n",
       "  </thead>\n",
       "  <tbody>\n",
       "    <tr>\n",
       "      <th>Math</th>\n",
       "      <th>M19</th>\n",
       "      <th>Melike</th>\n",
       "      <td>21</td>\n",
       "      <td>21</td>\n",
       "    </tr>\n",
       "    <tr>\n",
       "      <th>Physics</th>\n",
       "      <th>P18</th>\n",
       "      <th>Baris</th>\n",
       "      <td>22</td>\n",
       "      <td>22</td>\n",
       "    </tr>\n",
       "    <tr>\n",
       "      <th>Biology</th>\n",
       "      <th>B20</th>\n",
       "      <th>Almila</th>\n",
       "      <td>20</td>\n",
       "      <td>20</td>\n",
       "    </tr>\n",
       "    <tr>\n",
       "      <th>Math</th>\n",
       "      <th>M19</th>\n",
       "      <th>Amir</th>\n",
       "      <td>21</td>\n",
       "      <td>21</td>\n",
       "    </tr>\n",
       "    <tr>\n",
       "      <th>Physics</th>\n",
       "      <th>P17</th>\n",
       "      <th>Ceyda</th>\n",
       "      <td>23</td>\n",
       "      <td>23</td>\n",
       "    </tr>\n",
       "  </tbody>\n",
       "</table>\n",
       "</div>"
      ],
      "text/plain": [
       "                       Yas  Not\n",
       "Uzmanlık Grup Isimler          \n",
       "Math     M19  Melike    21   21\n",
       "Physics  P18  Baris     22   22\n",
       "Biology  B20  Almila    20   20\n",
       "Math     M19  Amir      21   21\n",
       "Physics  P17  Ceyda     23   23"
      ]
     },
     "execution_count": 27,
     "metadata": {},
     "output_type": "execute_result"
    }
   ],
   "source": [
    "df"
   ]
  },
  {
   "cell_type": "code",
   "execution_count": 28,
   "id": "60d1ea78",
   "metadata": {},
   "outputs": [],
   "source": [
    "df_reset= df.reset_index()"
   ]
  },
  {
   "cell_type": "code",
   "execution_count": 29,
   "id": "227b4401",
   "metadata": {},
   "outputs": [
    {
     "data": {
      "text/html": [
       "<div>\n",
       "<style scoped>\n",
       "    .dataframe tbody tr th:only-of-type {\n",
       "        vertical-align: middle;\n",
       "    }\n",
       "\n",
       "    .dataframe tbody tr th {\n",
       "        vertical-align: top;\n",
       "    }\n",
       "\n",
       "    .dataframe thead th {\n",
       "        text-align: right;\n",
       "    }\n",
       "</style>\n",
       "<table border=\"1\" class=\"dataframe\">\n",
       "  <thead>\n",
       "    <tr style=\"text-align: right;\">\n",
       "      <th></th>\n",
       "      <th>Uzmanlık</th>\n",
       "      <th>Grup</th>\n",
       "      <th>Isimler</th>\n",
       "      <th>Yas</th>\n",
       "      <th>Not</th>\n",
       "    </tr>\n",
       "  </thead>\n",
       "  <tbody>\n",
       "    <tr>\n",
       "      <th>0</th>\n",
       "      <td>Math</td>\n",
       "      <td>M19</td>\n",
       "      <td>Melike</td>\n",
       "      <td>21</td>\n",
       "      <td>21</td>\n",
       "    </tr>\n",
       "    <tr>\n",
       "      <th>1</th>\n",
       "      <td>Physics</td>\n",
       "      <td>P18</td>\n",
       "      <td>Baris</td>\n",
       "      <td>22</td>\n",
       "      <td>22</td>\n",
       "    </tr>\n",
       "    <tr>\n",
       "      <th>2</th>\n",
       "      <td>Biology</td>\n",
       "      <td>B20</td>\n",
       "      <td>Almila</td>\n",
       "      <td>20</td>\n",
       "      <td>20</td>\n",
       "    </tr>\n",
       "    <tr>\n",
       "      <th>3</th>\n",
       "      <td>Math</td>\n",
       "      <td>M19</td>\n",
       "      <td>Amir</td>\n",
       "      <td>21</td>\n",
       "      <td>21</td>\n",
       "    </tr>\n",
       "    <tr>\n",
       "      <th>4</th>\n",
       "      <td>Physics</td>\n",
       "      <td>P17</td>\n",
       "      <td>Ceyda</td>\n",
       "      <td>23</td>\n",
       "      <td>23</td>\n",
       "    </tr>\n",
       "  </tbody>\n",
       "</table>\n",
       "</div>"
      ],
      "text/plain": [
       "  Uzmanlık Grup Isimler  Yas  Not\n",
       "0     Math  M19  Melike   21   21\n",
       "1  Physics  P18   Baris   22   22\n",
       "2  Biology  B20  Almila   20   20\n",
       "3     Math  M19    Amir   21   21\n",
       "4  Physics  P17   Ceyda   23   23"
      ]
     },
     "execution_count": 29,
     "metadata": {},
     "output_type": "execute_result"
    }
   ],
   "source": [
    "df_reset"
   ]
  },
  {
   "cell_type": "code",
   "execution_count": 30,
   "id": "1a8a357c",
   "metadata": {},
   "outputs": [
    {
     "data": {
      "text/plain": [
       "Index(['Uzmanlık', 'Grup', 'Isimler', 'Yas', 'Not'], dtype='object')"
      ]
     },
     "execution_count": 30,
     "metadata": {},
     "output_type": "execute_result"
    }
   ],
   "source": [
    "df_reset.columns"
   ]
  },
  {
   "cell_type": "code",
   "execution_count": 31,
   "id": "6b9a8360",
   "metadata": {},
   "outputs": [
    {
     "data": {
      "text/html": [
       "<div>\n",
       "<style scoped>\n",
       "    .dataframe tbody tr th:only-of-type {\n",
       "        vertical-align: middle;\n",
       "    }\n",
       "\n",
       "    .dataframe tbody tr th {\n",
       "        vertical-align: top;\n",
       "    }\n",
       "\n",
       "    .dataframe thead th {\n",
       "        text-align: right;\n",
       "    }\n",
       "</style>\n",
       "<table border=\"1\" class=\"dataframe\">\n",
       "  <thead>\n",
       "    <tr style=\"text-align: right;\">\n",
       "      <th></th>\n",
       "      <th></th>\n",
       "      <th></th>\n",
       "      <th>Yas</th>\n",
       "      <th>Not</th>\n",
       "    </tr>\n",
       "    <tr>\n",
       "      <th>Uzmanlık</th>\n",
       "      <th>Grup</th>\n",
       "      <th>Isimler</th>\n",
       "      <th></th>\n",
       "      <th></th>\n",
       "    </tr>\n",
       "  </thead>\n",
       "  <tbody>\n",
       "    <tr>\n",
       "      <th>Biology</th>\n",
       "      <th>B20</th>\n",
       "      <th>Almila</th>\n",
       "      <td>20.0</td>\n",
       "      <td>20.0</td>\n",
       "    </tr>\n",
       "    <tr>\n",
       "      <th rowspan=\"2\" valign=\"top\">Math</th>\n",
       "      <th rowspan=\"2\" valign=\"top\">M19</th>\n",
       "      <th>Amir</th>\n",
       "      <td>21.0</td>\n",
       "      <td>21.0</td>\n",
       "    </tr>\n",
       "    <tr>\n",
       "      <th>Melike</th>\n",
       "      <td>21.0</td>\n",
       "      <td>21.0</td>\n",
       "    </tr>\n",
       "    <tr>\n",
       "      <th rowspan=\"2\" valign=\"top\">Physics</th>\n",
       "      <th>P17</th>\n",
       "      <th>Ceyda</th>\n",
       "      <td>23.0</td>\n",
       "      <td>23.0</td>\n",
       "    </tr>\n",
       "    <tr>\n",
       "      <th>P18</th>\n",
       "      <th>Baris</th>\n",
       "      <td>22.0</td>\n",
       "      <td>22.0</td>\n",
       "    </tr>\n",
       "  </tbody>\n",
       "</table>\n",
       "</div>"
      ],
      "text/plain": [
       "                        Yas   Not\n",
       "Uzmanlık Grup Isimler            \n",
       "Biology  B20  Almila   20.0  20.0\n",
       "Math     M19  Amir     21.0  21.0\n",
       "              Melike   21.0  21.0\n",
       "Physics  P17  Ceyda    23.0  23.0\n",
       "         P18  Baris    22.0  22.0"
      ]
     },
     "execution_count": 31,
     "metadata": {},
     "output_type": "execute_result"
    }
   ],
   "source": [
    "df_reset.groupby(['Uzmanlık', 'Grup', 'Isimler']).mean()"
   ]
  },
  {
   "cell_type": "markdown",
   "id": "976afca8",
   "metadata": {},
   "source": [
    "## Pandas'ta Toplama İşlemleri"
   ]
  },
  {
   "cell_type": "code",
   "execution_count": 33,
   "id": "00bf13ee",
   "metadata": {},
   "outputs": [],
   "source": [
    "students_data = {\n",
    "    'İsimler': ['Melike', 'Baris', 'Almila', 'Amir', 'Ceyda'],\n",
    "    'Yaş': [21, 22, 20, 21, 23],\n",
    "    'Bölüm': ['Math', 'Physics', 'Biology', 'Math', 'Physics']\n",
    "}\n",
    "\n",
    "student_df= pd.DataFrame(students_data)"
   ]
  },
  {
   "cell_type": "code",
   "execution_count": 34,
   "id": "5c00a726",
   "metadata": {},
   "outputs": [
    {
     "data": {
      "text/plain": [
       "{'İsimler': ['Melike', 'Baris', 'Almila', 'Amir', 'Ceyda'],\n",
       " 'Yaş': [21, 22, 20, 21, 23],\n",
       " 'Bölüm': ['Math', 'Physics', 'Biology', 'Math', 'Physics']}"
      ]
     },
     "execution_count": 34,
     "metadata": {},
     "output_type": "execute_result"
    }
   ],
   "source": [
    "students_data"
   ]
  },
  {
   "cell_type": "code",
   "execution_count": 35,
   "id": "2ef227a5",
   "metadata": {},
   "outputs": [],
   "source": [
    "student_df= pd.DataFrame(students_data)"
   ]
  },
  {
   "cell_type": "code",
   "execution_count": 36,
   "id": "e114598b",
   "metadata": {},
   "outputs": [
    {
     "data": {
      "text/plain": [
       "107"
      ]
     },
     "execution_count": 36,
     "metadata": {},
     "output_type": "execute_result"
    }
   ],
   "source": [
    "student_df['Yaş'].sum()"
   ]
  },
  {
   "cell_type": "code",
   "execution_count": 37,
   "id": "146485f5",
   "metadata": {},
   "outputs": [
    {
     "data": {
      "text/plain": [
       "21.4"
      ]
     },
     "execution_count": 37,
     "metadata": {},
     "output_type": "execute_result"
    }
   ],
   "source": [
    "student_df['Yaş'].mean()"
   ]
  },
  {
   "cell_type": "code",
   "execution_count": 38,
   "id": "a9b0640a",
   "metadata": {},
   "outputs": [
    {
     "data": {
      "text/plain": [
       "21.0"
      ]
     },
     "execution_count": 38,
     "metadata": {},
     "output_type": "execute_result"
    }
   ],
   "source": [
    "student_df['Yaş'].median()"
   ]
  },
  {
   "cell_type": "code",
   "execution_count": 39,
   "id": "af0cf96c",
   "metadata": {},
   "outputs": [
    {
     "data": {
      "text/plain": [
       "23"
      ]
     },
     "execution_count": 39,
     "metadata": {},
     "output_type": "execute_result"
    }
   ],
   "source": [
    "student_df['Yaş'].max()"
   ]
  },
  {
   "cell_type": "code",
   "execution_count": 40,
   "id": "21ba54d7",
   "metadata": {},
   "outputs": [
    {
     "data": {
      "text/plain": [
       "20"
      ]
     },
     "execution_count": 40,
     "metadata": {},
     "output_type": "execute_result"
    }
   ],
   "source": [
    "student_df['Yaş'].min()"
   ]
  },
  {
   "cell_type": "code",
   "execution_count": 41,
   "id": "09ae159f",
   "metadata": {},
   "outputs": [
    {
     "data": {
      "text/plain": [
       "0    21\n",
       "Name: Yaş, dtype: int64"
      ]
     },
     "execution_count": 41,
     "metadata": {},
     "output_type": "execute_result"
    }
   ],
   "source": [
    "student_df['Yaş'].mode()"
   ]
  },
  {
   "cell_type": "code",
   "execution_count": 42,
   "id": "af8c3c95",
   "metadata": {},
   "outputs": [
    {
     "data": {
      "text/plain": [
       "4"
      ]
     },
     "execution_count": 42,
     "metadata": {},
     "output_type": "execute_result"
    }
   ],
   "source": [
    "student_df['Yaş'].nunique()"
   ]
  },
  {
   "cell_type": "code",
   "execution_count": 43,
   "id": "beb82377",
   "metadata": {},
   "outputs": [
    {
     "data": {
      "text/plain": [
       "22.0"
      ]
     },
     "execution_count": 43,
     "metadata": {},
     "output_type": "execute_result"
    }
   ],
   "source": [
    "students_df['Yaş'].quantile(0.75)"
   ]
  },
  {
   "cell_type": "markdown",
   "id": "35ad0367",
   "metadata": {},
   "source": [
    "## Veri Gruplama"
   ]
  },
  {
   "cell_type": "markdown",
   "id": "e2ce6d0f",
   "metadata": {},
   "source": [
    "\n",
    "df.groupby(\n",
    "    by,           # Hangi kolona göre gruplama yapılacak?\n",
    "    level=None,   # Çok seviyeli indeks varsa hangi seviyeye göre gruplanacak?\n",
    "    as_index=True,# Grup kolonları index olsun mu?\n",
    "    sort=True     # Gruplar sıralansın mı?\n",
    ").<aggregation>  # Örn: .sum(), .mean(), .count()"
   ]
  },
  {
   "cell_type": "code",
   "execution_count": 46,
   "id": "e7055b15",
   "metadata": {},
   "outputs": [],
   "source": [
    "df = pd.DataFrame({\n",
    "    'cinsiyet': ['erkek', 'kadın', 'erkek', 'kadın', 'erkek'],\n",
    "    'yas': [25, 30, 22, 28, 35],\n",
    "    'salary': [5000, 15000, 25000, 15000, 55000]\n",
    "})"
   ]
  },
  {
   "cell_type": "code",
   "execution_count": 47,
   "id": "a61d8461",
   "metadata": {},
   "outputs": [
    {
     "data": {
      "text/html": [
       "<div>\n",
       "<style scoped>\n",
       "    .dataframe tbody tr th:only-of-type {\n",
       "        vertical-align: middle;\n",
       "    }\n",
       "\n",
       "    .dataframe tbody tr th {\n",
       "        vertical-align: top;\n",
       "    }\n",
       "\n",
       "    .dataframe thead th {\n",
       "        text-align: right;\n",
       "    }\n",
       "</style>\n",
       "<table border=\"1\" class=\"dataframe\">\n",
       "  <thead>\n",
       "    <tr style=\"text-align: right;\">\n",
       "      <th></th>\n",
       "      <th>cinsiyet</th>\n",
       "      <th>yas</th>\n",
       "      <th>salary</th>\n",
       "    </tr>\n",
       "  </thead>\n",
       "  <tbody>\n",
       "    <tr>\n",
       "      <th>0</th>\n",
       "      <td>erkek</td>\n",
       "      <td>25</td>\n",
       "      <td>5000</td>\n",
       "    </tr>\n",
       "    <tr>\n",
       "      <th>1</th>\n",
       "      <td>kadın</td>\n",
       "      <td>30</td>\n",
       "      <td>15000</td>\n",
       "    </tr>\n",
       "    <tr>\n",
       "      <th>2</th>\n",
       "      <td>erkek</td>\n",
       "      <td>22</td>\n",
       "      <td>25000</td>\n",
       "    </tr>\n",
       "    <tr>\n",
       "      <th>3</th>\n",
       "      <td>kadın</td>\n",
       "      <td>28</td>\n",
       "      <td>15000</td>\n",
       "    </tr>\n",
       "    <tr>\n",
       "      <th>4</th>\n",
       "      <td>erkek</td>\n",
       "      <td>35</td>\n",
       "      <td>55000</td>\n",
       "    </tr>\n",
       "  </tbody>\n",
       "</table>\n",
       "</div>"
      ],
      "text/plain": [
       "  cinsiyet  yas  salary\n",
       "0    erkek   25    5000\n",
       "1    kadın   30   15000\n",
       "2    erkek   22   25000\n",
       "3    kadın   28   15000\n",
       "4    erkek   35   55000"
      ]
     },
     "execution_count": 47,
     "metadata": {},
     "output_type": "execute_result"
    }
   ],
   "source": [
    "df"
   ]
  },
  {
   "cell_type": "code",
   "execution_count": 48,
   "id": "047830a8",
   "metadata": {},
   "outputs": [
    {
     "data": {
      "text/html": [
       "<div>\n",
       "<style scoped>\n",
       "    .dataframe tbody tr th:only-of-type {\n",
       "        vertical-align: middle;\n",
       "    }\n",
       "\n",
       "    .dataframe tbody tr th {\n",
       "        vertical-align: top;\n",
       "    }\n",
       "\n",
       "    .dataframe thead th {\n",
       "        text-align: right;\n",
       "    }\n",
       "</style>\n",
       "<table border=\"1\" class=\"dataframe\">\n",
       "  <thead>\n",
       "    <tr style=\"text-align: right;\">\n",
       "      <th></th>\n",
       "      <th>yas</th>\n",
       "      <th>salary</th>\n",
       "    </tr>\n",
       "    <tr>\n",
       "      <th>cinsiyet</th>\n",
       "      <th></th>\n",
       "      <th></th>\n",
       "    </tr>\n",
       "  </thead>\n",
       "  <tbody>\n",
       "    <tr>\n",
       "      <th>erkek</th>\n",
       "      <td>27.333333</td>\n",
       "      <td>28333.333333</td>\n",
       "    </tr>\n",
       "    <tr>\n",
       "      <th>kadın</th>\n",
       "      <td>29.000000</td>\n",
       "      <td>15000.000000</td>\n",
       "    </tr>\n",
       "  </tbody>\n",
       "</table>\n",
       "</div>"
      ],
      "text/plain": [
       "                yas        salary\n",
       "cinsiyet                         \n",
       "erkek     27.333333  28333.333333\n",
       "kadın     29.000000  15000.000000"
      ]
     },
     "execution_count": 48,
     "metadata": {},
     "output_type": "execute_result"
    }
   ],
   "source": [
    "df.groupby('cinsiyet').mean()"
   ]
  },
  {
   "cell_type": "code",
   "execution_count": 49,
   "id": "949ef86c",
   "metadata": {},
   "outputs": [
    {
     "data": {
      "text/plain": [
       "cinsiyet\n",
       "erkek    27.333333\n",
       "kadın    29.000000\n",
       "Name: yas, dtype: float64"
      ]
     },
     "execution_count": 49,
     "metadata": {},
     "output_type": "execute_result"
    }
   ],
   "source": [
    "df.groupby('cinsiyet')['yas'].mean()"
   ]
  },
  {
   "cell_type": "code",
   "execution_count": 50,
   "id": "bdb24256",
   "metadata": {},
   "outputs": [
    {
     "data": {
      "text/html": [
       "<div>\n",
       "<style scoped>\n",
       "    .dataframe tbody tr th:only-of-type {\n",
       "        vertical-align: middle;\n",
       "    }\n",
       "\n",
       "    .dataframe tbody tr th {\n",
       "        vertical-align: top;\n",
       "    }\n",
       "\n",
       "    .dataframe thead th {\n",
       "        text-align: right;\n",
       "    }\n",
       "</style>\n",
       "<table border=\"1\" class=\"dataframe\">\n",
       "  <thead>\n",
       "    <tr style=\"text-align: right;\">\n",
       "      <th></th>\n",
       "      <th>cinsiyet</th>\n",
       "      <th>yas</th>\n",
       "    </tr>\n",
       "  </thead>\n",
       "  <tbody>\n",
       "    <tr>\n",
       "      <th>0</th>\n",
       "      <td>erkek</td>\n",
       "      <td>27.333333</td>\n",
       "    </tr>\n",
       "    <tr>\n",
       "      <th>1</th>\n",
       "      <td>kadın</td>\n",
       "      <td>29.000000</td>\n",
       "    </tr>\n",
       "  </tbody>\n",
       "</table>\n",
       "</div>"
      ],
      "text/plain": [
       "  cinsiyet        yas\n",
       "0    erkek  27.333333\n",
       "1    kadın  29.000000"
      ]
     },
     "execution_count": 50,
     "metadata": {},
     "output_type": "execute_result"
    }
   ],
   "source": [
    "df.groupby('cinsiyet',as_index=False )['yas'].mean()"
   ]
  },
  {
   "cell_type": "code",
   "execution_count": 51,
   "id": "2ae49f16",
   "metadata": {},
   "outputs": [
    {
     "data": {
      "text/html": [
       "<div>\n",
       "<style scoped>\n",
       "    .dataframe tbody tr th:only-of-type {\n",
       "        vertical-align: middle;\n",
       "    }\n",
       "\n",
       "    .dataframe tbody tr th {\n",
       "        vertical-align: top;\n",
       "    }\n",
       "\n",
       "    .dataframe thead th {\n",
       "        text-align: right;\n",
       "    }\n",
       "</style>\n",
       "<table border=\"1\" class=\"dataframe\">\n",
       "  <thead>\n",
       "    <tr style=\"text-align: right;\">\n",
       "      <th></th>\n",
       "      <th>cinsiyet</th>\n",
       "      <th>yas</th>\n",
       "    </tr>\n",
       "  </thead>\n",
       "  <tbody>\n",
       "    <tr>\n",
       "      <th>0</th>\n",
       "      <td>erkek</td>\n",
       "      <td>27.333333</td>\n",
       "    </tr>\n",
       "    <tr>\n",
       "      <th>1</th>\n",
       "      <td>kadın</td>\n",
       "      <td>29.000000</td>\n",
       "    </tr>\n",
       "  </tbody>\n",
       "</table>\n",
       "</div>"
      ],
      "text/plain": [
       "  cinsiyet        yas\n",
       "0    erkek  27.333333\n",
       "1    kadın  29.000000"
      ]
     },
     "execution_count": 51,
     "metadata": {},
     "output_type": "execute_result"
    }
   ],
   "source": [
    "df.groupby('cinsiyet',as_index=False)['yas'].mean()"
   ]
  },
  {
   "cell_type": "code",
   "execution_count": 52,
   "id": "d1399d72",
   "metadata": {},
   "outputs": [
    {
     "data": {
      "text/html": [
       "<div>\n",
       "<style scoped>\n",
       "    .dataframe tbody tr th:only-of-type {\n",
       "        vertical-align: middle;\n",
       "    }\n",
       "\n",
       "    .dataframe tbody tr th {\n",
       "        vertical-align: top;\n",
       "    }\n",
       "\n",
       "    .dataframe thead tr th {\n",
       "        text-align: left;\n",
       "    }\n",
       "</style>\n",
       "<table border=\"1\" class=\"dataframe\">\n",
       "  <thead>\n",
       "    <tr>\n",
       "      <th></th>\n",
       "      <th>cinsiyet</th>\n",
       "      <th colspan=\"3\" halign=\"left\">yas</th>\n",
       "    </tr>\n",
       "    <tr>\n",
       "      <th></th>\n",
       "      <th></th>\n",
       "      <th>mean</th>\n",
       "      <th>max</th>\n",
       "      <th>count</th>\n",
       "    </tr>\n",
       "  </thead>\n",
       "  <tbody>\n",
       "    <tr>\n",
       "      <th>0</th>\n",
       "      <td>erkek</td>\n",
       "      <td>27.333333</td>\n",
       "      <td>35</td>\n",
       "      <td>3</td>\n",
       "    </tr>\n",
       "    <tr>\n",
       "      <th>1</th>\n",
       "      <td>kadın</td>\n",
       "      <td>29.000000</td>\n",
       "      <td>30</td>\n",
       "      <td>2</td>\n",
       "    </tr>\n",
       "  </tbody>\n",
       "</table>\n",
       "</div>"
      ],
      "text/plain": [
       "  cinsiyet        yas          \n",
       "                 mean max count\n",
       "0    erkek  27.333333  35     3\n",
       "1    kadın  29.000000  30     2"
      ]
     },
     "execution_count": 52,
     "metadata": {},
     "output_type": "execute_result"
    }
   ],
   "source": [
    "df.groupby('cinsiyet',as_index=False ).agg({'yas': ['mean','max','count']})"
   ]
  },
  {
   "cell_type": "code",
   "execution_count": 53,
   "id": "c286af6c",
   "metadata": {},
   "outputs": [
    {
     "data": {
      "text/html": [
       "<div>\n",
       "<style scoped>\n",
       "    .dataframe tbody tr th:only-of-type {\n",
       "        vertical-align: middle;\n",
       "    }\n",
       "\n",
       "    .dataframe tbody tr th {\n",
       "        vertical-align: top;\n",
       "    }\n",
       "\n",
       "    .dataframe thead tr th {\n",
       "        text-align: left;\n",
       "    }\n",
       "</style>\n",
       "<table border=\"1\" class=\"dataframe\">\n",
       "  <thead>\n",
       "    <tr>\n",
       "      <th></th>\n",
       "      <th>cinsiyet</th>\n",
       "      <th>yas</th>\n",
       "      <th colspan=\"3\" halign=\"left\">salary</th>\n",
       "    </tr>\n",
       "    <tr>\n",
       "      <th></th>\n",
       "      <th></th>\n",
       "      <th></th>\n",
       "      <th>mean</th>\n",
       "      <th>max</th>\n",
       "      <th>min</th>\n",
       "    </tr>\n",
       "  </thead>\n",
       "  <tbody>\n",
       "    <tr>\n",
       "      <th>0</th>\n",
       "      <td>erkek</td>\n",
       "      <td>22</td>\n",
       "      <td>25000.0</td>\n",
       "      <td>25000</td>\n",
       "      <td>25000</td>\n",
       "    </tr>\n",
       "    <tr>\n",
       "      <th>1</th>\n",
       "      <td>erkek</td>\n",
       "      <td>25</td>\n",
       "      <td>5000.0</td>\n",
       "      <td>5000</td>\n",
       "      <td>5000</td>\n",
       "    </tr>\n",
       "    <tr>\n",
       "      <th>2</th>\n",
       "      <td>erkek</td>\n",
       "      <td>35</td>\n",
       "      <td>55000.0</td>\n",
       "      <td>55000</td>\n",
       "      <td>55000</td>\n",
       "    </tr>\n",
       "    <tr>\n",
       "      <th>3</th>\n",
       "      <td>kadın</td>\n",
       "      <td>28</td>\n",
       "      <td>15000.0</td>\n",
       "      <td>15000</td>\n",
       "      <td>15000</td>\n",
       "    </tr>\n",
       "    <tr>\n",
       "      <th>4</th>\n",
       "      <td>kadın</td>\n",
       "      <td>30</td>\n",
       "      <td>15000.0</td>\n",
       "      <td>15000</td>\n",
       "      <td>15000</td>\n",
       "    </tr>\n",
       "  </tbody>\n",
       "</table>\n",
       "</div>"
      ],
      "text/plain": [
       "  cinsiyet yas   salary              \n",
       "                   mean    max    min\n",
       "0    erkek  22  25000.0  25000  25000\n",
       "1    erkek  25   5000.0   5000   5000\n",
       "2    erkek  35  55000.0  55000  55000\n",
       "3    kadın  28  15000.0  15000  15000\n",
       "4    kadın  30  15000.0  15000  15000"
      ]
     },
     "execution_count": 53,
     "metadata": {},
     "output_type": "execute_result"
    }
   ],
   "source": [
    "df.groupby(['cinsiyet','yas'], as_index=False).agg({'salary': ['mean','max','min']})"
   ]
  },
  {
   "cell_type": "code",
   "execution_count": 54,
   "id": "85fd2408",
   "metadata": {},
   "outputs": [
    {
     "data": {
      "text/html": [
       "<div>\n",
       "<style scoped>\n",
       "    .dataframe tbody tr th:only-of-type {\n",
       "        vertical-align: middle;\n",
       "    }\n",
       "\n",
       "    .dataframe tbody tr th {\n",
       "        vertical-align: top;\n",
       "    }\n",
       "\n",
       "    .dataframe thead th {\n",
       "        text-align: right;\n",
       "    }\n",
       "</style>\n",
       "<table border=\"1\" class=\"dataframe\">\n",
       "  <thead>\n",
       "    <tr style=\"text-align: right;\">\n",
       "      <th></th>\n",
       "      <th>index</th>\n",
       "      <th>cinsiyet</th>\n",
       "      <th>yas</th>\n",
       "      <th>avg_salary</th>\n",
       "      <th>max_salary</th>\n",
       "      <th>min_salary</th>\n",
       "    </tr>\n",
       "  </thead>\n",
       "  <tbody>\n",
       "    <tr>\n",
       "      <th>0</th>\n",
       "      <td>0</td>\n",
       "      <td>erkek</td>\n",
       "      <td>22</td>\n",
       "      <td>25000.0</td>\n",
       "      <td>25000</td>\n",
       "      <td>25000</td>\n",
       "    </tr>\n",
       "    <tr>\n",
       "      <th>1</th>\n",
       "      <td>1</td>\n",
       "      <td>erkek</td>\n",
       "      <td>25</td>\n",
       "      <td>5000.0</td>\n",
       "      <td>5000</td>\n",
       "      <td>5000</td>\n",
       "    </tr>\n",
       "    <tr>\n",
       "      <th>2</th>\n",
       "      <td>2</td>\n",
       "      <td>erkek</td>\n",
       "      <td>35</td>\n",
       "      <td>55000.0</td>\n",
       "      <td>55000</td>\n",
       "      <td>55000</td>\n",
       "    </tr>\n",
       "    <tr>\n",
       "      <th>3</th>\n",
       "      <td>3</td>\n",
       "      <td>kadın</td>\n",
       "      <td>28</td>\n",
       "      <td>15000.0</td>\n",
       "      <td>15000</td>\n",
       "      <td>15000</td>\n",
       "    </tr>\n",
       "    <tr>\n",
       "      <th>4</th>\n",
       "      <td>4</td>\n",
       "      <td>kadın</td>\n",
       "      <td>30</td>\n",
       "      <td>15000.0</td>\n",
       "      <td>15000</td>\n",
       "      <td>15000</td>\n",
       "    </tr>\n",
       "  </tbody>\n",
       "</table>\n",
       "</div>"
      ],
      "text/plain": [
       "   index cinsiyet  yas  avg_salary  max_salary  min_salary\n",
       "0      0    erkek   22     25000.0       25000       25000\n",
       "1      1    erkek   25      5000.0        5000        5000\n",
       "2      2    erkek   35     55000.0       55000       55000\n",
       "3      3    kadın   28     15000.0       15000       15000\n",
       "4      4    kadın   30     15000.0       15000       15000"
      ]
     },
     "execution_count": 54,
     "metadata": {},
     "output_type": "execute_result"
    }
   ],
   "source": [
    "## Rename grouped by columns\n",
    "df.groupby(['cinsiyet','yas'], as_index=False).agg(\n",
    "    avg_salary=('salary','mean'),\n",
    "    max_salary=('salary','max'),\n",
    "    min_salary=('salary','min')\n",
    ").reset_index()"
   ]
  },
  {
   "cell_type": "code",
   "execution_count": 55,
   "id": "0091ae31",
   "metadata": {},
   "outputs": [
    {
     "data": {
      "text/html": [
       "<div>\n",
       "<style scoped>\n",
       "    .dataframe tbody tr th:only-of-type {\n",
       "        vertical-align: middle;\n",
       "    }\n",
       "\n",
       "    .dataframe tbody tr th {\n",
       "        vertical-align: top;\n",
       "    }\n",
       "\n",
       "    .dataframe thead th {\n",
       "        text-align: right;\n",
       "    }\n",
       "</style>\n",
       "<table border=\"1\" class=\"dataframe\">\n",
       "  <thead>\n",
       "    <tr style=\"text-align: right;\">\n",
       "      <th></th>\n",
       "      <th>cinsiyet</th>\n",
       "      <th>yas</th>\n",
       "      <th>salary</th>\n",
       "    </tr>\n",
       "  </thead>\n",
       "  <tbody>\n",
       "    <tr>\n",
       "      <th>0</th>\n",
       "      <td>erkek</td>\n",
       "      <td>25</td>\n",
       "      <td>5000</td>\n",
       "    </tr>\n",
       "    <tr>\n",
       "      <th>1</th>\n",
       "      <td>kadın</td>\n",
       "      <td>30</td>\n",
       "      <td>15000</td>\n",
       "    </tr>\n",
       "    <tr>\n",
       "      <th>2</th>\n",
       "      <td>erkek</td>\n",
       "      <td>22</td>\n",
       "      <td>25000</td>\n",
       "    </tr>\n",
       "    <tr>\n",
       "      <th>3</th>\n",
       "      <td>kadın</td>\n",
       "      <td>28</td>\n",
       "      <td>15000</td>\n",
       "    </tr>\n",
       "    <tr>\n",
       "      <th>4</th>\n",
       "      <td>erkek</td>\n",
       "      <td>35</td>\n",
       "      <td>55000</td>\n",
       "    </tr>\n",
       "  </tbody>\n",
       "</table>\n",
       "</div>"
      ],
      "text/plain": [
       "  cinsiyet  yas  salary\n",
       "0    erkek   25    5000\n",
       "1    kadın   30   15000\n",
       "2    erkek   22   25000\n",
       "3    kadın   28   15000\n",
       "4    erkek   35   55000"
      ]
     },
     "execution_count": 55,
     "metadata": {},
     "output_type": "execute_result"
    }
   ],
   "source": [
    "df"
   ]
  },
  {
   "cell_type": "code",
   "execution_count": 56,
   "id": "fdd714c8",
   "metadata": {},
   "outputs": [
    {
     "data": {
      "text/html": [
       "<div>\n",
       "<style scoped>\n",
       "    .dataframe tbody tr th:only-of-type {\n",
       "        vertical-align: middle;\n",
       "    }\n",
       "\n",
       "    .dataframe tbody tr th {\n",
       "        vertical-align: top;\n",
       "    }\n",
       "\n",
       "    .dataframe thead th {\n",
       "        text-align: right;\n",
       "    }\n",
       "</style>\n",
       "<table border=\"1\" class=\"dataframe\">\n",
       "  <thead>\n",
       "    <tr style=\"text-align: right;\">\n",
       "      <th></th>\n",
       "      <th>index</th>\n",
       "      <th>cinsiyet</th>\n",
       "      <th>avg_salary</th>\n",
       "      <th>max_salary</th>\n",
       "      <th>min_salary</th>\n",
       "    </tr>\n",
       "  </thead>\n",
       "  <tbody>\n",
       "    <tr>\n",
       "      <th>0</th>\n",
       "      <td>0</td>\n",
       "      <td>erkek</td>\n",
       "      <td>28333.333333</td>\n",
       "      <td>55000</td>\n",
       "      <td>5000</td>\n",
       "    </tr>\n",
       "  </tbody>\n",
       "</table>\n",
       "</div>"
      ],
      "text/plain": [
       "   index cinsiyet    avg_salary  max_salary  min_salary\n",
       "0      0    erkek  28333.333333       55000        5000"
      ]
     },
     "execution_count": 56,
     "metadata": {},
     "output_type": "execute_result"
    }
   ],
   "source": [
    "filtered_data= df[df['cinsiyet']=='erkek']\n",
    "\n",
    "## Rename grouped by columns\n",
    "filtered_data.groupby(['cinsiyet'], as_index=False).agg(\n",
    "    avg_salary=('salary','mean'),\n",
    "    max_salary=('salary','max'),\n",
    "    min_salary=('salary','min')\n",
    ").reset_index()"
   ]
  },
  {
   "cell_type": "code",
   "execution_count": 57,
   "id": "d3655dd9",
   "metadata": {},
   "outputs": [
    {
     "data": {
      "text/html": [
       "<div>\n",
       "<style scoped>\n",
       "    .dataframe tbody tr th:only-of-type {\n",
       "        vertical-align: middle;\n",
       "    }\n",
       "\n",
       "    .dataframe tbody tr th {\n",
       "        vertical-align: top;\n",
       "    }\n",
       "\n",
       "    .dataframe thead th {\n",
       "        text-align: right;\n",
       "    }\n",
       "</style>\n",
       "<table border=\"1\" class=\"dataframe\">\n",
       "  <thead>\n",
       "    <tr style=\"text-align: right;\">\n",
       "      <th></th>\n",
       "      <th>index</th>\n",
       "      <th>cinsiyet</th>\n",
       "      <th>avg_salary</th>\n",
       "      <th>max_salary</th>\n",
       "      <th>min_salary</th>\n",
       "    </tr>\n",
       "  </thead>\n",
       "  <tbody>\n",
       "    <tr>\n",
       "      <th>0</th>\n",
       "      <td>0</td>\n",
       "      <td>erkek</td>\n",
       "      <td>28333.333333</td>\n",
       "      <td>55000</td>\n",
       "      <td>5000</td>\n",
       "    </tr>\n",
       "    <tr>\n",
       "      <th>1</th>\n",
       "      <td>1</td>\n",
       "      <td>kadın</td>\n",
       "      <td>15000.000000</td>\n",
       "      <td>15000</td>\n",
       "      <td>15000</td>\n",
       "    </tr>\n",
       "  </tbody>\n",
       "</table>\n",
       "</div>"
      ],
      "text/plain": [
       "   index cinsiyet    avg_salary  max_salary  min_salary\n",
       "0      0    erkek  28333.333333       55000        5000\n",
       "1      1    kadın  15000.000000       15000       15000"
      ]
     },
     "execution_count": 57,
     "metadata": {},
     "output_type": "execute_result"
    }
   ],
   "source": [
    "df[df['yas']>21].groupby(['cinsiyet'], as_index=False).agg(\n",
    "    avg_salary=('salary','mean'),\n",
    "    max_salary=('salary','max'),\n",
    "    min_salary=('salary','min')\n",
    ").reset_index()"
   ]
  },
  {
   "cell_type": "code",
   "execution_count": 58,
   "id": "8d003ec8",
   "metadata": {},
   "outputs": [],
   "source": [
    "## SORTING"
   ]
  },
  {
   "cell_type": "code",
   "execution_count": 59,
   "id": "24ecff3f",
   "metadata": {},
   "outputs": [
    {
     "ename": "NameError",
     "evalue": "name 'DataFrame' is not defined",
     "output_type": "error",
     "traceback": [
      "\u001b[1;31m---------------------------------------------------------------------------\u001b[0m",
      "\u001b[1;31mNameError\u001b[0m                                 Traceback (most recent call last)",
      "Cell \u001b[1;32mIn[59], line 1\u001b[0m\n\u001b[1;32m----> 1\u001b[0m DataFrame\u001b[38;5;241m.\u001b[39msort_values(by, axis\u001b[38;5;241m=\u001b[39m\u001b[38;5;241m0\u001b[39m, ascending\u001b[38;5;241m=\u001b[39m\u001b[38;5;28;01mTrue\u001b[39;00m, inplace\u001b[38;5;241m=\u001b[39m\u001b[38;5;28;01mFalse\u001b[39;00m, na_position\u001b[38;5;241m=\u001b[39m\u001b[38;5;124m'\u001b[39m\u001b[38;5;124mlast\u001b[39m\u001b[38;5;124m'\u001b[39m)\n",
      "\u001b[1;31mNameError\u001b[0m: name 'DataFrame' is not defined"
     ]
    }
   ],
   "source": [
    "DataFrame.sort_values(by, axis=0, ascending=True, inplace=False, na_position='last')"
   ]
  },
  {
   "cell_type": "code",
   "execution_count": null,
   "id": "c123ad4b",
   "metadata": {},
   "outputs": [],
   "source": [
    "student_df.sort_values(by='Bölüm')"
   ]
  },
  {
   "cell_type": "code",
   "execution_count": null,
   "id": "e405eb5c",
   "metadata": {},
   "outputs": [],
   "source": [
    "student_df.sort_values(by='Bölüm', ascending=False)"
   ]
  },
  {
   "cell_type": "code",
   "execution_count": null,
   "id": "3144abdc",
   "metadata": {},
   "outputs": [],
   "source": [
    "## Sort with 2 columns\n",
    "student_df.sort_values(by=['Bölüm','Yaş'])"
   ]
  },
  {
   "cell_type": "code",
   "execution_count": null,
   "id": "84aea278",
   "metadata": {},
   "outputs": [],
   "source": [
    "student_df.sort_values(by=['Bölüm','Yaş'], ascending=[True, False] )"
   ]
  },
  {
   "cell_type": "code",
   "execution_count": null,
   "id": "d0562138",
   "metadata": {},
   "outputs": [],
   "source": [
    "## Group by - Sort\n",
    "student_df.groupby('Bölüm').count().sort_values(by='Bölüm', ascending=False)"
   ]
  },
  {
   "cell_type": "code",
   "execution_count": null,
   "id": "ffe3a36d",
   "metadata": {},
   "outputs": [],
   "source": [
    "import pandas as pd\n",
    "\n",
    "students_data = {\n",
    "    'İsimler': ['Melike', 'Baris', 'Almila', 'Amir', 'Ceyda'],\n",
    "    'Yaş': [21, 22, 20, 21, 23,],\n",
    "    'Bölüm': ['Math', 'Physics', 'Biology', 'Math', 'Physics']\n",
    "}\n",
    "\n",
    "students_df = pd.DataFrame(students_data)\n",
    "\n",
    "ek_satirlar = pd.DataFrame({\n",
    "    'İsimler': ['Ayşe', 'Mert', np.nan],\n",
    "    'Yaş': [np.nan, 25, 24],\n",
    "    'Bölüm': ['Biology', np.nan, 'Math']\n",
    "})\n",
    "\n",
    "# Eski ve yeni satırları birleştir\n",
    "students_df = pd.concat([students_df, ek_satirlar], ignore_index=True)\n",
    "\n",
    "students_df"
   ]
  },
  {
   "cell_type": "code",
   "execution_count": null,
   "id": "7b3f1f29",
   "metadata": {},
   "outputs": [],
   "source": [
    "student_df"
   ]
  },
  {
   "cell_type": "code",
   "execution_count": null,
   "id": "d7bcb5b1",
   "metadata": {},
   "outputs": [],
   "source": [
    "students_df.sort_values(by='Bölüm', na_position='first')"
   ]
  },
  {
   "cell_type": "code",
   "execution_count": null,
   "id": "20f2d619",
   "metadata": {},
   "outputs": [],
   "source": [
    "students_df.sort_values(by='Bölüm')"
   ]
  },
  {
   "cell_type": "code",
   "execution_count": null,
   "id": "6c380b84",
   "metadata": {},
   "outputs": [],
   "source": [
    "students_df"
   ]
  },
  {
   "cell_type": "code",
   "execution_count": null,
   "id": "7eb8c097",
   "metadata": {},
   "outputs": [],
   "source": [
    "students_df.sort_values(by='Bölüm', na_position='first', inplace=True)"
   ]
  },
  {
   "cell_type": "code",
   "execution_count": null,
   "id": "b1e132cb",
   "metadata": {},
   "outputs": [],
   "source": [
    "students_df"
   ]
  },
  {
   "cell_type": "markdown",
   "id": "e6a08825",
   "metadata": {},
   "source": [
    "## Missing Values"
   ]
  },
  {
   "cell_type": "code",
   "execution_count": null,
   "id": "908b9866",
   "metadata": {},
   "outputs": [],
   "source": [
    "students_df2=students_df.dropna()"
   ]
  },
  {
   "cell_type": "code",
   "execution_count": null,
   "id": "485ccccb",
   "metadata": {},
   "outputs": [],
   "source": [
    "students_df2"
   ]
  },
  {
   "cell_type": "code",
   "execution_count": null,
   "id": "70b84a58",
   "metadata": {},
   "outputs": [],
   "source": [
    "students_df2=students_df.dropna(subset=['Bölüm'])"
   ]
  },
  {
   "cell_type": "code",
   "execution_count": null,
   "id": "a3d7ec5b",
   "metadata": {},
   "outputs": [],
   "source": [
    "students_df2"
   ]
  },
  {
   "cell_type": "code",
   "execution_count": null,
   "id": "d44bc197",
   "metadata": {},
   "outputs": [],
   "source": [
    "## Fill\n",
    "\n",
    "students_df2=students_df.fillna(0)\n",
    "students_df2"
   ]
  },
  {
   "cell_type": "code",
   "execution_count": null,
   "id": "5994627b",
   "metadata": {
    "scrolled": true
   },
   "outputs": [],
   "source": [
    "students_df2"
   ]
  },
  {
   "cell_type": "code",
   "execution_count": null,
   "id": "7430366c",
   "metadata": {},
   "outputs": [],
   "source": [
    "## Fill with Mean\n",
    "students_df2= students_df\n",
    "students_df2['Yaş_filled'] = students_df2['Yaş'].fillna(students_df2['Yaş'].mean())\n",
    "students_df2"
   ]
  },
  {
   "cell_type": "code",
   "execution_count": null,
   "id": "cc1717d0",
   "metadata": {},
   "outputs": [],
   "source": [
    "students_df.isnull().sum()"
   ]
  },
  {
   "cell_type": "code",
   "execution_count": null,
   "id": "47e7ccde",
   "metadata": {},
   "outputs": [],
   "source": []
  },
  {
   "cell_type": "markdown",
   "id": "5850c3a3",
   "metadata": {},
   "source": [
    "## HW-4"
   ]
  },
  {
   "cell_type": "code",
   "execution_count": null,
   "id": "f7f22dce",
   "metadata": {},
   "outputs": [],
   "source": [
    "data1 = pd.read_csv('D:/Ahmet_Emin/GOIT/Python/HW_4/survey_results_public.csv', sep=',')\n",
    "data1.head()"
   ]
  },
  {
   "cell_type": "code",
   "execution_count": null,
   "id": "eb66bdbb",
   "metadata": {},
   "outputs": [],
   "source": [
    "data1.shape"
   ]
  },
  {
   "cell_type": "code",
   "execution_count": null,
   "id": "e731a036",
   "metadata": {},
   "outputs": [],
   "source": []
  }
 ],
 "metadata": {
  "kernelspec": {
   "display_name": "Python 3 (ipykernel)",
   "language": "python",
   "name": "python3"
  },
  "language_info": {
   "codemirror_mode": {
    "name": "ipython",
    "version": 3
   },
   "file_extension": ".py",
   "mimetype": "text/x-python",
   "name": "python",
   "nbconvert_exporter": "python",
   "pygments_lexer": "ipython3",
   "version": "3.11.5"
  }
 },
 "nbformat": 4,
 "nbformat_minor": 5
}
